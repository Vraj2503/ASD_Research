{
 "cells": [
  {
   "cell_type": "code",
   "execution_count": 1,
   "metadata": {
    "_cell_guid": "59486abd-7c78-4789-ab2f-3b544c2906ce",
    "_uuid": "efd223da-a1a4-4ab2-b6c2-fe15b1cc9961",
    "collapsed": false,
    "execution": {
     "iopub.execute_input": "2022-05-27T18:51:53.948948Z",
     "iopub.status.busy": "2022-05-27T18:51:53.948621Z",
     "iopub.status.idle": "2022-05-27T18:51:54.183522Z",
     "shell.execute_reply": "2022-05-27T18:51:54.182446Z",
     "shell.execute_reply.started": "2022-05-27T18:51:53.948914Z"
    },
    "jupyter": {
     "outputs_hidden": false
    },
    "trusted": true
   },
   "outputs": [],
   "source": [
    "# data handling\n",
    "import pandas as pd\n",
    "# pd.set_option('display.width', 140)\n",
    "\n",
    "# numerical analysis\n",
    "import numpy as np\n",
    "# np.set_printoptions(linewidth=140)\n",
    "\n",
    "# OS-independent path\n",
    "import pathlib\n",
    "\n",
    "# data visualization (See Preprocessing -> Exploratory Data Analysis)\n",
    "import matplotlib.pyplot as plt\n",
    "# plt.style.use('https://raw.githubusercontent.com/JoseGuzman/minibrain/master/minibrain/paper.mplstyle') # minibrain plotting\n",
    "\n",
    "# Display Pipelines and models\n",
    "from sklearn import set_config\n",
    "# set_config(display='diagram')\n",
    "\n",
    "# other (e.g. for python >=3.6 type definitions like age: int = 1)\n",
    "from typing import List, Tuple\n",
    "\n",
    "# A progress bar\n",
    "from tqdm import tqdm\n",
    "\n",
    "# # custom utility script (https://www.kaggle.com/code/joseguzman/reducing)\n",
    "# from reducing import PandaReducer"
   ]
  },
  {
   "cell_type": "markdown",
   "metadata": {},
   "source": [
    "# Data_Loading\n",
    "[Back to Contents](#Contents)\n",
    "\n",
    "We first load test and train datasets into a Pandas DataFrame object and the target variable\n",
    "as a Pandas DataSeries object."
   ]
  },
  {
   "cell_type": "code",
   "execution_count": 2,
   "metadata": {
    "execution": {
     "iopub.execute_input": "2022-05-27T18:51:56.596040Z",
     "iopub.status.busy": "2022-05-27T18:51:56.595718Z",
     "iopub.status.idle": "2022-05-27T18:51:56.606084Z",
     "shell.execute_reply": "2022-05-27T18:51:56.604816Z",
     "shell.execute_reply.started": "2022-05-27T18:51:56.596004Z"
    },
    "trusted": true
   },
   "outputs": [
    {
     "data": {
      "text/plain": [
       "str"
      ]
     },
     "execution_count": 2,
     "metadata": {},
     "output_type": "execute_result"
    }
   ],
   "source": [
    "# Data Loading\n",
    "# Define file paths, test and train files\n",
    "mypath = pathlib.Path('Autism-prediction')\n",
    "train_file = r'C:\\Users\\ASUS\\Desktop\\Research\\Autism-prediction\\train (1).csv'\n",
    "test_file = r'C:\\Users\\ASUS\\Desktop\\Research\\Autism-prediction\\test.csv'\n",
    "type(test_file)"
   ]
  },
  {
   "cell_type": "code",
   "execution_count": 3,
   "metadata": {
    "execution": {
     "iopub.execute_input": "2022-05-27T18:51:57.544415Z",
     "iopub.status.busy": "2022-05-27T18:51:57.543859Z",
     "iopub.status.idle": "2022-05-27T18:51:57.551931Z",
     "shell.execute_reply": "2022-05-27T18:51:57.551122Z",
     "shell.execute_reply.started": "2022-05-27T18:51:57.544378Z"
    },
    "trusted": true
   },
   "outputs": [],
   "source": [
    "# Data Loading\n",
    "def data_loader(file:pathlib.PosixPath, target:str=None, verbose:bool = False, **kwargs) -> Tuple[pd.DataFrame, pd.Series]:\n",
    "    \"\"\"\n",
    "    Loads csv file and return a tuple with a pandas dataset \n",
    "    containing all features, and a pandas Series with the \n",
    "    target variable.\n",
    "    \"\"\"\n",
    "    \n",
    "    data = pd.read_csv(file, **kwargs)\n",
    "    df = data # see reduce.py in Utility Script \n",
    "    \n",
    "    if target is not None:\n",
    "        out = (df[target]).astype(int)\n",
    "        df.drop([target], axis=1, inplace=True)\n",
    "    else:\n",
    "        out = None\n",
    "        \n",
    "    \n",
    "    if verbose:\n",
    "        print('The dataset contains {0} entries and {1} features'.format(*df.shape))\n",
    "    \n",
    "    return df, out"
   ]
  },
  {
   "cell_type": "markdown",
   "metadata": {},
   "source": [
    "# "
   ]
  },
  {
   "cell_type": "code",
   "execution_count": 4,
   "metadata": {
    "execution": {
     "iopub.execute_input": "2022-05-27T18:51:59.187028Z",
     "iopub.status.busy": "2022-05-27T18:51:59.186493Z",
     "iopub.status.idle": "2022-05-27T18:52:01.188588Z",
     "shell.execute_reply": "2022-05-27T18:52:01.187389Z",
     "shell.execute_reply.started": "2022-05-27T18:51:59.186990Z"
    },
    "trusted": true
   },
   "outputs": [
    {
     "name": "stdout",
     "output_type": "stream",
     "text": [
      "The dataset contains 800 entries and 20 features\n",
      "The dataset contains 200 entries and 20 features\n"
     ]
    }
   ],
   "source": [
    "# Data Loading\n",
    "train, train_target = data_loader(file = train_file, target = 'Class/ASD', verbose=True, index_col='ID')\n",
    "test, _ = data_loader(file = test_file, target=None, verbose=True, index_col='ID') # note target is None"
   ]
  },
  {
   "cell_type": "code",
   "execution_count": 5,
   "metadata": {},
   "outputs": [
    {
     "name": "stdout",
     "output_type": "stream",
     "text": [
      "Original train_data has NaNs: 0\n"
     ]
    }
   ],
   "source": [
    "print(\"Original train_data has NaNs:\", train.isnull().sum().sum())\n"
   ]
  },
  {
   "cell_type": "code",
   "execution_count": 6,
   "metadata": {
    "execution": {
     "iopub.execute_input": "2022-05-27T18:52:01.190286Z",
     "iopub.status.busy": "2022-05-27T18:52:01.190052Z",
     "iopub.status.idle": "2022-05-27T18:52:01.224004Z",
     "shell.execute_reply": "2022-05-27T18:52:01.222979Z",
     "shell.execute_reply.started": "2022-05-27T18:52:01.190255Z"
    },
    "trusted": true
   },
   "outputs": [
    {
     "data": {
      "text/html": [
       "<div>\n",
       "<style scoped>\n",
       "    .dataframe tbody tr th:only-of-type {\n",
       "        vertical-align: middle;\n",
       "    }\n",
       "\n",
       "    .dataframe tbody tr th {\n",
       "        vertical-align: top;\n",
       "    }\n",
       "\n",
       "    .dataframe thead th {\n",
       "        text-align: right;\n",
       "    }\n",
       "</style>\n",
       "<table border=\"1\" class=\"dataframe\">\n",
       "  <thead>\n",
       "    <tr style=\"text-align: right;\">\n",
       "      <th></th>\n",
       "      <th>A1_Score</th>\n",
       "      <th>A2_Score</th>\n",
       "      <th>A3_Score</th>\n",
       "      <th>A4_Score</th>\n",
       "      <th>A5_Score</th>\n",
       "      <th>A6_Score</th>\n",
       "      <th>A7_Score</th>\n",
       "      <th>A8_Score</th>\n",
       "      <th>A9_Score</th>\n",
       "      <th>A10_Score</th>\n",
       "      <th>age</th>\n",
       "      <th>gender</th>\n",
       "      <th>ethnicity</th>\n",
       "      <th>jaundice</th>\n",
       "      <th>austim</th>\n",
       "      <th>contry_of_res</th>\n",
       "      <th>used_app_before</th>\n",
       "      <th>result</th>\n",
       "      <th>age_desc</th>\n",
       "      <th>relation</th>\n",
       "    </tr>\n",
       "    <tr>\n",
       "      <th>ID</th>\n",
       "      <th></th>\n",
       "      <th></th>\n",
       "      <th></th>\n",
       "      <th></th>\n",
       "      <th></th>\n",
       "      <th></th>\n",
       "      <th></th>\n",
       "      <th></th>\n",
       "      <th></th>\n",
       "      <th></th>\n",
       "      <th></th>\n",
       "      <th></th>\n",
       "      <th></th>\n",
       "      <th></th>\n",
       "      <th></th>\n",
       "      <th></th>\n",
       "      <th></th>\n",
       "      <th></th>\n",
       "      <th></th>\n",
       "      <th></th>\n",
       "    </tr>\n",
       "  </thead>\n",
       "  <tbody>\n",
       "    <tr>\n",
       "      <th>1</th>\n",
       "      <td>1</td>\n",
       "      <td>0</td>\n",
       "      <td>1</td>\n",
       "      <td>1</td>\n",
       "      <td>1</td>\n",
       "      <td>1</td>\n",
       "      <td>0</td>\n",
       "      <td>1</td>\n",
       "      <td>1</td>\n",
       "      <td>1</td>\n",
       "      <td>18.605397</td>\n",
       "      <td>f</td>\n",
       "      <td>White-European</td>\n",
       "      <td>no</td>\n",
       "      <td>no</td>\n",
       "      <td>United States</td>\n",
       "      <td>no</td>\n",
       "      <td>7.819715</td>\n",
       "      <td>18 and more</td>\n",
       "      <td>Self</td>\n",
       "    </tr>\n",
       "    <tr>\n",
       "      <th>2</th>\n",
       "      <td>0</td>\n",
       "      <td>0</td>\n",
       "      <td>0</td>\n",
       "      <td>0</td>\n",
       "      <td>0</td>\n",
       "      <td>0</td>\n",
       "      <td>0</td>\n",
       "      <td>0</td>\n",
       "      <td>0</td>\n",
       "      <td>1</td>\n",
       "      <td>13.829369</td>\n",
       "      <td>f</td>\n",
       "      <td>South Asian</td>\n",
       "      <td>no</td>\n",
       "      <td>no</td>\n",
       "      <td>Australia</td>\n",
       "      <td>no</td>\n",
       "      <td>10.544296</td>\n",
       "      <td>18 and more</td>\n",
       "      <td>?</td>\n",
       "    </tr>\n",
       "    <tr>\n",
       "      <th>3</th>\n",
       "      <td>1</td>\n",
       "      <td>1</td>\n",
       "      <td>1</td>\n",
       "      <td>1</td>\n",
       "      <td>1</td>\n",
       "      <td>1</td>\n",
       "      <td>0</td>\n",
       "      <td>0</td>\n",
       "      <td>1</td>\n",
       "      <td>1</td>\n",
       "      <td>14.679893</td>\n",
       "      <td>f</td>\n",
       "      <td>White-European</td>\n",
       "      <td>no</td>\n",
       "      <td>no</td>\n",
       "      <td>United Kingdom</td>\n",
       "      <td>no</td>\n",
       "      <td>13.167506</td>\n",
       "      <td>18 and more</td>\n",
       "      <td>Self</td>\n",
       "    </tr>\n",
       "    <tr>\n",
       "      <th>4</th>\n",
       "      <td>0</td>\n",
       "      <td>0</td>\n",
       "      <td>0</td>\n",
       "      <td>1</td>\n",
       "      <td>0</td>\n",
       "      <td>0</td>\n",
       "      <td>0</td>\n",
       "      <td>0</td>\n",
       "      <td>0</td>\n",
       "      <td>0</td>\n",
       "      <td>61.035288</td>\n",
       "      <td>f</td>\n",
       "      <td>South Asian</td>\n",
       "      <td>no</td>\n",
       "      <td>no</td>\n",
       "      <td>New Zealand</td>\n",
       "      <td>no</td>\n",
       "      <td>1.530098</td>\n",
       "      <td>18 and more</td>\n",
       "      <td>?</td>\n",
       "    </tr>\n",
       "    <tr>\n",
       "      <th>5</th>\n",
       "      <td>0</td>\n",
       "      <td>0</td>\n",
       "      <td>0</td>\n",
       "      <td>0</td>\n",
       "      <td>1</td>\n",
       "      <td>0</td>\n",
       "      <td>0</td>\n",
       "      <td>0</td>\n",
       "      <td>1</td>\n",
       "      <td>1</td>\n",
       "      <td>14.256686</td>\n",
       "      <td>m</td>\n",
       "      <td>Black</td>\n",
       "      <td>no</td>\n",
       "      <td>yes</td>\n",
       "      <td>Italy</td>\n",
       "      <td>no</td>\n",
       "      <td>7.949723</td>\n",
       "      <td>18 and more</td>\n",
       "      <td>Self</td>\n",
       "    </tr>\n",
       "  </tbody>\n",
       "</table>\n",
       "</div>"
      ],
      "text/plain": [
       "    A1_Score  A2_Score  A3_Score  A4_Score  A5_Score  A6_Score  A7_Score  \\\n",
       "ID                                                                         \n",
       "1          1         0         1         1         1         1         0   \n",
       "2          0         0         0         0         0         0         0   \n",
       "3          1         1         1         1         1         1         0   \n",
       "4          0         0         0         1         0         0         0   \n",
       "5          0         0         0         0         1         0         0   \n",
       "\n",
       "    A8_Score  A9_Score  A10_Score        age gender       ethnicity jaundice  \\\n",
       "ID                                                                             \n",
       "1          1         1          1  18.605397      f  White-European       no   \n",
       "2          0         0          1  13.829369      f     South Asian       no   \n",
       "3          0         1          1  14.679893      f  White-European       no   \n",
       "4          0         0          0  61.035288      f     South Asian       no   \n",
       "5          0         1          1  14.256686      m           Black       no   \n",
       "\n",
       "   austim   contry_of_res used_app_before     result     age_desc relation  \n",
       "ID                                                                          \n",
       "1      no   United States              no   7.819715  18 and more     Self  \n",
       "2      no       Australia              no  10.544296  18 and more        ?  \n",
       "3      no  United Kingdom              no  13.167506  18 and more     Self  \n",
       "4      no     New Zealand              no   1.530098  18 and more        ?  \n",
       "5     yes           Italy              no   7.949723  18 and more     Self  "
      ]
     },
     "execution_count": 6,
     "metadata": {},
     "output_type": "execute_result"
    }
   ],
   "source": [
    "train.head(n=5)"
   ]
  },
  {
   "cell_type": "markdown",
   "metadata": {},
   "source": [
    "# Preprocessing\n",
    "[Back to Contents](#Contents)\n",
    "\n",
    "We first need a brief exploration of variable types and target variable. "
   ]
  },
  {
   "cell_type": "markdown",
   "metadata": {},
   "source": [
    "## Exploratory_Data_Analysis\n",
    "[Back to Contents](#Contents)\n",
    "\n",
    "The visualization of types and distributions of the -independent- variables, also called features. "
   ]
  },
  {
   "cell_type": "code",
   "execution_count": 7,
   "metadata": {
    "execution": {
     "iopub.execute_input": "2022-05-27T18:52:01.417673Z",
     "iopub.status.busy": "2022-05-27T18:52:01.417336Z",
     "iopub.status.idle": "2022-05-27T18:52:01.445978Z",
     "shell.execute_reply": "2022-05-27T18:52:01.445260Z",
     "shell.execute_reply.started": "2022-05-27T18:52:01.417638Z"
    },
    "trusted": true
   },
   "outputs": [
    {
     "name": "stdout",
     "output_type": "stream",
     "text": [
      "<class 'pandas.core.frame.DataFrame'>\n",
      "Index: 800 entries, 1 to 800\n",
      "Data columns (total 20 columns):\n",
      " #   Column           Non-Null Count  Dtype  \n",
      "---  ------           --------------  -----  \n",
      " 0   A1_Score         800 non-null    int64  \n",
      " 1   A2_Score         800 non-null    int64  \n",
      " 2   A3_Score         800 non-null    int64  \n",
      " 3   A4_Score         800 non-null    int64  \n",
      " 4   A5_Score         800 non-null    int64  \n",
      " 5   A6_Score         800 non-null    int64  \n",
      " 6   A7_Score         800 non-null    int64  \n",
      " 7   A8_Score         800 non-null    int64  \n",
      " 8   A9_Score         800 non-null    int64  \n",
      " 9   A10_Score        800 non-null    int64  \n",
      " 10  age              800 non-null    float64\n",
      " 11  gender           800 non-null    object \n",
      " 12  ethnicity        800 non-null    object \n",
      " 13  jaundice         800 non-null    object \n",
      " 14  austim           800 non-null    object \n",
      " 15  contry_of_res    800 non-null    object \n",
      " 16  used_app_before  800 non-null    object \n",
      " 17  result           800 non-null    float64\n",
      " 18  age_desc         800 non-null    object \n",
      " 19  relation         800 non-null    object \n",
      "dtypes: float64(2), int64(10), object(8)\n",
      "memory usage: 131.2+ KB\n"
     ]
    }
   ],
   "source": [
    "train.info()"
   ]
  },
  {
   "cell_type": "code",
   "execution_count": 8,
   "metadata": {
    "execution": {
     "iopub.execute_input": "2022-05-27T18:52:01.694629Z",
     "iopub.status.busy": "2022-05-27T18:52:01.694048Z",
     "iopub.status.idle": "2022-05-27T18:52:01.704041Z",
     "shell.execute_reply": "2022-05-27T18:52:01.703344Z",
     "shell.execute_reply.started": "2022-05-27T18:52:01.694594Z"
    },
    "trusted": true
   },
   "outputs": [
    {
     "data": {
      "text/plain": [
       "(False, False)"
      ]
     },
     "execution_count": 8,
     "metadata": {},
     "output_type": "execute_result"
    }
   ],
   "source": [
    "# Exploration: there are no missing values in both train and test datasets\n",
    "test.isnull().values.any(), train.isnull().values.any() # "
   ]
  },
  {
   "cell_type": "code",
   "execution_count": 9,
   "metadata": {
    "execution": {
     "iopub.execute_input": "2022-05-27T18:52:02.478630Z",
     "iopub.status.busy": "2022-05-27T18:52:02.478061Z",
     "iopub.status.idle": "2022-05-27T18:52:02.486826Z",
     "shell.execute_reply": "2022-05-27T18:52:02.486059Z",
     "shell.execute_reply.started": "2022-05-27T18:52:02.478587Z"
    },
    "trusted": true
   },
   "outputs": [
    {
     "data": {
      "text/plain": [
       "Class/ASD\n",
       "0    615\n",
       "1    185\n",
       "Name: count, dtype: int64"
      ]
     },
     "execution_count": 9,
     "metadata": {},
     "output_type": "execute_result"
    }
   ],
   "source": [
    "# Exploration: evaluate if data is uniformly distributed\n",
    "train_target.value_counts() # data is umbalanced!"
   ]
  },
  {
   "cell_type": "code",
   "execution_count": 10,
   "metadata": {
    "execution": {
     "iopub.execute_input": "2022-05-27T18:52:03.004947Z",
     "iopub.status.busy": "2022-05-27T18:52:03.004467Z",
     "iopub.status.idle": "2022-05-27T18:52:03.513592Z",
     "shell.execute_reply": "2022-05-27T18:52:03.512567Z",
     "shell.execute_reply.started": "2022-05-27T18:52:03.004896Z"
    },
    "trusted": true
   },
   "outputs": [
    {
     "data": {
      "image/png": "[encoded data removed]",
      "text/plain": [
       "<Figure size 600x300 with 2 Axes>"
      ]
     },
     "metadata": {},
     "output_type": "display_data"
    }
   ],
   "source": [
    "# Exploration: visualization of target variable\n",
    "\n",
    "autistic = train_target.value_counts() \n",
    "\n",
    "fig, ax = plt.subplots(1,2, figsize =(6,3))\n",
    "fig.tight_layout(pad = 1, h_pad = 2, w_pad = 4)\n",
    "\n",
    "mylabels = ['ASD (No)', 'ASD (Yes)']\n",
    "mycolors = ['tab:blue', 'tab:orange']\n",
    "\n",
    "ax[0].bar(x=mylabels, height = autistic, color = mycolors, width = 0.75, alpha = .6)\n",
    "\n",
    "for tick in ax[0].get_xticklabels():\n",
    "    tick.set_rotation(90)\n",
    "ax[0].set_ylabel('counts')#, ax[0].set_yticks(np.arange(0,4000,500))\n",
    "\n",
    "ax[1].pie(autistic.values, labels = mylabels, colors = mycolors, autopct='%2.2f%%',shadow=True, startangle=90);"
   ]
  },
  {
   "cell_type": "code",
   "execution_count": 11,
   "metadata": {
    "execution": {
     "iopub.execute_input": "2022-05-27T18:52:03.552765Z",
     "iopub.status.busy": "2022-05-27T18:52:03.552480Z",
     "iopub.status.idle": "2022-05-27T18:52:03.613205Z",
     "shell.execute_reply": "2022-05-27T18:52:03.612234Z",
     "shell.execute_reply.started": "2022-05-27T18:52:03.552734Z"
    },
    "trusted": true
   },
   "outputs": [
    {
     "data": {
      "text/html": [
       "<div>\n",
       "<style scoped>\n",
       "    .dataframe tbody tr th:only-of-type {\n",
       "        vertical-align: middle;\n",
       "    }\n",
       "\n",
       "    .dataframe tbody tr th {\n",
       "        vertical-align: top;\n",
       "    }\n",
       "\n",
       "    .dataframe thead th {\n",
       "        text-align: right;\n",
       "    }\n",
       "</style>\n",
       "<table border=\"1\" class=\"dataframe\">\n",
       "  <thead>\n",
       "    <tr style=\"text-align: right;\">\n",
       "      <th></th>\n",
       "      <th>A1_Score</th>\n",
       "      <th>A2_Score</th>\n",
       "      <th>A3_Score</th>\n",
       "      <th>A4_Score</th>\n",
       "      <th>A5_Score</th>\n",
       "      <th>A6_Score</th>\n",
       "      <th>A7_Score</th>\n",
       "      <th>A8_Score</th>\n",
       "      <th>A9_Score</th>\n",
       "      <th>A10_Score</th>\n",
       "      <th>age</th>\n",
       "      <th>result</th>\n",
       "    </tr>\n",
       "  </thead>\n",
       "  <tbody>\n",
       "    <tr>\n",
       "      <th>count</th>\n",
       "      <td>800.000000</td>\n",
       "      <td>800.00000</td>\n",
       "      <td>800.000000</td>\n",
       "      <td>800.00000</td>\n",
       "      <td>800.000000</td>\n",
       "      <td>800.00000</td>\n",
       "      <td>800.000000</td>\n",
       "      <td>800.000000</td>\n",
       "      <td>800.000000</td>\n",
       "      <td>800.000000</td>\n",
       "      <td>800.000000</td>\n",
       "      <td>800.000000</td>\n",
       "    </tr>\n",
       "    <tr>\n",
       "      <th>mean</th>\n",
       "      <td>0.582500</td>\n",
       "      <td>0.28625</td>\n",
       "      <td>0.321250</td>\n",
       "      <td>0.41500</td>\n",
       "      <td>0.457500</td>\n",
       "      <td>0.20875</td>\n",
       "      <td>0.273750</td>\n",
       "      <td>0.717500</td>\n",
       "      <td>0.316250</td>\n",
       "      <td>0.460000</td>\n",
       "      <td>28.612306</td>\n",
       "      <td>7.058530</td>\n",
       "    </tr>\n",
       "    <tr>\n",
       "      <th>std</th>\n",
       "      <td>0.493455</td>\n",
       "      <td>0.45229</td>\n",
       "      <td>0.467249</td>\n",
       "      <td>0.49303</td>\n",
       "      <td>0.498502</td>\n",
       "      <td>0.40667</td>\n",
       "      <td>0.446161</td>\n",
       "      <td>0.450497</td>\n",
       "      <td>0.465303</td>\n",
       "      <td>0.498709</td>\n",
       "      <td>12.872373</td>\n",
       "      <td>3.788969</td>\n",
       "    </tr>\n",
       "    <tr>\n",
       "      <th>min</th>\n",
       "      <td>0.000000</td>\n",
       "      <td>0.00000</td>\n",
       "      <td>0.000000</td>\n",
       "      <td>0.00000</td>\n",
       "      <td>0.000000</td>\n",
       "      <td>0.00000</td>\n",
       "      <td>0.000000</td>\n",
       "      <td>0.000000</td>\n",
       "      <td>0.000000</td>\n",
       "      <td>0.000000</td>\n",
       "      <td>9.560505</td>\n",
       "      <td>-2.594654</td>\n",
       "    </tr>\n",
       "    <tr>\n",
       "      <th>25%</th>\n",
       "      <td>0.000000</td>\n",
       "      <td>0.00000</td>\n",
       "      <td>0.000000</td>\n",
       "      <td>0.00000</td>\n",
       "      <td>0.000000</td>\n",
       "      <td>0.00000</td>\n",
       "      <td>0.000000</td>\n",
       "      <td>0.000000</td>\n",
       "      <td>0.000000</td>\n",
       "      <td>0.000000</td>\n",
       "      <td>19.282082</td>\n",
       "      <td>4.527556</td>\n",
       "    </tr>\n",
       "    <tr>\n",
       "      <th>50%</th>\n",
       "      <td>1.000000</td>\n",
       "      <td>0.00000</td>\n",
       "      <td>0.000000</td>\n",
       "      <td>0.00000</td>\n",
       "      <td>0.000000</td>\n",
       "      <td>0.00000</td>\n",
       "      <td>0.000000</td>\n",
       "      <td>1.000000</td>\n",
       "      <td>0.000000</td>\n",
       "      <td>0.000000</td>\n",
       "      <td>25.479960</td>\n",
       "      <td>6.893472</td>\n",
       "    </tr>\n",
       "    <tr>\n",
       "      <th>75%</th>\n",
       "      <td>1.000000</td>\n",
       "      <td>1.00000</td>\n",
       "      <td>1.000000</td>\n",
       "      <td>1.00000</td>\n",
       "      <td>1.000000</td>\n",
       "      <td>0.00000</td>\n",
       "      <td>1.000000</td>\n",
       "      <td>1.000000</td>\n",
       "      <td>1.000000</td>\n",
       "      <td>1.000000</td>\n",
       "      <td>33.154755</td>\n",
       "      <td>9.892981</td>\n",
       "    </tr>\n",
       "    <tr>\n",
       "      <th>max</th>\n",
       "      <td>1.000000</td>\n",
       "      <td>1.00000</td>\n",
       "      <td>1.000000</td>\n",
       "      <td>1.00000</td>\n",
       "      <td>1.000000</td>\n",
       "      <td>1.00000</td>\n",
       "      <td>1.000000</td>\n",
       "      <td>1.000000</td>\n",
       "      <td>1.000000</td>\n",
       "      <td>1.000000</td>\n",
       "      <td>72.402488</td>\n",
       "      <td>13.390868</td>\n",
       "    </tr>\n",
       "  </tbody>\n",
       "</table>\n",
       "</div>"
      ],
      "text/plain": [
       "         A1_Score   A2_Score    A3_Score   A4_Score    A5_Score   A6_Score  \\\n",
       "count  800.000000  800.00000  800.000000  800.00000  800.000000  800.00000   \n",
       "mean     0.582500    0.28625    0.321250    0.41500    0.457500    0.20875   \n",
       "std      0.493455    0.45229    0.467249    0.49303    0.498502    0.40667   \n",
       "min      0.000000    0.00000    0.000000    0.00000    0.000000    0.00000   \n",
       "25%      0.000000    0.00000    0.000000    0.00000    0.000000    0.00000   \n",
       "50%      1.000000    0.00000    0.000000    0.00000    0.000000    0.00000   \n",
       "75%      1.000000    1.00000    1.000000    1.00000    1.000000    0.00000   \n",
       "max      1.000000    1.00000    1.000000    1.00000    1.000000    1.00000   \n",
       "\n",
       "         A7_Score    A8_Score    A9_Score   A10_Score         age      result  \n",
       "count  800.000000  800.000000  800.000000  800.000000  800.000000  800.000000  \n",
       "mean     0.273750    0.717500    0.316250    0.460000   28.612306    7.058530  \n",
       "std      0.446161    0.450497    0.465303    0.498709   12.872373    3.788969  \n",
       "min      0.000000    0.000000    0.000000    0.000000    9.560505   -2.594654  \n",
       "25%      0.000000    0.000000    0.000000    0.000000   19.282082    4.527556  \n",
       "50%      0.000000    1.000000    0.000000    0.000000   25.479960    6.893472  \n",
       "75%      1.000000    1.000000    1.000000    1.000000   33.154755    9.892981  \n",
       "max      1.000000    1.000000    1.000000    1.000000   72.402488   13.390868  "
      ]
     },
     "execution_count": 11,
     "metadata": {},
     "output_type": "execute_result"
    }
   ],
   "source": [
    "train.describe() # numeric variables, "
   ]
  },
  {
   "cell_type": "markdown",
   "metadata": {
    "execution": {
     "iopub.execute_input": "2022-05-05T05:45:37.879032Z",
     "iopub.status.busy": "2022-05-05T05:45:37.878719Z",
     "iopub.status.idle": "2022-05-05T05:45:37.884997Z",
     "shell.execute_reply": "2022-05-05T05:45:37.884198Z",
     "shell.execute_reply.started": "2022-05-05T05:45:37.879003Z"
    }
   },
   "source": [
    "It seems like **A_*Score** are the evaluation tests, and vary between 0 and 1. We need to provide normalization to **age** and **result**"
   ]
  },
  {
   "cell_type": "code",
   "execution_count": 12,
   "metadata": {
    "execution": {
     "iopub.execute_input": "2022-05-27T18:52:04.668894Z",
     "iopub.status.busy": "2022-05-27T18:52:04.668507Z",
     "iopub.status.idle": "2022-05-27T18:52:04.733419Z",
     "shell.execute_reply": "2022-05-27T18:52:04.732335Z",
     "shell.execute_reply.started": "2022-05-27T18:52:04.668851Z"
    },
    "trusted": true
   },
   "outputs": [
    {
     "data": {
      "text/html": [
       "<div>\n",
       "<style scoped>\n",
       "    .dataframe tbody tr th:only-of-type {\n",
       "        vertical-align: middle;\n",
       "    }\n",
       "\n",
       "    .dataframe tbody tr th {\n",
       "        vertical-align: top;\n",
       "    }\n",
       "\n",
       "    .dataframe thead th {\n",
       "        text-align: right;\n",
       "    }\n",
       "</style>\n",
       "<table border=\"1\" class=\"dataframe\">\n",
       "  <thead>\n",
       "    <tr style=\"text-align: right;\">\n",
       "      <th></th>\n",
       "      <th>A1_Score</th>\n",
       "      <th>A2_Score</th>\n",
       "      <th>A3_Score</th>\n",
       "      <th>A4_Score</th>\n",
       "      <th>A5_Score</th>\n",
       "      <th>A6_Score</th>\n",
       "      <th>A7_Score</th>\n",
       "      <th>A8_Score</th>\n",
       "      <th>A9_Score</th>\n",
       "      <th>A10_Score</th>\n",
       "      <th>age</th>\n",
       "      <th>result</th>\n",
       "    </tr>\n",
       "  </thead>\n",
       "  <tbody>\n",
       "    <tr>\n",
       "      <th>count</th>\n",
       "      <td>200.000000</td>\n",
       "      <td>200.000000</td>\n",
       "      <td>200.000000</td>\n",
       "      <td>200.000000</td>\n",
       "      <td>200.000000</td>\n",
       "      <td>200.00000</td>\n",
       "      <td>200.000000</td>\n",
       "      <td>200.000000</td>\n",
       "      <td>200.000000</td>\n",
       "      <td>200.000000</td>\n",
       "      <td>200.000000</td>\n",
       "      <td>200.000000</td>\n",
       "    </tr>\n",
       "    <tr>\n",
       "      <th>mean</th>\n",
       "      <td>0.585000</td>\n",
       "      <td>0.285000</td>\n",
       "      <td>0.355000</td>\n",
       "      <td>0.450000</td>\n",
       "      <td>0.475000</td>\n",
       "      <td>0.21000</td>\n",
       "      <td>0.285000</td>\n",
       "      <td>0.725000</td>\n",
       "      <td>0.330000</td>\n",
       "      <td>0.390000</td>\n",
       "      <td>27.875051</td>\n",
       "      <td>6.912688</td>\n",
       "    </tr>\n",
       "    <tr>\n",
       "      <th>std</th>\n",
       "      <td>0.493958</td>\n",
       "      <td>0.452547</td>\n",
       "      <td>0.479714</td>\n",
       "      <td>0.498742</td>\n",
       "      <td>0.500628</td>\n",
       "      <td>0.40833</td>\n",
       "      <td>0.452547</td>\n",
       "      <td>0.447635</td>\n",
       "      <td>0.471393</td>\n",
       "      <td>0.488974</td>\n",
       "      <td>12.489213</td>\n",
       "      <td>3.949887</td>\n",
       "    </tr>\n",
       "    <tr>\n",
       "      <th>min</th>\n",
       "      <td>0.000000</td>\n",
       "      <td>0.000000</td>\n",
       "      <td>0.000000</td>\n",
       "      <td>0.000000</td>\n",
       "      <td>0.000000</td>\n",
       "      <td>0.00000</td>\n",
       "      <td>0.000000</td>\n",
       "      <td>0.000000</td>\n",
       "      <td>0.000000</td>\n",
       "      <td>0.000000</td>\n",
       "      <td>7.822865</td>\n",
       "      <td>-1.721289</td>\n",
       "    </tr>\n",
       "    <tr>\n",
       "      <th>25%</th>\n",
       "      <td>0.000000</td>\n",
       "      <td>0.000000</td>\n",
       "      <td>0.000000</td>\n",
       "      <td>0.000000</td>\n",
       "      <td>0.000000</td>\n",
       "      <td>0.00000</td>\n",
       "      <td>0.000000</td>\n",
       "      <td>0.000000</td>\n",
       "      <td>0.000000</td>\n",
       "      <td>0.000000</td>\n",
       "      <td>18.889947</td>\n",
       "      <td>4.303175</td>\n",
       "    </tr>\n",
       "    <tr>\n",
       "      <th>50%</th>\n",
       "      <td>1.000000</td>\n",
       "      <td>0.000000</td>\n",
       "      <td>0.000000</td>\n",
       "      <td>0.000000</td>\n",
       "      <td>0.000000</td>\n",
       "      <td>0.00000</td>\n",
       "      <td>0.000000</td>\n",
       "      <td>1.000000</td>\n",
       "      <td>0.000000</td>\n",
       "      <td>0.000000</td>\n",
       "      <td>24.754095</td>\n",
       "      <td>7.138223</td>\n",
       "    </tr>\n",
       "    <tr>\n",
       "      <th>75%</th>\n",
       "      <td>1.000000</td>\n",
       "      <td>1.000000</td>\n",
       "      <td>1.000000</td>\n",
       "      <td>1.000000</td>\n",
       "      <td>1.000000</td>\n",
       "      <td>0.00000</td>\n",
       "      <td>1.000000</td>\n",
       "      <td>1.000000</td>\n",
       "      <td>1.000000</td>\n",
       "      <td>1.000000</td>\n",
       "      <td>31.165789</td>\n",
       "      <td>9.756596</td>\n",
       "    </tr>\n",
       "    <tr>\n",
       "      <th>max</th>\n",
       "      <td>1.000000</td>\n",
       "      <td>1.000000</td>\n",
       "      <td>1.000000</td>\n",
       "      <td>1.000000</td>\n",
       "      <td>1.000000</td>\n",
       "      <td>1.00000</td>\n",
       "      <td>1.000000</td>\n",
       "      <td>1.000000</td>\n",
       "      <td>1.000000</td>\n",
       "      <td>1.000000</td>\n",
       "      <td>66.163937</td>\n",
       "      <td>13.369400</td>\n",
       "    </tr>\n",
       "  </tbody>\n",
       "</table>\n",
       "</div>"
      ],
      "text/plain": [
       "         A1_Score    A2_Score    A3_Score    A4_Score    A5_Score   A6_Score  \\\n",
       "count  200.000000  200.000000  200.000000  200.000000  200.000000  200.00000   \n",
       "mean     0.585000    0.285000    0.355000    0.450000    0.475000    0.21000   \n",
       "std      0.493958    0.452547    0.479714    0.498742    0.500628    0.40833   \n",
       "min      0.000000    0.000000    0.000000    0.000000    0.000000    0.00000   \n",
       "25%      0.000000    0.000000    0.000000    0.000000    0.000000    0.00000   \n",
       "50%      1.000000    0.000000    0.000000    0.000000    0.000000    0.00000   \n",
       "75%      1.000000    1.000000    1.000000    1.000000    1.000000    0.00000   \n",
       "max      1.000000    1.000000    1.000000    1.000000    1.000000    1.00000   \n",
       "\n",
       "         A7_Score    A8_Score    A9_Score   A10_Score         age      result  \n",
       "count  200.000000  200.000000  200.000000  200.000000  200.000000  200.000000  \n",
       "mean     0.285000    0.725000    0.330000    0.390000   27.875051    6.912688  \n",
       "std      0.452547    0.447635    0.471393    0.488974   12.489213    3.949887  \n",
       "min      0.000000    0.000000    0.000000    0.000000    7.822865   -1.721289  \n",
       "25%      0.000000    0.000000    0.000000    0.000000   18.889947    4.303175  \n",
       "50%      0.000000    1.000000    0.000000    0.000000   24.754095    7.138223  \n",
       "75%      1.000000    1.000000    1.000000    1.000000   31.165789    9.756596  \n",
       "max      1.000000    1.000000    1.000000    1.000000   66.163937   13.369400  "
      ]
     },
     "execution_count": 12,
     "metadata": {},
     "output_type": "execute_result"
    }
   ],
   "source": [
    "test.describe() # numeric variables, "
   ]
  },
  {
   "cell_type": "markdown",
   "metadata": {},
   "source": [
    "We see the content of the different variables in test and train datasets. It is important, because the evaluation is made on the test sets, and we want all the variables and contents to be trained before (in train dataset)."
   ]
  },
  {
   "cell_type": "code",
   "execution_count": 13,
   "metadata": {
    "execution": {
     "iopub.execute_input": "2022-05-27T18:52:05.722030Z",
     "iopub.status.busy": "2022-05-27T18:52:05.721733Z",
     "iopub.status.idle": "2022-05-27T18:52:05.735648Z",
     "shell.execute_reply": "2022-05-27T18:52:05.734874Z",
     "shell.execute_reply.started": "2022-05-27T18:52:05.721999Z"
    },
    "trusted": true
   },
   "outputs": [],
   "source": [
    "# train.select_dtypes(['category']) # category variables\n",
    "\n",
    "for col in train.select_dtypes(['category']).columns :\n",
    "    myval = train[col].unique().tolist()\n",
    "    if len(myval) == 2:\n",
    "        print(f'BIVARIATE   : {col} -> {train[col].unique().tolist()}')\n",
    "    elif len(myval) == 1:\n",
    "        print(f'UNIVARIATE   : {col} -> {train[col].unique().tolist()}')\n",
    "    else:\n",
    "        print(f'MULTIVARIATE: {col} -> {train[col].unique().tolist()}')\n"
   ]
  },
  {
   "cell_type": "code",
   "execution_count": 14,
   "metadata": {
    "execution": {
     "iopub.execute_input": "2022-05-27T18:52:06.229077Z",
     "iopub.status.busy": "2022-05-27T18:52:06.228785Z",
     "iopub.status.idle": "2022-05-27T18:52:06.245866Z",
     "shell.execute_reply": "2022-05-27T18:52:06.244213Z",
     "shell.execute_reply.started": "2022-05-27T18:52:06.229045Z"
    },
    "trusted": true
   },
   "outputs": [],
   "source": [
    "for col in test.select_dtypes(['category']).columns :\n",
    "    myval = test[col].unique().tolist()\n",
    "    if len(myval) == 2:\n",
    "        print(f'BIVARIATE   : {col} -> {test[col].unique().tolist()}')\n",
    "    elif len(myval) == 1:\n",
    "        print(f'UNIVARIATE   : {col} -> {test[col].unique().tolist()}')\n",
    "    else:\n",
    "        print(f'MULTIVARIATE: {col} -> {test[col].unique().tolist()}')\n",
    "\n",
    "\n"
   ]
  },
  {
   "cell_type": "code",
   "execution_count": 15,
   "metadata": {
    "execution": {
     "iopub.execute_input": "2022-05-27T18:52:06.637554Z",
     "iopub.status.busy": "2022-05-27T18:52:06.637252Z",
     "iopub.status.idle": "2022-05-27T18:52:06.646349Z",
     "shell.execute_reply": "2022-05-27T18:52:06.645346Z",
     "shell.execute_reply.started": "2022-05-27T18:52:06.637522Z"
    },
    "trusted": true
   },
   "outputs": [
    {
     "data": {
      "text/plain": [
       "(array(['18 and more'], dtype=object), array(['18 and more'], dtype=object))"
      ]
     },
     "execution_count": 15,
     "metadata": {},
     "output_type": "execute_result"
    }
   ],
   "source": [
    "train['age_desc'].unique(), test['age_desc'].unique() # this variable is not informative, we will remove it"
   ]
  },
  {
   "cell_type": "code",
   "execution_count": 16,
   "metadata": {
    "execution": {
     "iopub.execute_input": "2022-05-27T18:52:07.083909Z",
     "iopub.status.busy": "2022-05-27T18:52:07.083535Z",
     "iopub.status.idle": "2022-05-27T18:52:07.098425Z",
     "shell.execute_reply": "2022-05-27T18:52:07.097528Z",
     "shell.execute_reply.started": "2022-05-27T18:52:07.083865Z"
    },
    "trusted": true
   },
   "outputs": [
    {
     "name": "stdout",
     "output_type": "stream",
     "text": [
      "test                      --   train     \n",
      "=============================================\n",
      "?                         --   ?              \n",
      "Health care professional  --   Health care professional\n",
      "Others                    --   Others         \n",
      "Parent                    --   Parent         \n",
      "Relative                  --   Relative       \n",
      "Self                      --   Self           \n"
     ]
    },
    {
     "data": {
      "text/plain": [
       "(6, 6)"
      ]
     },
     "execution_count": 16,
     "metadata": {},
     "output_type": "execute_result"
    }
   ],
   "source": [
    "# let me check if both datasets relations are idential\n",
    "print(f'{\"test\":25s} --   {\"train\":10s}')\n",
    "print(f'{\"=\"*45}')\n",
    "for i,j in zip(np.sort(test.relation.unique()), np.sort(train.relation.unique())):\n",
    "    print(f'{i:25s} --   {j:15s}')\n",
    "    \n",
    "len(test.relation.unique()), len(train.relation.unique())    "
   ]
  },
  {
   "cell_type": "code",
   "execution_count": 17,
   "metadata": {
    "execution": {
     "iopub.execute_input": "2022-05-27T18:52:07.372901Z",
     "iopub.status.busy": "2022-05-27T18:52:07.372634Z",
     "iopub.status.idle": "2022-05-27T18:52:07.386404Z",
     "shell.execute_reply": "2022-05-27T18:52:07.385435Z",
     "shell.execute_reply.started": "2022-05-27T18:52:07.372870Z"
    },
    "trusted": true
   },
   "outputs": [
    {
     "name": "stdout",
     "output_type": "stream",
     "text": [
      "test            --   train     \n",
      "===================================\n",
      "?               --   ?              \n",
      "Asian           --   Asian          \n",
      "Black           --   Black          \n",
      "Hispanic        --   Hispanic       \n",
      "Latino          --   Latino         \n",
      "Middle Eastern  --   Middle Eastern \n",
      "Others          --   Others         \n",
      "Pasifika        --   Pasifika       \n",
      "South Asian     --   South Asian    \n",
      "Turkish         --   Turkish        \n",
      "White-European  --   White-European \n",
      "others          --   others         \n"
     ]
    },
    {
     "data": {
      "text/plain": [
       "(12, 12)"
      ]
     },
     "execution_count": 17,
     "metadata": {},
     "output_type": "execute_result"
    }
   ],
   "source": [
    "# let me check if both datasets are representatives\n",
    "print(f'{\"test\":15s} --   {\"train\":10s}')\n",
    "print(f'{\"=\"*35}')\n",
    "for i,j in zip(np.sort(test.ethnicity.unique()), np.sort(train.ethnicity.unique())):\n",
    "    print(f'{i:15s} --   {j:15s}')\n",
    "len(test.ethnicity.unique()), len(train.ethnicity.unique())"
   ]
  },
  {
   "cell_type": "code",
   "execution_count": 18,
   "metadata": {
    "execution": {
     "iopub.execute_input": "2022-05-27T18:52:07.888844Z",
     "iopub.status.busy": "2022-05-27T18:52:07.888559Z",
     "iopub.status.idle": "2022-05-27T18:52:07.896398Z",
     "shell.execute_reply": "2022-05-27T18:52:07.895173Z",
     "shell.execute_reply.started": "2022-05-27T18:52:07.888811Z"
    },
    "trusted": true
   },
   "outputs": [
    {
     "name": "stdout",
     "output_type": "stream",
     "text": [
      " 0 --   ?              \n",
      " 1 --   Asian          \n",
      " 2 --   Black          \n",
      " 3 --   Hispanic       \n",
      " 4 --   Latino         \n",
      " 5 --   Middle Eastern \n",
      " 6 --   Others         \n",
      " 7 --   Pasifika       \n",
      " 8 --   South Asian    \n",
      " 9 --   Turkish        \n",
      "10 --   White-European \n",
      "11 --   others         \n"
     ]
    }
   ],
   "source": [
    "for i,j in enumerate(np.sort(test.ethnicity.unique())):\n",
    "    print(f'{i:2d} --   {j:15s}')"
   ]
  },
  {
   "cell_type": "code",
   "execution_count": 19,
   "metadata": {
    "execution": {
     "iopub.execute_input": "2022-05-27T18:52:08.389575Z",
     "iopub.status.busy": "2022-05-27T18:52:08.388716Z",
     "iopub.status.idle": "2022-05-27T18:52:08.402856Z",
     "shell.execute_reply": "2022-05-27T18:52:08.401958Z",
     "shell.execute_reply.started": "2022-05-27T18:52:08.389521Z"
    },
    "trusted": true
   },
   "outputs": [
    {
     "name": "stdout",
     "output_type": "stream",
     "text": [
      " 0 --   ?              \n",
      " 1 --   Asian          \n",
      " 2 --   Black          \n",
      " 3 --   Hispanic       \n",
      " 4 --   Latino         \n",
      " 5 --   Middle Eastern \n",
      " 6 --   Others         \n",
      " 7 --   Pasifika       \n",
      " 8 --   South Asian    \n",
      " 9 --   Turkish        \n",
      "10 --   White-European \n",
      "11 --   others         \n"
     ]
    }
   ],
   "source": [
    "for i,j in enumerate(np.sort(train.ethnicity.unique())):\n",
    "    print(f'{i:2d} --   {j:15s}')"
   ]
  },
  {
   "cell_type": "code",
   "execution_count": 20,
   "metadata": {
    "execution": {
     "iopub.execute_input": "2022-05-27T18:52:08.906965Z",
     "iopub.status.busy": "2022-05-27T18:52:08.906655Z",
     "iopub.status.idle": "2022-05-27T18:52:08.916423Z",
     "shell.execute_reply": "2022-05-27T18:52:08.915624Z",
     "shell.execute_reply.started": "2022-05-27T18:52:08.906931Z"
    },
    "trusted": true
   },
   "outputs": [
    {
     "data": {
      "text/plain": [
       "ethnicity\n",
       "White-European     211\n",
       "?                  151\n",
       "Asian              134\n",
       "Middle Eastern     116\n",
       "Black               45\n",
       "Latino              44\n",
       "South Asian         35\n",
       "Others              24\n",
       "Pasifika            18\n",
       "Hispanic            16\n",
       "Turkish              4\n",
       "others               2\n",
       "Name: count, dtype: int64"
      ]
     },
     "execution_count": 20,
     "metadata": {},
     "output_type": "execute_result"
    }
   ],
   "source": [
    "train['ethnicity'].value_counts()"
   ]
  },
  {
   "cell_type": "code",
   "execution_count": 21,
   "metadata": {
    "execution": {
     "iopub.execute_input": "2022-05-27T18:52:09.378742Z",
     "iopub.status.busy": "2022-05-27T18:52:09.378464Z",
     "iopub.status.idle": "2022-05-27T18:52:09.393133Z",
     "shell.execute_reply": "2022-05-27T18:52:09.392109Z",
     "shell.execute_reply.started": "2022-05-27T18:52:09.378711Z"
    },
    "trusted": true
   },
   "outputs": [
    {
     "name": "stderr",
     "output_type": "stream",
     "text": [
      "C:\\Users\\ASUS\\AppData\\Local\\Temp\\ipykernel_2548\\593146773.py:4: FutureWarning: ChainedAssignmentError: behaviour will change in pandas 3.0!\n",
      "You are setting values through chained assignment. Currently this works in certain cases, but when using Copy-on-Write (which will become the default behaviour in pandas 3.0) this will never work to update the original DataFrame or Series, because the intermediate object on which we are setting values will behave as a copy.\n",
      "A typical example is when you are setting values in a column of a DataFrame, like:\n",
      "\n",
      "df[\"col\"][row_indexer] = value\n",
      "\n",
      "Use `df.loc[row_indexer, \"col\"] = values` instead, to perform the assignment in a single step and ensure this keeps updating the original `df`.\n",
      "\n",
      "See the caveats in the documentation: https://pandas.pydata.org/pandas-docs/stable/user_guide/indexing.html#returning-a-view-versus-a-copy\n",
      "\n",
      "  train.ethnicity[train['ethnicity'] =='others'] = '?'\n",
      "C:\\Users\\ASUS\\AppData\\Local\\Temp\\ipykernel_2548\\593146773.py:4: SettingWithCopyWarning: \n",
      "A value is trying to be set on a copy of a slice from a DataFrame\n",
      "\n",
      "See the caveats in the documentation: https://pandas.pydata.org/pandas-docs/stable/user_guide/indexing.html#returning-a-view-versus-a-copy\n",
      "  train.ethnicity[train['ethnicity'] =='others'] = '?'\n"
     ]
    },
    {
     "data": {
      "text/plain": [
       "ethnicity\n",
       "White-European     211\n",
       "?                  153\n",
       "Asian              134\n",
       "Middle Eastern     116\n",
       "Black               45\n",
       "Latino              44\n",
       "South Asian         35\n",
       "Others              24\n",
       "Pasifika            18\n",
       "Hispanic            16\n",
       "Turkish              4\n",
       "Name: count, dtype: int64"
      ]
     },
     "execution_count": 21,
     "metadata": {},
     "output_type": "execute_result"
    }
   ],
   "source": [
    "# ? is others in ethnicity and relation for training set\n",
    "\n",
    "# for train set:\n",
    "train.ethnicity[train['ethnicity'] =='others'] = '?'\n",
    "train['ethnicity'].value_counts()\n",
    "    \n",
    "#for test set:\n",
    "#test.ethnicity[test['ethnicity'] =='?'] = 'others'\n",
    "#test['ethnicity'].value_counts()"
   ]
  },
  {
   "cell_type": "code",
   "execution_count": 22,
   "metadata": {
    "execution": {
     "iopub.execute_input": "2022-05-27T18:52:09.675262Z",
     "iopub.status.busy": "2022-05-27T18:52:09.674940Z",
     "iopub.status.idle": "2022-05-27T18:52:09.683133Z",
     "shell.execute_reply": "2022-05-27T18:52:09.682298Z",
     "shell.execute_reply.started": "2022-05-27T18:52:09.675227Z"
    },
    "trusted": true
   },
   "outputs": [
    {
     "data": {
      "text/plain": [
       "(12, 11)"
      ]
     },
     "execution_count": 22,
     "metadata": {},
     "output_type": "execute_result"
    }
   ],
   "source": [
    "# If different ethnicit this will affect one-hot-encoding\n",
    "len(test.ethnicity.unique()), len(train.ethnicity.unique())"
   ]
  },
  {
   "cell_type": "code",
   "execution_count": 23,
   "metadata": {
    "execution": {
     "iopub.execute_input": "2022-05-27T18:52:10.155804Z",
     "iopub.status.busy": "2022-05-27T18:52:10.155505Z",
     "iopub.status.idle": "2022-05-27T18:52:10.172953Z",
     "shell.execute_reply": "2022-05-27T18:52:10.171862Z",
     "shell.execute_reply.started": "2022-05-27T18:52:10.155772Z"
    },
    "trusted": true
   },
   "outputs": [
    {
     "name": "stderr",
     "output_type": "stream",
     "text": [
      "C:\\Users\\ASUS\\AppData\\Local\\Temp\\ipykernel_2548\\212318107.py:2: FutureWarning: ChainedAssignmentError: behaviour will change in pandas 3.0!\n",
      "You are setting values through chained assignment. Currently this works in certain cases, but when using Copy-on-Write (which will become the default behaviour in pandas 3.0) this will never work to update the original DataFrame or Series, because the intermediate object on which we are setting values will behave as a copy.\n",
      "A typical example is when you are setting values in a column of a DataFrame, like:\n",
      "\n",
      "df[\"col\"][row_indexer] = value\n",
      "\n",
      "Use `df.loc[row_indexer, \"col\"] = values` instead, to perform the assignment in a single step and ensure this keeps updating the original `df`.\n",
      "\n",
      "See the caveats in the documentation: https://pandas.pydata.org/pandas-docs/stable/user_guide/indexing.html#returning-a-view-versus-a-copy\n",
      "\n",
      "  train.relation[train['relation'] =='Others'] = '?'\n",
      "C:\\Users\\ASUS\\AppData\\Local\\Temp\\ipykernel_2548\\212318107.py:2: SettingWithCopyWarning: \n",
      "A value is trying to be set on a copy of a slice from a DataFrame\n",
      "\n",
      "See the caveats in the documentation: https://pandas.pydata.org/pandas-docs/stable/user_guide/indexing.html#returning-a-view-versus-a-copy\n",
      "  train.relation[train['relation'] =='Others'] = '?'\n",
      "C:\\Users\\ASUS\\AppData\\Local\\Temp\\ipykernel_2548\\212318107.py:6: FutureWarning: ChainedAssignmentError: behaviour will change in pandas 3.0!\n",
      "You are setting values through chained assignment. Currently this works in certain cases, but when using Copy-on-Write (which will become the default behaviour in pandas 3.0) this will never work to update the original DataFrame or Series, because the intermediate object on which we are setting values will behave as a copy.\n",
      "A typical example is when you are setting values in a column of a DataFrame, like:\n",
      "\n",
      "df[\"col\"][row_indexer] = value\n",
      "\n",
      "Use `df.loc[row_indexer, \"col\"] = values` instead, to perform the assignment in a single step and ensure this keeps updating the original `df`.\n",
      "\n",
      "See the caveats in the documentation: https://pandas.pydata.org/pandas-docs/stable/user_guide/indexing.html#returning-a-view-versus-a-copy\n",
      "\n",
      "  test.relation[test['relation'] =='Others'] = '?'\n",
      "C:\\Users\\ASUS\\AppData\\Local\\Temp\\ipykernel_2548\\212318107.py:6: SettingWithCopyWarning: \n",
      "A value is trying to be set on a copy of a slice from a DataFrame\n",
      "\n",
      "See the caveats in the documentation: https://pandas.pydata.org/pandas-docs/stable/user_guide/indexing.html#returning-a-view-versus-a-copy\n",
      "  test.relation[test['relation'] =='Others'] = '?'\n"
     ]
    },
    {
     "data": {
      "text/plain": [
       "relation\n",
       "Self                        166\n",
       "?                            15\n",
       "Relative                     10\n",
       "Parent                        8\n",
       "Health care professional      1\n",
       "Name: count, dtype: int64"
      ]
     },
     "execution_count": 23,
     "metadata": {},
     "output_type": "execute_result"
    }
   ],
   "source": [
    "# for train set:\n",
    "train.relation[train['relation'] =='Others'] = '?'\n",
    "#train['relation'].value_counts()\n",
    "    \n",
    "#for test set:\n",
    "test.relation[test['relation'] =='Others'] = '?'\n",
    "test['relation'].value_counts()"
   ]
  },
  {
   "cell_type": "code",
   "execution_count": 24,
   "metadata": {
    "execution": {
     "iopub.execute_input": "2022-05-27T18:52:10.456732Z",
     "iopub.status.busy": "2022-05-27T18:52:10.455864Z",
     "iopub.status.idle": "2022-05-27T18:52:10.463972Z",
     "shell.execute_reply": "2022-05-27T18:52:10.463052Z",
     "shell.execute_reply.started": "2022-05-27T18:52:10.456689Z"
    },
    "trusted": true
   },
   "outputs": [
    {
     "data": {
      "text/plain": [
       "(5, 5)"
      ]
     },
     "execution_count": 24,
     "metadata": {},
     "output_type": "execute_result"
    }
   ],
   "source": [
    "# If different ethnicit this will affect one-hot-encoding\n",
    "len(test.relation.unique()), len(train.relation.unique())"
   ]
  },
  {
   "cell_type": "code",
   "execution_count": 25,
   "metadata": {
    "execution": {
     "iopub.execute_input": "2022-05-27T18:52:10.940332Z",
     "iopub.status.busy": "2022-05-27T18:52:10.939676Z",
     "iopub.status.idle": "2022-05-27T18:52:10.948105Z",
     "shell.execute_reply": "2022-05-27T18:52:10.947111Z",
     "shell.execute_reply.started": "2022-05-27T18:52:10.940294Z"
    },
    "trusted": true
   },
   "outputs": [
    {
     "data": {
      "text/plain": [
       "(61, 44)"
      ]
     },
     "execution_count": 25,
     "metadata": {},
     "output_type": "execute_result"
    }
   ],
   "source": [
    "# Different ethnicities, this will affect one-hot-encoding!!!\n",
    "len(train['contry_of_res'].unique()), len(test['contry_of_res'].unique())"
   ]
  },
  {
   "cell_type": "code",
   "execution_count": 26,
   "metadata": {
    "execution": {
     "iopub.execute_input": "2022-05-27T18:52:11.223409Z",
     "iopub.status.busy": "2022-05-27T18:52:11.223054Z",
     "iopub.status.idle": "2022-05-27T18:52:11.231691Z",
     "shell.execute_reply": "2022-05-27T18:52:11.230602Z",
     "shell.execute_reply.started": "2022-05-27T18:52:11.223374Z"
    },
    "trusted": true
   },
   "outputs": [
    {
     "data": {
      "text/plain": [
       "False"
      ]
     },
     "execution_count": 26,
     "metadata": {},
     "output_type": "execute_result"
    }
   ],
   "source": [
    "#Different countries, this will affect one-hot-encoding\n",
    "np.array_equiv(train['contry_of_res'].unique(), test['contry_of_res'].unique())"
   ]
  },
  {
   "cell_type": "markdown",
   "metadata": {},
   "source": [
    "Countries are different, we will collect all of them into continents using [this dataset](https://www.kaggle.com/datasets/andradaolteanu/country-mapping-iso-continent-region) to train with continents."
   ]
  },
  {
   "cell_type": "code",
   "execution_count": 121,
   "metadata": {
    "execution": {
     "iopub.execute_input": "2022-05-27T18:52:12.772712Z",
     "iopub.status.busy": "2022-05-27T18:52:12.772414Z",
     "iopub.status.idle": "2022-05-27T18:52:12.792777Z",
     "shell.execute_reply": "2022-05-27T18:52:12.791937Z",
     "shell.execute_reply.started": "2022-05-27T18:52:12.772679Z"
    },
    "trusted": true
   },
   "outputs": [
    {
     "name": "stdout",
     "output_type": "stream",
     "text": [
      "['Asia' 'Europe' 'Africa' 'Oceania' 'Americas' nan]\n"
     ]
    }
   ],
   "source": [
    "# We will map country\n",
    "\n",
    "# Load the dataset of country/region\n",
    "data = pd.read_csv(r'C:\\Users\\ASUS\\Desktop\\Research\\kaggle_codes\\continents2.csv') # small dataset, no need to reduce size\n",
    "#data = pd.read_csv('country-mapping-iso-continent-region/continents2.csv') # small dataset, no need to reduce size\n",
    "\n",
    "\n",
    "#print(data.region.unique())\n",
    "continent = pd.Series(data.region.values, index = data.name).to_dict() # create a dictionary\n",
    "continent['Antarctica'] = 'Antarctica'\n",
    "\n",
    "print(data.region.unique())"
   ]
  },
  {
   "cell_type": "code",
   "execution_count": 28,
   "metadata": {
    "execution": {
     "iopub.execute_input": "2022-05-27T18:52:13.508657Z",
     "iopub.status.busy": "2022-05-27T18:52:13.508341Z",
     "iopub.status.idle": "2022-05-27T18:52:13.519213Z",
     "shell.execute_reply": "2022-05-27T18:52:13.518118Z",
     "shell.execute_reply.started": "2022-05-27T18:52:13.508625Z"
    },
    "trusted": true
   },
   "outputs": [
    {
     "data": {
      "text/plain": [
       "Index([318, 616], dtype='int64', name='ID')"
      ]
     },
     "execution_count": 28,
     "metadata": {},
     "output_type": "execute_result"
    }
   ],
   "source": [
    "# AmericanSamoa should be American Samoa\n",
    "train[train['contry_of_res'] == 'AmericanSamoa'].index"
   ]
  },
  {
   "cell_type": "code",
   "execution_count": 29,
   "metadata": {
    "execution": {
     "iopub.execute_input": "2022-05-27T18:52:14.003799Z",
     "iopub.status.busy": "2022-05-27T18:52:14.003530Z",
     "iopub.status.idle": "2022-05-27T18:52:14.011848Z",
     "shell.execute_reply": "2022-05-27T18:52:14.011162Z",
     "shell.execute_reply.started": "2022-05-27T18:52:14.003765Z"
    },
    "trusted": true
   },
   "outputs": [
    {
     "data": {
      "text/plain": [
       "Index([77, 130, 170, 488, 711, 795], dtype='int64', name='ID')"
      ]
     },
     "execution_count": 29,
     "metadata": {},
     "output_type": "execute_result"
    }
   ],
   "source": [
    "# Viet Nam should be Vietnam\n",
    "train[train['contry_of_res'] == 'Viet Nam'].index"
   ]
  },
  {
   "cell_type": "markdown",
   "metadata": {},
   "source": [
    "In addition, we rank the countries by frequency of appareance in the train dataset, as suggested in [this notebook](https://www.kaggle.com/code/balabaskar/autism-prediction-eda-with-0-827-score) and [this one](https://www.kaggle.com/code/ezzzio/autism-prediction-0-85805-score/notebook)"
   ]
  },
  {
   "cell_type": "code",
   "execution_count": 30,
   "metadata": {
    "execution": {
     "iopub.execute_input": "2022-05-27T18:52:15.033516Z",
     "iopub.status.busy": "2022-05-27T18:52:15.032802Z",
     "iopub.status.idle": "2022-05-27T18:52:15.039313Z",
     "shell.execute_reply": "2022-05-27T18:52:15.038583Z",
     "shell.execute_reply.started": "2022-05-27T18:52:15.033470Z"
    },
    "trusted": true
   },
   "outputs": [],
   "source": [
    "true_idx = train_target[(train_target==1)].index \n",
    "false_idx = train_target[(train_target==0)].index\n",
    "#np.sum([(train_target==0) & (train['contry_of_res']=='United States')])"
   ]
  },
  {
   "cell_type": "code",
   "execution_count": 31,
   "metadata": {
    "execution": {
     "iopub.execute_input": "2022-05-27T18:52:15.547082Z",
     "iopub.status.busy": "2022-05-27T18:52:15.546331Z",
     "iopub.status.idle": "2022-05-27T18:52:15.556094Z",
     "shell.execute_reply": "2022-05-27T18:52:15.554970Z",
     "shell.execute_reply.started": "2022-05-27T18:52:15.547044Z"
    },
    "trusted": true
   },
   "outputs": [
    {
     "name": "stdout",
     "output_type": "stream",
     "text": [
      "Number of unique countries = 61\n",
      "Length ranking dictionary  = 61\n"
     ]
    }
   ],
   "source": [
    "# Create country weight dictionary \n",
    "\n",
    "ncountry = train['contry_of_res'].nunique()\n",
    "print(f'Number of unique countries = {ncountry}')\n",
    "\n",
    "# 1. Count and rank countries\n",
    "ranking = range(1,ncountry+1)[::-1]\n",
    "country = train['contry_of_res'].value_counts().index.to_list()\n",
    "rank_country = dict( zip(country, ranking))\n",
    "print(f'Length ranking dictionary  = {len(rank_country)}')"
   ]
  },
  {
   "cell_type": "code",
   "execution_count": 32,
   "metadata": {
    "execution": {
     "iopub.execute_input": "2022-05-27T18:52:16.996775Z",
     "iopub.status.busy": "2022-05-27T18:52:16.996492Z",
     "iopub.status.idle": "2022-05-27T18:52:17.077529Z",
     "shell.execute_reply": "2022-05-27T18:52:17.076713Z",
     "shell.execute_reply.started": "2022-05-27T18:52:16.996743Z"
    },
    "trusted": true
   },
   "outputs": [],
   "source": [
    "# 2. apply a pos/neg ratio to the rank\n",
    "\n",
    "for key, val in rank_country.items():\n",
    "    pos = np.sum( [(train_target==1) & (train['contry_of_res']==key)] ) # when Class/ASD is yes and country is key\n",
    "    neg = np.sum( [(train_target==0) & (train['contry_of_res']==key)] ) # when Class/ASD is no  and country is key\n",
    "    assert pos+neg == (train['contry_of_res']==key).sum()\n",
    "    if neg ==0:\n",
    "        ratio = 0 # avoid zero-division error\n",
    "    else:\n",
    "        ratio = pos/neg\n",
    "    rank_country[key] = ratio*val # n_total"
   ]
  },
  {
   "cell_type": "code",
   "execution_count": 33,
   "metadata": {
    "execution": {
     "iopub.execute_input": "2022-05-27T18:52:17.648543Z",
     "iopub.status.busy": "2022-05-27T18:52:17.648082Z",
     "iopub.status.idle": "2022-05-27T18:52:18.821369Z",
     "shell.execute_reply": "2022-05-27T18:52:18.820256Z",
     "shell.execute_reply.started": "2022-05-27T18:52:17.648498Z"
    },
    "trusted": true
   },
   "outputs": [
    {
     "data": {
      "image/png": "[encoded data removed]",
      "text/plain": [
       "<Figure size 1200x300 with 1 Axes>"
      ]
     },
     "metadata": {},
     "output_type": "display_data"
    }
   ],
   "source": [
    "# 3. (0-1) normalize those ratios\n",
    "mymax = np.max(list(rank_country.values()))\n",
    "mymin = np.min(list(rank_country.values()))\n",
    "normalize = lambda x: (x-mymin)/(mymax-mymin)\n",
    "weight_country = {key:normalize(val) for key,val in rank_country.items()}\n",
    "pd.Series(weight_country).plot.bar(figsize=(12,3), fontsize=8, title='Country');"
   ]
  },
  {
   "cell_type": "code",
   "execution_count": 34,
   "metadata": {
    "execution": {
     "iopub.execute_input": "2022-05-27T18:52:18.823975Z",
     "iopub.status.busy": "2022-05-27T18:52:18.823644Z",
     "iopub.status.idle": "2022-05-27T18:52:18.831204Z",
     "shell.execute_reply": "2022-05-27T18:52:18.830209Z",
     "shell.execute_reply.started": "2022-05-27T18:52:18.823929Z"
    },
    "trusted": true
   },
   "outputs": [
    {
     "data": {
      "text/plain": [
       "(0.0, 0.0)"
      ]
     },
     "execution_count": 34,
     "metadata": {},
     "output_type": "execute_result"
    }
   ],
   "source": [
    "weight_country['Viet Nam'], weight_country['AmericanSamoa']"
   ]
  },
  {
   "cell_type": "code",
   "execution_count": 35,
   "metadata": {
    "execution": {
     "iopub.execute_input": "2022-05-27T18:52:18.832373Z",
     "iopub.status.busy": "2022-05-27T18:52:18.832129Z",
     "iopub.status.idle": "2022-05-27T18:52:18.843168Z",
     "shell.execute_reply": "2022-05-27T18:52:18.842502Z",
     "shell.execute_reply.started": "2022-05-27T18:52:18.832326Z"
    },
    "trusted": true
   },
   "outputs": [],
   "source": [
    "# correct two typos in dictionary\n",
    "weight_country['Vietnam'] = weight_country.pop('Viet Nam')\n",
    "weight_country['American Samoa'] = weight_country.pop('AmericanSamoa')"
   ]
  },
  {
   "cell_type": "markdown",
   "metadata": {},
   "source": [
    "* We use a similar approach for relation and ethnicity"
   ]
  },
  {
   "cell_type": "code",
   "execution_count": 36,
   "metadata": {
    "execution": {
     "iopub.execute_input": "2022-05-27T18:52:21.332997Z",
     "iopub.status.busy": "2022-05-27T18:52:21.332693Z",
     "iopub.status.idle": "2022-05-27T18:52:21.672161Z",
     "shell.execute_reply": "2022-05-27T18:52:21.671098Z",
     "shell.execute_reply.started": "2022-05-27T18:52:21.332962Z"
    },
    "trusted": true
   },
   "outputs": [
    {
     "name": "stdout",
     "output_type": "stream",
     "text": [
      "Number of unique ethnicities = 11\n",
      "Length ranking dictionary  = 11\n"
     ]
    },
    {
     "data": {
      "image/png": "[encoded data removed]",
      "text/plain": [
       "<Figure size 1200x300 with 1 Axes>"
      ]
     },
     "metadata": {},
     "output_type": "display_data"
    }
   ],
   "source": [
    "# Create ethnicity weight dictionary \n",
    "nethnicity = train['ethnicity'].nunique()\n",
    "print(f'Number of unique ethnicities = {nethnicity}')\n",
    "\n",
    "# 1. Count and rank ethnicities\n",
    "\n",
    "ranking = range(1,nethnicity+1)[::-1]\n",
    "ethnicity = train['ethnicity'].value_counts().index.to_list()\n",
    "rank_ethnicity = dict( zip(ethnicity, ranking))\n",
    "print(f'Length ranking dictionary  = {len(rank_ethnicity)}')\n",
    "\n",
    "# 2. apply a pos/neg ratio to the rank\n",
    "for key, val in rank_ethnicity.items():\n",
    "    pos = np.sum( [(train_target==1) & (train['ethnicity']==key)] ) # when Class/ASD is yes and country is key\n",
    "    neg = np.sum( [(train_target==0) & (train['ethnicity']==key)] ) # when Class/ASD is no  and country is key\n",
    "    assert pos+neg == (train['ethnicity']==key).sum()\n",
    "    if neg ==0:\n",
    "        ratio = 0 # avoid zero-division error\n",
    "    else:\n",
    "        ratio = pos/neg\n",
    "    rank_ethnicity[key] = ratio*val # n_total\n",
    "\n",
    "# 3. (0-1) normalize those ratios\n",
    "mymax = np.max(list(rank_ethnicity.values()))\n",
    "mymin = np.min(list(rank_ethnicity.values()))\n",
    "normalize = lambda x: (x-mymin)/(mymax-mymin)\n",
    "weight_ethnicity = {key:normalize(val) for key,val in rank_ethnicity.items()}\n",
    "pd.Series(weight_ethnicity).plot.bar(figsize=(12,3), fontsize=8, title='Ethnicity');"
   ]
  },
  {
   "cell_type": "code",
   "execution_count": 37,
   "metadata": {
    "execution": {
     "iopub.execute_input": "2022-05-27T18:52:22.501437Z",
     "iopub.status.busy": "2022-05-27T18:52:22.500984Z",
     "iopub.status.idle": "2022-05-27T18:52:22.781240Z",
     "shell.execute_reply": "2022-05-27T18:52:22.780255Z",
     "shell.execute_reply.started": "2022-05-27T18:52:22.501402Z"
    },
    "trusted": true
   },
   "outputs": [
    {
     "name": "stdout",
     "output_type": "stream",
     "text": [
      "Number of unique relation = 5\n",
      "Length ranking dictionary  = 5\n"
     ]
    },
    {
     "data": {
      "image/png": "[encoded data removed]",
      "text/plain": [
       "<Figure size 1200x300 with 1 Axes>"
      ]
     },
     "metadata": {},
     "output_type": "display_data"
    }
   ],
   "source": [
    "# Create ethnicity weight dictionary \n",
    "nrelation = train['relation'].nunique()\n",
    "print(f'Number of unique relation = {nrelation}')\n",
    "\n",
    "\n",
    "# 1. Count and rank ethnicities\n",
    "\n",
    "ranking = range(1,nrelation+1)[::-1]\n",
    "relation = train['relation'].value_counts().index.to_list()\n",
    "rank_relation = dict( zip(relation, ranking))\n",
    "print(f'Length ranking dictionary  = {len(rank_relation)}')\n",
    "\n",
    "\n",
    "# 2. apply a pos/neg ratio to the rank\n",
    "for key, val in rank_relation.items():\n",
    "    pos = np.sum( [(train_target==1) & (train['relation']==key)] ) # when Class/ASD is yes and country is key\n",
    "    neg = np.sum( [(train_target==0) & (train['relation']==key)] ) # when Class/ASD is no  and country is key\n",
    "    assert pos+neg == (train['relation']==key).sum()\n",
    "    if neg ==0:\n",
    "        ratio = 0 # avoid zero-division error\n",
    "    else:\n",
    "        ratio = pos/neg\n",
    "    rank_relation[key] = ratio*val # n_total\n",
    "\n",
    "# 3. (0-1) normalize those ratios\n",
    "mymax = np.max(list(rank_relation.values()))\n",
    "mymin = np.min(list(rank_relation.values()))\n",
    "normalize = lambda x: (x-mymin)/(mymax-mymin)\n",
    "weight_relation = {key:normalize(val) for key,val in rank_relation.items()}\n",
    "pd.Series(weight_relation).plot.bar(figsize=(12,3), fontsize=8, title='Relation');\n"
   ]
  },
  {
   "cell_type": "code",
   "execution_count": 38,
   "metadata": {
    "execution": {
     "iopub.execute_input": "2022-05-27T18:52:25.084909Z",
     "iopub.status.busy": "2022-05-27T18:52:25.084592Z",
     "iopub.status.idle": "2022-05-27T18:52:25.104653Z",
     "shell.execute_reply": "2022-05-27T18:52:25.103384Z",
     "shell.execute_reply.started": "2022-05-27T18:52:25.084874Z"
    },
    "trusted": true
   },
   "outputs": [],
   "source": [
    "# Group by age\n",
    "for df in (train,test):\n",
    "    df.loc[(df.age < 14),  'AgeGroup'] = 'children'\n",
    "    df.loc[(df.age >= 14) &  (df.age < 24),  'AgeGroup'] = 'youth'\n",
    "    df.loc[(df.age >= 24) & (df.age < 64),  'AgeGroup'] = 'adult'\n",
    "    df.loc[(df.age >= 64),  'AgeGroup'] = 'senior'\n",
    "    "
   ]
  },
  {
   "cell_type": "code",
   "execution_count": 39,
   "metadata": {
    "execution": {
     "iopub.execute_input": "2022-05-27T18:52:26.754656Z",
     "iopub.status.busy": "2022-05-27T18:52:26.754369Z",
     "iopub.status.idle": "2022-05-27T18:52:27.031134Z",
     "shell.execute_reply": "2022-05-27T18:52:27.029970Z",
     "shell.execute_reply.started": "2022-05-27T18:52:26.754624Z"
    },
    "trusted": true
   },
   "outputs": [
    {
     "name": "stdout",
     "output_type": "stream",
     "text": [
      "Number of AgeGroup  = 4\n",
      "Length ranking dictionary  = 4\n"
     ]
    },
    {
     "data": {
      "image/png": "[encoded data removed]",
      "text/plain": [
       "<Figure size 1200x300 with 1 Axes>"
      ]
     },
     "metadata": {},
     "output_type": "display_data"
    }
   ],
   "source": [
    "# Create age weight dictionary \n",
    "nage = train['AgeGroup'].nunique()\n",
    "print(f'Number of AgeGroup  = {nage}')\n",
    "\n",
    "\n",
    "# 1. Count and rank ages\n",
    "\n",
    "ranking = range(1,nage+1)[::-1]\n",
    "AgeGroup = train['AgeGroup'].value_counts().index.to_list()\n",
    "rank_AgeGroup = dict( zip(AgeGroup, ranking))\n",
    "print(f'Length ranking dictionary  = {len(rank_AgeGroup)}')\n",
    "\n",
    "\n",
    "# 2. apply a pos/neg ratio to the rank\n",
    "for key, val in rank_AgeGroup.items():\n",
    "    pos = np.sum( [(train_target==1) & (train['AgeGroup']==key)] ) # when Class/ASD is yes and country is key\n",
    "    neg = np.sum( [(train_target==0) & (train['AgeGroup']==key)] ) # when Class/ASD is no  and country is key\n",
    "    assert pos+neg == (train['AgeGroup']==key).sum()\n",
    "    if neg ==0:\n",
    "        ratio = 0 # avoid zero-division error\n",
    "    else:\n",
    "        ratio = pos/neg\n",
    "    rank_AgeGroup[key] = ratio*val # n_total\n",
    "\n",
    "# 3. (0-1) normalize those ratios\n",
    "mymax = np.max(list(rank_AgeGroup.values()))\n",
    "mymin = np.min(list(rank_AgeGroup.values()))\n",
    "normalize = lambda x: (x-mymin)/(mymax-mymin)\n",
    "weight_AgeGroup = {key:normalize(val) for key,val in rank_AgeGroup.items()}\n",
    "pd.Series(weight_AgeGroup).plot.bar(figsize=(12,3), fontsize=8, title='AgeGroup');\n"
   ]
  },
  {
   "cell_type": "markdown",
   "metadata": {},
   "source": [
    "## Feature_enginering_&_selection\n",
    "[Back to Contents](#Contents)\n",
    "\n",
    "We first start some some custom definitions for custom Transformers and PipeLines."
   ]
  },
  {
   "cell_type": "markdown",
   "metadata": {},
   "source": [
    "A ColumnTransformer will apply the transformation to a single feature or list of features. An alternative methods is to use common Pipelines where the column transformation is defined at the initialization of the\n",
    "transformer. I tend to combine both methods\n",
    "\n",
    "\n",
    "_Look [here](https://machinelearningmastery.com/columntransformer-for-numerical-and-categorical-data/) to learn how to use ColumnTransformer_"
   ]
  },
  {
   "cell_type": "code",
   "execution_count": 40,
   "metadata": {
    "execution": {
     "iopub.execute_input": "2022-05-27T18:52:30.327136Z",
     "iopub.status.busy": "2022-05-27T18:52:30.326451Z",
     "iopub.status.idle": "2022-05-27T18:52:30.331963Z",
     "shell.execute_reply": "2022-05-27T18:52:30.331108Z",
     "shell.execute_reply.started": "2022-05-27T18:52:30.327091Z"
    },
    "trusted": true
   },
   "outputs": [],
   "source": [
    "from sklearn.base import BaseEstimator, TransformerMixin"
   ]
  },
  {
   "cell_type": "code",
   "execution_count": 41,
   "metadata": {
    "execution": {
     "iopub.execute_input": "2022-05-27T18:52:33.904792Z",
     "iopub.status.busy": "2022-05-27T18:52:33.904369Z",
     "iopub.status.idle": "2022-05-27T18:52:33.919963Z",
     "shell.execute_reply": "2022-05-27T18:52:33.919111Z",
     "shell.execute_reply.started": "2022-05-27T18:52:33.904760Z"
    },
    "trusted": true
   },
   "outputs": [],
   "source": [
    "class ContinentTransformer(BaseEstimator, TransformerMixin):\n",
    "    def __init__(self, continent: dict) -> None:\n",
    "        self.continent = continent\n",
    "        self.df = None\n",
    "\n",
    "    def get_feature_names_out(self) -> List[str]:\n",
    "        if self.df is None:\n",
    "            return ['None']\n",
    "        return self.df.columns.tolist()\n",
    "\n",
    "    def fit(self, X: pd.DataFrame, y=None):\n",
    "        df = X.copy()\n",
    "\n",
    "        # Ensure 'contry_of_res' is categorical\n",
    "        if not pd.api.types.is_categorical_dtype(df['contry_of_res']):\n",
    "            df['contry_of_res'] = df['contry_of_res'].astype('category')\n",
    "\n",
    "        # Correct known typos\n",
    "        if 'American Samoa' not in df['contry_of_res'].cat.categories:\n",
    "            df['contry_of_res'] = df['contry_of_res'].cat.add_categories('American Samoa')\n",
    "        df.loc[df['contry_of_res'] == 'AmericanSamoa', 'contry_of_res'] = 'American Samoa'\n",
    "\n",
    "        if 'Vietnam' not in df['contry_of_res'].cat.categories:\n",
    "            df['contry_of_res'] = df['contry_of_res'].cat.add_categories('Vietnam')\n",
    "        df.loc[df['contry_of_res'] == 'Viet Nam', 'contry_of_res'] = 'Vietnam'\n",
    "\n",
    "        # Map continent\n",
    "        df['continent'] = df['contry_of_res'].map(self.continent).astype('category')\n",
    "        self.df = df\n",
    "        return self\n",
    "\n",
    "    def transform(self, X: pd.DataFrame = None) -> pd.DataFrame:\n",
    "        df = X.copy()\n",
    "\n",
    "        # Ensure 'contry_of_res' is categorical\n",
    "        if not pd.api.types.is_categorical_dtype(df['contry_of_res']):\n",
    "            df['contry_of_res'] = df['contry_of_res'].astype('category')\n",
    "\n",
    "        # Correct known typos\n",
    "        if 'American Samoa' not in df['contry_of_res'].cat.categories:\n",
    "            df['contry_of_res'] = df['contry_of_res'].cat.add_categories('American Samoa')\n",
    "        df.loc[df['contry_of_res'] == 'AmericanSamoa', 'contry_of_res'] = 'American Samoa'\n",
    "\n",
    "        if 'Vietnam' not in df['contry_of_res'].cat.categories:\n",
    "            df['contry_of_res'] = df['contry_of_res'].cat.add_categories('Vietnam')\n",
    "        df.loc[df['contry_of_res'] == 'Viet Nam', 'contry_of_res'] = 'Vietnam'\n",
    "\n",
    "        # Map continent\n",
    "        df['continent'] = df['contry_of_res'].map(self.continent).astype('category')\n",
    "        return df"
   ]
  },
  {
   "cell_type": "code",
   "execution_count": 42,
   "metadata": {
    "execution": {
     "iopub.execute_input": "2022-05-27T18:52:34.418842Z",
     "iopub.status.busy": "2022-05-27T18:52:34.418310Z",
     "iopub.status.idle": "2022-05-27T18:52:34.451759Z",
     "shell.execute_reply": "2022-05-27T18:52:34.450934Z",
     "shell.execute_reply.started": "2022-05-27T18:52:34.418808Z"
    },
    "trusted": true
   },
   "outputs": [
    {
     "name": "stderr",
     "output_type": "stream",
     "text": [
      "C:\\Users\\ASUS\\AppData\\Local\\Temp\\ipykernel_2548\\947416153.py:36: DeprecationWarning: is_categorical_dtype is deprecated and will be removed in a future version. Use isinstance(dtype, pd.CategoricalDtype) instead\n",
      "  if not pd.api.types.is_categorical_dtype(df['contry_of_res']):\n"
     ]
    },
    {
     "data": {
      "text/html": [
       "<div>\n",
       "<style scoped>\n",
       "    .dataframe tbody tr th:only-of-type {\n",
       "        vertical-align: middle;\n",
       "    }\n",
       "\n",
       "    .dataframe tbody tr th {\n",
       "        vertical-align: top;\n",
       "    }\n",
       "\n",
       "    .dataframe thead th {\n",
       "        text-align: right;\n",
       "    }\n",
       "</style>\n",
       "<table border=\"1\" class=\"dataframe\">\n",
       "  <thead>\n",
       "    <tr style=\"text-align: right;\">\n",
       "      <th></th>\n",
       "      <th>contry_of_res</th>\n",
       "      <th>continent</th>\n",
       "    </tr>\n",
       "    <tr>\n",
       "      <th>ID</th>\n",
       "      <th></th>\n",
       "      <th></th>\n",
       "    </tr>\n",
       "  </thead>\n",
       "  <tbody>\n",
       "    <tr>\n",
       "      <th>1</th>\n",
       "      <td>United States</td>\n",
       "      <td>Americas</td>\n",
       "    </tr>\n",
       "    <tr>\n",
       "      <th>2</th>\n",
       "      <td>Australia</td>\n",
       "      <td>Oceania</td>\n",
       "    </tr>\n",
       "    <tr>\n",
       "      <th>3</th>\n",
       "      <td>United Kingdom</td>\n",
       "      <td>Europe</td>\n",
       "    </tr>\n",
       "    <tr>\n",
       "      <th>4</th>\n",
       "      <td>New Zealand</td>\n",
       "      <td>Oceania</td>\n",
       "    </tr>\n",
       "    <tr>\n",
       "      <th>5</th>\n",
       "      <td>Italy</td>\n",
       "      <td>Europe</td>\n",
       "    </tr>\n",
       "    <tr>\n",
       "      <th>...</th>\n",
       "      <td>...</td>\n",
       "      <td>...</td>\n",
       "    </tr>\n",
       "    <tr>\n",
       "      <th>796</th>\n",
       "      <td>United States</td>\n",
       "      <td>Americas</td>\n",
       "    </tr>\n",
       "    <tr>\n",
       "      <th>797</th>\n",
       "      <td>New Zealand</td>\n",
       "      <td>Oceania</td>\n",
       "    </tr>\n",
       "    <tr>\n",
       "      <th>798</th>\n",
       "      <td>Jordan</td>\n",
       "      <td>Asia</td>\n",
       "    </tr>\n",
       "    <tr>\n",
       "      <th>799</th>\n",
       "      <td>United States</td>\n",
       "      <td>Americas</td>\n",
       "    </tr>\n",
       "    <tr>\n",
       "      <th>800</th>\n",
       "      <td>New Zealand</td>\n",
       "      <td>Oceania</td>\n",
       "    </tr>\n",
       "  </tbody>\n",
       "</table>\n",
       "<p>800 rows × 2 columns</p>\n",
       "</div>"
      ],
      "text/plain": [
       "      contry_of_res continent\n",
       "ID                           \n",
       "1     United States  Americas\n",
       "2         Australia   Oceania\n",
       "3    United Kingdom    Europe\n",
       "4       New Zealand   Oceania\n",
       "5             Italy    Europe\n",
       "..              ...       ...\n",
       "796   United States  Americas\n",
       "797     New Zealand   Oceania\n",
       "798          Jordan      Asia\n",
       "799   United States  Americas\n",
       "800     New Zealand   Oceania\n",
       "\n",
       "[800 rows x 2 columns]"
      ]
     },
     "execution_count": 42,
     "metadata": {},
     "output_type": "execute_result"
    }
   ],
   "source": [
    "myregion = ContinentTransformer(continent = continent)\n",
    "df_t = myregion.transform(X = train)\n",
    "\n",
    "df_t[['contry_of_res','continent']] \n"
   ]
  },
  {
   "cell_type": "code",
   "execution_count": 43,
   "metadata": {
    "execution": {
     "iopub.execute_input": "2022-05-27T18:52:34.885065Z",
     "iopub.status.busy": "2022-05-27T18:52:34.884759Z",
     "iopub.status.idle": "2022-05-27T18:52:34.893929Z",
     "shell.execute_reply": "2022-05-27T18:52:34.893288Z",
     "shell.execute_reply.started": "2022-05-27T18:52:34.885032Z"
    },
    "trusted": true
   },
   "outputs": [
    {
     "data": {
      "text/plain": [
       "contry_of_res    Vietnam\n",
       "continent           Asia\n",
       "Name: 77, dtype: object"
      ]
     },
     "execution_count": 43,
     "metadata": {},
     "output_type": "execute_result"
    }
   ],
   "source": [
    "df_t.loc[77,['contry_of_res','continent']]"
   ]
  },
  {
   "cell_type": "code",
   "execution_count": 44,
   "metadata": {
    "execution": {
     "iopub.execute_input": "2022-05-27T18:52:35.586802Z",
     "iopub.status.busy": "2022-05-27T18:52:35.586135Z",
     "iopub.status.idle": "2022-05-27T18:52:35.597271Z",
     "shell.execute_reply": "2022-05-27T18:52:35.596004Z",
     "shell.execute_reply.started": "2022-05-27T18:52:35.586764Z"
    },
    "trusted": true
   },
   "outputs": [
    {
     "data": {
      "text/plain": [
       "contry_of_res    United States\n",
       "continent             Americas\n",
       "Name: 73, dtype: object"
      ]
     },
     "execution_count": 44,
     "metadata": {},
     "output_type": "execute_result"
    }
   ],
   "source": [
    "df_t.loc[73,['contry_of_res','continent']]"
   ]
  },
  {
   "cell_type": "code",
   "execution_count": 45,
   "metadata": {
    "execution": {
     "iopub.execute_input": "2022-05-27T18:52:36.569332Z",
     "iopub.status.busy": "2022-05-27T18:52:36.569031Z",
     "iopub.status.idle": "2022-05-27T18:52:36.582028Z",
     "shell.execute_reply": "2022-05-27T18:52:36.581046Z",
     "shell.execute_reply.started": "2022-05-27T18:52:36.569300Z"
    },
    "trusted": true
   },
   "outputs": [],
   "source": [
    "class WeightEncoder(BaseEstimator, TransformerMixin):\n",
    "    \"\"\"\n",
    "    Custom feature for Label encoding based on weight \n",
    "    of categorical variables. The weight is based on the \n",
    "    relative proportion associated with the success of the\n",
    "    dependent variable.\n",
    "    \n",
    "    To use it:\n",
    "    >>> myrank = {'united states': 1, 'spain':10}\n",
    "    >>> myfreq = WeightEncoder(col_name = ['country_of_res'], weight = myrank)\n",
    "    >>> df = myfreq.fit_transform(X = train)\n",
    "    \n",
    "    It creates a new feature called 'w_col_name'.\n",
    "    \"\"\"\n",
    "\n",
    "    def __init__(self, col_name:str, weight:dict)-> None:\n",
    "        \"\"\"\n",
    "        Remove the list of features from a pandas \n",
    "        Dataframe object.\n",
    "        \n",
    "        Parameter\n",
    "        ---------\n",
    "        col_name:  the variable to remove\n",
    "        rank: (dict) containg the variable and frequency to \n",
    "        be substitued (eg. myrank = {'united states': 1, 'spain':10}\n",
    "        \n",
    "        \"\"\"\n",
    "\n",
    "        self.col_name = col_name\n",
    "        self.weight = weight\n",
    "        self.df = None\n",
    "   \n",
    "       \n",
    "\n",
    "    def fit(self, X:pd.DataFrame, y = None):\n",
    "        \"\"\"\n",
    "        Remove the column lists and update dataset\n",
    "        \"\"\"\n",
    "        df = X.copy()\n",
    "                \n",
    "        df['w_' + self.col_name] = df[self.col_name].map(self.weight).fillna(0)   \n",
    "        self.df = df\n",
    "        \n",
    "        return self\n",
    "   \n",
    "    def transform(self, X:pd.DataFrame = None) -> pd.DataFrame:\n",
    "        \"\"\"\n",
    "        Returns a pandas DataFrame with removed features.\n",
    "        \n",
    "        Parameter\n",
    "        ---------\n",
    "        dataframe:  Pandas DataFrame object\n",
    "        \"\"\"\n",
    "        df = X.copy()\n",
    "        \n",
    "        # 0 if not found in dictionary\n",
    "        df['w_' + self.col_name] = df[self.col_name].map(self.weight).fillna(0)\n",
    "    \n",
    "        return df"
   ]
  },
  {
   "cell_type": "code",
   "execution_count": 46,
   "metadata": {
    "execution": {
     "iopub.execute_input": "2022-05-27T18:52:38.408034Z",
     "iopub.status.busy": "2022-05-27T18:52:38.407695Z",
     "iopub.status.idle": "2022-05-27T18:52:38.430943Z",
     "shell.execute_reply": "2022-05-27T18:52:38.429937Z",
     "shell.execute_reply.started": "2022-05-27T18:52:38.407991Z"
    },
    "trusted": true
   },
   "outputs": [
    {
     "data": {
      "text/html": [
       "<div>\n",
       "<style scoped>\n",
       "    .dataframe tbody tr th:only-of-type {\n",
       "        vertical-align: middle;\n",
       "    }\n",
       "\n",
       "    .dataframe tbody tr th {\n",
       "        vertical-align: top;\n",
       "    }\n",
       "\n",
       "    .dataframe thead th {\n",
       "        text-align: right;\n",
       "    }\n",
       "</style>\n",
       "<table border=\"1\" class=\"dataframe\">\n",
       "  <thead>\n",
       "    <tr style=\"text-align: right;\">\n",
       "      <th></th>\n",
       "      <th>w_contry_of_res</th>\n",
       "      <th>contry_of_res</th>\n",
       "    </tr>\n",
       "    <tr>\n",
       "      <th>ID</th>\n",
       "      <th></th>\n",
       "      <th></th>\n",
       "    </tr>\n",
       "  </thead>\n",
       "  <tbody>\n",
       "    <tr>\n",
       "      <th>1</th>\n",
       "      <td>1.000000</td>\n",
       "      <td>United States</td>\n",
       "    </tr>\n",
       "    <tr>\n",
       "      <th>2</th>\n",
       "      <td>0.600252</td>\n",
       "      <td>Australia</td>\n",
       "    </tr>\n",
       "    <tr>\n",
       "      <th>3</th>\n",
       "      <td>0.659595</td>\n",
       "      <td>United Kingdom</td>\n",
       "    </tr>\n",
       "    <tr>\n",
       "      <th>4</th>\n",
       "      <td>0.091032</td>\n",
       "      <td>New Zealand</td>\n",
       "    </tr>\n",
       "    <tr>\n",
       "      <th>5</th>\n",
       "      <td>0.174863</td>\n",
       "      <td>Italy</td>\n",
       "    </tr>\n",
       "    <tr>\n",
       "      <th>...</th>\n",
       "      <td>...</td>\n",
       "      <td>...</td>\n",
       "    </tr>\n",
       "    <tr>\n",
       "      <th>796</th>\n",
       "      <td>1.000000</td>\n",
       "      <td>United States</td>\n",
       "    </tr>\n",
       "    <tr>\n",
       "      <th>797</th>\n",
       "      <td>0.091032</td>\n",
       "      <td>New Zealand</td>\n",
       "    </tr>\n",
       "    <tr>\n",
       "      <th>798</th>\n",
       "      <td>0.159113</td>\n",
       "      <td>Jordan</td>\n",
       "    </tr>\n",
       "    <tr>\n",
       "      <th>799</th>\n",
       "      <td>1.000000</td>\n",
       "      <td>United States</td>\n",
       "    </tr>\n",
       "    <tr>\n",
       "      <th>800</th>\n",
       "      <td>0.091032</td>\n",
       "      <td>New Zealand</td>\n",
       "    </tr>\n",
       "  </tbody>\n",
       "</table>\n",
       "<p>800 rows × 2 columns</p>\n",
       "</div>"
      ],
      "text/plain": [
       "     w_contry_of_res   contry_of_res\n",
       "ID                                  \n",
       "1           1.000000   United States\n",
       "2           0.600252       Australia\n",
       "3           0.659595  United Kingdom\n",
       "4           0.091032     New Zealand\n",
       "5           0.174863           Italy\n",
       "..               ...             ...\n",
       "796         1.000000   United States\n",
       "797         0.091032     New Zealand\n",
       "798         0.159113          Jordan\n",
       "799         1.000000   United States\n",
       "800         0.091032     New Zealand\n",
       "\n",
       "[800 rows x 2 columns]"
      ]
     },
     "execution_count": 46,
     "metadata": {},
     "output_type": "execute_result"
    }
   ],
   "source": [
    "wencoder = WeightEncoder(col_name = 'contry_of_res', weight = weight_country)\n",
    "df = wencoder.fit_transform(X = train)\n",
    "df[['w_contry_of_res','contry_of_res']]"
   ]
  },
  {
   "cell_type": "code",
   "execution_count": 47,
   "metadata": {
    "execution": {
     "iopub.execute_input": "2022-05-27T18:52:39.173380Z",
     "iopub.status.busy": "2022-05-27T18:52:39.172566Z",
     "iopub.status.idle": "2022-05-27T18:52:39.182648Z",
     "shell.execute_reply": "2022-05-27T18:52:39.181500Z",
     "shell.execute_reply.started": "2022-05-27T18:52:39.173301Z"
    },
    "trusted": true
   },
   "outputs": [
    {
     "data": {
      "text/plain": [
       "w_contry_of_res              1.0\n",
       "contry_of_res      United States\n",
       "Name: 73, dtype: object"
      ]
     },
     "execution_count": 47,
     "metadata": {},
     "output_type": "execute_result"
    }
   ],
   "source": [
    "df.loc[73,['w_contry_of_res', 'contry_of_res']]"
   ]
  },
  {
   "cell_type": "code",
   "execution_count": 48,
   "metadata": {
    "execution": {
     "iopub.execute_input": "2022-05-27T18:52:39.727107Z",
     "iopub.status.busy": "2022-05-27T18:52:39.726819Z",
     "iopub.status.idle": "2022-05-27T18:52:39.737743Z",
     "shell.execute_reply": "2022-05-27T18:52:39.736515Z",
     "shell.execute_reply.started": "2022-05-27T18:52:39.727076Z"
    },
    "trusted": true
   },
   "outputs": [
    {
     "data": {
      "text/plain": [
       "w_contry_of_res    0.336066\n",
       "contry_of_res       Armenia\n",
       "Name: 33, dtype: object"
      ]
     },
     "execution_count": 48,
     "metadata": {},
     "output_type": "execute_result"
    }
   ],
   "source": [
    "df.loc[33,['w_contry_of_res', 'contry_of_res']] # do not forget applying ContinentTransformer before"
   ]
  },
  {
   "cell_type": "code",
   "execution_count": 120,
   "metadata": {},
   "outputs": [
    {
     "data": {
      "text/plain": [
       "A1_Score           0\n",
       "gender             0\n",
       "relation           0\n",
       "age_desc           0\n",
       "result             0\n",
       "used_app_before    0\n",
       "contry_of_res      0\n",
       "austim             0\n",
       "jaundice           0\n",
       "ethnicity          0\n",
       "age                0\n",
       "A2_Score           0\n",
       "A10_Score          0\n",
       "A9_Score           0\n",
       "A8_Score           0\n",
       "A7_Score           0\n",
       "A6_Score           0\n",
       "A5_Score           0\n",
       "A4_Score           0\n",
       "A3_Score           0\n",
       "AgeGroup           0\n",
       "dtype: int64"
      ]
     },
     "execution_count": 120,
     "metadata": {},
     "output_type": "execute_result"
    }
   ],
   "source": [
    "train.isnull().sum().sort_values(ascending=False)\n"
   ]
  },
  {
   "cell_type": "code",
   "execution_count": 49,
   "metadata": {
    "execution": {
     "iopub.execute_input": "2022-05-27T18:52:40.093561Z",
     "iopub.status.busy": "2022-05-27T18:52:40.092601Z",
     "iopub.status.idle": "2022-05-27T18:52:40.105888Z",
     "shell.execute_reply": "2022-05-27T18:52:40.104531Z",
     "shell.execute_reply.started": "2022-05-27T18:52:40.093510Z"
    },
    "trusted": true
   },
   "outputs": [],
   "source": [
    "class DropperTransformer(BaseEstimator, TransformerMixin):\n",
    "    \"\"\"\n",
    "    Custom feature dropper to add to custom Pipelines.\n",
    "    To use it:\n",
    "    >>> mydropper = DropperTransformer(features = ['age'])\n",
    "    >>> df = mydropper.fit_transform(X = train)\n",
    "    \"\"\"\n",
    "\n",
    "    def __init__(self, features:List[str])-> None:\n",
    "        \"\"\"\n",
    "        Remove the list of features from a pandas \n",
    "        Dataframe object.\n",
    "        \n",
    "        Parameter\n",
    "        ---------\n",
    "        features:  (list) of variables to remove\n",
    "        \"\"\"\n",
    "\n",
    "        self.features = features\n",
    "        self.df = None\n",
    "    \n",
    "    \n",
    "    def get_feature_names_out(self)-> List[str]:\n",
    "        \"\"\"\n",
    "        Get column names (necessary for Pipelines)\n",
    "        \"\"\"\n",
    "        if self.df is None:\n",
    "            mycols = ['None']\n",
    "        else:\n",
    "            mycols =  self.df.columns.tolist()\n",
    "            \n",
    "        return mycols\n",
    "        \n",
    "\n",
    "    def fit(self, X:pd.DataFrame, y = None):\n",
    "        \"\"\"\n",
    "        Remove the column lists and update dataset\n",
    "        \"\"\"\n",
    "        df = X.copy()\n",
    "        self.df = df.drop(self.features, axis = 1)\n",
    "        \n",
    "        return self\n",
    "   \n",
    "    def transform(self, X:pd.DataFrame = None) -> pd.DataFrame:\n",
    "        \"\"\"\n",
    "        Returns a pandas DataFrame with removed features.\n",
    "        \n",
    "        Parameter\n",
    "        ---------\n",
    "        dataframe:  Pandas DataFrame object\n",
    "        \"\"\"\n",
    "        df = X.copy()\n",
    "        \n",
    "        # Drop features\n",
    "        self.df = df.drop(self.features, axis = 1)\n",
    "        return self.df\n",
    "        "
   ]
  },
  {
   "cell_type": "code",
   "execution_count": 50,
   "metadata": {
    "execution": {
     "iopub.execute_input": "2022-05-27T18:52:40.776021Z",
     "iopub.status.busy": "2022-05-27T18:52:40.775616Z",
     "iopub.status.idle": "2022-05-27T18:52:40.787770Z",
     "shell.execute_reply": "2022-05-27T18:52:40.785112Z",
     "shell.execute_reply.started": "2022-05-27T18:52:40.775976Z"
    },
    "trusted": true
   },
   "outputs": [
    {
     "name": "stdout",
     "output_type": "stream",
     "text": [
      " 0 - A1_Score\n",
      " 1 - A2_Score\n",
      " 2 - A3_Score\n",
      " 3 - A4_Score\n",
      " 4 - A5_Score\n",
      " 5 - A6_Score\n",
      " 6 - A7_Score\n",
      " 7 - A8_Score\n",
      " 8 - A9_Score\n",
      " 9 - A10_Score\n",
      "10 - age\n",
      "11 - gender\n",
      "12 - ethnicity\n",
      "13 - jaundice\n",
      "14 - austim\n",
      "15 - contry_of_res\n",
      "16 - used_app_before\n",
      "17 - result\n",
      "18 - relation\n",
      "19 - AgeGroup\n"
     ]
    }
   ],
   "source": [
    "mydropper = DropperTransformer(features = ['age_desc'])\n",
    "mydropper.fit(train)\n",
    "#df = mydropper.fit_transform(train)\n",
    "for i, col in enumerate(mydropper.get_feature_names_out()):\n",
    "    print(f'{i:2d} - {col}')"
   ]
  },
  {
   "cell_type": "markdown",
   "metadata": {},
   "source": [
    "## Feature selection with Pearson's Chi-square Test for Independence\n",
    "* $\\chi^2$ statistic for testing binary categorical variables relationship to categorical. Chi-square is applied to categorical variables and is especially useful when those variables are nominal (where order doesn't matter, like marital status or gender).\n",
    "\n",
    "The null hypothesis (H0) of the Chi-Square test is that no relationship exists on the categorical variables in the population; they are independent. If the probability that the null hypothesis (H0) is higher than 5%, then the null hypothesis is valid (variables are thus independent). Note that I tend to use the test in the opposite direction (p<0.05 to test the dependency between variables)"
   ]
  },
  {
   "cell_type": "code",
   "execution_count": 51,
   "metadata": {
    "execution": {
     "iopub.execute_input": "2022-05-27T18:52:42.175959Z",
     "iopub.status.busy": "2022-05-27T18:52:42.175556Z",
     "iopub.status.idle": "2022-05-27T18:52:42.411071Z",
     "shell.execute_reply": "2022-05-27T18:52:42.410306Z",
     "shell.execute_reply.started": "2022-05-27T18:52:42.175916Z"
    },
    "trusted": true
   },
   "outputs": [],
   "source": [
    "from sklearn.feature_selection import chi2"
   ]
  },
  {
   "cell_type": "code",
   "execution_count": 52,
   "metadata": {
    "execution": {
     "iopub.execute_input": "2022-05-27T18:52:42.952246Z",
     "iopub.status.busy": "2022-05-27T18:52:42.951351Z",
     "iopub.status.idle": "2022-05-27T18:52:42.956376Z",
     "shell.execute_reply": "2022-05-27T18:52:42.955551Z",
     "shell.execute_reply.started": "2022-05-27T18:52:42.952201Z"
    },
    "trusted": true
   },
   "outputs": [],
   "source": [
    "from sklearn.preprocessing import OneHotEncoder"
   ]
  },
  {
   "cell_type": "code",
   "execution_count": 53,
   "metadata": {
    "execution": {
     "iopub.execute_input": "2022-05-27T18:52:48.484862Z",
     "iopub.status.busy": "2022-05-27T18:52:48.484574Z",
     "iopub.status.idle": "2022-05-27T18:52:48.509993Z",
     "shell.execute_reply": "2022-05-27T18:52:48.509232Z",
     "shell.execute_reply.started": "2022-05-27T18:52:48.484830Z"
    },
    "trusted": true
   },
   "outputs": [
    {
     "data": {
      "text/html": [
       "<div>\n",
       "<style scoped>\n",
       "    .dataframe tbody tr th:only-of-type {\n",
       "        vertical-align: middle;\n",
       "    }\n",
       "\n",
       "    .dataframe tbody tr th {\n",
       "        vertical-align: top;\n",
       "    }\n",
       "\n",
       "    .dataframe thead th {\n",
       "        text-align: right;\n",
       "    }\n",
       "</style>\n",
       "<table border=\"1\" class=\"dataframe\">\n",
       "  <thead>\n",
       "    <tr style=\"text-align: right;\">\n",
       "      <th></th>\n",
       "      <th>category</th>\n",
       "      <th>Chi-Square</th>\n",
       "      <th>p-value</th>\n",
       "      <th>P&lt;0.05</th>\n",
       "    </tr>\n",
       "  </thead>\n",
       "  <tbody>\n",
       "    <tr>\n",
       "      <th>0</th>\n",
       "      <td>gender</td>\n",
       "      <td>6.462530</td>\n",
       "      <td>1.101727e-02</td>\n",
       "      <td>True</td>\n",
       "    </tr>\n",
       "    <tr>\n",
       "      <th>1</th>\n",
       "      <td>jaundice</td>\n",
       "      <td>21.981247</td>\n",
       "      <td>2.753276e-06</td>\n",
       "      <td>True</td>\n",
       "    </tr>\n",
       "    <tr>\n",
       "      <th>2</th>\n",
       "      <td>austim</td>\n",
       "      <td>97.114903</td>\n",
       "      <td>6.541865e-23</td>\n",
       "      <td>True</td>\n",
       "    </tr>\n",
       "    <tr>\n",
       "      <th>3</th>\n",
       "      <td>used_app_before</td>\n",
       "      <td>0.192265</td>\n",
       "      <td>6.610378e-01</td>\n",
       "      <td>False</td>\n",
       "    </tr>\n",
       "  </tbody>\n",
       "</table>\n",
       "</div>"
      ],
      "text/plain": [
       "          category  Chi-Square       p-value  P<0.05\n",
       "0           gender    6.462530  1.101727e-02    True\n",
       "1         jaundice   21.981247  2.753276e-06    True\n",
       "2           austim   97.114903  6.541865e-23    True\n",
       "3  used_app_before    0.192265  6.610378e-01   False"
      ]
     },
     "execution_count": 53,
     "metadata": {},
     "output_type": "execute_result"
    }
   ],
   "source": [
    "binary_features = ['gender', 'jaundice', 'austim', 'used_app_before']\n",
    "binary_encoder = OneHotEncoder(sparse_output=False, drop= 'if_binary')\n",
    "#foo = binary_encoder.fit_transform(train[binary_features])\n",
    "#cols = binary_encoder.get_feature_names_out()\n",
    "\n",
    "chi_score, p = chi2(X = binary_encoder.fit_transform(train[binary_features])  ,y = train_target)\n",
    "star = p <= 0.05 # if they are dependent, probability of Ho (independency) must be lower than 5%\n",
    "pd.DataFrame(zip(binary_features, chi_score, p, star), columns=['category', 'Chi-Square', 'p-value', 'P<0.05'])\n",
    "\n"
   ]
  },
  {
   "cell_type": "markdown",
   "metadata": {},
   "source": [
    "The null hypothesis (H0) of the Chi-Square test is that no relationship exists on the categorical variables in the population (i.e. the variable is indepedent). If we discard categorical variables with probability 5% or more, we discard **gender** and **used_app_before**."
   ]
  },
  {
   "cell_type": "code",
   "execution_count": 54,
   "metadata": {
    "execution": {
     "iopub.execute_input": "2022-05-27T18:52:51.006851Z",
     "iopub.status.busy": "2022-05-27T18:52:51.006440Z",
     "iopub.status.idle": "2022-05-27T18:52:51.031219Z",
     "shell.execute_reply": "2022-05-27T18:52:51.030277Z",
     "shell.execute_reply.started": "2022-05-27T18:52:51.006819Z"
    },
    "trusted": true
   },
   "outputs": [
    {
     "data": {
      "text/html": [
       "<div>\n",
       "<style scoped>\n",
       "    .dataframe tbody tr th:only-of-type {\n",
       "        vertical-align: middle;\n",
       "    }\n",
       "\n",
       "    .dataframe tbody tr th {\n",
       "        vertical-align: top;\n",
       "    }\n",
       "\n",
       "    .dataframe thead th {\n",
       "        text-align: right;\n",
       "    }\n",
       "</style>\n",
       "<table border=\"1\" class=\"dataframe\">\n",
       "  <thead>\n",
       "    <tr style=\"text-align: right;\">\n",
       "      <th></th>\n",
       "      <th>category</th>\n",
       "      <th>Chi-Square</th>\n",
       "      <th>p-value</th>\n",
       "      <th>P&lt;0.05</th>\n",
       "    </tr>\n",
       "  </thead>\n",
       "  <tbody>\n",
       "    <tr>\n",
       "      <th>0</th>\n",
       "      <td>A1_Score</td>\n",
       "      <td>28.087740</td>\n",
       "      <td>1.159380e-07</td>\n",
       "      <td>True</td>\n",
       "    </tr>\n",
       "    <tr>\n",
       "      <th>1</th>\n",
       "      <td>A2_Score</td>\n",
       "      <td>82.757731</td>\n",
       "      <td>9.275235e-20</td>\n",
       "      <td>True</td>\n",
       "    </tr>\n",
       "    <tr>\n",
       "      <th>2</th>\n",
       "      <td>A3_Score</td>\n",
       "      <td>164.029628</td>\n",
       "      <td>1.490354e-37</td>\n",
       "      <td>True</td>\n",
       "    </tr>\n",
       "    <tr>\n",
       "      <th>3</th>\n",
       "      <td>A4_Score</td>\n",
       "      <td>123.063444</td>\n",
       "      <td>1.350604e-28</td>\n",
       "      <td>True</td>\n",
       "    </tr>\n",
       "    <tr>\n",
       "      <th>4</th>\n",
       "      <td>A5_Score</td>\n",
       "      <td>87.289627</td>\n",
       "      <td>9.373823e-21</td>\n",
       "      <td>True</td>\n",
       "    </tr>\n",
       "    <tr>\n",
       "      <th>5</th>\n",
       "      <td>A6_Score</td>\n",
       "      <td>186.356096</td>\n",
       "      <td>1.984980e-42</td>\n",
       "      <td>True</td>\n",
       "    </tr>\n",
       "    <tr>\n",
       "      <th>6</th>\n",
       "      <td>A7_Score</td>\n",
       "      <td>90.494446</td>\n",
       "      <td>1.854969e-21</td>\n",
       "      <td>True</td>\n",
       "    </tr>\n",
       "    <tr>\n",
       "      <th>7</th>\n",
       "      <td>A8_Score</td>\n",
       "      <td>10.842539</td>\n",
       "      <td>9.919460e-04</td>\n",
       "      <td>True</td>\n",
       "    </tr>\n",
       "    <tr>\n",
       "      <th>8</th>\n",
       "      <td>A9_Score</td>\n",
       "      <td>158.731010</td>\n",
       "      <td>2.142467e-36</td>\n",
       "      <td>True</td>\n",
       "    </tr>\n",
       "  </tbody>\n",
       "</table>\n",
       "</div>"
      ],
      "text/plain": [
       "   category  Chi-Square       p-value  P<0.05\n",
       "0  A1_Score   28.087740  1.159380e-07    True\n",
       "1  A2_Score   82.757731  9.275235e-20    True\n",
       "2  A3_Score  164.029628  1.490354e-37    True\n",
       "3  A4_Score  123.063444  1.350604e-28    True\n",
       "4  A5_Score   87.289627  9.373823e-21    True\n",
       "5  A6_Score  186.356096  1.984980e-42    True\n",
       "6  A7_Score   90.494446  1.854969e-21    True\n",
       "7  A8_Score   10.842539  9.919460e-04    True\n",
       "8  A9_Score  158.731010  2.142467e-36    True"
      ]
     },
     "execution_count": 54,
     "metadata": {},
     "output_type": "execute_result"
    }
   ],
   "source": [
    "# Note that A*_Score are also binary variables, we will test if they are related to the independent variable\n",
    "mylist = [f'A{i}_Score' for i in range(1,10)]\n",
    "\n",
    "chi_score, p = chi2(X = binary_encoder.fit_transform(train[mylist])  ,y = train_target)\n",
    "star = p <= 0.05\n",
    "pd.DataFrame(zip(mylist, chi_score, p, star), columns=['category', 'Chi-Square', 'p-value', 'P<0.05'])"
   ]
  },
  {
   "cell_type": "markdown",
   "metadata": {},
   "source": [
    "All A*_Scores are related (with probability of 95% or more) to the depedent variable."
   ]
  },
  {
   "cell_type": "markdown",
   "metadata": {},
   "source": [
    "## Designing preprocessing Pipeline"
   ]
  },
  {
   "cell_type": "code",
   "execution_count": 55,
   "metadata": {
    "execution": {
     "iopub.execute_input": "2022-05-27T18:59:05.747751Z",
     "iopub.status.busy": "2022-05-27T18:59:05.747345Z",
     "iopub.status.idle": "2022-05-27T18:59:05.753731Z",
     "shell.execute_reply": "2022-05-27T18:59:05.752651Z",
     "shell.execute_reply.started": "2022-05-27T18:59:05.747713Z"
    },
    "trusted": true
   },
   "outputs": [],
   "source": [
    "# Transformation: create processing pipeline\n",
    "#from sklearn.pipeline import make_pipeline # to concatenate estimators and transformers (like Pipeline)\n",
    "#from sklearn.compose import make_column_transformer # to apply transformers to categories (ColumnTransformer)\n",
    "\n",
    "from sklearn.pipeline import Pipeline\n",
    "from sklearn.compose import ColumnTransformer\n",
    "\n",
    "from sklearn.preprocessing import StandardScaler\n",
    "from sklearn.preprocessing import OneHotEncoder"
   ]
  },
  {
   "cell_type": "markdown",
   "metadata": {},
   "source": [
    "We test first the indices of the variables resulting after our custom transformers. These indices are important because ColumnTransformed used indices in the Pipeline."
   ]
  },
  {
   "cell_type": "code",
   "execution_count": 56,
   "metadata": {
    "execution": {
     "iopub.execute_input": "2022-05-27T18:59:06.496196Z",
     "iopub.status.busy": "2022-05-27T18:59:06.495728Z",
     "iopub.status.idle": "2022-05-27T18:59:06.550323Z",
     "shell.execute_reply": "2022-05-27T18:59:06.549248Z",
     "shell.execute_reply.started": "2022-05-27T18:59:06.496154Z"
    },
    "trusted": true
   },
   "outputs": [
    {
     "name": "stdout",
     "output_type": "stream",
     "text": [
      "[ 0] -> A1_Score\n",
      "[ 1] -> A2_Score\n",
      "[ 2] -> A3_Score\n",
      "[ 3] -> A4_Score\n",
      "[ 4] -> A5_Score\n",
      "[ 5] -> A6_Score\n",
      "[ 6] -> A7_Score\n",
      "[ 7] -> A8_Score\n",
      "[ 8] -> A9_Score\n",
      "[ 9] -> A10_Score\n",
      "[10] -> age\n",
      "[11] -> ethnicity\n",
      "[12] -> jaundice\n",
      "[13] -> austim\n",
      "[14] -> result\n",
      "[15] -> relation\n",
      "[16] -> AgeGroup\n",
      "[17] -> continent\n",
      "[18] -> w_contry_of_res\n",
      "[19] -> w_ethnicity\n",
      "[20] -> w_relation\n"
     ]
    },
    {
     "name": "stderr",
     "output_type": "stream",
     "text": [
      "C:\\Users\\ASUS\\AppData\\Local\\Temp\\ipykernel_2548\\947416153.py:15: DeprecationWarning: is_categorical_dtype is deprecated and will be removed in a future version. Use isinstance(dtype, pd.CategoricalDtype) instead\n",
      "  if not pd.api.types.is_categorical_dtype(df['contry_of_res']):\n",
      "C:\\Users\\ASUS\\AppData\\Local\\Temp\\ipykernel_2548\\947416153.py:36: DeprecationWarning: is_categorical_dtype is deprecated and will be removed in a future version. Use isinstance(dtype, pd.CategoricalDtype) instead\n",
      "  if not pd.api.types.is_categorical_dtype(df['contry_of_res']):\n"
     ]
    }
   ],
   "source": [
    "country = ('country', ContinentTransformer(continent = continent)) # creates continent\n",
    "w_country = ('weight_country', WeightEncoder(col_name = 'contry_of_res', weight = weight_country)) # creates w_contry_of_res \n",
    "w_ethnicity = ('weight_ethnicity', WeightEncoder(col_name = 'ethnicity', weight = weight_ethnicity)) # creates w_ethnicity\n",
    "w_relation = ('weight_relation', WeightEncoder(col_name = 'relation', weight = weight_relation)) # creates w_relation\n",
    "#w_age = ('weight_age', WeightEncoder(col_name = 'AgeGroup', weight=weight_AgeGroup)) # creates_w_AgeGroup\n",
    "\n",
    "dropper = ('dropper', DropperTransformer(features = ['age_desc', 'gender', 'used_app_before','contry_of_res']))\n",
    "\n",
    "in_process = (country, w_country, w_ethnicity, w_relation, dropper)\n",
    "pipeline = Pipeline(steps = in_process)\n",
    "\n",
    "df = pipeline.fit_transform(train)\n",
    "#pipeline[1].get_feature_names_out()\n",
    "for i,col in enumerate(pipeline[-1].get_feature_names_out()):\n",
    "    print(f'[{i:2d}] -> {col}')"
   ]
  },
  {
   "cell_type": "code",
   "execution_count": 57,
   "metadata": {
    "execution": {
     "iopub.execute_input": "2022-05-27T18:59:07.006500Z",
     "iopub.status.busy": "2022-05-27T18:59:07.006169Z",
     "iopub.status.idle": "2022-05-27T18:59:07.112031Z",
     "shell.execute_reply": "2022-05-27T18:59:07.110842Z",
     "shell.execute_reply.started": "2022-05-27T18:59:07.006453Z"
    },
    "trusted": true
   },
   "outputs": [
    {
     "data": {
      "text/html": [
       "<style>#sk-container-id-1 {\n",
       "  /* Definition of color scheme common for light and dark mode */\n",
       "  --sklearn-color-text: black;\n",
       "  --sklearn-color-line: gray;\n",
       "  /* Definition of color scheme for unfitted estimators */\n",
       "  --sklearn-color-unfitted-level-0: #fff5e6;\n",
       "  --sklearn-color-unfitted-level-1: #f6e4d2;\n",
       "  --sklearn-color-unfitted-level-2: #ffe0b3;\n",
       "  --sklearn-color-unfitted-level-3: chocolate;\n",
       "  /* Definition of color scheme for fitted estimators */\n",
       "  --sklearn-color-fitted-level-0: #f0f8ff;\n",
       "  --sklearn-color-fitted-level-1: #d4ebff;\n",
       "  --sklearn-color-fitted-level-2: #b3dbfd;\n",
       "  --sklearn-color-fitted-level-3: cornflowerblue;\n",
       "\n",
       "  /* Specific color for light theme */\n",
       "  --sklearn-color-text-on-default-background: var(--sg-text-color, var(--theme-code-foreground, var(--jp-content-font-color1, black)));\n",
       "  --sklearn-color-background: var(--sg-background-color, var(--theme-background, var(--jp-layout-color0, white)));\n",
       "  --sklearn-color-border-box: var(--sg-text-color, var(--theme-code-foreground, var(--jp-content-font-color1, black)));\n",
       "  --sklearn-color-icon: #696969;\n",
       "\n",
       "  @media (prefers-color-scheme: dark) {\n",
       "    /* Redefinition of color scheme for dark theme */\n",
       "    --sklearn-color-text-on-default-background: var(--sg-text-color, var(--theme-code-foreground, var(--jp-content-font-color1, white)));\n",
       "    --sklearn-color-background: var(--sg-background-color, var(--theme-background, var(--jp-layout-color0, #111)));\n",
       "    --sklearn-color-border-box: var(--sg-text-color, var(--theme-code-foreground, var(--jp-content-font-color1, white)));\n",
       "    --sklearn-color-icon: #878787;\n",
       "  }\n",
       "}\n",
       "\n",
       "#sk-container-id-1 {\n",
       "  color: var(--sklearn-color-text);\n",
       "}\n",
       "\n",
       "#sk-container-id-1 pre {\n",
       "  padding: 0;\n",
       "}\n",
       "\n",
       "#sk-container-id-1 input.sk-hidden--visually {\n",
       "  border: 0;\n",
       "  clip: rect(1px 1px 1px 1px);\n",
       "  clip: rect(1px, 1px, 1px, 1px);\n",
       "  height: 1px;\n",
       "  margin: -1px;\n",
       "  overflow: hidden;\n",
       "  padding: 0;\n",
       "  position: absolute;\n",
       "  width: 1px;\n",
       "}\n",
       "\n",
       "#sk-container-id-1 div.sk-dashed-wrapped {\n",
       "  border: 1px dashed var(--sklearn-color-line);\n",
       "  margin: 0 0.4em 0.5em 0.4em;\n",
       "  box-sizing: border-box;\n",
       "  padding-bottom: 0.4em;\n",
       "  background-color: var(--sklearn-color-background);\n",
       "}\n",
       "\n",
       "#sk-container-id-1 div.sk-container {\n",
       "  /* jupyter's `normalize.less` sets `[hidden] { display: none; }`\n",
       "     but bootstrap.min.css set `[hidden] { display: none !important; }`\n",
       "     so we also need the `!important` here to be able to override the\n",
       "     default hidden behavior on the sphinx rendered scikit-learn.org.\n",
       "     See: https://github.com/scikit-learn/scikit-learn/issues/21755 */\n",
       "  display: inline-block !important;\n",
       "  position: relative;\n",
       "}\n",
       "\n",
       "#sk-container-id-1 div.sk-text-repr-fallback {\n",
       "  display: none;\n",
       "}\n",
       "\n",
       "div.sk-parallel-item,\n",
       "div.sk-serial,\n",
       "div.sk-item {\n",
       "  /* draw centered vertical line to link estimators */\n",
       "  background-image: linear-gradient(var(--sklearn-color-text-on-default-background), var(--sklearn-color-text-on-default-background));\n",
       "  background-size: 2px 100%;\n",
       "  background-repeat: no-repeat;\n",
       "  background-position: center center;\n",
       "}\n",
       "\n",
       "/* Parallel-specific style estimator block */\n",
       "\n",
       "#sk-container-id-1 div.sk-parallel-item::after {\n",
       "  content: \"\";\n",
       "  width: 100%;\n",
       "  border-bottom: 2px solid var(--sklearn-color-text-on-default-background);\n",
       "  flex-grow: 1;\n",
       "}\n",
       "\n",
       "#sk-container-id-1 div.sk-parallel {\n",
       "  display: flex;\n",
       "  align-items: stretch;\n",
       "  justify-content: center;\n",
       "  background-color: var(--sklearn-color-background);\n",
       "  position: relative;\n",
       "}\n",
       "\n",
       "#sk-container-id-1 div.sk-parallel-item {\n",
       "  display: flex;\n",
       "  flex-direction: column;\n",
       "}\n",
       "\n",
       "#sk-container-id-1 div.sk-parallel-item:first-child::after {\n",
       "  align-self: flex-end;\n",
       "  width: 50%;\n",
       "}\n",
       "\n",
       "#sk-container-id-1 div.sk-parallel-item:last-child::after {\n",
       "  align-self: flex-start;\n",
       "  width: 50%;\n",
       "}\n",
       "\n",
       "#sk-container-id-1 div.sk-parallel-item:only-child::after {\n",
       "  width: 0;\n",
       "}\n",
       "\n",
       "/* Serial-specific style estimator block */\n",
       "\n",
       "#sk-container-id-1 div.sk-serial {\n",
       "  display: flex;\n",
       "  flex-direction: column;\n",
       "  align-items: center;\n",
       "  background-color: var(--sklearn-color-background);\n",
       "  padding-right: 1em;\n",
       "  padding-left: 1em;\n",
       "}\n",
       "\n",
       "\n",
       "/* Toggleable style: style used for estimator/Pipeline/ColumnTransformer box that is\n",
       "clickable and can be expanded/collapsed.\n",
       "- Pipeline and ColumnTransformer use this feature and define the default style\n",
       "- Estimators will overwrite some part of the style using the `sk-estimator` class\n",
       "*/\n",
       "\n",
       "/* Pipeline and ColumnTransformer style (default) */\n",
       "\n",
       "#sk-container-id-1 div.sk-toggleable {\n",
       "  /* Default theme specific background. It is overwritten whether we have a\n",
       "  specific estimator or a Pipeline/ColumnTransformer */\n",
       "  background-color: var(--sklearn-color-background);\n",
       "}\n",
       "\n",
       "/* Toggleable label */\n",
       "#sk-container-id-1 label.sk-toggleable__label {\n",
       "  cursor: pointer;\n",
       "  display: block;\n",
       "  width: 100%;\n",
       "  margin-bottom: 0;\n",
       "  padding: 0.5em;\n",
       "  box-sizing: border-box;\n",
       "  text-align: center;\n",
       "}\n",
       "\n",
       "#sk-container-id-1 label.sk-toggleable__label-arrow:before {\n",
       "  /* Arrow on the left of the label */\n",
       "  content: \"▸\";\n",
       "  float: left;\n",
       "  margin-right: 0.25em;\n",
       "  color: var(--sklearn-color-icon);\n",
       "}\n",
       "\n",
       "#sk-container-id-1 label.sk-toggleable__label-arrow:hover:before {\n",
       "  color: var(--sklearn-color-text);\n",
       "}\n",
       "\n",
       "/* Toggleable content - dropdown */\n",
       "\n",
       "#sk-container-id-1 div.sk-toggleable__content {\n",
       "  max-height: 0;\n",
       "  max-width: 0;\n",
       "  overflow: hidden;\n",
       "  text-align: left;\n",
       "  /* unfitted */\n",
       "  background-color: var(--sklearn-color-unfitted-level-0);\n",
       "}\n",
       "\n",
       "#sk-container-id-1 div.sk-toggleable__content.fitted {\n",
       "  /* fitted */\n",
       "  background-color: var(--sklearn-color-fitted-level-0);\n",
       "}\n",
       "\n",
       "#sk-container-id-1 div.sk-toggleable__content pre {\n",
       "  margin: 0.2em;\n",
       "  border-radius: 0.25em;\n",
       "  color: var(--sklearn-color-text);\n",
       "  /* unfitted */\n",
       "  background-color: var(--sklearn-color-unfitted-level-0);\n",
       "}\n",
       "\n",
       "#sk-container-id-1 div.sk-toggleable__content.fitted pre {\n",
       "  /* unfitted */\n",
       "  background-color: var(--sklearn-color-fitted-level-0);\n",
       "}\n",
       "\n",
       "#sk-container-id-1 input.sk-toggleable__control:checked~div.sk-toggleable__content {\n",
       "  /* Expand drop-down */\n",
       "  max-height: 200px;\n",
       "  max-width: 100%;\n",
       "  overflow: auto;\n",
       "}\n",
       "\n",
       "#sk-container-id-1 input.sk-toggleable__control:checked~label.sk-toggleable__label-arrow:before {\n",
       "  content: \"▾\";\n",
       "}\n",
       "\n",
       "/* Pipeline/ColumnTransformer-specific style */\n",
       "\n",
       "#sk-container-id-1 div.sk-label input.sk-toggleable__control:checked~label.sk-toggleable__label {\n",
       "  color: var(--sklearn-color-text);\n",
       "  background-color: var(--sklearn-color-unfitted-level-2);\n",
       "}\n",
       "\n",
       "#sk-container-id-1 div.sk-label.fitted input.sk-toggleable__control:checked~label.sk-toggleable__label {\n",
       "  background-color: var(--sklearn-color-fitted-level-2);\n",
       "}\n",
       "\n",
       "/* Estimator-specific style */\n",
       "\n",
       "/* Colorize estimator box */\n",
       "#sk-container-id-1 div.sk-estimator input.sk-toggleable__control:checked~label.sk-toggleable__label {\n",
       "  /* unfitted */\n",
       "  background-color: var(--sklearn-color-unfitted-level-2);\n",
       "}\n",
       "\n",
       "#sk-container-id-1 div.sk-estimator.fitted input.sk-toggleable__control:checked~label.sk-toggleable__label {\n",
       "  /* fitted */\n",
       "  background-color: var(--sklearn-color-fitted-level-2);\n",
       "}\n",
       "\n",
       "#sk-container-id-1 div.sk-label label.sk-toggleable__label,\n",
       "#sk-container-id-1 div.sk-label label {\n",
       "  /* The background is the default theme color */\n",
       "  color: var(--sklearn-color-text-on-default-background);\n",
       "}\n",
       "\n",
       "/* On hover, darken the color of the background */\n",
       "#sk-container-id-1 div.sk-label:hover label.sk-toggleable__label {\n",
       "  color: var(--sklearn-color-text);\n",
       "  background-color: var(--sklearn-color-unfitted-level-2);\n",
       "}\n",
       "\n",
       "/* Label box, darken color on hover, fitted */\n",
       "#sk-container-id-1 div.sk-label.fitted:hover label.sk-toggleable__label.fitted {\n",
       "  color: var(--sklearn-color-text);\n",
       "  background-color: var(--sklearn-color-fitted-level-2);\n",
       "}\n",
       "\n",
       "/* Estimator label */\n",
       "\n",
       "#sk-container-id-1 div.sk-label label {\n",
       "  font-family: monospace;\n",
       "  font-weight: bold;\n",
       "  display: inline-block;\n",
       "  line-height: 1.2em;\n",
       "}\n",
       "\n",
       "#sk-container-id-1 div.sk-label-container {\n",
       "  text-align: center;\n",
       "}\n",
       "\n",
       "/* Estimator-specific */\n",
       "#sk-container-id-1 div.sk-estimator {\n",
       "  font-family: monospace;\n",
       "  border: 1px dotted var(--sklearn-color-border-box);\n",
       "  border-radius: 0.25em;\n",
       "  box-sizing: border-box;\n",
       "  margin-bottom: 0.5em;\n",
       "  /* unfitted */\n",
       "  background-color: var(--sklearn-color-unfitted-level-0);\n",
       "}\n",
       "\n",
       "#sk-container-id-1 div.sk-estimator.fitted {\n",
       "  /* fitted */\n",
       "  background-color: var(--sklearn-color-fitted-level-0);\n",
       "}\n",
       "\n",
       "/* on hover */\n",
       "#sk-container-id-1 div.sk-estimator:hover {\n",
       "  /* unfitted */\n",
       "  background-color: var(--sklearn-color-unfitted-level-2);\n",
       "}\n",
       "\n",
       "#sk-container-id-1 div.sk-estimator.fitted:hover {\n",
       "  /* fitted */\n",
       "  background-color: var(--sklearn-color-fitted-level-2);\n",
       "}\n",
       "\n",
       "/* Specification for estimator info (e.g. \"i\" and \"?\") */\n",
       "\n",
       "/* Common style for \"i\" and \"?\" */\n",
       "\n",
       ".sk-estimator-doc-link,\n",
       "a:link.sk-estimator-doc-link,\n",
       "a:visited.sk-estimator-doc-link {\n",
       "  float: right;\n",
       "  font-size: smaller;\n",
       "  line-height: 1em;\n",
       "  font-family: monospace;\n",
       "  background-color: var(--sklearn-color-background);\n",
       "  border-radius: 1em;\n",
       "  height: 1em;\n",
       "  width: 1em;\n",
       "  text-decoration: none !important;\n",
       "  margin-left: 1ex;\n",
       "  /* unfitted */\n",
       "  border: var(--sklearn-color-unfitted-level-1) 1pt solid;\n",
       "  color: var(--sklearn-color-unfitted-level-1);\n",
       "}\n",
       "\n",
       ".sk-estimator-doc-link.fitted,\n",
       "a:link.sk-estimator-doc-link.fitted,\n",
       "a:visited.sk-estimator-doc-link.fitted {\n",
       "  /* fitted */\n",
       "  border: var(--sklearn-color-fitted-level-1) 1pt solid;\n",
       "  color: var(--sklearn-color-fitted-level-1);\n",
       "}\n",
       "\n",
       "/* On hover */\n",
       "div.sk-estimator:hover .sk-estimator-doc-link:hover,\n",
       ".sk-estimator-doc-link:hover,\n",
       "div.sk-label-container:hover .sk-estimator-doc-link:hover,\n",
       ".sk-estimator-doc-link:hover {\n",
       "  /* unfitted */\n",
       "  background-color: var(--sklearn-color-unfitted-level-3);\n",
       "  color: var(--sklearn-color-background);\n",
       "  text-decoration: none;\n",
       "}\n",
       "\n",
       "div.sk-estimator.fitted:hover .sk-estimator-doc-link.fitted:hover,\n",
       ".sk-estimator-doc-link.fitted:hover,\n",
       "div.sk-label-container:hover .sk-estimator-doc-link.fitted:hover,\n",
       ".sk-estimator-doc-link.fitted:hover {\n",
       "  /* fitted */\n",
       "  background-color: var(--sklearn-color-fitted-level-3);\n",
       "  color: var(--sklearn-color-background);\n",
       "  text-decoration: none;\n",
       "}\n",
       "\n",
       "/* Span, style for the box shown on hovering the info icon */\n",
       ".sk-estimator-doc-link span {\n",
       "  display: none;\n",
       "  z-index: 9999;\n",
       "  position: relative;\n",
       "  font-weight: normal;\n",
       "  right: .2ex;\n",
       "  padding: .5ex;\n",
       "  margin: .5ex;\n",
       "  width: min-content;\n",
       "  min-width: 20ex;\n",
       "  max-width: 50ex;\n",
       "  color: var(--sklearn-color-text);\n",
       "  box-shadow: 2pt 2pt 4pt #999;\n",
       "  /* unfitted */\n",
       "  background: var(--sklearn-color-unfitted-level-0);\n",
       "  border: .5pt solid var(--sklearn-color-unfitted-level-3);\n",
       "}\n",
       "\n",
       ".sk-estimator-doc-link.fitted span {\n",
       "  /* fitted */\n",
       "  background: var(--sklearn-color-fitted-level-0);\n",
       "  border: var(--sklearn-color-fitted-level-3);\n",
       "}\n",
       "\n",
       ".sk-estimator-doc-link:hover span {\n",
       "  display: block;\n",
       "}\n",
       "\n",
       "/* \"?\"-specific style due to the `<a>` HTML tag */\n",
       "\n",
       "#sk-container-id-1 a.estimator_doc_link {\n",
       "  float: right;\n",
       "  font-size: 1rem;\n",
       "  line-height: 1em;\n",
       "  font-family: monospace;\n",
       "  background-color: var(--sklearn-color-background);\n",
       "  border-radius: 1rem;\n",
       "  height: 1rem;\n",
       "  width: 1rem;\n",
       "  text-decoration: none;\n",
       "  /* unfitted */\n",
       "  color: var(--sklearn-color-unfitted-level-1);\n",
       "  border: var(--sklearn-color-unfitted-level-1) 1pt solid;\n",
       "}\n",
       "\n",
       "#sk-container-id-1 a.estimator_doc_link.fitted {\n",
       "  /* fitted */\n",
       "  border: var(--sklearn-color-fitted-level-1) 1pt solid;\n",
       "  color: var(--sklearn-color-fitted-level-1);\n",
       "}\n",
       "\n",
       "/* On hover */\n",
       "#sk-container-id-1 a.estimator_doc_link:hover {\n",
       "  /* unfitted */\n",
       "  background-color: var(--sklearn-color-unfitted-level-3);\n",
       "  color: var(--sklearn-color-background);\n",
       "  text-decoration: none;\n",
       "}\n",
       "\n",
       "#sk-container-id-1 a.estimator_doc_link.fitted:hover {\n",
       "  /* fitted */\n",
       "  background-color: var(--sklearn-color-fitted-level-3);\n",
       "}\n",
       "</style><div id=\"sk-container-id-1\" class=\"sk-top-container\"><div class=\"sk-text-repr-fallback\"><pre>Pipeline(steps=((&#x27;country&#x27;,\n",
       "                 ContinentTransformer(continent={&#x27;Afghanistan&#x27;: &#x27;Asia&#x27;,\n",
       "                                                 &#x27;Albania&#x27;: &#x27;Europe&#x27;,\n",
       "                                                 &#x27;Algeria&#x27;: &#x27;Africa&#x27;,\n",
       "                                                 &#x27;American Samoa&#x27;: &#x27;Oceania&#x27;,\n",
       "                                                 &#x27;Andorra&#x27;: &#x27;Europe&#x27;,\n",
       "                                                 &#x27;Angola&#x27;: &#x27;Africa&#x27;,\n",
       "                                                 &#x27;Anguilla&#x27;: &#x27;Americas&#x27;,\n",
       "                                                 &#x27;Antarctica&#x27;: &#x27;Antarctica&#x27;,\n",
       "                                                 &#x27;Antigua and Barbuda&#x27;: &#x27;Americas&#x27;,\n",
       "                                                 &#x27;Argentina&#x27;: &#x27;Americas&#x27;,\n",
       "                                                 &#x27;Armenia&#x27;: &#x27;Asia&#x27;,\n",
       "                                                 &#x27;Aruba&#x27;: &#x27;Americas&#x27;,\n",
       "                                                 &#x27;Australia&#x27;: &#x27;Oceania&#x27;,\n",
       "                                                 &#x27;Austria&#x27;...\n",
       "                 DropperTransformer(features=[&#x27;age_desc&#x27;, &#x27;gender&#x27;,\n",
       "                                              &#x27;used_app_before&#x27;,\n",
       "                                              &#x27;contry_of_res&#x27;])),\n",
       "                (&#x27;col_transformer&#x27;,\n",
       "                 ColumnTransformer(remainder=&#x27;passthrough&#x27;,\n",
       "                                   transformers=((&#x27;z_scoring&#x27;, StandardScaler(),\n",
       "                                                  [10, 14]),\n",
       "                                                 (&#x27;binarize&#x27;,\n",
       "                                                  OneHotEncoder(drop=&#x27;if_binary&#x27;,\n",
       "                                                                sparse_output=False),\n",
       "                                                  [12, 13]),\n",
       "                                                 (&#x27;one_hot&#x27;,\n",
       "                                                  OneHotEncoder(handle_unknown=&#x27;ignore&#x27;,\n",
       "                                                                sparse_output=False),\n",
       "                                                  [11, 15, 16, 17]))))))</pre><b>In a Jupyter environment, please rerun this cell to show the HTML representation or trust the notebook. <br />On GitHub, the HTML representation is unable to render, please try loading this page with nbviewer.org.</b></div><div class=\"sk-container\" hidden><div class=\"sk-item sk-dashed-wrapped\"><div class=\"sk-label-container\"><div class=\"sk-label  sk-toggleable\"><input class=\"sk-toggleable__control sk-hidden--visually\" id=\"sk-estimator-id-1\" type=\"checkbox\" ><label for=\"sk-estimator-id-1\" class=\"sk-toggleable__label  sk-toggleable__label-arrow \">&nbsp;&nbsp;Pipeline<a class=\"sk-estimator-doc-link \" rel=\"noreferrer\" target=\"_blank\" href=\"https://scikit-learn.org/1.5/modules/generated/sklearn.pipeline.Pipeline.html\">?<span>Documentation for Pipeline</span></a><span class=\"sk-estimator-doc-link \">i<span>Not fitted</span></span></label><div class=\"sk-toggleable__content \"><pre>Pipeline(steps=((&#x27;country&#x27;,\n",
       "                 ContinentTransformer(continent={&#x27;Afghanistan&#x27;: &#x27;Asia&#x27;,\n",
       "                                                 &#x27;Albania&#x27;: &#x27;Europe&#x27;,\n",
       "                                                 &#x27;Algeria&#x27;: &#x27;Africa&#x27;,\n",
       "                                                 &#x27;American Samoa&#x27;: &#x27;Oceania&#x27;,\n",
       "                                                 &#x27;Andorra&#x27;: &#x27;Europe&#x27;,\n",
       "                                                 &#x27;Angola&#x27;: &#x27;Africa&#x27;,\n",
       "                                                 &#x27;Anguilla&#x27;: &#x27;Americas&#x27;,\n",
       "                                                 &#x27;Antarctica&#x27;: &#x27;Antarctica&#x27;,\n",
       "                                                 &#x27;Antigua and Barbuda&#x27;: &#x27;Americas&#x27;,\n",
       "                                                 &#x27;Argentina&#x27;: &#x27;Americas&#x27;,\n",
       "                                                 &#x27;Armenia&#x27;: &#x27;Asia&#x27;,\n",
       "                                                 &#x27;Aruba&#x27;: &#x27;Americas&#x27;,\n",
       "                                                 &#x27;Australia&#x27;: &#x27;Oceania&#x27;,\n",
       "                                                 &#x27;Austria&#x27;...\n",
       "                 DropperTransformer(features=[&#x27;age_desc&#x27;, &#x27;gender&#x27;,\n",
       "                                              &#x27;used_app_before&#x27;,\n",
       "                                              &#x27;contry_of_res&#x27;])),\n",
       "                (&#x27;col_transformer&#x27;,\n",
       "                 ColumnTransformer(remainder=&#x27;passthrough&#x27;,\n",
       "                                   transformers=((&#x27;z_scoring&#x27;, StandardScaler(),\n",
       "                                                  [10, 14]),\n",
       "                                                 (&#x27;binarize&#x27;,\n",
       "                                                  OneHotEncoder(drop=&#x27;if_binary&#x27;,\n",
       "                                                                sparse_output=False),\n",
       "                                                  [12, 13]),\n",
       "                                                 (&#x27;one_hot&#x27;,\n",
       "                                                  OneHotEncoder(handle_unknown=&#x27;ignore&#x27;,\n",
       "                                                                sparse_output=False),\n",
       "                                                  [11, 15, 16, 17]))))))</pre></div> </div></div><div class=\"sk-serial\"><div class=\"sk-item\"><div class=\"sk-estimator  sk-toggleable\"><input class=\"sk-toggleable__control sk-hidden--visually\" id=\"sk-estimator-id-2\" type=\"checkbox\" ><label for=\"sk-estimator-id-2\" class=\"sk-toggleable__label  sk-toggleable__label-arrow \">ContinentTransformer</label><div class=\"sk-toggleable__content \"><pre>ContinentTransformer(continent={&#x27;Afghanistan&#x27;: &#x27;Asia&#x27;, &#x27;Albania&#x27;: &#x27;Europe&#x27;,\n",
       "                                &#x27;Algeria&#x27;: &#x27;Africa&#x27;,\n",
       "                                &#x27;American Samoa&#x27;: &#x27;Oceania&#x27;,\n",
       "                                &#x27;Andorra&#x27;: &#x27;Europe&#x27;, &#x27;Angola&#x27;: &#x27;Africa&#x27;,\n",
       "                                &#x27;Anguilla&#x27;: &#x27;Americas&#x27;,\n",
       "                                &#x27;Antarctica&#x27;: &#x27;Antarctica&#x27;,\n",
       "                                &#x27;Antigua and Barbuda&#x27;: &#x27;Americas&#x27;,\n",
       "                                &#x27;Argentina&#x27;: &#x27;Americas&#x27;, &#x27;Armenia&#x27;: &#x27;Asia&#x27;,\n",
       "                                &#x27;Aruba&#x27;: &#x27;Americas&#x27;, &#x27;Australia&#x27;: &#x27;Oceania&#x27;,\n",
       "                                &#x27;Austria&#x27;: &#x27;Europe&#x27;, &#x27;Azerbaijan&#x27;: &#x27;Asia&#x27;,\n",
       "                                &#x27;Bahamas&#x27;: &#x27;Americas&#x27;, &#x27;Bahrain&#x27;: &#x27;Asia&#x27;,\n",
       "                                &#x27;Bangladesh&#x27;: &#x27;Asia&#x27;, &#x27;Barbados&#x27;: &#x27;Americas&#x27;,\n",
       "                                &#x27;Belarus&#x27;: &#x27;Europe&#x27;, &#x27;Belgium&#x27;: &#x27;Europe&#x27;,\n",
       "                                &#x27;Belize&#x27;: &#x27;Americas&#x27;, &#x27;Benin&#x27;: &#x27;Africa&#x27;,\n",
       "                                &#x27;Bermuda&#x27;: &#x27;Americas&#x27;, &#x27;Bhutan&#x27;: &#x27;Asia&#x27;,\n",
       "                                &#x27;Bolivia&#x27;: &#x27;Americas&#x27;,\n",
       "                                &#x27;Bonaire, Sint Eustatius and Saba&#x27;: &#x27;Americas&#x27;,\n",
       "                                &#x27;Bosnia And Herzegovina&#x27;: &#x27;Europe&#x27;,\n",
       "                                &#x27;Botswana&#x27;: &#x27;Africa&#x27;,\n",
       "                                &#x27;Bouvet Island&#x27;: &#x27;Americas&#x27;, ...})</pre></div> </div></div><div class=\"sk-item\"><div class=\"sk-estimator  sk-toggleable\"><input class=\"sk-toggleable__control sk-hidden--visually\" id=\"sk-estimator-id-3\" type=\"checkbox\" ><label for=\"sk-estimator-id-3\" class=\"sk-toggleable__label  sk-toggleable__label-arrow \">WeightEncoder</label><div class=\"sk-toggleable__content \"><pre>WeightEncoder(col_name=&#x27;contry_of_res&#x27;,\n",
       "              weight={&#x27;Afghanistan&#x27;: 0.08430913348946135, &#x27;American Samoa&#x27;: 0.0,\n",
       "                      &#x27;Angola&#x27;: 0.0, &#x27;Argentina&#x27;: 0.0,\n",
       "                      &#x27;Armenia&#x27;: 0.3360655737704918,\n",
       "                      &#x27;Aruba&#x27;: 0.22131147540983606,\n",
       "                      &#x27;Australia&#x27;: 0.6002522068095838,\n",
       "                      &#x27;Austria&#x27;: 0.27322404371584696, &#x27;Azerbaijan&#x27;: 0.0,\n",
       "                      &#x27;Bahamas&#x27;: 0.0, &#x27;Bangladesh&#x27;: 0.0,\n",
       "                      &#x27;Belgium&#x27;: 0.1885245901639344,\n",
       "                      &#x27;Bolivia&#x27;: 0.19672131147540983,\n",
       "                      &#x27;Brazil&#x27;: 0.0942622950819672,\n",
       "                      &#x27;Canada&#x27;: 0.3099850968703428, &#x27;China&#x27;: 0.0,\n",
       "                      &#x27;Costa Rica&#x27;: 0.0, &#x27;Cyprus&#x27;: 0.0, &#x27;Czech Republic&#x27;: 0.0,\n",
       "                      &#x27;Ecuador&#x27;: 0.0, &#x27;Egypt&#x27;: 0.14754098360655737,\n",
       "                      &#x27;Ethiopia&#x27;: 0.23770491803278687, &#x27;Finland&#x27;: 0.0,\n",
       "                      &#x27;France&#x27;: 0.4016393442622951, &#x27;Germany&#x27;: 0.0,\n",
       "                      &#x27;Hong Kong&#x27;: 0.0, &#x27;Iceland&#x27;: 0.0,\n",
       "                      &#x27;India&#x27;: 0.11525086934923, &#x27;Indonesia&#x27;: 0.0, &#x27;Iran&#x27;: 0.0, ...})</pre></div> </div></div><div class=\"sk-item\"><div class=\"sk-estimator  sk-toggleable\"><input class=\"sk-toggleable__control sk-hidden--visually\" id=\"sk-estimator-id-4\" type=\"checkbox\" ><label for=\"sk-estimator-id-4\" class=\"sk-toggleable__label  sk-toggleable__label-arrow \">WeightEncoder</label><div class=\"sk-toggleable__content \"><pre>WeightEncoder(col_name=&#x27;ethnicity&#x27;,\n",
       "              weight={&#x27;?&#x27;: 0.0896488453820315, &#x27;Asian&#x27;: 0.1019268867151105,\n",
       "                      &#x27;Black&#x27;: 0.12000211461053552,\n",
       "                      &#x27;Hispanic&#x27;: 0.06692169329779982,\n",
       "                      &#x27;Latino&#x27;: 0.25963025959999414,\n",
       "                      &#x27;Middle Eastern &#x27;: 0.039126796380351055,\n",
       "                      &#x27;Others&#x27;: 0.07952744161982304,\n",
       "                      &#x27;Pasifika&#x27;: 0.0025829425483361317, &#x27;South Asian&#x27;: 0.0,\n",
       "                      &#x27;Turkish&#x27;: 0.016358636139462177, &#x27;White-European&#x27;: 1.0})</pre></div> </div></div><div class=\"sk-item\"><div class=\"sk-estimator  sk-toggleable\"><input class=\"sk-toggleable__control sk-hidden--visually\" id=\"sk-estimator-id-5\" type=\"checkbox\" ><label for=\"sk-estimator-id-5\" class=\"sk-toggleable__label  sk-toggleable__label-arrow \">WeightEncoder</label><div class=\"sk-toggleable__content \"><pre>WeightEncoder(col_name=&#x27;relation&#x27;,\n",
       "              weight={&#x27;?&#x27;: 0.08534824132308409, &#x27;Health care professional&#x27;: 0.0,\n",
       "                      &#x27;Parent&#x27;: 0.9181603773584907,\n",
       "                      &#x27;Relative&#x27;: 0.18684344722080573, &#x27;Self&#x27;: 1.0})</pre></div> </div></div><div class=\"sk-item\"><div class=\"sk-estimator  sk-toggleable\"><input class=\"sk-toggleable__control sk-hidden--visually\" id=\"sk-estimator-id-6\" type=\"checkbox\" ><label for=\"sk-estimator-id-6\" class=\"sk-toggleable__label  sk-toggleable__label-arrow \">DropperTransformer</label><div class=\"sk-toggleable__content \"><pre>DropperTransformer(features=[&#x27;age_desc&#x27;, &#x27;gender&#x27;, &#x27;used_app_before&#x27;,\n",
       "                             &#x27;contry_of_res&#x27;])</pre></div> </div></div><div class=\"sk-item sk-dashed-wrapped\"><div class=\"sk-label-container\"><div class=\"sk-label  sk-toggleable\"><input class=\"sk-toggleable__control sk-hidden--visually\" id=\"sk-estimator-id-7\" type=\"checkbox\" ><label for=\"sk-estimator-id-7\" class=\"sk-toggleable__label  sk-toggleable__label-arrow \">&nbsp;col_transformer: ColumnTransformer<a class=\"sk-estimator-doc-link \" rel=\"noreferrer\" target=\"_blank\" href=\"https://scikit-learn.org/1.5/modules/generated/sklearn.compose.ColumnTransformer.html\">?<span>Documentation for col_transformer: ColumnTransformer</span></a></label><div class=\"sk-toggleable__content \"><pre>ColumnTransformer(remainder=&#x27;passthrough&#x27;,\n",
       "                  transformers=((&#x27;z_scoring&#x27;, StandardScaler(), [10, 14]),\n",
       "                                (&#x27;binarize&#x27;,\n",
       "                                 OneHotEncoder(drop=&#x27;if_binary&#x27;,\n",
       "                                               sparse_output=False),\n",
       "                                 [12, 13]),\n",
       "                                (&#x27;one_hot&#x27;,\n",
       "                                 OneHotEncoder(handle_unknown=&#x27;ignore&#x27;,\n",
       "                                               sparse_output=False),\n",
       "                                 [11, 15, 16, 17])))</pre></div> </div></div><div class=\"sk-parallel\"><div class=\"sk-parallel-item\"><div class=\"sk-item\"><div class=\"sk-label-container\"><div class=\"sk-label  sk-toggleable\"><input class=\"sk-toggleable__control sk-hidden--visually\" id=\"sk-estimator-id-8\" type=\"checkbox\" ><label for=\"sk-estimator-id-8\" class=\"sk-toggleable__label  sk-toggleable__label-arrow \">z_scoring</label><div class=\"sk-toggleable__content \"><pre>[10, 14]</pre></div> </div></div><div class=\"sk-serial\"><div class=\"sk-item\"><div class=\"sk-estimator  sk-toggleable\"><input class=\"sk-toggleable__control sk-hidden--visually\" id=\"sk-estimator-id-9\" type=\"checkbox\" ><label for=\"sk-estimator-id-9\" class=\"sk-toggleable__label  sk-toggleable__label-arrow \">&nbsp;StandardScaler<a class=\"sk-estimator-doc-link \" rel=\"noreferrer\" target=\"_blank\" href=\"https://scikit-learn.org/1.5/modules/generated/sklearn.preprocessing.StandardScaler.html\">?<span>Documentation for StandardScaler</span></a></label><div class=\"sk-toggleable__content \"><pre>StandardScaler()</pre></div> </div></div></div></div></div><div class=\"sk-parallel-item\"><div class=\"sk-item\"><div class=\"sk-label-container\"><div class=\"sk-label  sk-toggleable\"><input class=\"sk-toggleable__control sk-hidden--visually\" id=\"sk-estimator-id-10\" type=\"checkbox\" ><label for=\"sk-estimator-id-10\" class=\"sk-toggleable__label  sk-toggleable__label-arrow \">binarize</label><div class=\"sk-toggleable__content \"><pre>[12, 13]</pre></div> </div></div><div class=\"sk-serial\"><div class=\"sk-item\"><div class=\"sk-estimator  sk-toggleable\"><input class=\"sk-toggleable__control sk-hidden--visually\" id=\"sk-estimator-id-11\" type=\"checkbox\" ><label for=\"sk-estimator-id-11\" class=\"sk-toggleable__label  sk-toggleable__label-arrow \">&nbsp;OneHotEncoder<a class=\"sk-estimator-doc-link \" rel=\"noreferrer\" target=\"_blank\" href=\"https://scikit-learn.org/1.5/modules/generated/sklearn.preprocessing.OneHotEncoder.html\">?<span>Documentation for OneHotEncoder</span></a></label><div class=\"sk-toggleable__content \"><pre>OneHotEncoder(drop=&#x27;if_binary&#x27;, sparse_output=False)</pre></div> </div></div></div></div></div><div class=\"sk-parallel-item\"><div class=\"sk-item\"><div class=\"sk-label-container\"><div class=\"sk-label  sk-toggleable\"><input class=\"sk-toggleable__control sk-hidden--visually\" id=\"sk-estimator-id-12\" type=\"checkbox\" ><label for=\"sk-estimator-id-12\" class=\"sk-toggleable__label  sk-toggleable__label-arrow \">one_hot</label><div class=\"sk-toggleable__content \"><pre>[11, 15, 16, 17]</pre></div> </div></div><div class=\"sk-serial\"><div class=\"sk-item\"><div class=\"sk-estimator  sk-toggleable\"><input class=\"sk-toggleable__control sk-hidden--visually\" id=\"sk-estimator-id-13\" type=\"checkbox\" ><label for=\"sk-estimator-id-13\" class=\"sk-toggleable__label  sk-toggleable__label-arrow \">&nbsp;OneHotEncoder<a class=\"sk-estimator-doc-link \" rel=\"noreferrer\" target=\"_blank\" href=\"https://scikit-learn.org/1.5/modules/generated/sklearn.preprocessing.OneHotEncoder.html\">?<span>Documentation for OneHotEncoder</span></a></label><div class=\"sk-toggleable__content \"><pre>OneHotEncoder(handle_unknown=&#x27;ignore&#x27;, sparse_output=False)</pre></div> </div></div></div></div></div><div class=\"sk-parallel-item\"><div class=\"sk-item\"><div class=\"sk-label-container\"><div class=\"sk-label  sk-toggleable\"><input class=\"sk-toggleable__control sk-hidden--visually\" id=\"sk-estimator-id-14\" type=\"checkbox\" ><label for=\"sk-estimator-id-14\" class=\"sk-toggleable__label  sk-toggleable__label-arrow \">remainder</label><div class=\"sk-toggleable__content \"><pre></pre></div> </div></div><div class=\"sk-serial\"><div class=\"sk-item\"><div class=\"sk-estimator  sk-toggleable\"><input class=\"sk-toggleable__control sk-hidden--visually\" id=\"sk-estimator-id-15\" type=\"checkbox\" ><label for=\"sk-estimator-id-15\" class=\"sk-toggleable__label  sk-toggleable__label-arrow \">passthrough</label><div class=\"sk-toggleable__content \"><pre>passthrough</pre></div> </div></div></div></div></div></div></div></div></div></div></div>"
      ],
      "text/plain": [
       "Pipeline(steps=(('country',\n",
       "                 ContinentTransformer(continent={'Afghanistan': 'Asia',\n",
       "                                                 'Albania': 'Europe',\n",
       "                                                 'Algeria': 'Africa',\n",
       "                                                 'American Samoa': 'Oceania',\n",
       "                                                 'Andorra': 'Europe',\n",
       "                                                 'Angola': 'Africa',\n",
       "                                                 'Anguilla': 'Americas',\n",
       "                                                 'Antarctica': 'Antarctica',\n",
       "                                                 'Antigua and Barbuda': 'Americas',\n",
       "                                                 'Argentina': 'Americas',\n",
       "                                                 'Armenia': 'Asia',\n",
       "                                                 'Aruba': 'Americas',\n",
       "                                                 'Australia': 'Oceania',\n",
       "                                                 'Austria'...\n",
       "                 DropperTransformer(features=['age_desc', 'gender',\n",
       "                                              'used_app_before',\n",
       "                                              'contry_of_res'])),\n",
       "                ('col_transformer',\n",
       "                 ColumnTransformer(remainder='passthrough',\n",
       "                                   transformers=(('z_scoring', StandardScaler(),\n",
       "                                                  [10, 14]),\n",
       "                                                 ('binarize',\n",
       "                                                  OneHotEncoder(drop='if_binary',\n",
       "                                                                sparse_output=False),\n",
       "                                                  [12, 13]),\n",
       "                                                 ('one_hot',\n",
       "                                                  OneHotEncoder(handle_unknown='ignore',\n",
       "                                                                sparse_output=False),\n",
       "                                                  [11, 15, 16, 17]))))))"
      ]
     },
     "execution_count": 57,
     "metadata": {},
     "output_type": "execute_result"
    }
   ],
   "source": [
    "# =====================================================================\n",
    "# Tuples for Pipeline contain only the 'key' & Transformers\n",
    "# =====================================================================\n",
    "country = ('country', ContinentTransformer(continent = continent)) # creates continent\n",
    "w_country = ('weight_country', WeightEncoder(col_name = 'contry_of_res', weight = weight_country)) # creates w_contry_of_res \n",
    "w_ethnicity = ('weight_ethnicity', WeightEncoder(col_name = 'ethnicity', weight = weight_ethnicity)) # creates w_ethnicity\n",
    "w_relation = ('weight_relation', WeightEncoder(col_name = 'relation', weight = weight_relation)) # creates w_relation\n",
    "#w_age = ('weight_age', WeightEncoder(col_name = 'AgeGroup', weight=weight_AgeGroup)) # creates_w_AgeGroup\n",
    "\n",
    "dropper = ('dropper', DropperTransformer(features = ['age_desc', 'gender', 'used_app_before','contry_of_res']))\n",
    "\n",
    "# =====================================================================\n",
    "# Tuples for ColumnTransformer contain only the 'key',Transformers,col\n",
    "# =====================================================================\n",
    "z_scoring = ('z_scoring', StandardScaler(), [10, 14] ) # age, result\n",
    "binarize = ('binarize', OneHotEncoder(sparse_output=False, drop= 'if_binary'), [12,13] ) # jaundice, austim\n",
    "one_hot =  ('one_hot',  OneHotEncoder(sparse_output=False, handle_unknown='ignore'), [11,15,16,17] ) # ethnicity, relation, AgeGroup, ontinent\n",
    "\n",
    "col_transformer = ColumnTransformer(transformers = (z_scoring, binarize, one_hot), remainder = 'passthrough')\n",
    "\n",
    "col_preprocess = ('col_transformer', col_transformer)\n",
    "\n",
    "preprocess = Pipeline( steps = (country, w_country, w_ethnicity, w_relation, dropper, col_preprocess))\n",
    "preprocess"
   ]
  },
  {
   "cell_type": "code",
   "execution_count": 58,
   "metadata": {
    "execution": {
     "iopub.execute_input": "2022-05-27T18:59:07.860210Z",
     "iopub.status.busy": "2022-05-27T18:59:07.859890Z",
     "iopub.status.idle": "2022-05-27T18:59:07.995504Z",
     "shell.execute_reply": "2022-05-27T18:59:07.994650Z",
     "shell.execute_reply.started": "2022-05-27T18:59:07.860174Z"
    },
    "trusted": true
   },
   "outputs": [
    {
     "name": "stderr",
     "output_type": "stream",
     "text": [
      "C:\\Users\\ASUS\\AppData\\Local\\Temp\\ipykernel_2548\\947416153.py:15: DeprecationWarning: is_categorical_dtype is deprecated and will be removed in a future version. Use isinstance(dtype, pd.CategoricalDtype) instead\n",
      "  if not pd.api.types.is_categorical_dtype(df['contry_of_res']):\n",
      "C:\\Users\\ASUS\\AppData\\Local\\Temp\\ipykernel_2548\\947416153.py:36: DeprecationWarning: is_categorical_dtype is deprecated and will be removed in a future version. Use isinstance(dtype, pd.CategoricalDtype) instead\n",
      "  if not pd.api.types.is_categorical_dtype(df['contry_of_res']):\n"
     ]
    },
    {
     "data": {
      "text/html": [
       "<style>#sk-container-id-2 {\n",
       "  /* Definition of color scheme common for light and dark mode */\n",
       "  --sklearn-color-text: black;\n",
       "  --sklearn-color-line: gray;\n",
       "  /* Definition of color scheme for unfitted estimators */\n",
       "  --sklearn-color-unfitted-level-0: #fff5e6;\n",
       "  --sklearn-color-unfitted-level-1: #f6e4d2;\n",
       "  --sklearn-color-unfitted-level-2: #ffe0b3;\n",
       "  --sklearn-color-unfitted-level-3: chocolate;\n",
       "  /* Definition of color scheme for fitted estimators */\n",
       "  --sklearn-color-fitted-level-0: #f0f8ff;\n",
       "  --sklearn-color-fitted-level-1: #d4ebff;\n",
       "  --sklearn-color-fitted-level-2: #b3dbfd;\n",
       "  --sklearn-color-fitted-level-3: cornflowerblue;\n",
       "\n",
       "  /* Specific color for light theme */\n",
       "  --sklearn-color-text-on-default-background: var(--sg-text-color, var(--theme-code-foreground, var(--jp-content-font-color1, black)));\n",
       "  --sklearn-color-background: var(--sg-background-color, var(--theme-background, var(--jp-layout-color0, white)));\n",
       "  --sklearn-color-border-box: var(--sg-text-color, var(--theme-code-foreground, var(--jp-content-font-color1, black)));\n",
       "  --sklearn-color-icon: #696969;\n",
       "\n",
       "  @media (prefers-color-scheme: dark) {\n",
       "    /* Redefinition of color scheme for dark theme */\n",
       "    --sklearn-color-text-on-default-background: var(--sg-text-color, var(--theme-code-foreground, var(--jp-content-font-color1, white)));\n",
       "    --sklearn-color-background: var(--sg-background-color, var(--theme-background, var(--jp-layout-color0, #111)));\n",
       "    --sklearn-color-border-box: var(--sg-text-color, var(--theme-code-foreground, var(--jp-content-font-color1, white)));\n",
       "    --sklearn-color-icon: #878787;\n",
       "  }\n",
       "}\n",
       "\n",
       "#sk-container-id-2 {\n",
       "  color: var(--sklearn-color-text);\n",
       "}\n",
       "\n",
       "#sk-container-id-2 pre {\n",
       "  padding: 0;\n",
       "}\n",
       "\n",
       "#sk-container-id-2 input.sk-hidden--visually {\n",
       "  border: 0;\n",
       "  clip: rect(1px 1px 1px 1px);\n",
       "  clip: rect(1px, 1px, 1px, 1px);\n",
       "  height: 1px;\n",
       "  margin: -1px;\n",
       "  overflow: hidden;\n",
       "  padding: 0;\n",
       "  position: absolute;\n",
       "  width: 1px;\n",
       "}\n",
       "\n",
       "#sk-container-id-2 div.sk-dashed-wrapped {\n",
       "  border: 1px dashed var(--sklearn-color-line);\n",
       "  margin: 0 0.4em 0.5em 0.4em;\n",
       "  box-sizing: border-box;\n",
       "  padding-bottom: 0.4em;\n",
       "  background-color: var(--sklearn-color-background);\n",
       "}\n",
       "\n",
       "#sk-container-id-2 div.sk-container {\n",
       "  /* jupyter's `normalize.less` sets `[hidden] { display: none; }`\n",
       "     but bootstrap.min.css set `[hidden] { display: none !important; }`\n",
       "     so we also need the `!important` here to be able to override the\n",
       "     default hidden behavior on the sphinx rendered scikit-learn.org.\n",
       "     See: https://github.com/scikit-learn/scikit-learn/issues/21755 */\n",
       "  display: inline-block !important;\n",
       "  position: relative;\n",
       "}\n",
       "\n",
       "#sk-container-id-2 div.sk-text-repr-fallback {\n",
       "  display: none;\n",
       "}\n",
       "\n",
       "div.sk-parallel-item,\n",
       "div.sk-serial,\n",
       "div.sk-item {\n",
       "  /* draw centered vertical line to link estimators */\n",
       "  background-image: linear-gradient(var(--sklearn-color-text-on-default-background), var(--sklearn-color-text-on-default-background));\n",
       "  background-size: 2px 100%;\n",
       "  background-repeat: no-repeat;\n",
       "  background-position: center center;\n",
       "}\n",
       "\n",
       "/* Parallel-specific style estimator block */\n",
       "\n",
       "#sk-container-id-2 div.sk-parallel-item::after {\n",
       "  content: \"\";\n",
       "  width: 100%;\n",
       "  border-bottom: 2px solid var(--sklearn-color-text-on-default-background);\n",
       "  flex-grow: 1;\n",
       "}\n",
       "\n",
       "#sk-container-id-2 div.sk-parallel {\n",
       "  display: flex;\n",
       "  align-items: stretch;\n",
       "  justify-content: center;\n",
       "  background-color: var(--sklearn-color-background);\n",
       "  position: relative;\n",
       "}\n",
       "\n",
       "#sk-container-id-2 div.sk-parallel-item {\n",
       "  display: flex;\n",
       "  flex-direction: column;\n",
       "}\n",
       "\n",
       "#sk-container-id-2 div.sk-parallel-item:first-child::after {\n",
       "  align-self: flex-end;\n",
       "  width: 50%;\n",
       "}\n",
       "\n",
       "#sk-container-id-2 div.sk-parallel-item:last-child::after {\n",
       "  align-self: flex-start;\n",
       "  width: 50%;\n",
       "}\n",
       "\n",
       "#sk-container-id-2 div.sk-parallel-item:only-child::after {\n",
       "  width: 0;\n",
       "}\n",
       "\n",
       "/* Serial-specific style estimator block */\n",
       "\n",
       "#sk-container-id-2 div.sk-serial {\n",
       "  display: flex;\n",
       "  flex-direction: column;\n",
       "  align-items: center;\n",
       "  background-color: var(--sklearn-color-background);\n",
       "  padding-right: 1em;\n",
       "  padding-left: 1em;\n",
       "}\n",
       "\n",
       "\n",
       "/* Toggleable style: style used for estimator/Pipeline/ColumnTransformer box that is\n",
       "clickable and can be expanded/collapsed.\n",
       "- Pipeline and ColumnTransformer use this feature and define the default style\n",
       "- Estimators will overwrite some part of the style using the `sk-estimator` class\n",
       "*/\n",
       "\n",
       "/* Pipeline and ColumnTransformer style (default) */\n",
       "\n",
       "#sk-container-id-2 div.sk-toggleable {\n",
       "  /* Default theme specific background. It is overwritten whether we have a\n",
       "  specific estimator or a Pipeline/ColumnTransformer */\n",
       "  background-color: var(--sklearn-color-background);\n",
       "}\n",
       "\n",
       "/* Toggleable label */\n",
       "#sk-container-id-2 label.sk-toggleable__label {\n",
       "  cursor: pointer;\n",
       "  display: block;\n",
       "  width: 100%;\n",
       "  margin-bottom: 0;\n",
       "  padding: 0.5em;\n",
       "  box-sizing: border-box;\n",
       "  text-align: center;\n",
       "}\n",
       "\n",
       "#sk-container-id-2 label.sk-toggleable__label-arrow:before {\n",
       "  /* Arrow on the left of the label */\n",
       "  content: \"▸\";\n",
       "  float: left;\n",
       "  margin-right: 0.25em;\n",
       "  color: var(--sklearn-color-icon);\n",
       "}\n",
       "\n",
       "#sk-container-id-2 label.sk-toggleable__label-arrow:hover:before {\n",
       "  color: var(--sklearn-color-text);\n",
       "}\n",
       "\n",
       "/* Toggleable content - dropdown */\n",
       "\n",
       "#sk-container-id-2 div.sk-toggleable__content {\n",
       "  max-height: 0;\n",
       "  max-width: 0;\n",
       "  overflow: hidden;\n",
       "  text-align: left;\n",
       "  /* unfitted */\n",
       "  background-color: var(--sklearn-color-unfitted-level-0);\n",
       "}\n",
       "\n",
       "#sk-container-id-2 div.sk-toggleable__content.fitted {\n",
       "  /* fitted */\n",
       "  background-color: var(--sklearn-color-fitted-level-0);\n",
       "}\n",
       "\n",
       "#sk-container-id-2 div.sk-toggleable__content pre {\n",
       "  margin: 0.2em;\n",
       "  border-radius: 0.25em;\n",
       "  color: var(--sklearn-color-text);\n",
       "  /* unfitted */\n",
       "  background-color: var(--sklearn-color-unfitted-level-0);\n",
       "}\n",
       "\n",
       "#sk-container-id-2 div.sk-toggleable__content.fitted pre {\n",
       "  /* unfitted */\n",
       "  background-color: var(--sklearn-color-fitted-level-0);\n",
       "}\n",
       "\n",
       "#sk-container-id-2 input.sk-toggleable__control:checked~div.sk-toggleable__content {\n",
       "  /* Expand drop-down */\n",
       "  max-height: 200px;\n",
       "  max-width: 100%;\n",
       "  overflow: auto;\n",
       "}\n",
       "\n",
       "#sk-container-id-2 input.sk-toggleable__control:checked~label.sk-toggleable__label-arrow:before {\n",
       "  content: \"▾\";\n",
       "}\n",
       "\n",
       "/* Pipeline/ColumnTransformer-specific style */\n",
       "\n",
       "#sk-container-id-2 div.sk-label input.sk-toggleable__control:checked~label.sk-toggleable__label {\n",
       "  color: var(--sklearn-color-text);\n",
       "  background-color: var(--sklearn-color-unfitted-level-2);\n",
       "}\n",
       "\n",
       "#sk-container-id-2 div.sk-label.fitted input.sk-toggleable__control:checked~label.sk-toggleable__label {\n",
       "  background-color: var(--sklearn-color-fitted-level-2);\n",
       "}\n",
       "\n",
       "/* Estimator-specific style */\n",
       "\n",
       "/* Colorize estimator box */\n",
       "#sk-container-id-2 div.sk-estimator input.sk-toggleable__control:checked~label.sk-toggleable__label {\n",
       "  /* unfitted */\n",
       "  background-color: var(--sklearn-color-unfitted-level-2);\n",
       "}\n",
       "\n",
       "#sk-container-id-2 div.sk-estimator.fitted input.sk-toggleable__control:checked~label.sk-toggleable__label {\n",
       "  /* fitted */\n",
       "  background-color: var(--sklearn-color-fitted-level-2);\n",
       "}\n",
       "\n",
       "#sk-container-id-2 div.sk-label label.sk-toggleable__label,\n",
       "#sk-container-id-2 div.sk-label label {\n",
       "  /* The background is the default theme color */\n",
       "  color: var(--sklearn-color-text-on-default-background);\n",
       "}\n",
       "\n",
       "/* On hover, darken the color of the background */\n",
       "#sk-container-id-2 div.sk-label:hover label.sk-toggleable__label {\n",
       "  color: var(--sklearn-color-text);\n",
       "  background-color: var(--sklearn-color-unfitted-level-2);\n",
       "}\n",
       "\n",
       "/* Label box, darken color on hover, fitted */\n",
       "#sk-container-id-2 div.sk-label.fitted:hover label.sk-toggleable__label.fitted {\n",
       "  color: var(--sklearn-color-text);\n",
       "  background-color: var(--sklearn-color-fitted-level-2);\n",
       "}\n",
       "\n",
       "/* Estimator label */\n",
       "\n",
       "#sk-container-id-2 div.sk-label label {\n",
       "  font-family: monospace;\n",
       "  font-weight: bold;\n",
       "  display: inline-block;\n",
       "  line-height: 1.2em;\n",
       "}\n",
       "\n",
       "#sk-container-id-2 div.sk-label-container {\n",
       "  text-align: center;\n",
       "}\n",
       "\n",
       "/* Estimator-specific */\n",
       "#sk-container-id-2 div.sk-estimator {\n",
       "  font-family: monospace;\n",
       "  border: 1px dotted var(--sklearn-color-border-box);\n",
       "  border-radius: 0.25em;\n",
       "  box-sizing: border-box;\n",
       "  margin-bottom: 0.5em;\n",
       "  /* unfitted */\n",
       "  background-color: var(--sklearn-color-unfitted-level-0);\n",
       "}\n",
       "\n",
       "#sk-container-id-2 div.sk-estimator.fitted {\n",
       "  /* fitted */\n",
       "  background-color: var(--sklearn-color-fitted-level-0);\n",
       "}\n",
       "\n",
       "/* on hover */\n",
       "#sk-container-id-2 div.sk-estimator:hover {\n",
       "  /* unfitted */\n",
       "  background-color: var(--sklearn-color-unfitted-level-2);\n",
       "}\n",
       "\n",
       "#sk-container-id-2 div.sk-estimator.fitted:hover {\n",
       "  /* fitted */\n",
       "  background-color: var(--sklearn-color-fitted-level-2);\n",
       "}\n",
       "\n",
       "/* Specification for estimator info (e.g. \"i\" and \"?\") */\n",
       "\n",
       "/* Common style for \"i\" and \"?\" */\n",
       "\n",
       ".sk-estimator-doc-link,\n",
       "a:link.sk-estimator-doc-link,\n",
       "a:visited.sk-estimator-doc-link {\n",
       "  float: right;\n",
       "  font-size: smaller;\n",
       "  line-height: 1em;\n",
       "  font-family: monospace;\n",
       "  background-color: var(--sklearn-color-background);\n",
       "  border-radius: 1em;\n",
       "  height: 1em;\n",
       "  width: 1em;\n",
       "  text-decoration: none !important;\n",
       "  margin-left: 1ex;\n",
       "  /* unfitted */\n",
       "  border: var(--sklearn-color-unfitted-level-1) 1pt solid;\n",
       "  color: var(--sklearn-color-unfitted-level-1);\n",
       "}\n",
       "\n",
       ".sk-estimator-doc-link.fitted,\n",
       "a:link.sk-estimator-doc-link.fitted,\n",
       "a:visited.sk-estimator-doc-link.fitted {\n",
       "  /* fitted */\n",
       "  border: var(--sklearn-color-fitted-level-1) 1pt solid;\n",
       "  color: var(--sklearn-color-fitted-level-1);\n",
       "}\n",
       "\n",
       "/* On hover */\n",
       "div.sk-estimator:hover .sk-estimator-doc-link:hover,\n",
       ".sk-estimator-doc-link:hover,\n",
       "div.sk-label-container:hover .sk-estimator-doc-link:hover,\n",
       ".sk-estimator-doc-link:hover {\n",
       "  /* unfitted */\n",
       "  background-color: var(--sklearn-color-unfitted-level-3);\n",
       "  color: var(--sklearn-color-background);\n",
       "  text-decoration: none;\n",
       "}\n",
       "\n",
       "div.sk-estimator.fitted:hover .sk-estimator-doc-link.fitted:hover,\n",
       ".sk-estimator-doc-link.fitted:hover,\n",
       "div.sk-label-container:hover .sk-estimator-doc-link.fitted:hover,\n",
       ".sk-estimator-doc-link.fitted:hover {\n",
       "  /* fitted */\n",
       "  background-color: var(--sklearn-color-fitted-level-3);\n",
       "  color: var(--sklearn-color-background);\n",
       "  text-decoration: none;\n",
       "}\n",
       "\n",
       "/* Span, style for the box shown on hovering the info icon */\n",
       ".sk-estimator-doc-link span {\n",
       "  display: none;\n",
       "  z-index: 9999;\n",
       "  position: relative;\n",
       "  font-weight: normal;\n",
       "  right: .2ex;\n",
       "  padding: .5ex;\n",
       "  margin: .5ex;\n",
       "  width: min-content;\n",
       "  min-width: 20ex;\n",
       "  max-width: 50ex;\n",
       "  color: var(--sklearn-color-text);\n",
       "  box-shadow: 2pt 2pt 4pt #999;\n",
       "  /* unfitted */\n",
       "  background: var(--sklearn-color-unfitted-level-0);\n",
       "  border: .5pt solid var(--sklearn-color-unfitted-level-3);\n",
       "}\n",
       "\n",
       ".sk-estimator-doc-link.fitted span {\n",
       "  /* fitted */\n",
       "  background: var(--sklearn-color-fitted-level-0);\n",
       "  border: var(--sklearn-color-fitted-level-3);\n",
       "}\n",
       "\n",
       ".sk-estimator-doc-link:hover span {\n",
       "  display: block;\n",
       "}\n",
       "\n",
       "/* \"?\"-specific style due to the `<a>` HTML tag */\n",
       "\n",
       "#sk-container-id-2 a.estimator_doc_link {\n",
       "  float: right;\n",
       "  font-size: 1rem;\n",
       "  line-height: 1em;\n",
       "  font-family: monospace;\n",
       "  background-color: var(--sklearn-color-background);\n",
       "  border-radius: 1rem;\n",
       "  height: 1rem;\n",
       "  width: 1rem;\n",
       "  text-decoration: none;\n",
       "  /* unfitted */\n",
       "  color: var(--sklearn-color-unfitted-level-1);\n",
       "  border: var(--sklearn-color-unfitted-level-1) 1pt solid;\n",
       "}\n",
       "\n",
       "#sk-container-id-2 a.estimator_doc_link.fitted {\n",
       "  /* fitted */\n",
       "  border: var(--sklearn-color-fitted-level-1) 1pt solid;\n",
       "  color: var(--sklearn-color-fitted-level-1);\n",
       "}\n",
       "\n",
       "/* On hover */\n",
       "#sk-container-id-2 a.estimator_doc_link:hover {\n",
       "  /* unfitted */\n",
       "  background-color: var(--sklearn-color-unfitted-level-3);\n",
       "  color: var(--sklearn-color-background);\n",
       "  text-decoration: none;\n",
       "}\n",
       "\n",
       "#sk-container-id-2 a.estimator_doc_link.fitted:hover {\n",
       "  /* fitted */\n",
       "  background-color: var(--sklearn-color-fitted-level-3);\n",
       "}\n",
       "</style><div id=\"sk-container-id-2\" class=\"sk-top-container\"><div class=\"sk-text-repr-fallback\"><pre>Pipeline(steps=[(&#x27;country&#x27;,\n",
       "                 ContinentTransformer(continent={&#x27;Afghanistan&#x27;: &#x27;Asia&#x27;,\n",
       "                                                 &#x27;Albania&#x27;: &#x27;Europe&#x27;,\n",
       "                                                 &#x27;Algeria&#x27;: &#x27;Africa&#x27;,\n",
       "                                                 &#x27;American Samoa&#x27;: &#x27;Oceania&#x27;,\n",
       "                                                 &#x27;Andorra&#x27;: &#x27;Europe&#x27;,\n",
       "                                                 &#x27;Angola&#x27;: &#x27;Africa&#x27;,\n",
       "                                                 &#x27;Anguilla&#x27;: &#x27;Americas&#x27;,\n",
       "                                                 &#x27;Antarctica&#x27;: &#x27;Antarctica&#x27;,\n",
       "                                                 &#x27;Antigua and Barbuda&#x27;: &#x27;Americas&#x27;,\n",
       "                                                 &#x27;Argentina&#x27;: &#x27;Americas&#x27;,\n",
       "                                                 &#x27;Armenia&#x27;: &#x27;Asia&#x27;,\n",
       "                                                 &#x27;Aruba&#x27;: &#x27;Americas&#x27;,\n",
       "                                                 &#x27;Australia&#x27;: &#x27;Oceania&#x27;,\n",
       "                                                 &#x27;Austria&#x27;...\n",
       "                 DropperTransformer(features=[&#x27;age_desc&#x27;, &#x27;gender&#x27;,\n",
       "                                              &#x27;used_app_before&#x27;,\n",
       "                                              &#x27;contry_of_res&#x27;])),\n",
       "                (&#x27;col_transformer&#x27;,\n",
       "                 ColumnTransformer(remainder=&#x27;passthrough&#x27;,\n",
       "                                   transformers=((&#x27;z_scoring&#x27;, StandardScaler(),\n",
       "                                                  [10, 14]),\n",
       "                                                 (&#x27;binarize&#x27;,\n",
       "                                                  OneHotEncoder(drop=&#x27;if_binary&#x27;,\n",
       "                                                                sparse_output=False),\n",
       "                                                  [12, 13]),\n",
       "                                                 (&#x27;one_hot&#x27;,\n",
       "                                                  OneHotEncoder(handle_unknown=&#x27;ignore&#x27;,\n",
       "                                                                sparse_output=False),\n",
       "                                                  [11, 15, 16, 17]))))])</pre><b>In a Jupyter environment, please rerun this cell to show the HTML representation or trust the notebook. <br />On GitHub, the HTML representation is unable to render, please try loading this page with nbviewer.org.</b></div><div class=\"sk-container\" hidden><div class=\"sk-item sk-dashed-wrapped\"><div class=\"sk-label-container\"><div class=\"sk-label fitted sk-toggleable\"><input class=\"sk-toggleable__control sk-hidden--visually\" id=\"sk-estimator-id-16\" type=\"checkbox\" ><label for=\"sk-estimator-id-16\" class=\"sk-toggleable__label fitted sk-toggleable__label-arrow fitted\">&nbsp;&nbsp;Pipeline<a class=\"sk-estimator-doc-link fitted\" rel=\"noreferrer\" target=\"_blank\" href=\"https://scikit-learn.org/1.5/modules/generated/sklearn.pipeline.Pipeline.html\">?<span>Documentation for Pipeline</span></a><span class=\"sk-estimator-doc-link fitted\">i<span>Fitted</span></span></label><div class=\"sk-toggleable__content fitted\"><pre>Pipeline(steps=[(&#x27;country&#x27;,\n",
       "                 ContinentTransformer(continent={&#x27;Afghanistan&#x27;: &#x27;Asia&#x27;,\n",
       "                                                 &#x27;Albania&#x27;: &#x27;Europe&#x27;,\n",
       "                                                 &#x27;Algeria&#x27;: &#x27;Africa&#x27;,\n",
       "                                                 &#x27;American Samoa&#x27;: &#x27;Oceania&#x27;,\n",
       "                                                 &#x27;Andorra&#x27;: &#x27;Europe&#x27;,\n",
       "                                                 &#x27;Angola&#x27;: &#x27;Africa&#x27;,\n",
       "                                                 &#x27;Anguilla&#x27;: &#x27;Americas&#x27;,\n",
       "                                                 &#x27;Antarctica&#x27;: &#x27;Antarctica&#x27;,\n",
       "                                                 &#x27;Antigua and Barbuda&#x27;: &#x27;Americas&#x27;,\n",
       "                                                 &#x27;Argentina&#x27;: &#x27;Americas&#x27;,\n",
       "                                                 &#x27;Armenia&#x27;: &#x27;Asia&#x27;,\n",
       "                                                 &#x27;Aruba&#x27;: &#x27;Americas&#x27;,\n",
       "                                                 &#x27;Australia&#x27;: &#x27;Oceania&#x27;,\n",
       "                                                 &#x27;Austria&#x27;...\n",
       "                 DropperTransformer(features=[&#x27;age_desc&#x27;, &#x27;gender&#x27;,\n",
       "                                              &#x27;used_app_before&#x27;,\n",
       "                                              &#x27;contry_of_res&#x27;])),\n",
       "                (&#x27;col_transformer&#x27;,\n",
       "                 ColumnTransformer(remainder=&#x27;passthrough&#x27;,\n",
       "                                   transformers=((&#x27;z_scoring&#x27;, StandardScaler(),\n",
       "                                                  [10, 14]),\n",
       "                                                 (&#x27;binarize&#x27;,\n",
       "                                                  OneHotEncoder(drop=&#x27;if_binary&#x27;,\n",
       "                                                                sparse_output=False),\n",
       "                                                  [12, 13]),\n",
       "                                                 (&#x27;one_hot&#x27;,\n",
       "                                                  OneHotEncoder(handle_unknown=&#x27;ignore&#x27;,\n",
       "                                                                sparse_output=False),\n",
       "                                                  [11, 15, 16, 17]))))])</pre></div> </div></div><div class=\"sk-serial\"><div class=\"sk-item\"><div class=\"sk-estimator fitted sk-toggleable\"><input class=\"sk-toggleable__control sk-hidden--visually\" id=\"sk-estimator-id-17\" type=\"checkbox\" ><label for=\"sk-estimator-id-17\" class=\"sk-toggleable__label fitted sk-toggleable__label-arrow fitted\">ContinentTransformer</label><div class=\"sk-toggleable__content fitted\"><pre>ContinentTransformer(continent={&#x27;Afghanistan&#x27;: &#x27;Asia&#x27;, &#x27;Albania&#x27;: &#x27;Europe&#x27;,\n",
       "                                &#x27;Algeria&#x27;: &#x27;Africa&#x27;,\n",
       "                                &#x27;American Samoa&#x27;: &#x27;Oceania&#x27;,\n",
       "                                &#x27;Andorra&#x27;: &#x27;Europe&#x27;, &#x27;Angola&#x27;: &#x27;Africa&#x27;,\n",
       "                                &#x27;Anguilla&#x27;: &#x27;Americas&#x27;,\n",
       "                                &#x27;Antarctica&#x27;: &#x27;Antarctica&#x27;,\n",
       "                                &#x27;Antigua and Barbuda&#x27;: &#x27;Americas&#x27;,\n",
       "                                &#x27;Argentina&#x27;: &#x27;Americas&#x27;, &#x27;Armenia&#x27;: &#x27;Asia&#x27;,\n",
       "                                &#x27;Aruba&#x27;: &#x27;Americas&#x27;, &#x27;Australia&#x27;: &#x27;Oceania&#x27;,\n",
       "                                &#x27;Austria&#x27;: &#x27;Europe&#x27;, &#x27;Azerbaijan&#x27;: &#x27;Asia&#x27;,\n",
       "                                &#x27;Bahamas&#x27;: &#x27;Americas&#x27;, &#x27;Bahrain&#x27;: &#x27;Asia&#x27;,\n",
       "                                &#x27;Bangladesh&#x27;: &#x27;Asia&#x27;, &#x27;Barbados&#x27;: &#x27;Americas&#x27;,\n",
       "                                &#x27;Belarus&#x27;: &#x27;Europe&#x27;, &#x27;Belgium&#x27;: &#x27;Europe&#x27;,\n",
       "                                &#x27;Belize&#x27;: &#x27;Americas&#x27;, &#x27;Benin&#x27;: &#x27;Africa&#x27;,\n",
       "                                &#x27;Bermuda&#x27;: &#x27;Americas&#x27;, &#x27;Bhutan&#x27;: &#x27;Asia&#x27;,\n",
       "                                &#x27;Bolivia&#x27;: &#x27;Americas&#x27;,\n",
       "                                &#x27;Bonaire, Sint Eustatius and Saba&#x27;: &#x27;Americas&#x27;,\n",
       "                                &#x27;Bosnia And Herzegovina&#x27;: &#x27;Europe&#x27;,\n",
       "                                &#x27;Botswana&#x27;: &#x27;Africa&#x27;,\n",
       "                                &#x27;Bouvet Island&#x27;: &#x27;Americas&#x27;, ...})</pre></div> </div></div><div class=\"sk-item\"><div class=\"sk-estimator fitted sk-toggleable\"><input class=\"sk-toggleable__control sk-hidden--visually\" id=\"sk-estimator-id-18\" type=\"checkbox\" ><label for=\"sk-estimator-id-18\" class=\"sk-toggleable__label fitted sk-toggleable__label-arrow fitted\">WeightEncoder</label><div class=\"sk-toggleable__content fitted\"><pre>WeightEncoder(col_name=&#x27;contry_of_res&#x27;,\n",
       "              weight={&#x27;Afghanistan&#x27;: 0.08430913348946135, &#x27;American Samoa&#x27;: 0.0,\n",
       "                      &#x27;Angola&#x27;: 0.0, &#x27;Argentina&#x27;: 0.0,\n",
       "                      &#x27;Armenia&#x27;: 0.3360655737704918,\n",
       "                      &#x27;Aruba&#x27;: 0.22131147540983606,\n",
       "                      &#x27;Australia&#x27;: 0.6002522068095838,\n",
       "                      &#x27;Austria&#x27;: 0.27322404371584696, &#x27;Azerbaijan&#x27;: 0.0,\n",
       "                      &#x27;Bahamas&#x27;: 0.0, &#x27;Bangladesh&#x27;: 0.0,\n",
       "                      &#x27;Belgium&#x27;: 0.1885245901639344,\n",
       "                      &#x27;Bolivia&#x27;: 0.19672131147540983,\n",
       "                      &#x27;Brazil&#x27;: 0.0942622950819672,\n",
       "                      &#x27;Canada&#x27;: 0.3099850968703428, &#x27;China&#x27;: 0.0,\n",
       "                      &#x27;Costa Rica&#x27;: 0.0, &#x27;Cyprus&#x27;: 0.0, &#x27;Czech Republic&#x27;: 0.0,\n",
       "                      &#x27;Ecuador&#x27;: 0.0, &#x27;Egypt&#x27;: 0.14754098360655737,\n",
       "                      &#x27;Ethiopia&#x27;: 0.23770491803278687, &#x27;Finland&#x27;: 0.0,\n",
       "                      &#x27;France&#x27;: 0.4016393442622951, &#x27;Germany&#x27;: 0.0,\n",
       "                      &#x27;Hong Kong&#x27;: 0.0, &#x27;Iceland&#x27;: 0.0,\n",
       "                      &#x27;India&#x27;: 0.11525086934923, &#x27;Indonesia&#x27;: 0.0, &#x27;Iran&#x27;: 0.0, ...})</pre></div> </div></div><div class=\"sk-item\"><div class=\"sk-estimator fitted sk-toggleable\"><input class=\"sk-toggleable__control sk-hidden--visually\" id=\"sk-estimator-id-19\" type=\"checkbox\" ><label for=\"sk-estimator-id-19\" class=\"sk-toggleable__label fitted sk-toggleable__label-arrow fitted\">WeightEncoder</label><div class=\"sk-toggleable__content fitted\"><pre>WeightEncoder(col_name=&#x27;ethnicity&#x27;,\n",
       "              weight={&#x27;?&#x27;: 0.0896488453820315, &#x27;Asian&#x27;: 0.1019268867151105,\n",
       "                      &#x27;Black&#x27;: 0.12000211461053552,\n",
       "                      &#x27;Hispanic&#x27;: 0.06692169329779982,\n",
       "                      &#x27;Latino&#x27;: 0.25963025959999414,\n",
       "                      &#x27;Middle Eastern &#x27;: 0.039126796380351055,\n",
       "                      &#x27;Others&#x27;: 0.07952744161982304,\n",
       "                      &#x27;Pasifika&#x27;: 0.0025829425483361317, &#x27;South Asian&#x27;: 0.0,\n",
       "                      &#x27;Turkish&#x27;: 0.016358636139462177, &#x27;White-European&#x27;: 1.0})</pre></div> </div></div><div class=\"sk-item\"><div class=\"sk-estimator fitted sk-toggleable\"><input class=\"sk-toggleable__control sk-hidden--visually\" id=\"sk-estimator-id-20\" type=\"checkbox\" ><label for=\"sk-estimator-id-20\" class=\"sk-toggleable__label fitted sk-toggleable__label-arrow fitted\">WeightEncoder</label><div class=\"sk-toggleable__content fitted\"><pre>WeightEncoder(col_name=&#x27;relation&#x27;,\n",
       "              weight={&#x27;?&#x27;: 0.08534824132308409, &#x27;Health care professional&#x27;: 0.0,\n",
       "                      &#x27;Parent&#x27;: 0.9181603773584907,\n",
       "                      &#x27;Relative&#x27;: 0.18684344722080573, &#x27;Self&#x27;: 1.0})</pre></div> </div></div><div class=\"sk-item\"><div class=\"sk-estimator fitted sk-toggleable\"><input class=\"sk-toggleable__control sk-hidden--visually\" id=\"sk-estimator-id-21\" type=\"checkbox\" ><label for=\"sk-estimator-id-21\" class=\"sk-toggleable__label fitted sk-toggleable__label-arrow fitted\">DropperTransformer</label><div class=\"sk-toggleable__content fitted\"><pre>DropperTransformer(features=[&#x27;age_desc&#x27;, &#x27;gender&#x27;, &#x27;used_app_before&#x27;,\n",
       "                             &#x27;contry_of_res&#x27;])</pre></div> </div></div><div class=\"sk-item sk-dashed-wrapped\"><div class=\"sk-label-container\"><div class=\"sk-label fitted sk-toggleable\"><input class=\"sk-toggleable__control sk-hidden--visually\" id=\"sk-estimator-id-22\" type=\"checkbox\" ><label for=\"sk-estimator-id-22\" class=\"sk-toggleable__label fitted sk-toggleable__label-arrow fitted\">&nbsp;col_transformer: ColumnTransformer<a class=\"sk-estimator-doc-link fitted\" rel=\"noreferrer\" target=\"_blank\" href=\"https://scikit-learn.org/1.5/modules/generated/sklearn.compose.ColumnTransformer.html\">?<span>Documentation for col_transformer: ColumnTransformer</span></a></label><div class=\"sk-toggleable__content fitted\"><pre>ColumnTransformer(remainder=&#x27;passthrough&#x27;,\n",
       "                  transformers=((&#x27;z_scoring&#x27;, StandardScaler(), [10, 14]),\n",
       "                                (&#x27;binarize&#x27;,\n",
       "                                 OneHotEncoder(drop=&#x27;if_binary&#x27;,\n",
       "                                               sparse_output=False),\n",
       "                                 [12, 13]),\n",
       "                                (&#x27;one_hot&#x27;,\n",
       "                                 OneHotEncoder(handle_unknown=&#x27;ignore&#x27;,\n",
       "                                               sparse_output=False),\n",
       "                                 [11, 15, 16, 17])))</pre></div> </div></div><div class=\"sk-parallel\"><div class=\"sk-parallel-item\"><div class=\"sk-item\"><div class=\"sk-label-container\"><div class=\"sk-label fitted sk-toggleable\"><input class=\"sk-toggleable__control sk-hidden--visually\" id=\"sk-estimator-id-23\" type=\"checkbox\" ><label for=\"sk-estimator-id-23\" class=\"sk-toggleable__label fitted sk-toggleable__label-arrow fitted\">z_scoring</label><div class=\"sk-toggleable__content fitted\"><pre>[10, 14]</pre></div> </div></div><div class=\"sk-serial\"><div class=\"sk-item\"><div class=\"sk-estimator fitted sk-toggleable\"><input class=\"sk-toggleable__control sk-hidden--visually\" id=\"sk-estimator-id-24\" type=\"checkbox\" ><label for=\"sk-estimator-id-24\" class=\"sk-toggleable__label fitted sk-toggleable__label-arrow fitted\">&nbsp;StandardScaler<a class=\"sk-estimator-doc-link fitted\" rel=\"noreferrer\" target=\"_blank\" href=\"https://scikit-learn.org/1.5/modules/generated/sklearn.preprocessing.StandardScaler.html\">?<span>Documentation for StandardScaler</span></a></label><div class=\"sk-toggleable__content fitted\"><pre>StandardScaler()</pre></div> </div></div></div></div></div><div class=\"sk-parallel-item\"><div class=\"sk-item\"><div class=\"sk-label-container\"><div class=\"sk-label fitted sk-toggleable\"><input class=\"sk-toggleable__control sk-hidden--visually\" id=\"sk-estimator-id-25\" type=\"checkbox\" ><label for=\"sk-estimator-id-25\" class=\"sk-toggleable__label fitted sk-toggleable__label-arrow fitted\">binarize</label><div class=\"sk-toggleable__content fitted\"><pre>[12, 13]</pre></div> </div></div><div class=\"sk-serial\"><div class=\"sk-item\"><div class=\"sk-estimator fitted sk-toggleable\"><input class=\"sk-toggleable__control sk-hidden--visually\" id=\"sk-estimator-id-26\" type=\"checkbox\" ><label for=\"sk-estimator-id-26\" class=\"sk-toggleable__label fitted sk-toggleable__label-arrow fitted\">&nbsp;OneHotEncoder<a class=\"sk-estimator-doc-link fitted\" rel=\"noreferrer\" target=\"_blank\" href=\"https://scikit-learn.org/1.5/modules/generated/sklearn.preprocessing.OneHotEncoder.html\">?<span>Documentation for OneHotEncoder</span></a></label><div class=\"sk-toggleable__content fitted\"><pre>OneHotEncoder(drop=&#x27;if_binary&#x27;, sparse_output=False)</pre></div> </div></div></div></div></div><div class=\"sk-parallel-item\"><div class=\"sk-item\"><div class=\"sk-label-container\"><div class=\"sk-label fitted sk-toggleable\"><input class=\"sk-toggleable__control sk-hidden--visually\" id=\"sk-estimator-id-27\" type=\"checkbox\" ><label for=\"sk-estimator-id-27\" class=\"sk-toggleable__label fitted sk-toggleable__label-arrow fitted\">one_hot</label><div class=\"sk-toggleable__content fitted\"><pre>[11, 15, 16, 17]</pre></div> </div></div><div class=\"sk-serial\"><div class=\"sk-item\"><div class=\"sk-estimator fitted sk-toggleable\"><input class=\"sk-toggleable__control sk-hidden--visually\" id=\"sk-estimator-id-28\" type=\"checkbox\" ><label for=\"sk-estimator-id-28\" class=\"sk-toggleable__label fitted sk-toggleable__label-arrow fitted\">&nbsp;OneHotEncoder<a class=\"sk-estimator-doc-link fitted\" rel=\"noreferrer\" target=\"_blank\" href=\"https://scikit-learn.org/1.5/modules/generated/sklearn.preprocessing.OneHotEncoder.html\">?<span>Documentation for OneHotEncoder</span></a></label><div class=\"sk-toggleable__content fitted\"><pre>OneHotEncoder(handle_unknown=&#x27;ignore&#x27;, sparse_output=False)</pre></div> </div></div></div></div></div><div class=\"sk-parallel-item\"><div class=\"sk-item\"><div class=\"sk-label-container\"><div class=\"sk-label fitted sk-toggleable\"><input class=\"sk-toggleable__control sk-hidden--visually\" id=\"sk-estimator-id-29\" type=\"checkbox\" ><label for=\"sk-estimator-id-29\" class=\"sk-toggleable__label fitted sk-toggleable__label-arrow fitted\">remainder</label><div class=\"sk-toggleable__content fitted\"><pre>[&#x27;A1_Score&#x27;, &#x27;A2_Score&#x27;, &#x27;A3_Score&#x27;, &#x27;A4_Score&#x27;, &#x27;A5_Score&#x27;, &#x27;A6_Score&#x27;, &#x27;A7_Score&#x27;, &#x27;A8_Score&#x27;, &#x27;A9_Score&#x27;, &#x27;A10_Score&#x27;, &#x27;w_contry_of_res&#x27;, &#x27;w_ethnicity&#x27;, &#x27;w_relation&#x27;]</pre></div> </div></div><div class=\"sk-serial\"><div class=\"sk-item\"><div class=\"sk-estimator fitted sk-toggleable\"><input class=\"sk-toggleable__control sk-hidden--visually\" id=\"sk-estimator-id-30\" type=\"checkbox\" ><label for=\"sk-estimator-id-30\" class=\"sk-toggleable__label fitted sk-toggleable__label-arrow fitted\">passthrough</label><div class=\"sk-toggleable__content fitted\"><pre>passthrough</pre></div> </div></div></div></div></div></div></div></div></div></div></div>"
      ],
      "text/plain": [
       "Pipeline(steps=[('country',\n",
       "                 ContinentTransformer(continent={'Afghanistan': 'Asia',\n",
       "                                                 'Albania': 'Europe',\n",
       "                                                 'Algeria': 'Africa',\n",
       "                                                 'American Samoa': 'Oceania',\n",
       "                                                 'Andorra': 'Europe',\n",
       "                                                 'Angola': 'Africa',\n",
       "                                                 'Anguilla': 'Americas',\n",
       "                                                 'Antarctica': 'Antarctica',\n",
       "                                                 'Antigua and Barbuda': 'Americas',\n",
       "                                                 'Argentina': 'Americas',\n",
       "                                                 'Armenia': 'Asia',\n",
       "                                                 'Aruba': 'Americas',\n",
       "                                                 'Australia': 'Oceania',\n",
       "                                                 'Austria'...\n",
       "                 DropperTransformer(features=['age_desc', 'gender',\n",
       "                                              'used_app_before',\n",
       "                                              'contry_of_res'])),\n",
       "                ('col_transformer',\n",
       "                 ColumnTransformer(remainder='passthrough',\n",
       "                                   transformers=(('z_scoring', StandardScaler(),\n",
       "                                                  [10, 14]),\n",
       "                                                 ('binarize',\n",
       "                                                  OneHotEncoder(drop='if_binary',\n",
       "                                                                sparse_output=False),\n",
       "                                                  [12, 13]),\n",
       "                                                 ('one_hot',\n",
       "                                                  OneHotEncoder(handle_unknown='ignore',\n",
       "                                                                sparse_output=False),\n",
       "                                                  [11, 15, 16, 17]))))])"
      ]
     },
     "execution_count": 58,
     "metadata": {},
     "output_type": "execute_result"
    }
   ],
   "source": [
    "preprocess.fit(train) # we need to fit the pipeline to obtain get_features_names_out()"
   ]
  },
  {
   "cell_type": "code",
   "execution_count": 59,
   "metadata": {
    "execution": {
     "iopub.execute_input": "2022-05-27T18:59:08.746512Z",
     "iopub.status.busy": "2022-05-27T18:59:08.746193Z",
     "iopub.status.idle": "2022-05-27T18:59:08.756125Z",
     "shell.execute_reply": "2022-05-27T18:59:08.755102Z",
     "shell.execute_reply.started": "2022-05-27T18:59:08.746468Z"
    },
    "trusted": true
   },
   "outputs": [
    {
     "data": {
      "text/plain": [
       "'age'"
      ]
     },
     "execution_count": 59,
     "metadata": {},
     "output_type": "execute_result"
    }
   ],
   "source": [
    "def remove_prefix(mystring:str)-> str:\n",
    "    \"\"\"\n",
    "    Removes prefix until '__'\n",
    "    e.g 'z_scoring__age' to 'age'\n",
    "    \"\"\"\n",
    "    mystring = mystring.replace(r\"__\",\"*\") # replace double underscore with *\n",
    "    return mystring[mystring.find(\"*\")+1:]\n",
    "\n",
    "remove_prefix('z_scoring__age')"
   ]
  },
  {
   "cell_type": "code",
   "execution_count": 60,
   "metadata": {},
   "outputs": [],
   "source": [
    "# # ✅ Get feature names AFTER fit on train\n",
    "# mycols = [remove_prefix(col_name) for col_name in preprocess[-2].get_feature_names_out()]"
   ]
  },
  {
   "cell_type": "code",
   "execution_count": 61,
   "metadata": {
    "execution": {
     "iopub.execute_input": "2022-05-27T18:59:10.219216Z",
     "iopub.status.busy": "2022-05-27T18:59:10.218700Z",
     "iopub.status.idle": "2022-05-27T18:59:10.227547Z",
     "shell.execute_reply": "2022-05-27T18:59:10.226563Z",
     "shell.execute_reply.started": "2022-05-27T18:59:10.219182Z"
    },
    "trusted": true
   },
   "outputs": [
    {
     "data": {
      "text/plain": [
       "['age',\n",
       " 'result',\n",
       " 'jaundice_yes',\n",
       " 'austim_yes',\n",
       " 'ethnicity_?',\n",
       " 'ethnicity_Asian',\n",
       " 'ethnicity_Black',\n",
       " 'ethnicity_Hispanic',\n",
       " 'ethnicity_Latino',\n",
       " 'ethnicity_Middle Eastern ',\n",
       " 'ethnicity_Others',\n",
       " 'ethnicity_Pasifika',\n",
       " 'ethnicity_South Asian',\n",
       " 'ethnicity_Turkish',\n",
       " 'ethnicity_White-European',\n",
       " 'relation_?',\n",
       " 'relation_Health care professional',\n",
       " 'relation_Parent',\n",
       " 'relation_Relative',\n",
       " 'relation_Self',\n",
       " 'AgeGroup_adult',\n",
       " 'AgeGroup_children',\n",
       " 'AgeGroup_senior',\n",
       " 'AgeGroup_youth',\n",
       " 'continent_Africa',\n",
       " 'continent_Americas',\n",
       " 'continent_Asia',\n",
       " 'continent_Europe',\n",
       " 'continent_Oceania',\n",
       " 'A1_Score',\n",
       " 'A2_Score',\n",
       " 'A3_Score',\n",
       " 'A4_Score',\n",
       " 'A5_Score',\n",
       " 'A6_Score',\n",
       " 'A7_Score',\n",
       " 'A8_Score',\n",
       " 'A9_Score',\n",
       " 'A10_Score',\n",
       " 'w_contry_of_res',\n",
       " 'w_ethnicity',\n",
       " 'w_relation']"
      ]
     },
     "execution_count": 61,
     "metadata": {},
     "output_type": "execute_result"
    }
   ],
   "source": [
    "mycols = [remove_prefix(mystring= col_name) for col_name in preprocess[-1].get_feature_names_out()]\n",
    "mycols"
   ]
  },
  {
   "cell_type": "code",
   "execution_count": 62,
   "metadata": {
    "execution": {
     "iopub.execute_input": "2022-05-27T18:59:21.847190Z",
     "iopub.status.busy": "2022-05-27T18:59:21.846876Z",
     "iopub.status.idle": "2022-05-27T18:59:21.854326Z",
     "shell.execute_reply": "2022-05-27T18:59:21.853059Z",
     "shell.execute_reply.started": "2022-05-27T18:59:21.847157Z"
    },
    "trusted": true
   },
   "outputs": [],
   "source": [
    "from sklearn.preprocessing import FunctionTransformer\n",
    "\n",
    "# pipeline to add columns \n",
    "# see here https://datascience.stackexchange.com/questions/75449/is-there-a-way-to-force-a-transformer-to-return-a-pandas-dataframe\n",
    "pandarized = (\"pandarizer\",FunctionTransformer(lambda x: pd.DataFrame(x, columns = mycols)))\n",
    "preprocess = Pipeline( steps = (country, w_country, w_ethnicity, w_relation, dropper, col_preprocess, pandarized))"
   ]
  },
  {
   "cell_type": "code",
   "execution_count": 63,
   "metadata": {
    "execution": {
     "iopub.execute_input": "2022-05-27T18:59:23.353315Z",
     "iopub.status.busy": "2022-05-27T18:59:23.353008Z",
     "iopub.status.idle": "2022-05-27T18:59:23.361599Z",
     "shell.execute_reply": "2022-05-27T18:59:23.360334Z",
     "shell.execute_reply.started": "2022-05-27T18:59:23.353279Z"
    },
    "trusted": true
   },
   "outputs": [],
   "source": [
    "# Exploration: there are no missing values in both train and test datasets\n",
    "assert test.isnull().values.any() == False, 'test dataset contains missing values'\n",
    "assert train.isnull().values.any() == False, 'train dataset contains missing values'\n"
   ]
  },
  {
   "cell_type": "code",
   "execution_count": 64,
   "metadata": {
    "execution": {
     "iopub.execute_input": "2022-05-27T18:59:24.100332Z",
     "iopub.status.busy": "2022-05-27T18:59:24.100009Z",
     "iopub.status.idle": "2022-05-27T18:59:24.105324Z",
     "shell.execute_reply": "2022-05-27T18:59:24.104453Z",
     "shell.execute_reply.started": "2022-05-27T18:59:24.100299Z"
    },
    "trusted": true
   },
   "outputs": [
    {
     "name": "stderr",
     "output_type": "stream",
     "text": [
      "C:\\Users\\ASUS\\AppData\\Local\\Temp\\ipykernel_2548\\947416153.py:15: DeprecationWarning: is_categorical_dtype is deprecated and will be removed in a future version. Use isinstance(dtype, pd.CategoricalDtype) instead\n",
      "  if not pd.api.types.is_categorical_dtype(df['contry_of_res']):\n",
      "C:\\Users\\ASUS\\AppData\\Local\\Temp\\ipykernel_2548\\947416153.py:36: DeprecationWarning: is_categorical_dtype is deprecated and will be removed in a future version. Use isinstance(dtype, pd.CategoricalDtype) instead\n",
      "  if not pd.api.types.is_categorical_dtype(df['contry_of_res']):\n",
      "C:\\Users\\ASUS\\AppData\\Local\\Temp\\ipykernel_2548\\947416153.py:36: DeprecationWarning: is_categorical_dtype is deprecated and will be removed in a future version. Use isinstance(dtype, pd.CategoricalDtype) instead\n",
      "  if not pd.api.types.is_categorical_dtype(df['contry_of_res']):\n"
     ]
    },
    {
     "data": {
      "text/plain": [
       "(200, 42)"
      ]
     },
     "execution_count": 64,
     "metadata": {},
     "output_type": "execute_result"
    }
   ],
   "source": [
    "# Check the number of resulting variables are the same\n",
    "preprocess.fit_transform(X=train).shape \n",
    "preprocess.transform(X=test).shape"
   ]
  },
  {
   "cell_type": "code",
   "execution_count": 122,
   "metadata": {
    "execution": {
     "iopub.execute_input": "2022-05-27T18:59:24.459542Z",
     "iopub.status.busy": "2022-05-27T18:59:24.458733Z",
     "iopub.status.idle": "2022-05-27T18:59:24.568234Z",
     "shell.execute_reply": "2022-05-27T18:59:24.567029Z",
     "shell.execute_reply.started": "2022-05-27T18:59:24.459499Z"
    },
    "trusted": true
   },
   "outputs": [
    {
     "name": "stderr",
     "output_type": "stream",
     "text": [
      "C:\\Users\\ASUS\\AppData\\Local\\Temp\\ipykernel_2548\\947416153.py:15: DeprecationWarning: is_categorical_dtype is deprecated and will be removed in a future version. Use isinstance(dtype, pd.CategoricalDtype) instead\n",
      "  if not pd.api.types.is_categorical_dtype(df['contry_of_res']):\n",
      "C:\\Users\\ASUS\\AppData\\Local\\Temp\\ipykernel_2548\\947416153.py:36: DeprecationWarning: is_categorical_dtype is deprecated and will be removed in a future version. Use isinstance(dtype, pd.CategoricalDtype) instead\n",
      "  if not pd.api.types.is_categorical_dtype(df['contry_of_res']):\n",
      "C:\\Users\\ASUS\\AppData\\Local\\Temp\\ipykernel_2548\\947416153.py:36: DeprecationWarning: is_categorical_dtype is deprecated and will be removed in a future version. Use isinstance(dtype, pd.CategoricalDtype) instead\n",
      "  if not pd.api.types.is_categorical_dtype(df['contry_of_res']):\n"
     ]
    },
    {
     "data": {
      "text/plain": [
       "((800, 42), (200, 42), (800,))"
      ]
     },
     "execution_count": 122,
     "metadata": {},
     "output_type": "execute_result"
    }
   ],
   "source": [
    "# We first apply the preprocessing pipeline\n",
    "Xtrain = preprocess.fit_transform(X = train)\n",
    "Xtest = preprocess.transform(X = test)\n",
    "\n",
    "# check resulting variables are the same after preprocessing\n",
    "assert (Xtrain.shape[1] == Xtest.shape[1]), 'train and set contain different number of independent variables'\n",
    "\n",
    "# check the same number of independent variables\n",
    "assert (Xtrain.shape[0] == train_target.shape[0]), 'train changed the number of observations'\n",
    "\n",
    "Xtrain.shape, Xtest.shape, train_target.shape"
   ]
  },
  {
   "cell_type": "markdown",
   "metadata": {},
   "source": [
    "### Oversampling: \n",
    "SMOTEENN is described in Batista et al (2004). It combines the **SMOTE** to generate synthetic examples for minority class with **ENN** to delete some observations from both classes that are identified as having different class between the observation’s class and its K-nearest neighbor majority class. Check this [article](https://towardsdatascience.com/imbalanced-classification-in-python-smote-enn-method-db5db06b8d50)"
   ]
  },
  {
   "cell_type": "code",
   "execution_count": 66,
   "metadata": {
    "execution": {
     "iopub.execute_input": "2022-05-27T18:59:26.222785Z",
     "iopub.status.busy": "2022-05-27T18:59:26.222491Z",
     "iopub.status.idle": "2022-05-27T18:59:26.438225Z",
     "shell.execute_reply": "2022-05-27T18:59:26.437383Z",
     "shell.execute_reply.started": "2022-05-27T18:59:26.222753Z"
    },
    "trusted": true
   },
   "outputs": [],
   "source": [
    "#from imblearn.over_sampling import SMOTE\n",
    "\n",
    "from imblearn.combine import SMOTEENN\n",
    "from imblearn.under_sampling import EditedNearestNeighbours"
   ]
  },
  {
   "cell_type": "code",
   "execution_count": 67,
   "metadata": {
    "execution": {
     "iopub.execute_input": "2022-05-27T18:59:26.796193Z",
     "iopub.status.busy": "2022-05-27T18:59:26.795884Z",
     "iopub.status.idle": "2022-05-27T18:59:26.981966Z",
     "shell.execute_reply": "2022-05-27T18:59:26.980824Z",
     "shell.execute_reply.started": "2022-05-27T18:59:26.796161Z"
    },
    "trusted": true
   },
   "outputs": [],
   "source": [
    "\n",
    "sm = SMOTEENN(enn = EditedNearestNeighbours(sampling_strategy='all', kind_sel=\"mode\"), random_state = 42, n_jobs =-1)\n",
    "ov_Xtrain, ov_ytrain = sm.fit_resample(X = Xtrain, y = train_target)\n"
   ]
  },
  {
   "cell_type": "code",
   "execution_count": 68,
   "metadata": {
    "execution": {
     "iopub.execute_input": "2022-05-27T18:59:27.990878Z",
     "iopub.status.busy": "2022-05-27T18:59:27.990571Z",
     "iopub.status.idle": "2022-05-27T18:59:27.999574Z",
     "shell.execute_reply": "2022-05-27T18:59:27.998598Z",
     "shell.execute_reply.started": "2022-05-27T18:59:27.990845Z"
    },
    "trusted": true
   },
   "outputs": [
    {
     "data": {
      "text/plain": [
       "Class/ASD\n",
       "1    601\n",
       "0    498\n",
       "Name: count, dtype: int64"
      ]
     },
     "execution_count": 68,
     "metadata": {},
     "output_type": "execute_result"
    }
   ],
   "source": [
    "ov_ytrain.value_counts() # see now balanced target "
   ]
  },
  {
   "cell_type": "code",
   "execution_count": 69,
   "metadata": {
    "execution": {
     "iopub.execute_input": "2022-05-27T18:59:29.028163Z",
     "iopub.status.busy": "2022-05-27T18:59:29.027879Z",
     "iopub.status.idle": "2022-05-27T18:59:29.035836Z",
     "shell.execute_reply": "2022-05-27T18:59:29.035001Z",
     "shell.execute_reply.started": "2022-05-27T18:59:29.028132Z"
    },
    "trusted": true
   },
   "outputs": [
    {
     "data": {
      "text/plain": [
       "Class/ASD\n",
       "0    615\n",
       "1    185\n",
       "Name: count, dtype: int64"
      ]
     },
     "execution_count": 69,
     "metadata": {},
     "output_type": "execute_result"
    }
   ],
   "source": [
    "train_target.value_counts() # umbalanced"
   ]
  },
  {
   "cell_type": "code",
   "execution_count": 70,
   "metadata": {
    "execution": {
     "iopub.execute_input": "2022-05-27T18:59:30.556510Z",
     "iopub.status.busy": "2022-05-27T18:59:30.555773Z",
     "iopub.status.idle": "2022-05-27T18:59:30.563633Z",
     "shell.execute_reply": "2022-05-27T18:59:30.562964Z",
     "shell.execute_reply.started": "2022-05-27T18:59:30.556470Z"
    },
    "trusted": true
   },
   "outputs": [
    {
     "data": {
      "text/plain": [
       "((1099, 42), (1099,))"
      ]
     },
     "execution_count": 70,
     "metadata": {},
     "output_type": "execute_result"
    }
   ],
   "source": [
    "ov_Xtrain.shape, ov_ytrain.shape"
   ]
  },
  {
   "cell_type": "markdown",
   "metadata": {
    "execution": {
     "iopub.execute_input": "2022-05-18T10:51:16.938332Z",
     "iopub.status.busy": "2022-05-18T10:51:16.938062Z",
     "iopub.status.idle": "2022-05-18T10:51:16.943055Z",
     "shell.execute_reply": "2022-05-18T10:51:16.94187Z",
     "shell.execute_reply.started": "2022-05-18T10:51:16.938303Z"
    }
   },
   "source": [
    "#### Cross-validation strategy:\n",
    "The performance of the models is very high when training with the whole dataset. Therefore, we will train the models with the oversampled (balanced) dataset (**ov_Xtrain, ov_ytrain**) and test against the original (unbalanced) dataset (**Xtrain, train_target**).\n",
    "\n",
    "1)  Testing against the unbalanced dataset is similar to the dataset used to evaluate the competition (**Xtest** is also unbalanced). \n",
    "\n",
    "2) we select a cross-validation size of four (800/4) to match approximately the number of samples used to evaluate the competition (n =200)."
   ]
  },
  {
   "cell_type": "markdown",
   "metadata": {},
   "source": [
    "# Training\n",
    "[Back to Contents](#Contents)  \n",
    "\n",
    "We will test the accuracy of our models when training the dataset with the most common classification methods."
   ]
  },
  {
   "cell_type": "code",
   "execution_count": 71,
   "metadata": {
    "execution": {
     "iopub.execute_input": "2022-05-27T18:59:32.242371Z",
     "iopub.status.busy": "2022-05-27T18:59:32.241895Z",
     "iopub.status.idle": "2022-05-27T18:59:32.253528Z",
     "shell.execute_reply": "2022-05-27T18:59:32.252725Z",
     "shell.execute_reply.started": "2022-05-27T18:59:32.242305Z"
    },
    "trusted": true
   },
   "outputs": [],
   "source": [
    "from sklearn.ensemble import RandomForestClassifier\n",
    "from sklearn.ensemble import AdaBoostClassifier\n",
    "from sklearn.ensemble import GradientBoostingClassifier\n",
    "from sklearn.ensemble import ExtraTreesClassifier\n",
    "\n",
    "from sklearn.linear_model import LogisticRegression\n",
    "\n",
    "from sklearn.tree import DecisionTreeClassifier\n",
    "\n",
    "from sklearn.neighbors import KNeighborsClassifier\n",
    "\n",
    "from sklearn.svm import SVC\n",
    "\n",
    "from sklearn.naive_bayes import BernoulliNB\n",
    "\n",
    "\n",
    "# 1. Instances of all models \n",
    "RF_clf = RandomForestClassifier(random_state = 42)\n",
    "AD_clf = AdaBoostClassifier(random_state = 42)\n",
    "GB_clf = GradientBoostingClassifier(random_state=42)\n",
    "ET_clf = ExtraTreesClassifier(random_state = 42)\n",
    "\n",
    "LR_clf = LogisticRegression(random_state = 42, solver='liblinear', max_iter = 1500)\n",
    "DT_clf = DecisionTreeClassifier(random_state=42)\n",
    "\n",
    "KN_clf = KNeighborsClassifier( )\n",
    "SVC_clf = SVC(degree=10, probability = True, random_state = 42)\n",
    "\n",
    "NB_clf = BernoulliNB( )\n",
    "\n"
   ]
  },
  {
   "cell_type": "code",
   "execution_count": 72,
   "metadata": {
    "execution": {
     "iopub.execute_input": "2022-05-27T18:59:32.942676Z",
     "iopub.status.busy": "2022-05-27T18:59:32.942385Z",
     "iopub.status.idle": "2022-05-27T18:59:32.948064Z",
     "shell.execute_reply": "2022-05-27T18:59:32.947134Z",
     "shell.execute_reply.started": "2022-05-27T18:59:32.942644Z"
    },
    "trusted": true
   },
   "outputs": [],
   "source": [
    "# minimal reporting here\n",
    "from sklearn.metrics import classification_report\n",
    "from sklearn.metrics import accuracy_score\n",
    "from sklearn.metrics import confusion_matrix, ConfusionMatrixDisplay\n",
    "from sklearn.metrics import roc_curve, roc_auc_score"
   ]
  },
  {
   "cell_type": "code",
   "execution_count": 73,
   "metadata": {
    "execution": {
     "iopub.execute_input": "2022-05-27T18:59:33.512781Z",
     "iopub.status.busy": "2022-05-27T18:59:33.512495Z",
     "iopub.status.idle": "2022-05-27T18:59:33.521685Z",
     "shell.execute_reply": "2022-05-27T18:59:33.520666Z",
     "shell.execute_reply.started": "2022-05-27T18:59:33.512750Z"
    },
    "trusted": true
   },
   "outputs": [],
   "source": [
    "# minimal train/test split\n",
    "from sklearn.model_selection import train_test_split\n",
    "from sklearn.model_selection import cross_val_score\n",
    "\n",
    "# we train with one-third of the dataset for simplicity\n",
    "X_train, X_test, y_train, y_test = train_test_split(ov_Xtrain, ov_ytrain, test_size=1/3., random_state=42)"
   ]
  },
  {
   "cell_type": "markdown",
   "metadata": {},
   "source": [
    "## Random_Forest\n",
    "[Back to Contents](#Contents)\n"
   ]
  },
  {
   "cell_type": "code",
   "execution_count": 74,
   "metadata": {
    "execution": {
     "iopub.execute_input": "2022-05-27T18:59:35.200159Z",
     "iopub.status.busy": "2022-05-27T18:59:35.199859Z",
     "iopub.status.idle": "2022-05-27T18:59:35.204290Z",
     "shell.execute_reply": "2022-05-27T18:59:35.203405Z",
     "shell.execute_reply.started": "2022-05-27T18:59:35.200126Z"
    },
    "trusted": true
   },
   "outputs": [],
   "source": [
    "from sklearn.ensemble import RandomForestClassifier"
   ]
  },
  {
   "cell_type": "code",
   "execution_count": 75,
   "metadata": {
    "execution": {
     "iopub.execute_input": "2022-05-27T18:59:35.456887Z",
     "iopub.status.busy": "2022-05-27T18:59:35.456007Z",
     "iopub.status.idle": "2022-05-27T18:59:35.461189Z",
     "shell.execute_reply": "2022-05-27T18:59:35.460112Z",
     "shell.execute_reply.started": "2022-05-27T18:59:35.456842Z"
    },
    "trusted": true
   },
   "outputs": [],
   "source": [
    "RF_clf = RandomForestClassifier(random_state = 42) # instance of model with default methods"
   ]
  },
  {
   "cell_type": "code",
   "execution_count": 76,
   "metadata": {
    "execution": {
     "iopub.execute_input": "2022-05-27T18:59:35.706021Z",
     "iopub.status.busy": "2022-05-27T18:59:35.705727Z",
     "iopub.status.idle": "2022-05-27T18:59:35.976057Z",
     "shell.execute_reply": "2022-05-27T18:59:35.975084Z",
     "shell.execute_reply.started": "2022-05-27T18:59:35.705989Z"
    },
    "trusted": true
   },
   "outputs": [
    {
     "name": "stdout",
     "output_type": "stream",
     "text": [
      "              precision    recall  f1-score   support\n",
      "\n",
      "           0       0.95      0.99      0.97       174\n",
      "           1       0.99      0.95      0.97       193\n",
      "\n",
      "    accuracy                           0.97       367\n",
      "   macro avg       0.97      0.97      0.97       367\n",
      "weighted avg       0.97      0.97      0.97       367\n",
      "\n"
     ]
    }
   ],
   "source": [
    "# train \n",
    "RF_clf.fit(X = X_train, y = y_train) # training with 2/3 of the balanced data\n",
    "\n",
    "prediction = RF_clf.predict(X = X_test) # predict the rest 1/3 of the balanced data\n",
    "\n",
    "print(classification_report(y_test, prediction)) # accuracy 0.97\n"
   ]
  },
  {
   "cell_type": "code",
   "execution_count": 77,
   "metadata": {
    "execution": {
     "iopub.execute_input": "2022-05-27T18:59:36.201770Z",
     "iopub.status.busy": "2022-05-27T18:59:36.201453Z",
     "iopub.status.idle": "2022-05-27T18:59:36.215695Z",
     "shell.execute_reply": "2022-05-27T18:59:36.214577Z",
     "shell.execute_reply.started": "2022-05-27T18:59:36.201737Z"
    },
    "trusted": true
   },
   "outputs": [],
   "source": [
    "def plot_metrics(model, X:np.array, y_target:np.array) -> plt.figure:\n",
    "    \"\"\"\n",
    "    Plots confusion matrix and Receiver Operating Characteristic\n",
    "    (ROC) curve of the classifier\n",
    "    \n",
    "    Arguments:\n",
    "    ----------\n",
    "    predictor\n",
    "    X (array): input matrix\n",
    "    y_target (array) : target vector\n",
    "    \"\"\"\n",
    "    prediction = model.predict( X )\n",
    "    \n",
    "    # Compute donfusion matrix\n",
    "    cm = confusion_matrix(y_target, prediction, labels = model.classes_)\n",
    "    disp = ConfusionMatrixDisplay(confusion_matrix = cm, display_labels = model.classes_)\n",
    "    \n",
    "    fig, ax = plt.subplots(1,2, figsize=(8,4))\n",
    "    fig.tight_layout(pad = 3, h_pad = 2, w_pad = 4)\n",
    "    fig.suptitle(type(model).__name__)\n",
    "    ax[0] = disp.plot(ax = ax[0])\n",
    "\n",
    "    \n",
    "    # ROC curve\n",
    "    y_pred_prob = model.predict_proba(X)[::,1]\n",
    "    test_FP, test_TP, thresholds = roc_curve(y_target ,y_pred_prob)\n",
    "    auc = roc_auc_score(y_target, y_pred_prob)\n",
    "    \n",
    "    ax[1].plot(test_FP, test_TP, color='C0', label = f'AUC = {auc:2.2f}')\n",
    "    ax[1].plot([0, 1], [0, 1],'r--', lw=1)\n",
    "\n",
    "    ax[1].legend(loc =4, fontsize=10);\n",
    "\n",
    "    ax[1].set_ylabel('True Positive (TP)', fontsize=10);\n",
    "    ax[1].set_xlabel('False Positive (FP)', fontsize=10);\n",
    "\n",
    "    ax[1].set_title('Receiver Operating Characteristic (ROC) curve', fontsize=10);\n",
    "    \n",
    "    #return fig"
   ]
  },
  {
   "cell_type": "code",
   "execution_count": 78,
   "metadata": {
    "execution": {
     "iopub.execute_input": "2022-05-27T18:59:36.743717Z",
     "iopub.status.busy": "2022-05-27T18:59:36.742933Z",
     "iopub.status.idle": "2022-05-27T18:59:37.333075Z",
     "shell.execute_reply": "2022-05-27T18:59:37.332078Z",
     "shell.execute_reply.started": "2022-05-27T18:59:36.743677Z"
    },
    "trusted": true
   },
   "outputs": [
    {
     "data": {
      "image/png": "[encoded data removed]",
      "text/plain": [
       "<Figure size 800x400 with 3 Axes>"
      ]
     },
     "metadata": {},
     "output_type": "display_data"
    }
   ],
   "source": [
    "# RandomForest performance on test dataset (1/3 of the training dataset)\n",
    "plot_metrics(model = RF_clf,  X = X_test, y_target = y_test)"
   ]
  },
  {
   "cell_type": "code",
   "execution_count": 79,
   "metadata": {
    "execution": {
     "iopub.execute_input": "2022-05-27T18:59:37.339188Z",
     "iopub.status.busy": "2022-05-27T18:59:37.338926Z",
     "iopub.status.idle": "2022-05-27T18:59:37.346662Z",
     "shell.execute_reply": "2022-05-27T18:59:37.345169Z",
     "shell.execute_reply.started": "2022-05-27T18:59:37.339156Z"
    },
    "trusted": true
   },
   "outputs": [],
   "source": [
    "def get_predictionfile(prediction: np.array, filename:str):\n",
    "    \"\"\"\n",
    "    Return submission file\n",
    "    \n",
    "    Arguments:\n",
    "    prediction: (array)\n",
    "        the estimator result of predict() method  \n",
    "    filename : (str)\n",
    "        filename to be saved\n",
    "    \"\"\"\n",
    "    # test input size\n",
    "    check_shape = prediction.shape == (200,)\n",
    "    assert check_shape, f'prediction shape expected (200,), got: {prediction.shape}'\n",
    "    \n",
    "    df = pd.DataFrame({'ID': test.index, 'Class/ASD': prediction})\n",
    "    print(f'{filename} with {df.shape[0]} predictions created')\n",
    "    return df.to_csv(filename, index=False)\n",
    "    "
   ]
  },
  {
   "cell_type": "code",
   "execution_count": 80,
   "metadata": {
    "execution": {
     "iopub.execute_input": "2022-05-27T18:59:37.865611Z",
     "iopub.status.busy": "2022-05-27T18:59:37.865266Z",
     "iopub.status.idle": "2022-05-27T18:59:37.872132Z",
     "shell.execute_reply": "2022-05-27T18:59:37.870703Z",
     "shell.execute_reply.started": "2022-05-27T18:59:37.865577Z"
    },
    "trusted": true
   },
   "outputs": [],
   "source": [
    "# # we test our trained model with the Xtest restulting from the competition \n",
    "# get_predictionfile(RF_clf.predict_proba(Xtest)[:,1], 'RF_submission_test_size3.csv') # Score: "
   ]
  },
  {
   "cell_type": "code",
   "execution_count": 81,
   "metadata": {
    "execution": {
     "iopub.execute_input": "2022-05-27T18:59:38.201789Z",
     "iopub.status.busy": "2022-05-27T18:59:38.201103Z",
     "iopub.status.idle": "2022-05-27T18:59:40.247757Z",
     "shell.execute_reply": "2022-05-27T18:59:40.246472Z",
     "shell.execute_reply.started": "2022-05-27T18:59:38.201749Z"
    },
    "trusted": true
   },
   "outputs": [
    {
     "name": "stdout",
     "output_type": "stream",
     "text": [
      "0.9028740312036008 0.03957259813503189\n"
     ]
    }
   ],
   "source": [
    "cv_score = cross_val_score(estimator = RF_clf, X = Xtrain, y = train_target, scoring = \"roc_auc\", cv = 4, n_jobs=-1)\n",
    "print(np.mean(cv_score), np.std(cv_score)) # that's closer to competition"
   ]
  },
  {
   "cell_type": "markdown",
   "metadata": {},
   "source": [
    "## Logistic_Regression\n",
    "[Back to Contents](#Contents)"
   ]
  },
  {
   "cell_type": "code",
   "execution_count": 82,
   "metadata": {
    "execution": {
     "iopub.execute_input": "2022-05-27T18:59:40.250682Z",
     "iopub.status.busy": "2022-05-27T18:59:40.250255Z",
     "iopub.status.idle": "2022-05-27T18:59:40.256706Z",
     "shell.execute_reply": "2022-05-27T18:59:40.255669Z",
     "shell.execute_reply.started": "2022-05-27T18:59:40.250630Z"
    },
    "trusted": true
   },
   "outputs": [],
   "source": [
    "from sklearn.linear_model import LogisticRegression"
   ]
  },
  {
   "cell_type": "code",
   "execution_count": 83,
   "metadata": {
    "execution": {
     "iopub.execute_input": "2022-05-27T18:59:40.259390Z",
     "iopub.status.busy": "2022-05-27T18:59:40.258787Z",
     "iopub.status.idle": "2022-05-27T18:59:40.268476Z",
     "shell.execute_reply": "2022-05-27T18:59:40.267449Z",
     "shell.execute_reply.started": "2022-05-27T18:59:40.259324Z"
    },
    "trusted": true
   },
   "outputs": [],
   "source": [
    "LR_clf = LogisticRegression(random_state = 42,solver='liblinear')#, max_iter = 1500)"
   ]
  },
  {
   "cell_type": "code",
   "execution_count": 84,
   "metadata": {
    "execution": {
     "iopub.execute_input": "2022-05-27T18:59:40.271555Z",
     "iopub.status.busy": "2022-05-27T18:59:40.270961Z",
     "iopub.status.idle": "2022-05-27T18:59:40.306672Z",
     "shell.execute_reply": "2022-05-27T18:59:40.305620Z",
     "shell.execute_reply.started": "2022-05-27T18:59:40.271506Z"
    },
    "trusted": true
   },
   "outputs": [
    {
     "name": "stdout",
     "output_type": "stream",
     "text": [
      "              precision    recall  f1-score   support\n",
      "\n",
      "           0       0.90      0.93      0.91       174\n",
      "           1       0.93      0.91      0.92       193\n",
      "\n",
      "    accuracy                           0.92       367\n",
      "   macro avg       0.92      0.92      0.92       367\n",
      "weighted avg       0.92      0.92      0.92       367\n",
      "\n"
     ]
    }
   ],
   "source": [
    "\n",
    "LR_clf.fit(X = X_train, y = y_train) # training with 2/3 of the data\n",
    "\n",
    "prediction = LR_clf.predict(X = X_test) # predict the rest 1/3 \n",
    "\n",
    "print(classification_report(y_test, prediction)) # accuracy 0.92"
   ]
  },
  {
   "cell_type": "code",
   "execution_count": 85,
   "metadata": {
    "execution": {
     "iopub.execute_input": "2022-05-27T18:59:40.777936Z",
     "iopub.status.busy": "2022-05-27T18:59:40.777621Z",
     "iopub.status.idle": "2022-05-27T18:59:41.476332Z",
     "shell.execute_reply": "2022-05-27T18:59:41.475371Z",
     "shell.execute_reply.started": "2022-05-27T18:59:40.777894Z"
    },
    "trusted": true
   },
   "outputs": [
    {
     "data": {
      "image/png": "[encoded data removed]",
      "text/plain": [
       "<Figure size 800x400 with 3 Axes>"
      ]
     },
     "metadata": {},
     "output_type": "display_data"
    }
   ],
   "source": [
    "# Logistic Regression performance on test dataset (1/5 of the training dataset)\n",
    "plot_metrics(model = LR_clf,  X = X_test, y_target = y_test)"
   ]
  },
  {
   "cell_type": "code",
   "execution_count": 86,
   "metadata": {
    "execution": {
     "iopub.execute_input": "2022-05-27T18:59:41.478509Z",
     "iopub.status.busy": "2022-05-27T18:59:41.478156Z",
     "iopub.status.idle": "2022-05-27T18:59:41.484245Z",
     "shell.execute_reply": "2022-05-27T18:59:41.483314Z",
     "shell.execute_reply.started": "2022-05-27T18:59:41.478463Z"
    },
    "trusted": true
   },
   "outputs": [],
   "source": [
    "# we test our trained model with the Xtest restulting from the competition \n",
    "# get_predictionfile(LR_clf.predict_proba(Xtest)[:,1], 'LR_submission_test_size3.csv') # Score: "
   ]
  },
  {
   "cell_type": "code",
   "execution_count": 87,
   "metadata": {
    "execution": {
     "iopub.execute_input": "2022-05-27T18:59:42.194470Z",
     "iopub.status.busy": "2022-05-27T18:59:42.193281Z",
     "iopub.status.idle": "2022-05-27T18:59:42.242579Z",
     "shell.execute_reply": "2022-05-27T18:59:42.241643Z",
     "shell.execute_reply.started": "2022-05-27T18:59:42.194411Z"
    },
    "trusted": true
   },
   "outputs": [
    {
     "name": "stdout",
     "output_type": "stream",
     "text": [
      "0.909849747091952 0.0365950207930894\n"
     ]
    }
   ],
   "source": [
    "cv_score = cross_val_score(estimator = LR_clf, X = Xtrain, y = train_target, scoring = \"roc_auc\", cv = 4, n_jobs=-1)\n",
    "print(np.mean(cv_score), np.std(cv_score)) # that's closer to competition"
   ]
  },
  {
   "cell_type": "markdown",
   "metadata": {},
   "source": [
    "## Extra_Tree\n",
    "[Back to Contents](#Contents)"
   ]
  },
  {
   "cell_type": "code",
   "execution_count": 88,
   "metadata": {
    "execution": {
     "iopub.execute_input": "2022-05-27T18:59:44.571482Z",
     "iopub.status.busy": "2022-05-27T18:59:44.571170Z",
     "iopub.status.idle": "2022-05-27T18:59:44.575768Z",
     "shell.execute_reply": "2022-05-27T18:59:44.574879Z",
     "shell.execute_reply.started": "2022-05-27T18:59:44.571449Z"
    },
    "trusted": true
   },
   "outputs": [],
   "source": [
    "from sklearn.tree import DecisionTreeClassifier"
   ]
  },
  {
   "cell_type": "code",
   "execution_count": 89,
   "metadata": {
    "execution": {
     "iopub.execute_input": "2022-05-27T18:59:45.008164Z",
     "iopub.status.busy": "2022-05-27T18:59:45.007292Z",
     "iopub.status.idle": "2022-05-27T18:59:45.012694Z",
     "shell.execute_reply": "2022-05-27T18:59:45.011597Z",
     "shell.execute_reply.started": "2022-05-27T18:59:45.008114Z"
    },
    "trusted": true
   },
   "outputs": [],
   "source": [
    "DT_clf = DecisionTreeClassifier(random_state=42)"
   ]
  },
  {
   "cell_type": "code",
   "execution_count": 90,
   "metadata": {
    "execution": {
     "iopub.execute_input": "2022-05-27T18:59:45.294113Z",
     "iopub.status.busy": "2022-05-27T18:59:45.293797Z",
     "iopub.status.idle": "2022-05-27T18:59:45.503764Z",
     "shell.execute_reply": "2022-05-27T18:59:45.502670Z",
     "shell.execute_reply.started": "2022-05-27T18:59:45.294077Z"
    },
    "trusted": true
   },
   "outputs": [
    {
     "name": "stdout",
     "output_type": "stream",
     "text": [
      "              precision    recall  f1-score   support\n",
      "\n",
      "           0       0.97      0.98      0.97       174\n",
      "           1       0.98      0.97      0.98       193\n",
      "\n",
      "    accuracy                           0.98       367\n",
      "   macro avg       0.98      0.98      0.98       367\n",
      "weighted avg       0.98      0.98      0.98       367\n",
      "\n"
     ]
    }
   ],
   "source": [
    "\n",
    "ET_clf.fit(X = X_train, y = y_train) # training with 2/3 of the data\n",
    "\n",
    "prediction = ET_clf.predict(X = X_test) # predict the rest 1/3 \n",
    "\n",
    "print(classification_report(y_test, prediction)) # accuracy 0.98"
   ]
  },
  {
   "cell_type": "code",
   "execution_count": 91,
   "metadata": {
    "execution": {
     "iopub.execute_input": "2022-05-27T18:59:45.595535Z",
     "iopub.status.busy": "2022-05-27T18:59:45.595089Z",
     "iopub.status.idle": "2022-05-27T18:59:46.440779Z",
     "shell.execute_reply": "2022-05-27T18:59:46.440082Z",
     "shell.execute_reply.started": "2022-05-27T18:59:45.595483Z"
    },
    "trusted": true
   },
   "outputs": [
    {
     "data": {
      "image/png": "[encoded data removed]",
      "text/plain": [
       "<Figure size 800x400 with 3 Axes>"
      ]
     },
     "metadata": {},
     "output_type": "display_data"
    }
   ],
   "source": [
    "# Logistic Regression performance on test dataset (1/3 of the training dataset)\n",
    "plot_metrics(model = ET_clf,  X = X_test, y_target = y_test)"
   ]
  },
  {
   "cell_type": "code",
   "execution_count": 92,
   "metadata": {
    "execution": {
     "iopub.execute_input": "2022-05-27T18:59:46.443028Z",
     "iopub.status.busy": "2022-05-27T18:59:46.442591Z",
     "iopub.status.idle": "2022-05-27T18:59:46.446920Z",
     "shell.execute_reply": "2022-05-27T18:59:46.445874Z",
     "shell.execute_reply.started": "2022-05-27T18:59:46.442996Z"
    },
    "trusted": true
   },
   "outputs": [],
   "source": [
    "# we test our trained model with the Xtest restulting from the competition \n",
    "# get_predictionfile(prediction = ET_clf.predict_proba(Xtest)[:,1], filename = 'ET_submission_test_size3.csv') # Score: "
   ]
  },
  {
   "cell_type": "code",
   "execution_count": 93,
   "metadata": {
    "execution": {
     "iopub.execute_input": "2022-05-27T18:59:46.448649Z",
     "iopub.status.busy": "2022-05-27T18:59:46.448401Z",
     "iopub.status.idle": "2022-05-27T18:59:46.781142Z",
     "shell.execute_reply": "2022-05-27T18:59:46.780442Z",
     "shell.execute_reply.started": "2022-05-27T18:59:46.448615Z"
    },
    "trusted": true
   },
   "outputs": [
    {
     "name": "stdout",
     "output_type": "stream",
     "text": [
      "0.896524468069402 0.034714295757365676\n"
     ]
    }
   ],
   "source": [
    "cv_score = cross_val_score(estimator = ET_clf, X = Xtrain, y = train_target, scoring = \"roc_auc\", cv = 4, n_jobs=-1)\n",
    "print(np.mean(cv_score), np.std(cv_score)) # that's closer to competition"
   ]
  },
  {
   "cell_type": "markdown",
   "metadata": {},
   "source": [
    "## Gradient_Boosting\n",
    "[Back to Contents](#Contents)"
   ]
  },
  {
   "cell_type": "code",
   "execution_count": 94,
   "metadata": {
    "execution": {
     "iopub.execute_input": "2022-05-27T18:59:46.864402Z",
     "iopub.status.busy": "2022-05-27T18:59:46.863883Z",
     "iopub.status.idle": "2022-05-27T18:59:47.111059Z",
     "shell.execute_reply": "2022-05-27T18:59:47.109426Z",
     "shell.execute_reply.started": "2022-05-27T18:59:46.864340Z"
    },
    "trusted": true
   },
   "outputs": [
    {
     "name": "stdout",
     "output_type": "stream",
     "text": [
      "              precision    recall  f1-score   support\n",
      "\n",
      "           0       0.94      0.99      0.96       174\n",
      "           1       0.99      0.94      0.97       193\n",
      "\n",
      "    accuracy                           0.96       367\n",
      "   macro avg       0.96      0.97      0.96       367\n",
      "weighted avg       0.97      0.96      0.96       367\n",
      "\n"
     ]
    }
   ],
   "source": [
    "GB_clf.fit(X = X_train, y = y_train) # training with 2/3 of the data\n",
    "\n",
    "prediction = GB_clf.predict(X = X_test) # predict the rest 1/3 \n",
    "\n",
    "print(classification_report(y_test, prediction)) # accuracy 0.96"
   ]
  },
  {
   "cell_type": "code",
   "execution_count": 95,
   "metadata": {
    "execution": {
     "iopub.execute_input": "2022-05-27T18:59:47.776500Z",
     "iopub.status.busy": "2022-05-27T18:59:47.776157Z",
     "iopub.status.idle": "2022-05-27T18:59:48.362747Z",
     "shell.execute_reply": "2022-05-27T18:59:48.361682Z",
     "shell.execute_reply.started": "2022-05-27T18:59:47.776465Z"
    },
    "trusted": true
   },
   "outputs": [
    {
     "data": {
      "image/png": "[encoded data removed]",
      "text/plain": [
       "<Figure size 800x400 with 3 Axes>"
      ]
     },
     "metadata": {},
     "output_type": "display_data"
    }
   ],
   "source": [
    "# Gradient Boosting performance on test dataset (1/3 of the training dataset)\n",
    "plot_metrics(model = GB_clf,  X = X_test, y_target = y_test)"
   ]
  },
  {
   "cell_type": "code",
   "execution_count": 96,
   "metadata": {
    "execution": {
     "iopub.execute_input": "2022-05-27T18:59:48.365783Z",
     "iopub.status.busy": "2022-05-27T18:59:48.365262Z",
     "iopub.status.idle": "2022-05-27T18:59:48.370928Z",
     "shell.execute_reply": "2022-05-27T18:59:48.370023Z",
     "shell.execute_reply.started": "2022-05-27T18:59:48.365729Z"
    },
    "trusted": true
   },
   "outputs": [],
   "source": [
    "# we test our trained model with the Xtest restulting from the competition \n",
    "# get_predictionfile(prediction = GB_clf.predict_proba(Xtest)[:,1], filename = 'GB_submission_test_size3.csv') # Score: "
   ]
  },
  {
   "cell_type": "code",
   "execution_count": 97,
   "metadata": {
    "execution": {
     "iopub.execute_input": "2022-05-27T18:59:48.668559Z",
     "iopub.status.busy": "2022-05-27T18:59:48.668239Z",
     "iopub.status.idle": "2022-05-27T18:59:48.975805Z",
     "shell.execute_reply": "2022-05-27T18:59:48.974749Z",
     "shell.execute_reply.started": "2022-05-27T18:59:48.668526Z"
    },
    "trusted": true
   },
   "outputs": [
    {
     "name": "stdout",
     "output_type": "stream",
     "text": [
      "0.9041553261059981 0.040454679965974974\n"
     ]
    }
   ],
   "source": [
    "cv_score = cross_val_score(estimator = GB_clf, X = Xtrain, y = train_target, scoring = \"roc_auc\", cv = 4, n_jobs=-1)\n",
    "print(np.mean(cv_score), np.std(cv_score)) # that's closer to competition"
   ]
  },
  {
   "cell_type": "markdown",
   "metadata": {},
   "source": [
    "### SHAP importances\n",
    "\n",
    "[SHAP](https://shap-lrjball.readthedocs.io/en/latest/index.html) (SHapley Additive exPlanations) is a visualization tool that plots the  contribution of each feature to the predictionis of a model. SHAP support most tree-based scikit-learn models. It is a fast and exact method to estimate SHAP values for tree models and ensembles of trees, under several different possible assumptions about feature dependence. We shall use Random Forest and Decission Tree models for our feature importance calculations."
   ]
  },
  {
   "cell_type": "code",
   "execution_count": 98,
   "metadata": {
    "execution": {
     "iopub.execute_input": "2022-05-27T18:59:50.092709Z",
     "iopub.status.busy": "2022-05-27T18:59:50.092132Z",
     "iopub.status.idle": "2022-05-27T18:59:51.593803Z",
     "shell.execute_reply": "2022-05-27T18:59:51.593135Z",
     "shell.execute_reply.started": "2022-05-27T18:59:50.092662Z"
    },
    "trusted": true
   },
   "outputs": [
    {
     "data": {
      "text/plain": [
       "'0.48.0'"
      ]
     },
     "execution_count": 98,
     "metadata": {},
     "output_type": "execute_result"
    }
   ],
   "source": [
    "import shap\n",
    "shap.__version__"
   ]
  },
  {
   "cell_type": "markdown",
   "metadata": {},
   "source": [
    "### Shap importances for Random Forest"
   ]
  },
  {
   "cell_type": "code",
   "execution_count": 99,
   "metadata": {
    "execution": {
     "iopub.execute_input": "2022-05-27T18:59:56.911224Z",
     "iopub.status.busy": "2022-05-27T18:59:56.910922Z",
     "iopub.status.idle": "2022-05-27T18:59:57.843696Z",
     "shell.execute_reply": "2022-05-27T18:59:57.842603Z",
     "shell.execute_reply.started": "2022-05-27T18:59:56.911192Z"
    },
    "trusted": true
   },
   "outputs": [
    {
     "data": {
      "image/png": "[encoded data removed]",
      "text/plain": [
       "<Figure size 1150x660 with 2 Axes>"
      ]
     },
     "metadata": {},
     "output_type": "display_data"
    }
   ],
   "source": [
    "# For random forest\n",
    "explainer = shap.TreeExplainer(RF_clf)\n",
    "\n",
    "shap_values = explainer.shap_values(X_train)\n",
    "shap.summary_plot(shap_values, features = X_train, plot_type='bar', plot_size=(3,5))\n"
   ]
  },
  {
   "cell_type": "markdown",
   "metadata": {},
   "source": [
    "### Shap importances for Extra Tree"
   ]
  },
  {
   "cell_type": "code",
   "execution_count": 100,
   "metadata": {
    "execution": {
     "iopub.execute_input": "2022-05-27T19:00:14.841099Z",
     "iopub.status.busy": "2022-05-27T19:00:14.840794Z",
     "iopub.status.idle": "2022-05-27T19:00:16.381321Z",
     "shell.execute_reply": "2022-05-27T19:00:16.380236Z",
     "shell.execute_reply.started": "2022-05-27T19:00:14.841067Z"
    },
    "trusted": true
   },
   "outputs": [
    {
     "data": {
      "image/png": "[encoded data removed]",
      "text/plain": [
       "<Figure size 1150x660 with 2 Axes>"
      ]
     },
     "metadata": {},
     "output_type": "display_data"
    }
   ],
   "source": [
    "# For Extra Tree\n",
    "explainer = shap.TreeExplainer(ET_clf)\n",
    "\n",
    "shap_values = explainer.shap_values(X_train)\n",
    "shap.summary_plot(shap_values, features = X_train, plot_type='bar', plot_size=(3,5))"
   ]
  },
  {
   "cell_type": "markdown",
   "metadata": {},
   "source": [
    "### Shap importances for Gradient Boost"
   ]
  },
  {
   "cell_type": "code",
   "execution_count": 101,
   "metadata": {
    "execution": {
     "iopub.execute_input": "2022-05-27T19:00:23.767904Z",
     "iopub.status.busy": "2022-05-27T19:00:23.767585Z",
     "iopub.status.idle": "2022-05-27T19:00:24.212308Z",
     "shell.execute_reply": "2022-05-27T19:00:24.211293Z",
     "shell.execute_reply.started": "2022-05-27T19:00:23.767865Z"
    },
    "trusted": true
   },
   "outputs": [
    {
     "data": {
      "image/png": "[encoded data removed]",
      "text/plain": [
       "<Figure size 300x500 with 1 Axes>"
      ]
     },
     "metadata": {},
     "output_type": "display_data"
    }
   ],
   "source": [
    "explainer = shap.TreeExplainer(GB_clf)\n",
    "\n",
    "shap_values = explainer.shap_values(X_train)\n",
    "shap.summary_plot(shap_values, features = X_train, plot_type='bar', plot_size=(3,5))"
   ]
  },
  {
   "cell_type": "markdown",
   "metadata": {
    "execution": {
     "iopub.execute_input": "2022-04-29T19:49:44.813668Z",
     "iopub.status.busy": "2022-04-29T19:49:44.81301Z",
     "iopub.status.idle": "2022-04-29T19:49:44.819809Z",
     "shell.execute_reply": "2022-04-29T19:49:44.818696Z",
     "shell.execute_reply.started": "2022-04-29T19:49:44.813612Z"
    }
   },
   "source": [
    "## Test_All_Models\n",
    "[Back to Contents](#Contents)\n",
    "\n",
    "We will test the accuracy of all models and after that, perform an hyperparameter tunning and evaluate accuracy and some other metrics."
   ]
  },
  {
   "cell_type": "code",
   "execution_count": 102,
   "metadata": {
    "execution": {
     "iopub.execute_input": "2022-05-27T19:00:25.009401Z",
     "iopub.status.busy": "2022-05-27T19:00:25.008054Z",
     "iopub.status.idle": "2022-05-27T19:00:25.015307Z",
     "shell.execute_reply": "2022-05-27T19:00:25.014223Z",
     "shell.execute_reply.started": "2022-05-27T19:00:25.009321Z"
    },
    "trusted": true
   },
   "outputs": [
    {
     "name": "stdout",
     "output_type": "stream",
     "text": [
      "We test 9 classifiers\n"
     ]
    }
   ],
   "source": [
    "classifiers = [RF_clf, AD_clf, ET_clf, LR_clf, DT_clf, KN_clf, SVC_clf, NB_clf, GB_clf]\n",
    "print(f'We test {len(classifiers)} classifiers')"
   ]
  },
  {
   "cell_type": "code",
   "execution_count": 103,
   "metadata": {
    "execution": {
     "iopub.execute_input": "2022-05-27T19:00:25.928137Z",
     "iopub.status.busy": "2022-05-27T19:00:25.927817Z",
     "iopub.status.idle": "2022-05-27T19:00:25.933737Z",
     "shell.execute_reply": "2022-05-27T19:00:25.932672Z",
     "shell.execute_reply.started": "2022-05-27T19:00:25.928103Z"
    },
    "trusted": true
   },
   "outputs": [],
   "source": [
    "\n",
    "from sklearn.model_selection import StratifiedKFold\n",
    "\n",
    "# We use a 4-fold cross validation of Xtrain, that creates 200 entries blocks\n",
    "myKFold = StratifiedKFold(n_splits = 4, shuffle = True, random_state=42) #"
   ]
  },
  {
   "cell_type": "code",
   "execution_count": 104,
   "metadata": {
    "execution": {
     "iopub.execute_input": "2022-05-27T19:00:26.617955Z",
     "iopub.status.busy": "2022-05-27T19:00:26.617635Z",
     "iopub.status.idle": "2022-05-27T19:00:29.194069Z",
     "shell.execute_reply": "2022-05-27T19:00:29.192961Z",
     "shell.execute_reply.started": "2022-05-27T19:00:26.617921Z"
    },
    "trusted": true
   },
   "outputs": [
    {
     "name": "stderr",
     "output_type": "stream",
     "text": [
      "c:\\Users\\ASUS\\AppData\\Local\\Programs\\Python\\Python312\\Lib\\site-packages\\sklearn\\ensemble\\_weight_boosting.py:527: FutureWarning: The SAMME.R algorithm (the default) is deprecated and will be removed in 1.6. Use the SAMME algorithm to circumvent this warning.\n",
      "  warnings.warn(\n"
     ]
    },
    {
     "data": {
      "text/html": [
       "<div>\n",
       "<style scoped>\n",
       "    .dataframe tbody tr th:only-of-type {\n",
       "        vertical-align: middle;\n",
       "    }\n",
       "\n",
       "    .dataframe tbody tr th {\n",
       "        vertical-align: top;\n",
       "    }\n",
       "\n",
       "    .dataframe thead th {\n",
       "        text-align: right;\n",
       "    }\n",
       "</style>\n",
       "<table border=\"1\" class=\"dataframe\">\n",
       "  <thead>\n",
       "    <tr style=\"text-align: right;\">\n",
       "      <th></th>\n",
       "      <th>roc_auc(%)</th>\n",
       "      <th>stdev(%)</th>\n",
       "    </tr>\n",
       "    <tr>\n",
       "      <th>Classifier</th>\n",
       "      <th></th>\n",
       "      <th></th>\n",
       "    </tr>\n",
       "  </thead>\n",
       "  <tbody>\n",
       "    <tr>\n",
       "      <th>RandomForestClassifier</th>\n",
       "      <td>90.040236</td>\n",
       "      <td>1.251976</td>\n",
       "    </tr>\n",
       "    <tr>\n",
       "      <th>AdaBoostClassifier</th>\n",
       "      <td>86.624643</td>\n",
       "      <td>2.789708</td>\n",
       "    </tr>\n",
       "    <tr>\n",
       "      <th>ExtraTreesClassifier</th>\n",
       "      <td>89.303205</td>\n",
       "      <td>1.719400</td>\n",
       "    </tr>\n",
       "    <tr>\n",
       "      <th>LogisticRegression</th>\n",
       "      <td>91.089933</td>\n",
       "      <td>1.176498</td>\n",
       "    </tr>\n",
       "    <tr>\n",
       "      <th>DecisionTreeClassifier</th>\n",
       "      <td>77.220204</td>\n",
       "      <td>1.706721</td>\n",
       "    </tr>\n",
       "    <tr>\n",
       "      <th>KNeighborsClassifier</th>\n",
       "      <td>86.453319</td>\n",
       "      <td>1.333898</td>\n",
       "    </tr>\n",
       "    <tr>\n",
       "      <th>SVC</th>\n",
       "      <td>89.200403</td>\n",
       "      <td>1.327332</td>\n",
       "    </tr>\n",
       "    <tr>\n",
       "      <th>BernoulliNB</th>\n",
       "      <td>92.130917</td>\n",
       "      <td>1.274139</td>\n",
       "    </tr>\n",
       "    <tr>\n",
       "      <th>GradientBoostingClassifier</th>\n",
       "      <td>90.910947</td>\n",
       "      <td>1.043017</td>\n",
       "    </tr>\n",
       "  </tbody>\n",
       "</table>\n",
       "</div>"
      ],
      "text/plain": [
       "                            roc_auc(%)  stdev(%)\n",
       "Classifier                                      \n",
       "RandomForestClassifier       90.040236  1.251976\n",
       "AdaBoostClassifier           86.624643  2.789708\n",
       "ExtraTreesClassifier         89.303205  1.719400\n",
       "LogisticRegression           91.089933  1.176498\n",
       "DecisionTreeClassifier       77.220204  1.706721\n",
       "KNeighborsClassifier         86.453319  1.333898\n",
       "SVC                          89.200403  1.327332\n",
       "BernoulliNB                  92.130917  1.274139\n",
       "GradientBoostingClassifier   90.910947  1.043017"
      ]
     },
     "execution_count": 104,
     "metadata": {},
     "output_type": "execute_result"
    }
   ],
   "source": [
    "mydict = dict()\n",
    "\n",
    "name = list()\n",
    "roc_score = list()\n",
    "stdev =  list()\n",
    "\n",
    "for clf in classifiers:\n",
    "    name.append(type(clf).__name__)\n",
    "    clf.fit(X = ov_Xtrain, y = ov_ytrain ) # train balanced dataset\n",
    "    mycv = cross_val_score(clf, Xtrain, y = train_target, scoring = \"roc_auc\", cv = myKFold, n_jobs=-1) # score unbalanced dataset\n",
    "    roc_score.append( np.mean(mycv)*100 )\n",
    "    stdev.append( np.std(mycv) *100)\n",
    "\n",
    "mydict['Classifier'] = name\n",
    "mydict['roc_auc(%)'] = roc_score\n",
    "mydict['stdev(%)'] = stdev\n",
    "\n",
    "mybase = pd.DataFrame.from_dict(mydict).set_index('Classifier')\n",
    "mybase"
   ]
  },
  {
   "cell_type": "markdown",
   "metadata": {
    "execution": {
     "iopub.execute_input": "2022-05-21T16:06:29.883794Z",
     "iopub.status.busy": "2022-05-21T16:06:29.883576Z",
     "iopub.status.idle": "2022-05-21T16:06:29.888505Z",
     "shell.execute_reply": "2022-05-21T16:06:29.887846Z",
     "shell.execute_reply.started": "2022-05-21T16:06:29.883772Z"
    }
   },
   "source": [
    "Select models that perform above 90%. "
   ]
  },
  {
   "cell_type": "code",
   "execution_count": 105,
   "metadata": {
    "execution": {
     "iopub.execute_input": "2022-05-27T19:00:31.466129Z",
     "iopub.status.busy": "2022-05-27T19:00:31.465811Z",
     "iopub.status.idle": "2022-05-27T19:00:31.478830Z",
     "shell.execute_reply": "2022-05-27T19:00:31.477870Z",
     "shell.execute_reply.started": "2022-05-27T19:00:31.466094Z"
    },
    "trusted": true
   },
   "outputs": [
    {
     "data": {
      "text/html": [
       "<div>\n",
       "<style scoped>\n",
       "    .dataframe tbody tr th:only-of-type {\n",
       "        vertical-align: middle;\n",
       "    }\n",
       "\n",
       "    .dataframe tbody tr th {\n",
       "        vertical-align: top;\n",
       "    }\n",
       "\n",
       "    .dataframe thead th {\n",
       "        text-align: right;\n",
       "    }\n",
       "</style>\n",
       "<table border=\"1\" class=\"dataframe\">\n",
       "  <thead>\n",
       "    <tr style=\"text-align: right;\">\n",
       "      <th></th>\n",
       "      <th>roc_auc(%)</th>\n",
       "      <th>stdev(%)</th>\n",
       "    </tr>\n",
       "    <tr>\n",
       "      <th>Classifier</th>\n",
       "      <th></th>\n",
       "      <th></th>\n",
       "    </tr>\n",
       "  </thead>\n",
       "  <tbody>\n",
       "    <tr>\n",
       "      <th>RandomForestClassifier</th>\n",
       "      <td>90.040236</td>\n",
       "      <td>1.251976</td>\n",
       "    </tr>\n",
       "    <tr>\n",
       "      <th>LogisticRegression</th>\n",
       "      <td>91.089933</td>\n",
       "      <td>1.176498</td>\n",
       "    </tr>\n",
       "    <tr>\n",
       "      <th>BernoulliNB</th>\n",
       "      <td>92.130917</td>\n",
       "      <td>1.274139</td>\n",
       "    </tr>\n",
       "    <tr>\n",
       "      <th>GradientBoostingClassifier</th>\n",
       "      <td>90.910947</td>\n",
       "      <td>1.043017</td>\n",
       "    </tr>\n",
       "  </tbody>\n",
       "</table>\n",
       "</div>"
      ],
      "text/plain": [
       "                            roc_auc(%)  stdev(%)\n",
       "Classifier                                      \n",
       "RandomForestClassifier       90.040236  1.251976\n",
       "LogisticRegression           91.089933  1.176498\n",
       "BernoulliNB                  92.130917  1.274139\n",
       "GradientBoostingClassifier   90.910947  1.043017"
      ]
     },
     "execution_count": 105,
     "metadata": {},
     "output_type": "execute_result"
    }
   ],
   "source": [
    "mybase[mybase['roc_auc(%)']>90]"
   ]
  },
  {
   "cell_type": "code",
   "execution_count": 106,
   "metadata": {
    "execution": {
     "iopub.execute_input": "2022-05-27T19:00:39.481949Z",
     "iopub.status.busy": "2022-05-27T19:00:39.481634Z",
     "iopub.status.idle": "2022-05-27T19:00:39.486972Z",
     "shell.execute_reply": "2022-05-27T19:00:39.485873Z",
     "shell.execute_reply.started": "2022-05-27T19:00:39.481907Z"
    },
    "trusted": true
   },
   "outputs": [],
   "source": [
    "from sklearn.model_selection import GridSearchCV, RandomizedSearchCV"
   ]
  },
  {
   "cell_type": "markdown",
   "metadata": {},
   "source": [
    "Prepare hyperparameter dictionary of each estimator each having a key as ‘classifier’ and value as estimator object. The hyperparameter keys should start with the word of the classifier separated by ‘__’ (double underscore). Check [this link](https://towardsdatascience.com/how-to-tune-multiple-ml-models-with-gridsearchcv-at-once-9fcebfcc6c23)"
   ]
  },
  {
   "cell_type": "code",
   "execution_count": 107,
   "metadata": {
    "execution": {
     "iopub.execute_input": "2022-05-27T19:00:40.899349Z",
     "iopub.status.busy": "2022-05-27T19:00:40.899052Z",
     "iopub.status.idle": "2022-05-27T19:00:40.922659Z",
     "shell.execute_reply": "2022-05-27T19:00:40.921714Z",
     "shell.execute_reply.started": "2022-05-27T19:00:40.899317Z"
    },
    "trusted": true
   },
   "outputs": [],
   "source": [
    "\n",
    "# ================================================\n",
    "# Random Forest \n",
    "# ================================================\n",
    "param_RF = {}\n",
    "param_RF['classifier__n_estimators'] = [10, 50, 100, 250]\n",
    "param_RF['classifier__max_features'] = ['auto', 'sqrt', 'log2']\n",
    "param_RF['classifier__max_depth'] = [5, 10, 20]\n",
    "param_RF['classifier__class_weight'] = [None, {0:1,1:5}, {0:1,1:10}, {0:1,1:25}]\n",
    "param_RF['classifier'] = [RF_clf]\n",
    "\n",
    "# ================================================\n",
    "# Adaboost \n",
    "# ================================================\n",
    "param_AD = {}\n",
    "param_AD['classifier__n_estimators'] =  [2, 3, 4, 5, 6, 7, 8, 9, 10, 11, 12, 20]\n",
    "param_AD['classifier__learning_rate'] =  [(0.97 + x / 100) for x in range(0, 8)]\n",
    "param_AD['classifier__algorithm'] =  ['SAMME', 'SAMME.R']\n",
    "param_AD['classifier'] = [AD_clf]\n",
    "\n",
    "# ================================================\n",
    "# Logistic Regression\n",
    "# ================================================\n",
    "param_LR = {}\n",
    "param_LR['classifier__C'] = [10**-2, 10**-1, 10**0, 10**1, 10**2]\n",
    "param_LR['classifier__penalty'] = ['l1', 'l2']\n",
    "param_LR['classifier__class_weight'] = [None, {0:1,1:5}, {0:1,1:10}, {0:1,1:25}]\n",
    "param_LR['classifier'] = [LR_clf]\n",
    "\n",
    "# ================================================\n",
    "# Decission Tree\n",
    "# ================================================\n",
    "param_DT = {}\n",
    "param_DT['classifier__max_depth'] = [5,10,25,None]\n",
    "param_DT['classifier__min_samples_leaf'] = [2,5,10]\n",
    "param_DT['classifier__criterion'] = [\"gini\", \"entropy\"]\n",
    "param_DT['classifier__class_weight'] = [None, {0:1,1:5}, {0:1,1:10}, {0:1,1:25}]\n",
    "param_DT['classifier'] = [DT_clf]\n",
    "\n",
    "# ================================================\n",
    "# Extra Trees\n",
    "# ================================================\n",
    "param_ET = {}\n",
    "param_ET['classifier__max_depth'] = [5,10,25,None]\n",
    "param_ET['classifier__max_features'] = [2,5,10]\n",
    "param_ET['classifier__min_samples_split'] = [2,3,10]\n",
    "param_ET['classifier__min_samples_leaf'] = [1,3,10]\n",
    "param_ET['classifier__bootstrap'] = [False]\n",
    "param_ET['classifier__n_estimators'] = [100,300]\n",
    "param_ET['classifier__criterion'] = ['gini']\n",
    "param_ET['classifier'] = [ET_clf]\n",
    "\n",
    "# ================================================\n",
    "# k-Nearest Neighbours\n",
    "# ================================================\n",
    "param_KN = {}\n",
    "param_KN['classifier__n_neighbors'] = [5,7,9,11,13,15]\n",
    "#param_KN['classifier__weights'] = ['uniform','distance']\n",
    "#param_KN['classifier__metric'] = ['minkowski','euclidean','manhattan']\n",
    "param_KN['classifier'] = [KN_clf]\n",
    "\n",
    "# ================================================\n",
    "# Support Vector Classifier\n",
    "# ================================================\n",
    "param_SVC = {}\n",
    "param_SVC['classifier__C'] =  [0.1, 1, 10, 100] \n",
    "param_SVC['classifier__gamma'] = [1.0, 0.1, 0.01, 0.001]\n",
    "param_SVC['classifier__kernel'] = ['rbf', 'poly', 'sigmoid']\n",
    "param_SVC['classifier__class_weight'] = [None, {0:1,1:5}, {0:1,1:10}, {0:1,1:25}]\n",
    "param_SVC['classifier'] = [SVC_clf]\n",
    "\n",
    "# ================================================\n",
    "# Naive Bayes\n",
    "# ================================================\n",
    "param_NB = {}\n",
    "param_NB['classifier__alpha'] = np.logspace(0,-9, num=100)\n",
    "param_NB['classifier'] = [NB_clf]\n",
    "\n",
    "# ================================================\n",
    "# Gradient Boosting\n",
    "# ================================================\n",
    "param_GB = {}\n",
    "param_GB['classifier__n_estimators'] = [10, 50, 100, 250]\n",
    "param_GB['classifier__max_depth'] = [5, 10, 20]\n",
    "param_GB['classifier'] = [GB_clf]"
   ]
  },
  {
   "cell_type": "code",
   "execution_count": 108,
   "metadata": {
    "execution": {
     "iopub.execute_input": "2022-05-27T19:00:42.995119Z",
     "iopub.status.busy": "2022-05-27T19:00:42.994230Z",
     "iopub.status.idle": "2022-05-27T19:00:43.001028Z",
     "shell.execute_reply": "2022-05-27T19:00:42.999845Z",
     "shell.execute_reply.started": "2022-05-27T19:00:42.995056Z"
    },
    "trusted": true
   },
   "outputs": [],
   "source": [
    "# IList the hyperparameter dictionary and prepare a pipeline of the 1st classifier\n",
    "pipeline = Pipeline([('classifier', RF_clf)])\n",
    "myparams = [param_RF, param_AD, param_LR, param_DT, param_KN, param_ET, param_SVC, param_NB, param_GB]"
   ]
  },
  {
   "cell_type": "code",
   "execution_count": 109,
   "metadata": {
    "execution": {
     "iopub.execute_input": "2022-05-27T19:00:44.126767Z",
     "iopub.status.busy": "2022-05-27T19:00:44.125894Z",
     "iopub.status.idle": "2022-05-27T19:00:45.967925Z",
     "shell.execute_reply": "2022-05-27T19:00:45.966758Z",
     "shell.execute_reply.started": "2022-05-27T19:00:44.126731Z"
    },
    "trusted": true
   },
   "outputs": [
    {
     "name": "stdout",
     "output_type": "stream",
     "text": [
      "CPU times: total: 1.05 s\n",
      "Wall time: 1.23 s\n"
     ]
    }
   ],
   "source": [
    "%%time\n",
    "# Train a RandomizedSearchCV model with the pipeline and parameter dictionary list.\n",
    "# We do NOT use test/train split here before oversampling\n",
    "\n",
    "mymodel = RandomizedSearchCV(pipeline, myparams, cv=myKFold, n_jobs=-1, scoring='roc_auc').fit(X = ov_Xtrain, y = ov_ytrain)"
   ]
  },
  {
   "cell_type": "code",
   "execution_count": 110,
   "metadata": {
    "execution": {
     "iopub.execute_input": "2022-05-27T19:00:48.074599Z",
     "iopub.status.busy": "2022-05-27T19:00:48.074166Z",
     "iopub.status.idle": "2022-05-27T19:00:48.091973Z",
     "shell.execute_reply": "2022-05-27T19:00:48.090727Z",
     "shell.execute_reply.started": "2022-05-27T19:00:48.074562Z"
    },
    "trusted": true
   },
   "outputs": [
    {
     "data": {
      "text/html": [
       "<style>#sk-container-id-3 {\n",
       "  /* Definition of color scheme common for light and dark mode */\n",
       "  --sklearn-color-text: black;\n",
       "  --sklearn-color-line: gray;\n",
       "  /* Definition of color scheme for unfitted estimators */\n",
       "  --sklearn-color-unfitted-level-0: #fff5e6;\n",
       "  --sklearn-color-unfitted-level-1: #f6e4d2;\n",
       "  --sklearn-color-unfitted-level-2: #ffe0b3;\n",
       "  --sklearn-color-unfitted-level-3: chocolate;\n",
       "  /* Definition of color scheme for fitted estimators */\n",
       "  --sklearn-color-fitted-level-0: #f0f8ff;\n",
       "  --sklearn-color-fitted-level-1: #d4ebff;\n",
       "  --sklearn-color-fitted-level-2: #b3dbfd;\n",
       "  --sklearn-color-fitted-level-3: cornflowerblue;\n",
       "\n",
       "  /* Specific color for light theme */\n",
       "  --sklearn-color-text-on-default-background: var(--sg-text-color, var(--theme-code-foreground, var(--jp-content-font-color1, black)));\n",
       "  --sklearn-color-background: var(--sg-background-color, var(--theme-background, var(--jp-layout-color0, white)));\n",
       "  --sklearn-color-border-box: var(--sg-text-color, var(--theme-code-foreground, var(--jp-content-font-color1, black)));\n",
       "  --sklearn-color-icon: #696969;\n",
       "\n",
       "  @media (prefers-color-scheme: dark) {\n",
       "    /* Redefinition of color scheme for dark theme */\n",
       "    --sklearn-color-text-on-default-background: var(--sg-text-color, var(--theme-code-foreground, var(--jp-content-font-color1, white)));\n",
       "    --sklearn-color-background: var(--sg-background-color, var(--theme-background, var(--jp-layout-color0, #111)));\n",
       "    --sklearn-color-border-box: var(--sg-text-color, var(--theme-code-foreground, var(--jp-content-font-color1, white)));\n",
       "    --sklearn-color-icon: #878787;\n",
       "  }\n",
       "}\n",
       "\n",
       "#sk-container-id-3 {\n",
       "  color: var(--sklearn-color-text);\n",
       "}\n",
       "\n",
       "#sk-container-id-3 pre {\n",
       "  padding: 0;\n",
       "}\n",
       "\n",
       "#sk-container-id-3 input.sk-hidden--visually {\n",
       "  border: 0;\n",
       "  clip: rect(1px 1px 1px 1px);\n",
       "  clip: rect(1px, 1px, 1px, 1px);\n",
       "  height: 1px;\n",
       "  margin: -1px;\n",
       "  overflow: hidden;\n",
       "  padding: 0;\n",
       "  position: absolute;\n",
       "  width: 1px;\n",
       "}\n",
       "\n",
       "#sk-container-id-3 div.sk-dashed-wrapped {\n",
       "  border: 1px dashed var(--sklearn-color-line);\n",
       "  margin: 0 0.4em 0.5em 0.4em;\n",
       "  box-sizing: border-box;\n",
       "  padding-bottom: 0.4em;\n",
       "  background-color: var(--sklearn-color-background);\n",
       "}\n",
       "\n",
       "#sk-container-id-3 div.sk-container {\n",
       "  /* jupyter's `normalize.less` sets `[hidden] { display: none; }`\n",
       "     but bootstrap.min.css set `[hidden] { display: none !important; }`\n",
       "     so we also need the `!important` here to be able to override the\n",
       "     default hidden behavior on the sphinx rendered scikit-learn.org.\n",
       "     See: https://github.com/scikit-learn/scikit-learn/issues/21755 */\n",
       "  display: inline-block !important;\n",
       "  position: relative;\n",
       "}\n",
       "\n",
       "#sk-container-id-3 div.sk-text-repr-fallback {\n",
       "  display: none;\n",
       "}\n",
       "\n",
       "div.sk-parallel-item,\n",
       "div.sk-serial,\n",
       "div.sk-item {\n",
       "  /* draw centered vertical line to link estimators */\n",
       "  background-image: linear-gradient(var(--sklearn-color-text-on-default-background), var(--sklearn-color-text-on-default-background));\n",
       "  background-size: 2px 100%;\n",
       "  background-repeat: no-repeat;\n",
       "  background-position: center center;\n",
       "}\n",
       "\n",
       "/* Parallel-specific style estimator block */\n",
       "\n",
       "#sk-container-id-3 div.sk-parallel-item::after {\n",
       "  content: \"\";\n",
       "  width: 100%;\n",
       "  border-bottom: 2px solid var(--sklearn-color-text-on-default-background);\n",
       "  flex-grow: 1;\n",
       "}\n",
       "\n",
       "#sk-container-id-3 div.sk-parallel {\n",
       "  display: flex;\n",
       "  align-items: stretch;\n",
       "  justify-content: center;\n",
       "  background-color: var(--sklearn-color-background);\n",
       "  position: relative;\n",
       "}\n",
       "\n",
       "#sk-container-id-3 div.sk-parallel-item {\n",
       "  display: flex;\n",
       "  flex-direction: column;\n",
       "}\n",
       "\n",
       "#sk-container-id-3 div.sk-parallel-item:first-child::after {\n",
       "  align-self: flex-end;\n",
       "  width: 50%;\n",
       "}\n",
       "\n",
       "#sk-container-id-3 div.sk-parallel-item:last-child::after {\n",
       "  align-self: flex-start;\n",
       "  width: 50%;\n",
       "}\n",
       "\n",
       "#sk-container-id-3 div.sk-parallel-item:only-child::after {\n",
       "  width: 0;\n",
       "}\n",
       "\n",
       "/* Serial-specific style estimator block */\n",
       "\n",
       "#sk-container-id-3 div.sk-serial {\n",
       "  display: flex;\n",
       "  flex-direction: column;\n",
       "  align-items: center;\n",
       "  background-color: var(--sklearn-color-background);\n",
       "  padding-right: 1em;\n",
       "  padding-left: 1em;\n",
       "}\n",
       "\n",
       "\n",
       "/* Toggleable style: style used for estimator/Pipeline/ColumnTransformer box that is\n",
       "clickable and can be expanded/collapsed.\n",
       "- Pipeline and ColumnTransformer use this feature and define the default style\n",
       "- Estimators will overwrite some part of the style using the `sk-estimator` class\n",
       "*/\n",
       "\n",
       "/* Pipeline and ColumnTransformer style (default) */\n",
       "\n",
       "#sk-container-id-3 div.sk-toggleable {\n",
       "  /* Default theme specific background. It is overwritten whether we have a\n",
       "  specific estimator or a Pipeline/ColumnTransformer */\n",
       "  background-color: var(--sklearn-color-background);\n",
       "}\n",
       "\n",
       "/* Toggleable label */\n",
       "#sk-container-id-3 label.sk-toggleable__label {\n",
       "  cursor: pointer;\n",
       "  display: block;\n",
       "  width: 100%;\n",
       "  margin-bottom: 0;\n",
       "  padding: 0.5em;\n",
       "  box-sizing: border-box;\n",
       "  text-align: center;\n",
       "}\n",
       "\n",
       "#sk-container-id-3 label.sk-toggleable__label-arrow:before {\n",
       "  /* Arrow on the left of the label */\n",
       "  content: \"▸\";\n",
       "  float: left;\n",
       "  margin-right: 0.25em;\n",
       "  color: var(--sklearn-color-icon);\n",
       "}\n",
       "\n",
       "#sk-container-id-3 label.sk-toggleable__label-arrow:hover:before {\n",
       "  color: var(--sklearn-color-text);\n",
       "}\n",
       "\n",
       "/* Toggleable content - dropdown */\n",
       "\n",
       "#sk-container-id-3 div.sk-toggleable__content {\n",
       "  max-height: 0;\n",
       "  max-width: 0;\n",
       "  overflow: hidden;\n",
       "  text-align: left;\n",
       "  /* unfitted */\n",
       "  background-color: var(--sklearn-color-unfitted-level-0);\n",
       "}\n",
       "\n",
       "#sk-container-id-3 div.sk-toggleable__content.fitted {\n",
       "  /* fitted */\n",
       "  background-color: var(--sklearn-color-fitted-level-0);\n",
       "}\n",
       "\n",
       "#sk-container-id-3 div.sk-toggleable__content pre {\n",
       "  margin: 0.2em;\n",
       "  border-radius: 0.25em;\n",
       "  color: var(--sklearn-color-text);\n",
       "  /* unfitted */\n",
       "  background-color: var(--sklearn-color-unfitted-level-0);\n",
       "}\n",
       "\n",
       "#sk-container-id-3 div.sk-toggleable__content.fitted pre {\n",
       "  /* unfitted */\n",
       "  background-color: var(--sklearn-color-fitted-level-0);\n",
       "}\n",
       "\n",
       "#sk-container-id-3 input.sk-toggleable__control:checked~div.sk-toggleable__content {\n",
       "  /* Expand drop-down */\n",
       "  max-height: 200px;\n",
       "  max-width: 100%;\n",
       "  overflow: auto;\n",
       "}\n",
       "\n",
       "#sk-container-id-3 input.sk-toggleable__control:checked~label.sk-toggleable__label-arrow:before {\n",
       "  content: \"▾\";\n",
       "}\n",
       "\n",
       "/* Pipeline/ColumnTransformer-specific style */\n",
       "\n",
       "#sk-container-id-3 div.sk-label input.sk-toggleable__control:checked~label.sk-toggleable__label {\n",
       "  color: var(--sklearn-color-text);\n",
       "  background-color: var(--sklearn-color-unfitted-level-2);\n",
       "}\n",
       "\n",
       "#sk-container-id-3 div.sk-label.fitted input.sk-toggleable__control:checked~label.sk-toggleable__label {\n",
       "  background-color: var(--sklearn-color-fitted-level-2);\n",
       "}\n",
       "\n",
       "/* Estimator-specific style */\n",
       "\n",
       "/* Colorize estimator box */\n",
       "#sk-container-id-3 div.sk-estimator input.sk-toggleable__control:checked~label.sk-toggleable__label {\n",
       "  /* unfitted */\n",
       "  background-color: var(--sklearn-color-unfitted-level-2);\n",
       "}\n",
       "\n",
       "#sk-container-id-3 div.sk-estimator.fitted input.sk-toggleable__control:checked~label.sk-toggleable__label {\n",
       "  /* fitted */\n",
       "  background-color: var(--sklearn-color-fitted-level-2);\n",
       "}\n",
       "\n",
       "#sk-container-id-3 div.sk-label label.sk-toggleable__label,\n",
       "#sk-container-id-3 div.sk-label label {\n",
       "  /* The background is the default theme color */\n",
       "  color: var(--sklearn-color-text-on-default-background);\n",
       "}\n",
       "\n",
       "/* On hover, darken the color of the background */\n",
       "#sk-container-id-3 div.sk-label:hover label.sk-toggleable__label {\n",
       "  color: var(--sklearn-color-text);\n",
       "  background-color: var(--sklearn-color-unfitted-level-2);\n",
       "}\n",
       "\n",
       "/* Label box, darken color on hover, fitted */\n",
       "#sk-container-id-3 div.sk-label.fitted:hover label.sk-toggleable__label.fitted {\n",
       "  color: var(--sklearn-color-text);\n",
       "  background-color: var(--sklearn-color-fitted-level-2);\n",
       "}\n",
       "\n",
       "/* Estimator label */\n",
       "\n",
       "#sk-container-id-3 div.sk-label label {\n",
       "  font-family: monospace;\n",
       "  font-weight: bold;\n",
       "  display: inline-block;\n",
       "  line-height: 1.2em;\n",
       "}\n",
       "\n",
       "#sk-container-id-3 div.sk-label-container {\n",
       "  text-align: center;\n",
       "}\n",
       "\n",
       "/* Estimator-specific */\n",
       "#sk-container-id-3 div.sk-estimator {\n",
       "  font-family: monospace;\n",
       "  border: 1px dotted var(--sklearn-color-border-box);\n",
       "  border-radius: 0.25em;\n",
       "  box-sizing: border-box;\n",
       "  margin-bottom: 0.5em;\n",
       "  /* unfitted */\n",
       "  background-color: var(--sklearn-color-unfitted-level-0);\n",
       "}\n",
       "\n",
       "#sk-container-id-3 div.sk-estimator.fitted {\n",
       "  /* fitted */\n",
       "  background-color: var(--sklearn-color-fitted-level-0);\n",
       "}\n",
       "\n",
       "/* on hover */\n",
       "#sk-container-id-3 div.sk-estimator:hover {\n",
       "  /* unfitted */\n",
       "  background-color: var(--sklearn-color-unfitted-level-2);\n",
       "}\n",
       "\n",
       "#sk-container-id-3 div.sk-estimator.fitted:hover {\n",
       "  /* fitted */\n",
       "  background-color: var(--sklearn-color-fitted-level-2);\n",
       "}\n",
       "\n",
       "/* Specification for estimator info (e.g. \"i\" and \"?\") */\n",
       "\n",
       "/* Common style for \"i\" and \"?\" */\n",
       "\n",
       ".sk-estimator-doc-link,\n",
       "a:link.sk-estimator-doc-link,\n",
       "a:visited.sk-estimator-doc-link {\n",
       "  float: right;\n",
       "  font-size: smaller;\n",
       "  line-height: 1em;\n",
       "  font-family: monospace;\n",
       "  background-color: var(--sklearn-color-background);\n",
       "  border-radius: 1em;\n",
       "  height: 1em;\n",
       "  width: 1em;\n",
       "  text-decoration: none !important;\n",
       "  margin-left: 1ex;\n",
       "  /* unfitted */\n",
       "  border: var(--sklearn-color-unfitted-level-1) 1pt solid;\n",
       "  color: var(--sklearn-color-unfitted-level-1);\n",
       "}\n",
       "\n",
       ".sk-estimator-doc-link.fitted,\n",
       "a:link.sk-estimator-doc-link.fitted,\n",
       "a:visited.sk-estimator-doc-link.fitted {\n",
       "  /* fitted */\n",
       "  border: var(--sklearn-color-fitted-level-1) 1pt solid;\n",
       "  color: var(--sklearn-color-fitted-level-1);\n",
       "}\n",
       "\n",
       "/* On hover */\n",
       "div.sk-estimator:hover .sk-estimator-doc-link:hover,\n",
       ".sk-estimator-doc-link:hover,\n",
       "div.sk-label-container:hover .sk-estimator-doc-link:hover,\n",
       ".sk-estimator-doc-link:hover {\n",
       "  /* unfitted */\n",
       "  background-color: var(--sklearn-color-unfitted-level-3);\n",
       "  color: var(--sklearn-color-background);\n",
       "  text-decoration: none;\n",
       "}\n",
       "\n",
       "div.sk-estimator.fitted:hover .sk-estimator-doc-link.fitted:hover,\n",
       ".sk-estimator-doc-link.fitted:hover,\n",
       "div.sk-label-container:hover .sk-estimator-doc-link.fitted:hover,\n",
       ".sk-estimator-doc-link.fitted:hover {\n",
       "  /* fitted */\n",
       "  background-color: var(--sklearn-color-fitted-level-3);\n",
       "  color: var(--sklearn-color-background);\n",
       "  text-decoration: none;\n",
       "}\n",
       "\n",
       "/* Span, style for the box shown on hovering the info icon */\n",
       ".sk-estimator-doc-link span {\n",
       "  display: none;\n",
       "  z-index: 9999;\n",
       "  position: relative;\n",
       "  font-weight: normal;\n",
       "  right: .2ex;\n",
       "  padding: .5ex;\n",
       "  margin: .5ex;\n",
       "  width: min-content;\n",
       "  min-width: 20ex;\n",
       "  max-width: 50ex;\n",
       "  color: var(--sklearn-color-text);\n",
       "  box-shadow: 2pt 2pt 4pt #999;\n",
       "  /* unfitted */\n",
       "  background: var(--sklearn-color-unfitted-level-0);\n",
       "  border: .5pt solid var(--sklearn-color-unfitted-level-3);\n",
       "}\n",
       "\n",
       ".sk-estimator-doc-link.fitted span {\n",
       "  /* fitted */\n",
       "  background: var(--sklearn-color-fitted-level-0);\n",
       "  border: var(--sklearn-color-fitted-level-3);\n",
       "}\n",
       "\n",
       ".sk-estimator-doc-link:hover span {\n",
       "  display: block;\n",
       "}\n",
       "\n",
       "/* \"?\"-specific style due to the `<a>` HTML tag */\n",
       "\n",
       "#sk-container-id-3 a.estimator_doc_link {\n",
       "  float: right;\n",
       "  font-size: 1rem;\n",
       "  line-height: 1em;\n",
       "  font-family: monospace;\n",
       "  background-color: var(--sklearn-color-background);\n",
       "  border-radius: 1rem;\n",
       "  height: 1rem;\n",
       "  width: 1rem;\n",
       "  text-decoration: none;\n",
       "  /* unfitted */\n",
       "  color: var(--sklearn-color-unfitted-level-1);\n",
       "  border: var(--sklearn-color-unfitted-level-1) 1pt solid;\n",
       "}\n",
       "\n",
       "#sk-container-id-3 a.estimator_doc_link.fitted {\n",
       "  /* fitted */\n",
       "  border: var(--sklearn-color-fitted-level-1) 1pt solid;\n",
       "  color: var(--sklearn-color-fitted-level-1);\n",
       "}\n",
       "\n",
       "/* On hover */\n",
       "#sk-container-id-3 a.estimator_doc_link:hover {\n",
       "  /* unfitted */\n",
       "  background-color: var(--sklearn-color-unfitted-level-3);\n",
       "  color: var(--sklearn-color-background);\n",
       "  text-decoration: none;\n",
       "}\n",
       "\n",
       "#sk-container-id-3 a.estimator_doc_link.fitted:hover {\n",
       "  /* fitted */\n",
       "  background-color: var(--sklearn-color-fitted-level-3);\n",
       "}\n",
       "</style><div id=\"sk-container-id-3\" class=\"sk-top-container\"><div class=\"sk-text-repr-fallback\"><pre>Pipeline(steps=[(&#x27;classifier&#x27;,\n",
       "                 ExtraTreesClassifier(max_depth=25, max_features=2,\n",
       "                                      min_samples_split=3, random_state=42))])</pre><b>In a Jupyter environment, please rerun this cell to show the HTML representation or trust the notebook. <br />On GitHub, the HTML representation is unable to render, please try loading this page with nbviewer.org.</b></div><div class=\"sk-container\" hidden><div class=\"sk-item sk-dashed-wrapped\"><div class=\"sk-label-container\"><div class=\"sk-label fitted sk-toggleable\"><input class=\"sk-toggleable__control sk-hidden--visually\" id=\"sk-estimator-id-31\" type=\"checkbox\" ><label for=\"sk-estimator-id-31\" class=\"sk-toggleable__label fitted sk-toggleable__label-arrow fitted\">&nbsp;&nbsp;Pipeline<a class=\"sk-estimator-doc-link fitted\" rel=\"noreferrer\" target=\"_blank\" href=\"https://scikit-learn.org/1.5/modules/generated/sklearn.pipeline.Pipeline.html\">?<span>Documentation for Pipeline</span></a><span class=\"sk-estimator-doc-link fitted\">i<span>Fitted</span></span></label><div class=\"sk-toggleable__content fitted\"><pre>Pipeline(steps=[(&#x27;classifier&#x27;,\n",
       "                 ExtraTreesClassifier(max_depth=25, max_features=2,\n",
       "                                      min_samples_split=3, random_state=42))])</pre></div> </div></div><div class=\"sk-serial\"><div class=\"sk-item\"><div class=\"sk-estimator fitted sk-toggleable\"><input class=\"sk-toggleable__control sk-hidden--visually\" id=\"sk-estimator-id-32\" type=\"checkbox\" ><label for=\"sk-estimator-id-32\" class=\"sk-toggleable__label fitted sk-toggleable__label-arrow fitted\">&nbsp;ExtraTreesClassifier<a class=\"sk-estimator-doc-link fitted\" rel=\"noreferrer\" target=\"_blank\" href=\"https://scikit-learn.org/1.5/modules/generated/sklearn.ensemble.ExtraTreesClassifier.html\">?<span>Documentation for ExtraTreesClassifier</span></a></label><div class=\"sk-toggleable__content fitted\"><pre>ExtraTreesClassifier(max_depth=25, max_features=2, min_samples_split=3,\n",
       "                     random_state=42)</pre></div> </div></div></div></div></div></div>"
      ],
      "text/plain": [
       "Pipeline(steps=[('classifier',\n",
       "                 ExtraTreesClassifier(max_depth=25, max_features=2,\n",
       "                                      min_samples_split=3, random_state=42))])"
      ]
     },
     "execution_count": 110,
     "metadata": {},
     "output_type": "execute_result"
    }
   ],
   "source": [
    "mymodel.best_estimator_"
   ]
  },
  {
   "cell_type": "code",
   "execution_count": 111,
   "metadata": {
    "execution": {
     "iopub.execute_input": "2022-05-27T19:00:49.774056Z",
     "iopub.status.busy": "2022-05-27T19:00:49.773511Z",
     "iopub.status.idle": "2022-05-27T19:00:49.780669Z",
     "shell.execute_reply": "2022-05-27T19:00:49.779870Z",
     "shell.execute_reply.started": "2022-05-27T19:00:49.774013Z"
    },
    "trusted": true
   },
   "outputs": [
    {
     "data": {
      "text/plain": [
       "{'classifier__n_estimators': 100,\n",
       " 'classifier__min_samples_split': 3,\n",
       " 'classifier__min_samples_leaf': 1,\n",
       " 'classifier__max_features': 2,\n",
       " 'classifier__max_depth': 25,\n",
       " 'classifier__criterion': 'gini',\n",
       " 'classifier__bootstrap': False,\n",
       " 'classifier': ExtraTreesClassifier(random_state=42)}"
      ]
     },
     "execution_count": 111,
     "metadata": {},
     "output_type": "execute_result"
    }
   ],
   "source": [
    "mymodel.best_params_"
   ]
  },
  {
   "cell_type": "markdown",
   "metadata": {},
   "source": [
    "# Submission\n",
    "[Back to Contents](#Contents)"
   ]
  },
  {
   "cell_type": "code",
   "execution_count": 112,
   "metadata": {
    "execution": {
     "iopub.execute_input": "2022-05-27T19:00:52.838632Z",
     "iopub.status.busy": "2022-05-27T19:00:52.838078Z",
     "iopub.status.idle": "2022-05-27T19:00:52.868935Z",
     "shell.execute_reply": "2022-05-27T19:00:52.867976Z",
     "shell.execute_reply.started": "2022-05-27T19:00:52.838581Z"
    },
    "trusted": true
   },
   "outputs": [
    {
     "data": {
      "text/html": [
       "<div>\n",
       "<style scoped>\n",
       "    .dataframe tbody tr th:only-of-type {\n",
       "        vertical-align: middle;\n",
       "    }\n",
       "\n",
       "    .dataframe tbody tr th {\n",
       "        vertical-align: top;\n",
       "    }\n",
       "\n",
       "    .dataframe thead th {\n",
       "        text-align: right;\n",
       "    }\n",
       "</style>\n",
       "<table border=\"1\" class=\"dataframe\">\n",
       "  <thead>\n",
       "    <tr style=\"text-align: right;\">\n",
       "      <th></th>\n",
       "      <th>0</th>\n",
       "      <th>1</th>\n",
       "    </tr>\n",
       "  </thead>\n",
       "  <tbody>\n",
       "    <tr>\n",
       "      <th>0</th>\n",
       "      <td>1.000</td>\n",
       "      <td>0.000</td>\n",
       "    </tr>\n",
       "    <tr>\n",
       "      <th>1</th>\n",
       "      <td>0.900</td>\n",
       "      <td>0.100</td>\n",
       "    </tr>\n",
       "    <tr>\n",
       "      <th>2</th>\n",
       "      <td>0.785</td>\n",
       "      <td>0.215</td>\n",
       "    </tr>\n",
       "    <tr>\n",
       "      <th>3</th>\n",
       "      <td>0.655</td>\n",
       "      <td>0.345</td>\n",
       "    </tr>\n",
       "    <tr>\n",
       "      <th>4</th>\n",
       "      <td>0.485</td>\n",
       "      <td>0.515</td>\n",
       "    </tr>\n",
       "    <tr>\n",
       "      <th>...</th>\n",
       "      <td>...</td>\n",
       "      <td>...</td>\n",
       "    </tr>\n",
       "    <tr>\n",
       "      <th>195</th>\n",
       "      <td>0.980</td>\n",
       "      <td>0.020</td>\n",
       "    </tr>\n",
       "    <tr>\n",
       "      <th>196</th>\n",
       "      <td>0.315</td>\n",
       "      <td>0.685</td>\n",
       "    </tr>\n",
       "    <tr>\n",
       "      <th>197</th>\n",
       "      <td>0.615</td>\n",
       "      <td>0.385</td>\n",
       "    </tr>\n",
       "    <tr>\n",
       "      <th>198</th>\n",
       "      <td>0.000</td>\n",
       "      <td>1.000</td>\n",
       "    </tr>\n",
       "    <tr>\n",
       "      <th>199</th>\n",
       "      <td>0.440</td>\n",
       "      <td>0.560</td>\n",
       "    </tr>\n",
       "  </tbody>\n",
       "</table>\n",
       "<p>200 rows × 2 columns</p>\n",
       "</div>"
      ],
      "text/plain": [
       "         0      1\n",
       "0    1.000  0.000\n",
       "1    0.900  0.100\n",
       "2    0.785  0.215\n",
       "3    0.655  0.345\n",
       "4    0.485  0.515\n",
       "..     ...    ...\n",
       "195  0.980  0.020\n",
       "196  0.315  0.685\n",
       "197  0.615  0.385\n",
       "198  0.000  1.000\n",
       "199  0.440  0.560\n",
       "\n",
       "[200 rows x 2 columns]"
      ]
     },
     "execution_count": 112,
     "metadata": {},
     "output_type": "execute_result"
    }
   ],
   "source": [
    "predictions = pd.DataFrame(mymodel.best_estimator_.predict_proba(Xtest))\n",
    "predictions"
   ]
  },
  {
   "cell_type": "code",
   "execution_count": 113,
   "metadata": {
    "execution": {
     "iopub.execute_input": "2022-05-27T19:00:54.169963Z",
     "iopub.status.busy": "2022-05-27T19:00:54.169673Z",
     "iopub.status.idle": "2022-05-27T19:00:54.196710Z",
     "shell.execute_reply": "2022-05-27T19:00:54.195914Z",
     "shell.execute_reply.started": "2022-05-27T19:00:54.169931Z"
    },
    "trusted": true
   },
   "outputs": [
    {
     "name": "stdout",
     "output_type": "stream",
     "text": [
      "submission.csv with 200 predictions created\n"
     ]
    }
   ],
   "source": [
    "# check https://www.kaggle.com/competitions/autismdiagnosis/discussion/323303\n",
    "get_predictionfile(mymodel.best_estimator_.predict_proba(Xtest)[:,1], 'submission.csv') # score: 0.85604"
   ]
  },
  {
   "cell_type": "markdown",
   "metadata": {
    "execution": {
     "iopub.execute_input": "2022-05-18T16:09:35.916911Z",
     "iopub.status.busy": "2022-05-18T16:09:35.916426Z",
     "iopub.status.idle": "2022-05-18T16:09:35.921649Z",
     "shell.execute_reply": "2022-05-18T16:09:35.920705Z",
     "shell.execute_reply.started": "2022-05-18T16:09:35.916877Z"
    }
   },
   "source": [
    "### Apendix: \n",
    "\n",
    "We will hyperparameter tunning to see if we increase the roc_auc score. It may take long."
   ]
  },
  {
   "cell_type": "code",
   "execution_count": 114,
   "metadata": {
    "execution": {
     "iopub.execute_input": "2022-05-27T19:00:57.534932Z",
     "iopub.status.busy": "2022-05-27T19:00:57.534474Z",
     "iopub.status.idle": "2022-05-27T19:00:57.548339Z",
     "shell.execute_reply": "2022-05-27T19:00:57.547135Z",
     "shell.execute_reply.started": "2022-05-27T19:00:57.534897Z"
    },
    "trusted": true
   },
   "outputs": [
    {
     "data": {
      "text/html": [
       "<div>\n",
       "<style scoped>\n",
       "    .dataframe tbody tr th:only-of-type {\n",
       "        vertical-align: middle;\n",
       "    }\n",
       "\n",
       "    .dataframe tbody tr th {\n",
       "        vertical-align: top;\n",
       "    }\n",
       "\n",
       "    .dataframe thead th {\n",
       "        text-align: right;\n",
       "    }\n",
       "</style>\n",
       "<table border=\"1\" class=\"dataframe\">\n",
       "  <thead>\n",
       "    <tr style=\"text-align: right;\">\n",
       "      <th></th>\n",
       "      <th>roc_auc(%)</th>\n",
       "      <th>stdev(%)</th>\n",
       "    </tr>\n",
       "    <tr>\n",
       "      <th>Classifier</th>\n",
       "      <th></th>\n",
       "      <th></th>\n",
       "    </tr>\n",
       "  </thead>\n",
       "  <tbody>\n",
       "    <tr>\n",
       "      <th>RandomForestClassifier</th>\n",
       "      <td>90.040236</td>\n",
       "      <td>1.251976</td>\n",
       "    </tr>\n",
       "    <tr>\n",
       "      <th>AdaBoostClassifier</th>\n",
       "      <td>86.624643</td>\n",
       "      <td>2.789708</td>\n",
       "    </tr>\n",
       "    <tr>\n",
       "      <th>ExtraTreesClassifier</th>\n",
       "      <td>89.303205</td>\n",
       "      <td>1.719400</td>\n",
       "    </tr>\n",
       "    <tr>\n",
       "      <th>LogisticRegression</th>\n",
       "      <td>91.089933</td>\n",
       "      <td>1.176498</td>\n",
       "    </tr>\n",
       "    <tr>\n",
       "      <th>DecisionTreeClassifier</th>\n",
       "      <td>77.220204</td>\n",
       "      <td>1.706721</td>\n",
       "    </tr>\n",
       "    <tr>\n",
       "      <th>KNeighborsClassifier</th>\n",
       "      <td>86.453319</td>\n",
       "      <td>1.333898</td>\n",
       "    </tr>\n",
       "    <tr>\n",
       "      <th>SVC</th>\n",
       "      <td>89.200403</td>\n",
       "      <td>1.327332</td>\n",
       "    </tr>\n",
       "    <tr>\n",
       "      <th>BernoulliNB</th>\n",
       "      <td>92.130917</td>\n",
       "      <td>1.274139</td>\n",
       "    </tr>\n",
       "    <tr>\n",
       "      <th>GradientBoostingClassifier</th>\n",
       "      <td>90.910947</td>\n",
       "      <td>1.043017</td>\n",
       "    </tr>\n",
       "  </tbody>\n",
       "</table>\n",
       "</div>"
      ],
      "text/plain": [
       "                            roc_auc(%)  stdev(%)\n",
       "Classifier                                      \n",
       "RandomForestClassifier       90.040236  1.251976\n",
       "AdaBoostClassifier           86.624643  2.789708\n",
       "ExtraTreesClassifier         89.303205  1.719400\n",
       "LogisticRegression           91.089933  1.176498\n",
       "DecisionTreeClassifier       77.220204  1.706721\n",
       "KNeighborsClassifier         86.453319  1.333898\n",
       "SVC                          89.200403  1.327332\n",
       "BernoulliNB                  92.130917  1.274139\n",
       "GradientBoostingClassifier   90.910947  1.043017"
      ]
     },
     "execution_count": 114,
     "metadata": {},
     "output_type": "execute_result"
    }
   ],
   "source": [
    "mybase"
   ]
  },
  {
   "cell_type": "code",
   "execution_count": 115,
   "metadata": {
    "execution": {
     "iopub.execute_input": "2022-05-27T19:00:58.157024Z",
     "iopub.status.busy": "2022-05-27T19:00:58.156577Z",
     "iopub.status.idle": "2022-05-27T19:00:58.176081Z",
     "shell.execute_reply": "2022-05-27T19:00:58.174754Z",
     "shell.execute_reply.started": "2022-05-27T19:00:58.156973Z"
    },
    "trusted": true
   },
   "outputs": [],
   "source": [
    "# 2. Define hyperparameters for all models\n",
    "\n",
    "# ================================================\n",
    "# Random Forest \n",
    "# ================================================\n",
    "RF_params = {}\n",
    "RF_params['n_estimators'] = [5,10,50,100]\n",
    "RF_params['max_features'] = ['sqrt', 'log2']\n",
    "RF_params['max_depth'] =  [4,5,6]\n",
    "RF_params['criterion'] = ['gini', 'entropy']\n",
    "\n",
    "# ================================================\n",
    "# Adaboost \n",
    "# ================================================\n",
    "AD_params = {}\n",
    "AD_params['n_estimators'] =  [2, 3, 4, 5, 6, 7, 8, 9, 10, 11, 12, 20]\n",
    "AD_params['learning_rate'] =  [(0.97 + x / 100) for x in range(0, 8)]\n",
    "AD_params['algorithm'] =  ['SAMME', 'SAMME.R']\n",
    "\n",
    "# ================================================\n",
    "# Logistic Regression\n",
    "# ================================================\n",
    "LR_params = {}\n",
    "LR_params['C'] = np.logspace(-4,4,20) \n",
    "LR_params['penalty'] = ['l1', 'l2']\n",
    "\n",
    "# ================================================\n",
    "# Decission Tree\n",
    "# ================================================\n",
    "DT_params = {}\n",
    "DT_params['max_depth'] =  [1, 2, 3, 10, 20]\n",
    "DT_params['min_samples_leaf'] = [2, 5, 10, 50, 100]\n",
    "DT_params['criterion'] = [\"gini\", \"entropy\"]\n",
    "# 50 combinations\n",
    "\n",
    "# ================================================\n",
    "# Extra Trees\n",
    "# ================================================\n",
    "ET_params = {}\n",
    "ET_params['max_depth'] = [5,10,25,None]\n",
    "ET_params['max_features'] = [2,5,10]\n",
    "ET_params['min_samples_split'] = [2,3,10]\n",
    "ET_params['min_samples_leaf'] = [1,3,10]\n",
    "ET_params['bootstrap'] = [False]\n",
    "ET_params['n_estimators'] = [100,300]\n",
    "ET_params['criterion'] = ['gini']\n",
    "\n",
    "\n",
    "# ================================================\n",
    "# KNeighbors \n",
    "# ================================================\n",
    "KN_params = {}\n",
    "KN_params['n_neighbors'] = [5,7,9,11,13,15]\n",
    "KN_params['weights'] = ['uniform','distance']\n",
    "KN_params['metric' ] = ['minkowski','euclidean','manhattan']\n",
    "\n",
    "# ================================================\n",
    "# Support Vector Classifier\n",
    "# ================================================\n",
    "SVC_params = {}\n",
    "SVC_params['C'] = [0.1,1, 10, 100]\n",
    "SVC_params['gamma'] = [1,0.1,0.01,0.001]\n",
    "SVC_params['kernel'] = ['rbf', 'poly', 'sigmoid']\n",
    "\n",
    "# ================================================\n",
    "# Naive Bayes\n",
    "# ================================================\n",
    "NB_params = {}\n",
    "NB_params['alpha'] = [0.01, 0.1, 0.5, 1.0, 10.0]\n",
    "\n",
    "\n",
    "# ================================================\n",
    "# Gradient Boosting\n",
    "# ================================================\n",
    "GB_params = {}\n",
    "GB_params['n_estimators'] = [10, 50, 100, 250]\n",
    "GB_params['max_depth'] = [5, 10, 20]\n",
    "\n",
    "\n",
    "model_list = [RF_clf, AD_clf, ET_clf, LR_clf, DT_clf, KN_clf, SVC_clf, NB_clf, GB_clf]\n",
    "param_list = [RF_params, AD_params, ET_params, LR_params, DT_params, KN_params, SVC_params, NB_params, GB_params]\n",
    "\n",
    "# collect all models and parameters in dictionary\n",
    "# model inits in keys, parameters in values\n",
    "init_model = dict(zip(model_list, param_list))"
   ]
  },
  {
   "cell_type": "code",
   "execution_count": 116,
   "metadata": {
    "execution": {
     "iopub.execute_input": "2022-05-27T19:00:59.585742Z",
     "iopub.status.busy": "2022-05-27T19:00:59.585440Z",
     "iopub.status.idle": "2022-05-27T19:00:59.591728Z",
     "shell.execute_reply": "2022-05-27T19:00:59.590421Z",
     "shell.execute_reply.started": "2022-05-27T19:00:59.585708Z"
    },
    "trusted": true
   },
   "outputs": [],
   "source": [
    "# We use a 5-fold cross validation for hyperparameter tunning\n",
    "myKFold5 = StratifiedKFold(n_splits = 5, shuffle = True, random_state=42) \n",
    "# We use 4 folds for cross validation with unbalanced dataset\n",
    "myKFold4 = StratifiedKFold(n_splits = 4, shuffle = True, random_state=42) \n"
   ]
  },
  {
   "cell_type": "code",
   "execution_count": 117,
   "metadata": {
    "execution": {
     "iopub.execute_input": "2022-05-27T19:01:00.707090Z",
     "iopub.status.busy": "2022-05-27T19:01:00.706340Z",
     "iopub.status.idle": "2022-05-27T19:04:34.051989Z",
     "shell.execute_reply": "2022-05-27T19:04:34.050784Z",
     "shell.execute_reply.started": "2022-05-27T19:01:00.707052Z"
    },
    "trusted": true
   },
   "outputs": [
    {
     "name": "stderr",
     "output_type": "stream",
     "text": [
      " 22%|██▏       | 2/9 [00:45<02:38, 22.68s/it]\n"
     ]
    },
    {
     "ename": "KeyboardInterrupt",
     "evalue": "",
     "output_type": "error",
     "traceback": [
      "\u001b[1;31m---------------------------------------------------------------------------\u001b[0m",
      "\u001b[1;31mKeyboardInterrupt\u001b[0m                         Traceback (most recent call last)",
      "File \u001b[1;32m<timed exec>:5\u001b[0m\n",
      "File \u001b[1;32mc:\\Users\\ASUS\\AppData\\Local\\Programs\\Python\\Python312\\Lib\\site-packages\\sklearn\\base.py:1473\u001b[0m, in \u001b[0;36m_fit_context.<locals>.decorator.<locals>.wrapper\u001b[1;34m(estimator, *args, **kwargs)\u001b[0m\n\u001b[0;32m   1466\u001b[0m     estimator\u001b[38;5;241m.\u001b[39m_validate_params()\n\u001b[0;32m   1468\u001b[0m \u001b[38;5;28;01mwith\u001b[39;00m config_context(\n\u001b[0;32m   1469\u001b[0m     skip_parameter_validation\u001b[38;5;241m=\u001b[39m(\n\u001b[0;32m   1470\u001b[0m         prefer_skip_nested_validation \u001b[38;5;129;01mor\u001b[39;00m global_skip_validation\n\u001b[0;32m   1471\u001b[0m     )\n\u001b[0;32m   1472\u001b[0m ):\n\u001b[1;32m-> 1473\u001b[0m     \u001b[38;5;28;01mreturn\u001b[39;00m \u001b[43mfit_method\u001b[49m\u001b[43m(\u001b[49m\u001b[43mestimator\u001b[49m\u001b[43m,\u001b[49m\u001b[43m \u001b[49m\u001b[38;5;241;43m*\u001b[39;49m\u001b[43margs\u001b[49m\u001b[43m,\u001b[49m\u001b[43m \u001b[49m\u001b[38;5;241;43m*\u001b[39;49m\u001b[38;5;241;43m*\u001b[39;49m\u001b[43mkwargs\u001b[49m\u001b[43m)\u001b[49m\n",
      "File \u001b[1;32mc:\\Users\\ASUS\\AppData\\Local\\Programs\\Python\\Python312\\Lib\\site-packages\\sklearn\\model_selection\\_search.py:968\u001b[0m, in \u001b[0;36mBaseSearchCV.fit\u001b[1;34m(self, X, y, **params)\u001b[0m\n\u001b[0;32m    962\u001b[0m     results \u001b[38;5;241m=\u001b[39m \u001b[38;5;28mself\u001b[39m\u001b[38;5;241m.\u001b[39m_format_results(\n\u001b[0;32m    963\u001b[0m         all_candidate_params, n_splits, all_out, all_more_results\n\u001b[0;32m    964\u001b[0m     )\n\u001b[0;32m    966\u001b[0m     \u001b[38;5;28;01mreturn\u001b[39;00m results\n\u001b[1;32m--> 968\u001b[0m \u001b[38;5;28;43mself\u001b[39;49m\u001b[38;5;241;43m.\u001b[39;49m\u001b[43m_run_search\u001b[49m\u001b[43m(\u001b[49m\u001b[43mevaluate_candidates\u001b[49m\u001b[43m)\u001b[49m\n\u001b[0;32m    970\u001b[0m \u001b[38;5;66;03m# multimetric is determined here because in the case of a callable\u001b[39;00m\n\u001b[0;32m    971\u001b[0m \u001b[38;5;66;03m# self.scoring the return type is only known after calling\u001b[39;00m\n\u001b[0;32m    972\u001b[0m first_test_score \u001b[38;5;241m=\u001b[39m all_out[\u001b[38;5;241m0\u001b[39m][\u001b[38;5;124m\"\u001b[39m\u001b[38;5;124mtest_scores\u001b[39m\u001b[38;5;124m\"\u001b[39m]\n",
      "File \u001b[1;32mc:\\Users\\ASUS\\AppData\\Local\\Programs\\Python\\Python312\\Lib\\site-packages\\sklearn\\model_selection\\_search.py:1543\u001b[0m, in \u001b[0;36mGridSearchCV._run_search\u001b[1;34m(self, evaluate_candidates)\u001b[0m\n\u001b[0;32m   1541\u001b[0m \u001b[38;5;28;01mdef\u001b[39;00m \u001b[38;5;21m_run_search\u001b[39m(\u001b[38;5;28mself\u001b[39m, evaluate_candidates):\n\u001b[0;32m   1542\u001b[0m \u001b[38;5;250m    \u001b[39m\u001b[38;5;124;03m\"\"\"Search all candidates in param_grid\"\"\"\u001b[39;00m\n\u001b[1;32m-> 1543\u001b[0m     \u001b[43mevaluate_candidates\u001b[49m\u001b[43m(\u001b[49m\u001b[43mParameterGrid\u001b[49m\u001b[43m(\u001b[49m\u001b[38;5;28;43mself\u001b[39;49m\u001b[38;5;241;43m.\u001b[39;49m\u001b[43mparam_grid\u001b[49m\u001b[43m)\u001b[49m\u001b[43m)\u001b[49m\n",
      "File \u001b[1;32mc:\\Users\\ASUS\\AppData\\Local\\Programs\\Python\\Python312\\Lib\\site-packages\\sklearn\\model_selection\\_search.py:914\u001b[0m, in \u001b[0;36mBaseSearchCV.fit.<locals>.evaluate_candidates\u001b[1;34m(candidate_params, cv, more_results)\u001b[0m\n\u001b[0;32m    906\u001b[0m \u001b[38;5;28;01mif\u001b[39;00m \u001b[38;5;28mself\u001b[39m\u001b[38;5;241m.\u001b[39mverbose \u001b[38;5;241m>\u001b[39m \u001b[38;5;241m0\u001b[39m:\n\u001b[0;32m    907\u001b[0m     \u001b[38;5;28mprint\u001b[39m(\n\u001b[0;32m    908\u001b[0m         \u001b[38;5;124m\"\u001b[39m\u001b[38;5;124mFitting \u001b[39m\u001b[38;5;132;01m{0}\u001b[39;00m\u001b[38;5;124m folds for each of \u001b[39m\u001b[38;5;132;01m{1}\u001b[39;00m\u001b[38;5;124m candidates,\u001b[39m\u001b[38;5;124m\"\u001b[39m\n\u001b[0;32m    909\u001b[0m         \u001b[38;5;124m\"\u001b[39m\u001b[38;5;124m totalling \u001b[39m\u001b[38;5;132;01m{2}\u001b[39;00m\u001b[38;5;124m fits\u001b[39m\u001b[38;5;124m\"\u001b[39m\u001b[38;5;241m.\u001b[39mformat(\n\u001b[0;32m    910\u001b[0m             n_splits, n_candidates, n_candidates \u001b[38;5;241m*\u001b[39m n_splits\n\u001b[0;32m    911\u001b[0m         )\n\u001b[0;32m    912\u001b[0m     )\n\u001b[1;32m--> 914\u001b[0m out \u001b[38;5;241m=\u001b[39m \u001b[43mparallel\u001b[49m\u001b[43m(\u001b[49m\n\u001b[0;32m    915\u001b[0m \u001b[43m    \u001b[49m\u001b[43mdelayed\u001b[49m\u001b[43m(\u001b[49m\u001b[43m_fit_and_score\u001b[49m\u001b[43m)\u001b[49m\u001b[43m(\u001b[49m\n\u001b[0;32m    916\u001b[0m \u001b[43m        \u001b[49m\u001b[43mclone\u001b[49m\u001b[43m(\u001b[49m\u001b[43mbase_estimator\u001b[49m\u001b[43m)\u001b[49m\u001b[43m,\u001b[49m\n\u001b[0;32m    917\u001b[0m \u001b[43m        \u001b[49m\u001b[43mX\u001b[49m\u001b[43m,\u001b[49m\n\u001b[0;32m    918\u001b[0m \u001b[43m        \u001b[49m\u001b[43my\u001b[49m\u001b[43m,\u001b[49m\n\u001b[0;32m    919\u001b[0m \u001b[43m        \u001b[49m\u001b[43mtrain\u001b[49m\u001b[38;5;241;43m=\u001b[39;49m\u001b[43mtrain\u001b[49m\u001b[43m,\u001b[49m\n\u001b[0;32m    920\u001b[0m \u001b[43m        \u001b[49m\u001b[43mtest\u001b[49m\u001b[38;5;241;43m=\u001b[39;49m\u001b[43mtest\u001b[49m\u001b[43m,\u001b[49m\n\u001b[0;32m    921\u001b[0m \u001b[43m        \u001b[49m\u001b[43mparameters\u001b[49m\u001b[38;5;241;43m=\u001b[39;49m\u001b[43mparameters\u001b[49m\u001b[43m,\u001b[49m\n\u001b[0;32m    922\u001b[0m \u001b[43m        \u001b[49m\u001b[43msplit_progress\u001b[49m\u001b[38;5;241;43m=\u001b[39;49m\u001b[43m(\u001b[49m\u001b[43msplit_idx\u001b[49m\u001b[43m,\u001b[49m\u001b[43m \u001b[49m\u001b[43mn_splits\u001b[49m\u001b[43m)\u001b[49m\u001b[43m,\u001b[49m\n\u001b[0;32m    923\u001b[0m \u001b[43m        \u001b[49m\u001b[43mcandidate_progress\u001b[49m\u001b[38;5;241;43m=\u001b[39;49m\u001b[43m(\u001b[49m\u001b[43mcand_idx\u001b[49m\u001b[43m,\u001b[49m\u001b[43m \u001b[49m\u001b[43mn_candidates\u001b[49m\u001b[43m)\u001b[49m\u001b[43m,\u001b[49m\n\u001b[0;32m    924\u001b[0m \u001b[43m        \u001b[49m\u001b[38;5;241;43m*\u001b[39;49m\u001b[38;5;241;43m*\u001b[39;49m\u001b[43mfit_and_score_kwargs\u001b[49m\u001b[43m,\u001b[49m\n\u001b[0;32m    925\u001b[0m \u001b[43m    \u001b[49m\u001b[43m)\u001b[49m\n\u001b[0;32m    926\u001b[0m \u001b[43m    \u001b[49m\u001b[38;5;28;43;01mfor\u001b[39;49;00m\u001b[43m \u001b[49m\u001b[43m(\u001b[49m\u001b[43mcand_idx\u001b[49m\u001b[43m,\u001b[49m\u001b[43m \u001b[49m\u001b[43mparameters\u001b[49m\u001b[43m)\u001b[49m\u001b[43m,\u001b[49m\u001b[43m \u001b[49m\u001b[43m(\u001b[49m\u001b[43msplit_idx\u001b[49m\u001b[43m,\u001b[49m\u001b[43m \u001b[49m\u001b[43m(\u001b[49m\u001b[43mtrain\u001b[49m\u001b[43m,\u001b[49m\u001b[43m \u001b[49m\u001b[43mtest\u001b[49m\u001b[43m)\u001b[49m\u001b[43m)\u001b[49m\u001b[43m \u001b[49m\u001b[38;5;129;43;01min\u001b[39;49;00m\u001b[43m \u001b[49m\u001b[43mproduct\u001b[49m\u001b[43m(\u001b[49m\n\u001b[0;32m    927\u001b[0m \u001b[43m        \u001b[49m\u001b[38;5;28;43menumerate\u001b[39;49m\u001b[43m(\u001b[49m\u001b[43mcandidate_params\u001b[49m\u001b[43m)\u001b[49m\u001b[43m,\u001b[49m\n\u001b[0;32m    928\u001b[0m \u001b[43m        \u001b[49m\u001b[38;5;28;43menumerate\u001b[39;49m\u001b[43m(\u001b[49m\u001b[43mcv\u001b[49m\u001b[38;5;241;43m.\u001b[39;49m\u001b[43msplit\u001b[49m\u001b[43m(\u001b[49m\u001b[43mX\u001b[49m\u001b[43m,\u001b[49m\u001b[43m \u001b[49m\u001b[43my\u001b[49m\u001b[43m,\u001b[49m\u001b[43m \u001b[49m\u001b[38;5;241;43m*\u001b[39;49m\u001b[38;5;241;43m*\u001b[39;49m\u001b[43mrouted_params\u001b[49m\u001b[38;5;241;43m.\u001b[39;49m\u001b[43msplitter\u001b[49m\u001b[38;5;241;43m.\u001b[39;49m\u001b[43msplit\u001b[49m\u001b[43m)\u001b[49m\u001b[43m)\u001b[49m\u001b[43m,\u001b[49m\n\u001b[0;32m    929\u001b[0m \u001b[43m    \u001b[49m\u001b[43m)\u001b[49m\n\u001b[0;32m    930\u001b[0m \u001b[43m\u001b[49m\u001b[43m)\u001b[49m\n\u001b[0;32m    932\u001b[0m \u001b[38;5;28;01mif\u001b[39;00m \u001b[38;5;28mlen\u001b[39m(out) \u001b[38;5;241m<\u001b[39m \u001b[38;5;241m1\u001b[39m:\n\u001b[0;32m    933\u001b[0m     \u001b[38;5;28;01mraise\u001b[39;00m \u001b[38;5;167;01mValueError\u001b[39;00m(\n\u001b[0;32m    934\u001b[0m         \u001b[38;5;124m\"\u001b[39m\u001b[38;5;124mNo fits were performed. \u001b[39m\u001b[38;5;124m\"\u001b[39m\n\u001b[0;32m    935\u001b[0m         \u001b[38;5;124m\"\u001b[39m\u001b[38;5;124mWas the CV iterator empty? \u001b[39m\u001b[38;5;124m\"\u001b[39m\n\u001b[0;32m    936\u001b[0m         \u001b[38;5;124m\"\u001b[39m\u001b[38;5;124mWere there no candidates?\u001b[39m\u001b[38;5;124m\"\u001b[39m\n\u001b[0;32m    937\u001b[0m     )\n",
      "File \u001b[1;32mc:\\Users\\ASUS\\AppData\\Local\\Programs\\Python\\Python312\\Lib\\site-packages\\sklearn\\utils\\parallel.py:67\u001b[0m, in \u001b[0;36mParallel.__call__\u001b[1;34m(self, iterable)\u001b[0m\n\u001b[0;32m     62\u001b[0m config \u001b[38;5;241m=\u001b[39m get_config()\n\u001b[0;32m     63\u001b[0m iterable_with_config \u001b[38;5;241m=\u001b[39m (\n\u001b[0;32m     64\u001b[0m     (_with_config(delayed_func, config), args, kwargs)\n\u001b[0;32m     65\u001b[0m     \u001b[38;5;28;01mfor\u001b[39;00m delayed_func, args, kwargs \u001b[38;5;129;01min\u001b[39;00m iterable\n\u001b[0;32m     66\u001b[0m )\n\u001b[1;32m---> 67\u001b[0m \u001b[38;5;28;01mreturn\u001b[39;00m \u001b[38;5;28;43msuper\u001b[39;49m\u001b[43m(\u001b[49m\u001b[43m)\u001b[49m\u001b[38;5;241;43m.\u001b[39;49m\u001b[38;5;21;43m__call__\u001b[39;49m\u001b[43m(\u001b[49m\u001b[43miterable_with_config\u001b[49m\u001b[43m)\u001b[49m\n",
      "File \u001b[1;32mc:\\Users\\ASUS\\AppData\\Local\\Programs\\Python\\Python312\\Lib\\site-packages\\joblib\\parallel.py:2007\u001b[0m, in \u001b[0;36mParallel.__call__\u001b[1;34m(self, iterable)\u001b[0m\n\u001b[0;32m   2001\u001b[0m \u001b[38;5;66;03m# The first item from the output is blank, but it makes the interpreter\u001b[39;00m\n\u001b[0;32m   2002\u001b[0m \u001b[38;5;66;03m# progress until it enters the Try/Except block of the generator and\u001b[39;00m\n\u001b[0;32m   2003\u001b[0m \u001b[38;5;66;03m# reaches the first `yield` statement. This starts the asynchronous\u001b[39;00m\n\u001b[0;32m   2004\u001b[0m \u001b[38;5;66;03m# dispatch of the tasks to the workers.\u001b[39;00m\n\u001b[0;32m   2005\u001b[0m \u001b[38;5;28mnext\u001b[39m(output)\n\u001b[1;32m-> 2007\u001b[0m \u001b[38;5;28;01mreturn\u001b[39;00m output \u001b[38;5;28;01mif\u001b[39;00m \u001b[38;5;28mself\u001b[39m\u001b[38;5;241m.\u001b[39mreturn_generator \u001b[38;5;28;01melse\u001b[39;00m \u001b[38;5;28;43mlist\u001b[39;49m\u001b[43m(\u001b[49m\u001b[43moutput\u001b[49m\u001b[43m)\u001b[49m\n",
      "File \u001b[1;32mc:\\Users\\ASUS\\AppData\\Local\\Programs\\Python\\Python312\\Lib\\site-packages\\joblib\\parallel.py:1650\u001b[0m, in \u001b[0;36mParallel._get_outputs\u001b[1;34m(self, iterator, pre_dispatch)\u001b[0m\n\u001b[0;32m   1647\u001b[0m     \u001b[38;5;28;01myield\u001b[39;00m\n\u001b[0;32m   1649\u001b[0m     \u001b[38;5;28;01mwith\u001b[39;00m \u001b[38;5;28mself\u001b[39m\u001b[38;5;241m.\u001b[39m_backend\u001b[38;5;241m.\u001b[39mretrieval_context():\n\u001b[1;32m-> 1650\u001b[0m         \u001b[38;5;28;01myield from\u001b[39;00m \u001b[38;5;28mself\u001b[39m\u001b[38;5;241m.\u001b[39m_retrieve()\n\u001b[0;32m   1652\u001b[0m \u001b[38;5;28;01mexcept\u001b[39;00m \u001b[38;5;167;01mGeneratorExit\u001b[39;00m:\n\u001b[0;32m   1653\u001b[0m     \u001b[38;5;66;03m# The generator has been garbage collected before being fully\u001b[39;00m\n\u001b[0;32m   1654\u001b[0m     \u001b[38;5;66;03m# consumed. This aborts the remaining tasks if possible and warn\u001b[39;00m\n\u001b[0;32m   1655\u001b[0m     \u001b[38;5;66;03m# the user if necessary.\u001b[39;00m\n\u001b[0;32m   1656\u001b[0m     \u001b[38;5;28mself\u001b[39m\u001b[38;5;241m.\u001b[39m_exception \u001b[38;5;241m=\u001b[39m \u001b[38;5;28;01mTrue\u001b[39;00m\n",
      "File \u001b[1;32mc:\\Users\\ASUS\\AppData\\Local\\Programs\\Python\\Python312\\Lib\\site-packages\\joblib\\parallel.py:1762\u001b[0m, in \u001b[0;36mParallel._retrieve\u001b[1;34m(self)\u001b[0m\n\u001b[0;32m   1757\u001b[0m \u001b[38;5;66;03m# If the next job is not ready for retrieval yet, we just wait for\u001b[39;00m\n\u001b[0;32m   1758\u001b[0m \u001b[38;5;66;03m# async callbacks to progress.\u001b[39;00m\n\u001b[0;32m   1759\u001b[0m \u001b[38;5;28;01mif\u001b[39;00m ((\u001b[38;5;28mlen\u001b[39m(\u001b[38;5;28mself\u001b[39m\u001b[38;5;241m.\u001b[39m_jobs) \u001b[38;5;241m==\u001b[39m \u001b[38;5;241m0\u001b[39m) \u001b[38;5;129;01mor\u001b[39;00m\n\u001b[0;32m   1760\u001b[0m     (\u001b[38;5;28mself\u001b[39m\u001b[38;5;241m.\u001b[39m_jobs[\u001b[38;5;241m0\u001b[39m]\u001b[38;5;241m.\u001b[39mget_status(\n\u001b[0;32m   1761\u001b[0m         timeout\u001b[38;5;241m=\u001b[39m\u001b[38;5;28mself\u001b[39m\u001b[38;5;241m.\u001b[39mtimeout) \u001b[38;5;241m==\u001b[39m TASK_PENDING)):\n\u001b[1;32m-> 1762\u001b[0m     \u001b[43mtime\u001b[49m\u001b[38;5;241;43m.\u001b[39;49m\u001b[43msleep\u001b[49m\u001b[43m(\u001b[49m\u001b[38;5;241;43m0.01\u001b[39;49m\u001b[43m)\u001b[49m\n\u001b[0;32m   1763\u001b[0m     \u001b[38;5;28;01mcontinue\u001b[39;00m\n\u001b[0;32m   1765\u001b[0m \u001b[38;5;66;03m# We need to be careful: the job list can be filling up as\u001b[39;00m\n\u001b[0;32m   1766\u001b[0m \u001b[38;5;66;03m# we empty it and Python list are not thread-safe by\u001b[39;00m\n\u001b[0;32m   1767\u001b[0m \u001b[38;5;66;03m# default hence the use of the lock\u001b[39;00m\n",
      "\u001b[1;31mKeyboardInterrupt\u001b[0m: "
     ]
    }
   ],
   "source": [
    "%%time\n",
    "\n",
    "grid_model = list()\n",
    "for model, params in tqdm(init_model.items()):    \n",
    "    \n",
    "    mymodel = GridSearchCV(estimator = model, param_grid = params, scoring = 'roc_auc', cv = myKFold5, n_jobs=-1)\n",
    "    mymodel.fit(X = ov_Xtrain, y = ov_ytrain) # fit with balanced oversampling dataset\n",
    "    mycv = cross_val_score(mymodel.best_estimator_, Xtrain, y = train_target, scoring = \"roc_auc\", cv = myKFold4, n_jobs=-1) # test with unbalanced\n",
    "\n",
    "    # save everything in a dict\n",
    "    mydict = dict()\n",
    "    mydict['model'] =  mymodel\n",
    "    mydict['name'] = type(model).__name__\n",
    "    mydict['roc_auc'] = np.mean(mycv)*100\n",
    "    grid_model.append( mydict) \n",
    "\n"
   ]
  },
  {
   "cell_type": "code",
   "execution_count": null,
   "metadata": {
    "execution": {
     "iopub.execute_input": "2022-05-27T19:05:05.894344Z",
     "iopub.status.busy": "2022-05-27T19:05:05.894032Z",
     "iopub.status.idle": "2022-05-27T19:05:05.901030Z",
     "shell.execute_reply": "2022-05-27T19:05:05.899844Z",
     "shell.execute_reply.started": "2022-05-27T19:05:05.894309Z"
    },
    "trusted": true
   },
   "outputs": [],
   "source": [
    "name = list()\n",
    "roc_auc = list()\n",
    "for model in grid_model:\n",
    "    name.append( model['name'] )\n",
    "    roc_auc.append(model['roc_auc'])\n",
    "    \n",
    "myfoo = dict()\n",
    "myfoo['Classifier'] = name\n",
    "myfoo['roc_auc'] = roc_auc"
   ]
  },
  {
   "cell_type": "code",
   "execution_count": null,
   "metadata": {
    "execution": {
     "iopub.execute_input": "2022-05-27T19:05:07.206180Z",
     "iopub.status.busy": "2022-05-27T19:05:07.205901Z",
     "iopub.status.idle": "2022-05-27T19:05:07.212381Z",
     "shell.execute_reply": "2022-05-27T19:05:07.211644Z",
     "shell.execute_reply.started": "2022-05-27T19:05:07.206149Z"
    },
    "trusted": true
   },
   "outputs": [],
   "source": [
    "new = pd.DataFrame.from_dict(myfoo).set_index(['Classifier'])"
   ]
  },
  {
   "cell_type": "code",
   "execution_count": null,
   "metadata": {
    "execution": {
     "iopub.execute_input": "2022-05-27T19:05:08.382013Z",
     "iopub.status.busy": "2022-05-27T19:05:08.381390Z",
     "iopub.status.idle": "2022-05-27T19:05:08.398033Z",
     "shell.execute_reply": "2022-05-27T19:05:08.396418Z",
     "shell.execute_reply.started": "2022-05-27T19:05:08.381978Z"
    },
    "trusted": true
   },
   "outputs": [],
   "source": [
    "myhyper = pd.concat([mybase, new], axis=1) # slighlty better results, now\n",
    "myhyper"
   ]
  },
  {
   "cell_type": "code",
   "execution_count": null,
   "metadata": {
    "execution": {
     "iopub.execute_input": "2022-05-27T19:05:12.833529Z",
     "iopub.status.busy": "2022-05-27T19:05:12.833187Z",
     "iopub.status.idle": "2022-05-27T19:05:12.847492Z",
     "shell.execute_reply": "2022-05-27T19:05:12.846306Z",
     "shell.execute_reply.started": "2022-05-27T19:05:12.833493Z"
    },
    "trusted": true
   },
   "outputs": [],
   "source": [
    "myhyper[ myhyper['roc_auc'] >= 90 ] # "
   ]
  },
  {
   "cell_type": "markdown",
   "metadata": {},
   "source": [
    "### Voting\n",
    "\n",
    "A voting classifier takes the outcomes of the models averages the results. \n",
    "\n",
    "* The \"hard\" voting classifier vote \"yes\" or \"no\" and the result is just the sum vote. It is used when we have anodd numbers of classifiers.\n",
    "\n",
    "* The \"soft\" classifier averages the confidence of each of the models. If a the average confidence is > 50% of an outcome, that one will be counted."
   ]
  },
  {
   "cell_type": "code",
   "execution_count": null,
   "metadata": {
    "execution": {
     "iopub.execute_input": "2022-05-27T19:05:17.361145Z",
     "iopub.status.busy": "2022-05-27T19:05:17.360820Z",
     "iopub.status.idle": "2022-05-27T19:05:17.366430Z",
     "shell.execute_reply": "2022-05-27T19:05:17.365266Z",
     "shell.execute_reply.started": "2022-05-27T19:05:17.361109Z"
    },
    "trusted": true
   },
   "outputs": [],
   "source": [
    "from sklearn.ensemble import VotingClassifier"
   ]
  },
  {
   "cell_type": "code",
   "execution_count": null,
   "metadata": {
    "execution": {
     "iopub.execute_input": "2022-05-27T19:05:19.109853Z",
     "iopub.status.busy": "2022-05-27T19:05:19.108751Z",
     "iopub.status.idle": "2022-05-27T19:14:01.734926Z",
     "shell.execute_reply": "2022-05-27T19:14:01.734156Z",
     "shell.execute_reply.started": "2022-05-27T19:05:19.109787Z"
    },
    "trusted": true
   },
   "outputs": [],
   "source": [
    "# select classifiers and weight those according to the roc_auc score\n",
    "myestimators = list()\n",
    "myweight = list()\n",
    "for model in grid_model:\n",
    "    pair = ( model['name'], model['model'] )\n",
    "    myestimators.append( pair )\n",
    "    myweight.append( model['roc_auc']/100)\n",
    "    \n",
    "#RF = ('RF', RF_clf)\n",
    "#AD = ('AD', AD_clf)\n",
    "#ET = ('ET', ET_clf)\n",
    "#LR = ('LR', LR_clf)\n",
    "#DT = ('DT', DT_clf)\n",
    "#KN = ('KN', KN_clf)\n",
    "#SV = ('SV', SVC_clf)\n",
    "#NB = ('NB', NB_clf)\n",
    "#GB = ('GB', GB_clf)\n",
    "\n",
    "\n",
    "votingC = VotingClassifier(estimators = myestimators, voting='soft', weights = myweight, n_jobs=-1)\n",
    "votingC = votingC.fit(ov_Xtrain, ov_ytrain)"
   ]
  },
  {
   "cell_type": "code",
   "execution_count": null,
   "metadata": {
    "execution": {
     "iopub.execute_input": "2022-05-27T19:15:56.424187Z",
     "iopub.status.busy": "2022-05-27T19:15:56.423838Z",
     "iopub.status.idle": "2022-05-27T19:15:56.567988Z",
     "shell.execute_reply": "2022-05-27T19:15:56.566924Z",
     "shell.execute_reply.started": "2022-05-27T19:15:56.424151Z"
    },
    "trusted": true
   },
   "outputs": [],
   "source": [
    "get_predictionfile(votingC.predict_proba(Xtest)[:,1], 'voting_submission.csv') # score: 0.85629"
   ]
  },
  {
   "cell_type": "code",
   "execution_count": null,
   "metadata": {
    "execution": {
     "iopub.execute_input": "2022-05-27T19:15:57.702467Z",
     "iopub.status.busy": "2022-05-27T19:15:57.702129Z",
     "iopub.status.idle": "2022-05-27T19:24:27.413705Z",
     "shell.execute_reply": "2022-05-27T19:24:27.412758Z",
     "shell.execute_reply.started": "2022-05-27T19:15:57.702431Z"
    },
    "trusted": true
   },
   "outputs": [],
   "source": [
    "# select classifiers whose roc_auc => 0.90 and do not weight those\n",
    "myselection = myhyper[ myhyper['roc_auc'] >= 90 ].index.to_list()\n",
    "print(myselection)\n",
    "\n",
    "myestimators = list()\n",
    "for model in grid_model:\n",
    "    if model['name'] in myselection:\n",
    "        \n",
    "        pair = ( model['name'], model['model'] )\n",
    "        myestimators.append( pair )\n",
    "\n",
    "votingC = VotingClassifier(estimators = myestimators, voting='soft', n_jobs=-1)\n",
    "votingC = votingC.fit(ov_Xtrain, ov_ytrain)\n"
   ]
  },
  {
   "cell_type": "code",
   "execution_count": null,
   "metadata": {
    "execution": {
     "iopub.execute_input": "2022-05-27T20:15:52.061165Z",
     "iopub.status.busy": "2022-05-27T20:15:52.060684Z",
     "iopub.status.idle": "2022-05-27T20:15:52.189289Z",
     "shell.execute_reply": "2022-05-27T20:15:52.188297Z",
     "shell.execute_reply.started": "2022-05-27T20:15:52.061124Z"
    },
    "trusted": true
   },
   "outputs": [],
   "source": [
    "get_predictionfile(votingC.predict_proba(Xtest)[:,1], 'voting_selected_submission.csv') # score: 0.86003"
   ]
  },
  {
   "cell_type": "code",
   "execution_count": null,
   "metadata": {
    "execution": {
     "iopub.execute_input": "2022-05-27T20:16:31.913249Z",
     "iopub.status.busy": "2022-05-27T20:16:31.912882Z",
     "iopub.status.idle": "2022-05-27T20:17:15.038802Z",
     "shell.execute_reply": "2022-05-27T20:17:15.037540Z",
     "shell.execute_reply.started": "2022-05-27T20:16:31.913204Z"
    },
    "trusted": true
   },
   "outputs": [],
   "source": [
    "myselection =  ['RandomForestClassifier', 'GradientBoostingClassifier', 'LogisticRegression', 'BernoulliNB']\n",
    "\n",
    "myestimators = list()\n",
    "for model in grid_model:\n",
    "    if model['name'] in myselection:\n",
    "        \n",
    "        pair = ( model['name'], model['model'] )\n",
    "        myestimators.append( pair )\n",
    "\n",
    "votingC = VotingClassifier(estimators = myestimators, voting='soft', n_jobs=-1)\n",
    "votingC = votingC.fit(ov_Xtrain, ov_ytrain)"
   ]
  },
  {
   "cell_type": "code",
   "execution_count": null,
   "metadata": {
    "execution": {
     "iopub.execute_input": "2022-05-27T20:17:15.044027Z",
     "iopub.status.busy": "2022-05-27T20:17:15.043669Z",
     "iopub.status.idle": "2022-05-27T20:17:15.092283Z",
     "shell.execute_reply": "2022-05-27T20:17:15.091570Z",
     "shell.execute_reply.started": "2022-05-27T20:17:15.043979Z"
    },
    "trusted": true
   },
   "outputs": [],
   "source": [
    "get_predictionfile(votingC.predict_proba(Xtest)[:,1], 'voting_diversed_submission.csv') # score: 0."
   ]
  },
  {
   "cell_type": "code",
   "execution_count": null,
   "metadata": {
    "execution": {
     "iopub.execute_input": "2022-05-27T20:20:32.346531Z",
     "iopub.status.busy": "2022-05-27T20:20:32.346218Z",
     "iopub.status.idle": "2022-05-27T20:21:12.780850Z",
     "shell.execute_reply": "2022-05-27T20:21:12.780124Z",
     "shell.execute_reply.started": "2022-05-27T20:20:32.346500Z"
    },
    "trusted": true
   },
   "outputs": [],
   "source": [
    "# most distint ones\n",
    "myselection =  ['RandomForestClassifier', 'GradientBoostingClassifier', 'BernoulliNB']\n",
    "myestimators = list()\n",
    "for model in grid_model:\n",
    "    if model['name'] in myselection:\n",
    "        \n",
    "        pair = ( model['name'], model['model'] )\n",
    "        myestimators.append( pair )\n",
    "\n",
    "votingC = VotingClassifier(estimators = myestimators, voting='soft', n_jobs=-1)\n",
    "votingC = votingC.fit(ov_Xtrain, ov_ytrain)"
   ]
  },
  {
   "cell_type": "code",
   "execution_count": null,
   "metadata": {
    "execution": {
     "iopub.execute_input": "2022-05-27T20:21:12.782790Z",
     "iopub.status.busy": "2022-05-27T20:21:12.782435Z",
     "iopub.status.idle": "2022-05-27T20:21:12.811246Z",
     "shell.execute_reply": "2022-05-27T20:21:12.810424Z",
     "shell.execute_reply.started": "2022-05-27T20:21:12.782744Z"
    },
    "trusted": true
   },
   "outputs": [],
   "source": [
    "get_predictionfile(votingC.predict_proba(Xtest)[:,1], 'voting_diversed_submission2.csv') # score: 0.85915"
   ]
  },
  {
   "cell_type": "code",
   "execution_count": null,
   "metadata": {},
   "outputs": [],
   "source": []
  }
 ],
 "metadata": {
  "kernelspec": {
   "display_name": "Python 3",
   "language": "python",
   "name": "python3"
  },
  "language_info": {
   "codemirror_mode": {
    "name": "ipython",
    "version": 3
   },
   "file_extension": ".py",
   "mimetype": "text/x-python",
   "name": "python",
   "nbconvert_exporter": "python",
   "pygments_lexer": "ipython3",
   "version": "3.12.3"
  }
 },
 "nbformat": 4,
 "nbformat_minor": 4
}
