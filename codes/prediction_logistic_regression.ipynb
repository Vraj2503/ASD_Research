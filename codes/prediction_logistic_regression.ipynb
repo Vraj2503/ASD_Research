{
 "cells": [
  {
   "cell_type": "code",
   "execution_count": 1,
   "metadata": {},
   "outputs": [],
   "source": [
    "import os\n",
    "import random\n",
    "import matplotlib.pyplot as plt\n",
    "import seaborn as sns\n",
    "import plotly.express as px\n",
    "import enum\n",
    "import math\n",
    "import pandas as pd\n",
    "\n",
    "from pycomp.viz.insights import *    #Creating custom visualizations\n",
    "from sklearn import preprocessing\n",
    "from sklearn.metrics import mean_absolute_error, roc_auc_score\n",
    "from sklearn.metrics import roc_auc_score\n",
    "from collections import Counter\n",
    "from sklearn.model_selection import StratifiedKFold\n",
    "from sklearn.linear_model import LogisticRegression\n",
    "from sklearn import metrics\n",
    "from sklearn.pipeline import Pipeline\n",
    "from sklearn.preprocessing import StandardScaler\n",
    "from sklearn.metrics import RocCurveDisplay\n",
    "from sklearn.model_selection import GridSearchCV, StratifiedKFold\n",
    "plt.style.use('ggplot')\n",
    "plt.rcParams['figure.figsize'] = [12, 8]\n",
    "pd.set_option('display.max_columns', None)\n",
    "\n",
    "import warnings\n",
    "warnings.filterwarnings('ignore')"
   ]
  },
  {
   "cell_type": "code",
   "execution_count": 2,
   "metadata": {},
   "outputs": [],
   "source": [
    "PATH = 'Autism-prediction'\n",
    "train_data = pd.read_csv(os.path.join(PATH, 'train (1).csv'))\n",
    "test_data = pd.read_csv(os.path.join(PATH, 'test.csv'))\n",
    "final_data = pd.read_csv(os.path.join(PATH, 'sample_submission.csv'))"
   ]
  },
  {
   "cell_type": "code",
   "execution_count": 3,
   "metadata": {},
   "outputs": [
    {
     "data": {
      "text/html": [
       "<div>\n",
       "<style scoped>\n",
       "    .dataframe tbody tr th:only-of-type {\n",
       "        vertical-align: middle;\n",
       "    }\n",
       "\n",
       "    .dataframe tbody tr th {\n",
       "        vertical-align: top;\n",
       "    }\n",
       "\n",
       "    .dataframe thead th {\n",
       "        text-align: right;\n",
       "    }\n",
       "</style>\n",
       "<table border=\"1\" class=\"dataframe\">\n",
       "  <thead>\n",
       "    <tr style=\"text-align: right;\">\n",
       "      <th></th>\n",
       "      <th>ID</th>\n",
       "      <th>A1_Score</th>\n",
       "      <th>A2_Score</th>\n",
       "      <th>A3_Score</th>\n",
       "      <th>A4_Score</th>\n",
       "      <th>A5_Score</th>\n",
       "      <th>A6_Score</th>\n",
       "      <th>A7_Score</th>\n",
       "      <th>A8_Score</th>\n",
       "      <th>A9_Score</th>\n",
       "      <th>A10_Score</th>\n",
       "      <th>age</th>\n",
       "      <th>gender</th>\n",
       "      <th>ethnicity</th>\n",
       "      <th>jaundice</th>\n",
       "      <th>austim</th>\n",
       "      <th>contry_of_res</th>\n",
       "      <th>used_app_before</th>\n",
       "      <th>result</th>\n",
       "      <th>age_desc</th>\n",
       "      <th>relation</th>\n",
       "      <th>Class/ASD</th>\n",
       "    </tr>\n",
       "  </thead>\n",
       "  <tbody>\n",
       "    <tr>\n",
       "      <th>0</th>\n",
       "      <td>1</td>\n",
       "      <td>1</td>\n",
       "      <td>0</td>\n",
       "      <td>1</td>\n",
       "      <td>1</td>\n",
       "      <td>1</td>\n",
       "      <td>1</td>\n",
       "      <td>0</td>\n",
       "      <td>1</td>\n",
       "      <td>1</td>\n",
       "      <td>1</td>\n",
       "      <td>18.605397</td>\n",
       "      <td>f</td>\n",
       "      <td>White-European</td>\n",
       "      <td>no</td>\n",
       "      <td>no</td>\n",
       "      <td>United States</td>\n",
       "      <td>no</td>\n",
       "      <td>7.819715</td>\n",
       "      <td>18 and more</td>\n",
       "      <td>Self</td>\n",
       "      <td>0</td>\n",
       "    </tr>\n",
       "    <tr>\n",
       "      <th>1</th>\n",
       "      <td>2</td>\n",
       "      <td>0</td>\n",
       "      <td>0</td>\n",
       "      <td>0</td>\n",
       "      <td>0</td>\n",
       "      <td>0</td>\n",
       "      <td>0</td>\n",
       "      <td>0</td>\n",
       "      <td>0</td>\n",
       "      <td>0</td>\n",
       "      <td>1</td>\n",
       "      <td>13.829369</td>\n",
       "      <td>f</td>\n",
       "      <td>South Asian</td>\n",
       "      <td>no</td>\n",
       "      <td>no</td>\n",
       "      <td>Australia</td>\n",
       "      <td>no</td>\n",
       "      <td>10.544296</td>\n",
       "      <td>18 and more</td>\n",
       "      <td>?</td>\n",
       "      <td>0</td>\n",
       "    </tr>\n",
       "    <tr>\n",
       "      <th>2</th>\n",
       "      <td>3</td>\n",
       "      <td>1</td>\n",
       "      <td>1</td>\n",
       "      <td>1</td>\n",
       "      <td>1</td>\n",
       "      <td>1</td>\n",
       "      <td>1</td>\n",
       "      <td>0</td>\n",
       "      <td>0</td>\n",
       "      <td>1</td>\n",
       "      <td>1</td>\n",
       "      <td>14.679893</td>\n",
       "      <td>f</td>\n",
       "      <td>White-European</td>\n",
       "      <td>no</td>\n",
       "      <td>no</td>\n",
       "      <td>United Kingdom</td>\n",
       "      <td>no</td>\n",
       "      <td>13.167506</td>\n",
       "      <td>18 and more</td>\n",
       "      <td>Self</td>\n",
       "      <td>1</td>\n",
       "    </tr>\n",
       "    <tr>\n",
       "      <th>3</th>\n",
       "      <td>4</td>\n",
       "      <td>0</td>\n",
       "      <td>0</td>\n",
       "      <td>0</td>\n",
       "      <td>1</td>\n",
       "      <td>0</td>\n",
       "      <td>0</td>\n",
       "      <td>0</td>\n",
       "      <td>0</td>\n",
       "      <td>0</td>\n",
       "      <td>0</td>\n",
       "      <td>61.035288</td>\n",
       "      <td>f</td>\n",
       "      <td>South Asian</td>\n",
       "      <td>no</td>\n",
       "      <td>no</td>\n",
       "      <td>New Zealand</td>\n",
       "      <td>no</td>\n",
       "      <td>1.530098</td>\n",
       "      <td>18 and more</td>\n",
       "      <td>?</td>\n",
       "      <td>0</td>\n",
       "    </tr>\n",
       "    <tr>\n",
       "      <th>4</th>\n",
       "      <td>5</td>\n",
       "      <td>0</td>\n",
       "      <td>0</td>\n",
       "      <td>0</td>\n",
       "      <td>0</td>\n",
       "      <td>1</td>\n",
       "      <td>0</td>\n",
       "      <td>0</td>\n",
       "      <td>0</td>\n",
       "      <td>1</td>\n",
       "      <td>1</td>\n",
       "      <td>14.256686</td>\n",
       "      <td>m</td>\n",
       "      <td>Black</td>\n",
       "      <td>no</td>\n",
       "      <td>yes</td>\n",
       "      <td>Italy</td>\n",
       "      <td>no</td>\n",
       "      <td>7.949723</td>\n",
       "      <td>18 and more</td>\n",
       "      <td>Self</td>\n",
       "      <td>0</td>\n",
       "    </tr>\n",
       "  </tbody>\n",
       "</table>\n",
       "</div>"
      ],
      "text/plain": [
       "   ID  A1_Score  A2_Score  A3_Score  A4_Score  A5_Score  A6_Score  A7_Score  \\\n",
       "0   1         1         0         1         1         1         1         0   \n",
       "1   2         0         0         0         0         0         0         0   \n",
       "2   3         1         1         1         1         1         1         0   \n",
       "3   4         0         0         0         1         0         0         0   \n",
       "4   5         0         0         0         0         1         0         0   \n",
       "\n",
       "   A8_Score  A9_Score  A10_Score        age gender       ethnicity jaundice  \\\n",
       "0         1         1          1  18.605397      f  White-European       no   \n",
       "1         0         0          1  13.829369      f     South Asian       no   \n",
       "2         0         1          1  14.679893      f  White-European       no   \n",
       "3         0         0          0  61.035288      f     South Asian       no   \n",
       "4         0         1          1  14.256686      m           Black       no   \n",
       "\n",
       "  austim   contry_of_res used_app_before     result     age_desc relation  \\\n",
       "0     no   United States              no   7.819715  18 and more     Self   \n",
       "1     no       Australia              no  10.544296  18 and more        ?   \n",
       "2     no  United Kingdom              no  13.167506  18 and more     Self   \n",
       "3     no     New Zealand              no   1.530098  18 and more        ?   \n",
       "4    yes           Italy              no   7.949723  18 and more     Self   \n",
       "\n",
       "   Class/ASD  \n",
       "0          0  \n",
       "1          0  \n",
       "2          1  \n",
       "3          0  \n",
       "4          0  "
      ]
     },
     "execution_count": 3,
     "metadata": {},
     "output_type": "execute_result"
    }
   ],
   "source": [
    "train_data.head()"
   ]
  },
  {
   "cell_type": "code",
   "execution_count": 4,
   "metadata": {},
   "outputs": [
    {
     "data": {
      "text/html": [
       "<div>\n",
       "<style scoped>\n",
       "    .dataframe tbody tr th:only-of-type {\n",
       "        vertical-align: middle;\n",
       "    }\n",
       "\n",
       "    .dataframe tbody tr th {\n",
       "        vertical-align: top;\n",
       "    }\n",
       "\n",
       "    .dataframe thead th {\n",
       "        text-align: right;\n",
       "    }\n",
       "</style>\n",
       "<table border=\"1\" class=\"dataframe\">\n",
       "  <thead>\n",
       "    <tr style=\"text-align: right;\">\n",
       "      <th></th>\n",
       "      <th>ID</th>\n",
       "      <th>A1_Score</th>\n",
       "      <th>A2_Score</th>\n",
       "      <th>A3_Score</th>\n",
       "      <th>A4_Score</th>\n",
       "      <th>A5_Score</th>\n",
       "      <th>A6_Score</th>\n",
       "      <th>A7_Score</th>\n",
       "      <th>A8_Score</th>\n",
       "      <th>A9_Score</th>\n",
       "      <th>A10_Score</th>\n",
       "      <th>age</th>\n",
       "      <th>gender</th>\n",
       "      <th>ethnicity</th>\n",
       "      <th>jaundice</th>\n",
       "      <th>austim</th>\n",
       "      <th>contry_of_res</th>\n",
       "      <th>used_app_before</th>\n",
       "      <th>result</th>\n",
       "      <th>age_desc</th>\n",
       "      <th>relation</th>\n",
       "    </tr>\n",
       "  </thead>\n",
       "  <tbody>\n",
       "    <tr>\n",
       "      <th>0</th>\n",
       "      <td>1</td>\n",
       "      <td>0</td>\n",
       "      <td>0</td>\n",
       "      <td>0</td>\n",
       "      <td>0</td>\n",
       "      <td>0</td>\n",
       "      <td>0</td>\n",
       "      <td>0</td>\n",
       "      <td>1</td>\n",
       "      <td>0</td>\n",
       "      <td>0</td>\n",
       "      <td>13.445319</td>\n",
       "      <td>m</td>\n",
       "      <td>Asian</td>\n",
       "      <td>no</td>\n",
       "      <td>no</td>\n",
       "      <td>United Arab Emirates</td>\n",
       "      <td>no</td>\n",
       "      <td>-0.914467</td>\n",
       "      <td>18 and more</td>\n",
       "      <td>?</td>\n",
       "    </tr>\n",
       "    <tr>\n",
       "      <th>1</th>\n",
       "      <td>2</td>\n",
       "      <td>1</td>\n",
       "      <td>0</td>\n",
       "      <td>0</td>\n",
       "      <td>0</td>\n",
       "      <td>1</td>\n",
       "      <td>0</td>\n",
       "      <td>0</td>\n",
       "      <td>0</td>\n",
       "      <td>0</td>\n",
       "      <td>0</td>\n",
       "      <td>25.057229</td>\n",
       "      <td>f</td>\n",
       "      <td>?</td>\n",
       "      <td>yes</td>\n",
       "      <td>no</td>\n",
       "      <td>New Zealand</td>\n",
       "      <td>no</td>\n",
       "      <td>4.553447</td>\n",
       "      <td>18 and more</td>\n",
       "      <td>Parent</td>\n",
       "    </tr>\n",
       "    <tr>\n",
       "      <th>2</th>\n",
       "      <td>3</td>\n",
       "      <td>1</td>\n",
       "      <td>0</td>\n",
       "      <td>0</td>\n",
       "      <td>1</td>\n",
       "      <td>0</td>\n",
       "      <td>1</td>\n",
       "      <td>0</td>\n",
       "      <td>1</td>\n",
       "      <td>0</td>\n",
       "      <td>0</td>\n",
       "      <td>28.799885</td>\n",
       "      <td>f</td>\n",
       "      <td>Asian</td>\n",
       "      <td>no</td>\n",
       "      <td>no</td>\n",
       "      <td>Austria</td>\n",
       "      <td>no</td>\n",
       "      <td>-1.581115</td>\n",
       "      <td>18 and more</td>\n",
       "      <td>Self</td>\n",
       "    </tr>\n",
       "    <tr>\n",
       "      <th>3</th>\n",
       "      <td>4</td>\n",
       "      <td>1</td>\n",
       "      <td>1</td>\n",
       "      <td>1</td>\n",
       "      <td>0</td>\n",
       "      <td>1</td>\n",
       "      <td>0</td>\n",
       "      <td>1</td>\n",
       "      <td>0</td>\n",
       "      <td>1</td>\n",
       "      <td>1</td>\n",
       "      <td>16.501526</td>\n",
       "      <td>f</td>\n",
       "      <td>Middle Eastern</td>\n",
       "      <td>yes</td>\n",
       "      <td>no</td>\n",
       "      <td>Bahamas</td>\n",
       "      <td>no</td>\n",
       "      <td>11.779210</td>\n",
       "      <td>18 and more</td>\n",
       "      <td>Relative</td>\n",
       "    </tr>\n",
       "    <tr>\n",
       "      <th>4</th>\n",
       "      <td>5</td>\n",
       "      <td>1</td>\n",
       "      <td>0</td>\n",
       "      <td>0</td>\n",
       "      <td>1</td>\n",
       "      <td>1</td>\n",
       "      <td>0</td>\n",
       "      <td>0</td>\n",
       "      <td>1</td>\n",
       "      <td>1</td>\n",
       "      <td>0</td>\n",
       "      <td>54.223869</td>\n",
       "      <td>f</td>\n",
       "      <td>White-European</td>\n",
       "      <td>no</td>\n",
       "      <td>no</td>\n",
       "      <td>Australia</td>\n",
       "      <td>no</td>\n",
       "      <td>10.717321</td>\n",
       "      <td>18 and more</td>\n",
       "      <td>Self</td>\n",
       "    </tr>\n",
       "  </tbody>\n",
       "</table>\n",
       "</div>"
      ],
      "text/plain": [
       "   ID  A1_Score  A2_Score  A3_Score  A4_Score  A5_Score  A6_Score  A7_Score  \\\n",
       "0   1         0         0         0         0         0         0         0   \n",
       "1   2         1         0         0         0         1         0         0   \n",
       "2   3         1         0         0         1         0         1         0   \n",
       "3   4         1         1         1         0         1         0         1   \n",
       "4   5         1         0         0         1         1         0         0   \n",
       "\n",
       "   A8_Score  A9_Score  A10_Score        age gender        ethnicity jaundice  \\\n",
       "0         1         0          0  13.445319      m            Asian       no   \n",
       "1         0         0          0  25.057229      f                ?      yes   \n",
       "2         1         0          0  28.799885      f            Asian       no   \n",
       "3         0         1          1  16.501526      f  Middle Eastern       yes   \n",
       "4         1         1          0  54.223869      f   White-European       no   \n",
       "\n",
       "  austim         contry_of_res used_app_before     result     age_desc  \\\n",
       "0     no  United Arab Emirates              no  -0.914467  18 and more   \n",
       "1     no           New Zealand              no   4.553447  18 and more   \n",
       "2     no               Austria              no  -1.581115  18 and more   \n",
       "3     no               Bahamas              no  11.779210  18 and more   \n",
       "4     no             Australia              no  10.717321  18 and more   \n",
       "\n",
       "   relation  \n",
       "0         ?  \n",
       "1    Parent  \n",
       "2      Self  \n",
       "3  Relative  \n",
       "4      Self  "
      ]
     },
     "execution_count": 4,
     "metadata": {},
     "output_type": "execute_result"
    }
   ],
   "source": [
    "test_data.head()"
   ]
  },
  {
   "cell_type": "code",
   "execution_count": 5,
   "metadata": {},
   "outputs": [
    {
     "name": "stdout",
     "output_type": "stream",
     "text": [
      "<class 'pandas.core.frame.DataFrame'>\n",
      "RangeIndex: 800 entries, 0 to 799\n",
      "Data columns (total 22 columns):\n",
      " #   Column           Non-Null Count  Dtype  \n",
      "---  ------           --------------  -----  \n",
      " 0   ID               800 non-null    int64  \n",
      " 1   A1_Score         800 non-null    int64  \n",
      " 2   A2_Score         800 non-null    int64  \n",
      " 3   A3_Score         800 non-null    int64  \n",
      " 4   A4_Score         800 non-null    int64  \n",
      " 5   A5_Score         800 non-null    int64  \n",
      " 6   A6_Score         800 non-null    int64  \n",
      " 7   A7_Score         800 non-null    int64  \n",
      " 8   A8_Score         800 non-null    int64  \n",
      " 9   A9_Score         800 non-null    int64  \n",
      " 10  A10_Score        800 non-null    int64  \n",
      " 11  age              800 non-null    float64\n",
      " 12  gender           800 non-null    object \n",
      " 13  ethnicity        800 non-null    object \n",
      " 14  jaundice         800 non-null    object \n",
      " 15  austim           800 non-null    object \n",
      " 16  contry_of_res    800 non-null    object \n",
      " 17  used_app_before  800 non-null    object \n",
      " 18  result           800 non-null    float64\n",
      " 19  age_desc         800 non-null    object \n",
      " 20  relation         800 non-null    object \n",
      " 21  Class/ASD        800 non-null    int64  \n",
      "dtypes: float64(2), int64(12), object(8)\n",
      "memory usage: 137.6+ KB\n"
     ]
    }
   ],
   "source": [
    "train_data.info()"
   ]
  },
  {
   "cell_type": "code",
   "execution_count": 6,
   "metadata": {},
   "outputs": [
    {
     "data": {
      "text/html": [
       "<div>\n",
       "<style scoped>\n",
       "    .dataframe tbody tr th:only-of-type {\n",
       "        vertical-align: middle;\n",
       "    }\n",
       "\n",
       "    .dataframe tbody tr th {\n",
       "        vertical-align: top;\n",
       "    }\n",
       "\n",
       "    .dataframe thead th {\n",
       "        text-align: right;\n",
       "    }\n",
       "</style>\n",
       "<table border=\"1\" class=\"dataframe\">\n",
       "  <thead>\n",
       "    <tr style=\"text-align: right;\">\n",
       "      <th></th>\n",
       "      <th>ID</th>\n",
       "      <th>A1_Score</th>\n",
       "      <th>A2_Score</th>\n",
       "      <th>A3_Score</th>\n",
       "      <th>A4_Score</th>\n",
       "      <th>A5_Score</th>\n",
       "      <th>A6_Score</th>\n",
       "      <th>A7_Score</th>\n",
       "      <th>A8_Score</th>\n",
       "      <th>A9_Score</th>\n",
       "      <th>A10_Score</th>\n",
       "      <th>age</th>\n",
       "      <th>result</th>\n",
       "      <th>Class/ASD</th>\n",
       "    </tr>\n",
       "  </thead>\n",
       "  <tbody>\n",
       "    <tr>\n",
       "      <th>count</th>\n",
       "      <td>800.0000</td>\n",
       "      <td>800.000000</td>\n",
       "      <td>800.00000</td>\n",
       "      <td>800.000000</td>\n",
       "      <td>800.00000</td>\n",
       "      <td>800.000000</td>\n",
       "      <td>800.00000</td>\n",
       "      <td>800.000000</td>\n",
       "      <td>800.000000</td>\n",
       "      <td>800.000000</td>\n",
       "      <td>800.000000</td>\n",
       "      <td>800.000000</td>\n",
       "      <td>800.000000</td>\n",
       "      <td>800.000000</td>\n",
       "    </tr>\n",
       "    <tr>\n",
       "      <th>mean</th>\n",
       "      <td>400.5000</td>\n",
       "      <td>0.582500</td>\n",
       "      <td>0.28625</td>\n",
       "      <td>0.321250</td>\n",
       "      <td>0.41500</td>\n",
       "      <td>0.457500</td>\n",
       "      <td>0.20875</td>\n",
       "      <td>0.273750</td>\n",
       "      <td>0.717500</td>\n",
       "      <td>0.316250</td>\n",
       "      <td>0.460000</td>\n",
       "      <td>28.612306</td>\n",
       "      <td>7.058530</td>\n",
       "      <td>0.231250</td>\n",
       "    </tr>\n",
       "    <tr>\n",
       "      <th>std</th>\n",
       "      <td>231.0844</td>\n",
       "      <td>0.493455</td>\n",
       "      <td>0.45229</td>\n",
       "      <td>0.467249</td>\n",
       "      <td>0.49303</td>\n",
       "      <td>0.498502</td>\n",
       "      <td>0.40667</td>\n",
       "      <td>0.446161</td>\n",
       "      <td>0.450497</td>\n",
       "      <td>0.465303</td>\n",
       "      <td>0.498709</td>\n",
       "      <td>12.872373</td>\n",
       "      <td>3.788969</td>\n",
       "      <td>0.421896</td>\n",
       "    </tr>\n",
       "    <tr>\n",
       "      <th>min</th>\n",
       "      <td>1.0000</td>\n",
       "      <td>0.000000</td>\n",
       "      <td>0.00000</td>\n",
       "      <td>0.000000</td>\n",
       "      <td>0.00000</td>\n",
       "      <td>0.000000</td>\n",
       "      <td>0.00000</td>\n",
       "      <td>0.000000</td>\n",
       "      <td>0.000000</td>\n",
       "      <td>0.000000</td>\n",
       "      <td>0.000000</td>\n",
       "      <td>9.560505</td>\n",
       "      <td>-2.594654</td>\n",
       "      <td>0.000000</td>\n",
       "    </tr>\n",
       "    <tr>\n",
       "      <th>25%</th>\n",
       "      <td>200.7500</td>\n",
       "      <td>0.000000</td>\n",
       "      <td>0.00000</td>\n",
       "      <td>0.000000</td>\n",
       "      <td>0.00000</td>\n",
       "      <td>0.000000</td>\n",
       "      <td>0.00000</td>\n",
       "      <td>0.000000</td>\n",
       "      <td>0.000000</td>\n",
       "      <td>0.000000</td>\n",
       "      <td>0.000000</td>\n",
       "      <td>19.282082</td>\n",
       "      <td>4.527556</td>\n",
       "      <td>0.000000</td>\n",
       "    </tr>\n",
       "    <tr>\n",
       "      <th>50%</th>\n",
       "      <td>400.5000</td>\n",
       "      <td>1.000000</td>\n",
       "      <td>0.00000</td>\n",
       "      <td>0.000000</td>\n",
       "      <td>0.00000</td>\n",
       "      <td>0.000000</td>\n",
       "      <td>0.00000</td>\n",
       "      <td>0.000000</td>\n",
       "      <td>1.000000</td>\n",
       "      <td>0.000000</td>\n",
       "      <td>0.000000</td>\n",
       "      <td>25.479960</td>\n",
       "      <td>6.893472</td>\n",
       "      <td>0.000000</td>\n",
       "    </tr>\n",
       "    <tr>\n",
       "      <th>75%</th>\n",
       "      <td>600.2500</td>\n",
       "      <td>1.000000</td>\n",
       "      <td>1.00000</td>\n",
       "      <td>1.000000</td>\n",
       "      <td>1.00000</td>\n",
       "      <td>1.000000</td>\n",
       "      <td>0.00000</td>\n",
       "      <td>1.000000</td>\n",
       "      <td>1.000000</td>\n",
       "      <td>1.000000</td>\n",
       "      <td>1.000000</td>\n",
       "      <td>33.154755</td>\n",
       "      <td>9.892981</td>\n",
       "      <td>0.000000</td>\n",
       "    </tr>\n",
       "    <tr>\n",
       "      <th>max</th>\n",
       "      <td>800.0000</td>\n",
       "      <td>1.000000</td>\n",
       "      <td>1.00000</td>\n",
       "      <td>1.000000</td>\n",
       "      <td>1.00000</td>\n",
       "      <td>1.000000</td>\n",
       "      <td>1.00000</td>\n",
       "      <td>1.000000</td>\n",
       "      <td>1.000000</td>\n",
       "      <td>1.000000</td>\n",
       "      <td>1.000000</td>\n",
       "      <td>72.402488</td>\n",
       "      <td>13.390868</td>\n",
       "      <td>1.000000</td>\n",
       "    </tr>\n",
       "  </tbody>\n",
       "</table>\n",
       "</div>"
      ],
      "text/plain": [
       "             ID    A1_Score   A2_Score    A3_Score   A4_Score    A5_Score  \\\n",
       "count  800.0000  800.000000  800.00000  800.000000  800.00000  800.000000   \n",
       "mean   400.5000    0.582500    0.28625    0.321250    0.41500    0.457500   \n",
       "std    231.0844    0.493455    0.45229    0.467249    0.49303    0.498502   \n",
       "min      1.0000    0.000000    0.00000    0.000000    0.00000    0.000000   \n",
       "25%    200.7500    0.000000    0.00000    0.000000    0.00000    0.000000   \n",
       "50%    400.5000    1.000000    0.00000    0.000000    0.00000    0.000000   \n",
       "75%    600.2500    1.000000    1.00000    1.000000    1.00000    1.000000   \n",
       "max    800.0000    1.000000    1.00000    1.000000    1.00000    1.000000   \n",
       "\n",
       "        A6_Score    A7_Score    A8_Score    A9_Score   A10_Score         age  \\\n",
       "count  800.00000  800.000000  800.000000  800.000000  800.000000  800.000000   \n",
       "mean     0.20875    0.273750    0.717500    0.316250    0.460000   28.612306   \n",
       "std      0.40667    0.446161    0.450497    0.465303    0.498709   12.872373   \n",
       "min      0.00000    0.000000    0.000000    0.000000    0.000000    9.560505   \n",
       "25%      0.00000    0.000000    0.000000    0.000000    0.000000   19.282082   \n",
       "50%      0.00000    0.000000    1.000000    0.000000    0.000000   25.479960   \n",
       "75%      0.00000    1.000000    1.000000    1.000000    1.000000   33.154755   \n",
       "max      1.00000    1.000000    1.000000    1.000000    1.000000   72.402488   \n",
       "\n",
       "           result   Class/ASD  \n",
       "count  800.000000  800.000000  \n",
       "mean     7.058530    0.231250  \n",
       "std      3.788969    0.421896  \n",
       "min     -2.594654    0.000000  \n",
       "25%      4.527556    0.000000  \n",
       "50%      6.893472    0.000000  \n",
       "75%      9.892981    0.000000  \n",
       "max     13.390868    1.000000  "
      ]
     },
     "execution_count": 6,
     "metadata": {},
     "output_type": "execute_result"
    }
   ],
   "source": [
    "train_data.describe()"
   ]
  },
  {
   "cell_type": "code",
   "execution_count": 7,
   "metadata": {},
   "outputs": [
    {
     "data": {
      "text/html": [
       "<div>\n",
       "<style scoped>\n",
       "    .dataframe tbody tr th:only-of-type {\n",
       "        vertical-align: middle;\n",
       "    }\n",
       "\n",
       "    .dataframe tbody tr th {\n",
       "        vertical-align: top;\n",
       "    }\n",
       "\n",
       "    .dataframe thead th {\n",
       "        text-align: right;\n",
       "    }\n",
       "</style>\n",
       "<table border=\"1\" class=\"dataframe\">\n",
       "  <thead>\n",
       "    <tr style=\"text-align: right;\">\n",
       "      <th></th>\n",
       "      <th>ID</th>\n",
       "      <th>A1_Score</th>\n",
       "      <th>A2_Score</th>\n",
       "      <th>A3_Score</th>\n",
       "      <th>A4_Score</th>\n",
       "      <th>A5_Score</th>\n",
       "      <th>A6_Score</th>\n",
       "      <th>A7_Score</th>\n",
       "      <th>A8_Score</th>\n",
       "      <th>A9_Score</th>\n",
       "      <th>A10_Score</th>\n",
       "      <th>age</th>\n",
       "      <th>gender</th>\n",
       "      <th>ethnicity</th>\n",
       "      <th>jaundice</th>\n",
       "      <th>austim</th>\n",
       "      <th>contry_of_res</th>\n",
       "      <th>used_app_before</th>\n",
       "      <th>result</th>\n",
       "      <th>age_desc</th>\n",
       "      <th>relation</th>\n",
       "      <th>Class/ASD</th>\n",
       "    </tr>\n",
       "  </thead>\n",
       "  <tbody>\n",
       "    <tr>\n",
       "      <th>0</th>\n",
       "      <td>1</td>\n",
       "      <td>1</td>\n",
       "      <td>0</td>\n",
       "      <td>1</td>\n",
       "      <td>1</td>\n",
       "      <td>1</td>\n",
       "      <td>1</td>\n",
       "      <td>0</td>\n",
       "      <td>1</td>\n",
       "      <td>1</td>\n",
       "      <td>1</td>\n",
       "      <td>18.605397</td>\n",
       "      <td>f</td>\n",
       "      <td>White-European</td>\n",
       "      <td>no</td>\n",
       "      <td>no</td>\n",
       "      <td>United States</td>\n",
       "      <td>no</td>\n",
       "      <td>7.819715</td>\n",
       "      <td>18 and more</td>\n",
       "      <td>Self</td>\n",
       "      <td>0</td>\n",
       "    </tr>\n",
       "    <tr>\n",
       "      <th>1</th>\n",
       "      <td>2</td>\n",
       "      <td>0</td>\n",
       "      <td>0</td>\n",
       "      <td>0</td>\n",
       "      <td>0</td>\n",
       "      <td>0</td>\n",
       "      <td>0</td>\n",
       "      <td>0</td>\n",
       "      <td>0</td>\n",
       "      <td>0</td>\n",
       "      <td>1</td>\n",
       "      <td>13.829369</td>\n",
       "      <td>f</td>\n",
       "      <td>South Asian</td>\n",
       "      <td>no</td>\n",
       "      <td>no</td>\n",
       "      <td>Australia</td>\n",
       "      <td>no</td>\n",
       "      <td>10.544296</td>\n",
       "      <td>18 and more</td>\n",
       "      <td>?</td>\n",
       "      <td>0</td>\n",
       "    </tr>\n",
       "    <tr>\n",
       "      <th>2</th>\n",
       "      <td>3</td>\n",
       "      <td>1</td>\n",
       "      <td>1</td>\n",
       "      <td>1</td>\n",
       "      <td>1</td>\n",
       "      <td>1</td>\n",
       "      <td>1</td>\n",
       "      <td>0</td>\n",
       "      <td>0</td>\n",
       "      <td>1</td>\n",
       "      <td>1</td>\n",
       "      <td>14.679893</td>\n",
       "      <td>f</td>\n",
       "      <td>White-European</td>\n",
       "      <td>no</td>\n",
       "      <td>no</td>\n",
       "      <td>United Kingdom</td>\n",
       "      <td>no</td>\n",
       "      <td>13.167506</td>\n",
       "      <td>18 and more</td>\n",
       "      <td>Self</td>\n",
       "      <td>1</td>\n",
       "    </tr>\n",
       "    <tr>\n",
       "      <th>3</th>\n",
       "      <td>4</td>\n",
       "      <td>0</td>\n",
       "      <td>0</td>\n",
       "      <td>0</td>\n",
       "      <td>1</td>\n",
       "      <td>0</td>\n",
       "      <td>0</td>\n",
       "      <td>0</td>\n",
       "      <td>0</td>\n",
       "      <td>0</td>\n",
       "      <td>0</td>\n",
       "      <td>61.035288</td>\n",
       "      <td>f</td>\n",
       "      <td>South Asian</td>\n",
       "      <td>no</td>\n",
       "      <td>no</td>\n",
       "      <td>New Zealand</td>\n",
       "      <td>no</td>\n",
       "      <td>1.530098</td>\n",
       "      <td>18 and more</td>\n",
       "      <td>?</td>\n",
       "      <td>0</td>\n",
       "    </tr>\n",
       "    <tr>\n",
       "      <th>4</th>\n",
       "      <td>5</td>\n",
       "      <td>0</td>\n",
       "      <td>0</td>\n",
       "      <td>0</td>\n",
       "      <td>0</td>\n",
       "      <td>1</td>\n",
       "      <td>0</td>\n",
       "      <td>0</td>\n",
       "      <td>0</td>\n",
       "      <td>1</td>\n",
       "      <td>1</td>\n",
       "      <td>14.256686</td>\n",
       "      <td>m</td>\n",
       "      <td>Black</td>\n",
       "      <td>no</td>\n",
       "      <td>yes</td>\n",
       "      <td>Italy</td>\n",
       "      <td>no</td>\n",
       "      <td>7.949723</td>\n",
       "      <td>18 and more</td>\n",
       "      <td>Self</td>\n",
       "      <td>0</td>\n",
       "    </tr>\n",
       "  </tbody>\n",
       "</table>\n",
       "</div>"
      ],
      "text/plain": [
       "   ID  A1_Score  A2_Score  A3_Score  A4_Score  A5_Score  A6_Score  A7_Score  \\\n",
       "0   1         1         0         1         1         1         1         0   \n",
       "1   2         0         0         0         0         0         0         0   \n",
       "2   3         1         1         1         1         1         1         0   \n",
       "3   4         0         0         0         1         0         0         0   \n",
       "4   5         0         0         0         0         1         0         0   \n",
       "\n",
       "   A8_Score  A9_Score  A10_Score        age gender       ethnicity jaundice  \\\n",
       "0         1         1          1  18.605397      f  White-European       no   \n",
       "1         0         0          1  13.829369      f     South Asian       no   \n",
       "2         0         1          1  14.679893      f  White-European       no   \n",
       "3         0         0          0  61.035288      f     South Asian       no   \n",
       "4         0         1          1  14.256686      m           Black       no   \n",
       "\n",
       "  austim   contry_of_res used_app_before     result     age_desc relation  \\\n",
       "0     no   United States              no   7.819715  18 and more     Self   \n",
       "1     no       Australia              no  10.544296  18 and more        ?   \n",
       "2     no  United Kingdom              no  13.167506  18 and more     Self   \n",
       "3     no     New Zealand              no   1.530098  18 and more        ?   \n",
       "4    yes           Italy              no   7.949723  18 and more     Self   \n",
       "\n",
       "   Class/ASD  \n",
       "0          0  \n",
       "1          0  \n",
       "2          1  \n",
       "3          0  \n",
       "4          0  "
      ]
     },
     "execution_count": 7,
     "metadata": {},
     "output_type": "execute_result"
    }
   ],
   "source": [
    "train_data.drop_duplicates(inplace=True)\n",
    "train_data.head()"
   ]
  },
  {
   "cell_type": "code",
   "execution_count": 8,
   "metadata": {},
   "outputs": [
    {
     "name": "stdout",
     "output_type": "stream",
     "text": [
      "                Missing         UNIQUE        \n",
      "                  Total Percent  Total Uniques\n",
      "ID                    0     0.0    800     800\n",
      "A1_Score              0     0.0    800       2\n",
      "relation              0     0.0    800       6\n",
      "age_desc              0     0.0    800       1\n",
      "result                0     0.0    800     800\n",
      "used_app_before       0     0.0    800       2\n",
      "contry_of_res         0     0.0    800      61\n",
      "austim                0     0.0    800       2\n",
      "jaundice              0     0.0    800       2\n",
      "ethnicity             0     0.0    800      12\n",
      "gender                0     0.0    800       2\n",
      "age                   0     0.0    800     800\n",
      "A10_Score             0     0.0    800       2\n",
      "A9_Score              0     0.0    800       2\n",
      "A8_Score              0     0.0    800       2\n",
      "A7_Score              0     0.0    800       2\n",
      "A6_Score              0     0.0    800       2\n",
      "A5_Score              0     0.0    800       2\n",
      "A4_Score              0     0.0    800       2\n",
      "A3_Score              0     0.0    800       2\n",
      "A2_Score              0     0.0    800       2\n",
      "Class/ASD             0     0.0    800       2\n"
     ]
    }
   ],
   "source": [
    "def feature_count(data):\n",
    "    # missing values\n",
    "    total_missing_values = data.isnull().sum().sort_values(ascending = False)\n",
    "    percent_missing_values = (data.isnull().sum()/data.isnull().count()*100).sort_values(ascending = False)\n",
    "    missing_values = pd.concat([total_missing_values, percent_missing_values], axis=1, keys=['Total', 'Percent'])\n",
    "    \n",
    "    #unique values \n",
    "    total_data = data.count()\n",
    "    total_unique_values = pd.DataFrame(total_data)\n",
    "    total_unique_values.columns = ['Total']\n",
    "    uniques = []\n",
    "    for col in data.columns:\n",
    "        unique = data[col].nunique()\n",
    "        uniques.append(unique)\n",
    "    total_unique_values['Uniques'] = uniques\n",
    "    unique = total_unique_values\n",
    "    return pd.concat([missing_values, unique], axis=1, keys=['Missing', 'UNIQUE'])\n",
    "\n",
    "print(feature_count(train_data))"
   ]
  },
  {
   "cell_type": "code",
   "execution_count": 9,
   "metadata": {},
   "outputs": [
    {
     "name": "stdout",
     "output_type": "stream",
     "text": [
      "numerical features : ['ID', 'A1_Score', 'A2_Score', 'A3_Score', 'A4_Score', 'A5_Score', 'A6_Score', 'A7_Score', 'A8_Score', 'A9_Score', 'A10_Score', 'age', 'result', 'Class/ASD']\n",
      "total numerical : 14\n",
      "\n",
      "categorical features : ['gender', 'ethnicity', 'jaundice', 'austim', 'contry_of_res', 'used_app_before', 'age_desc', 'relation']\n",
      " total categorical: 8\n"
     ]
    }
   ],
   "source": [
    "def cat_num(data):\n",
    "    num = list(data._get_numeric_data().columns)\n",
    "    cat = [cat for cat in  data.columns if cat not in (num)]\n",
    "    print(f\"numerical features : {num}\\ntotal numerical : {len(num)}\\n\\ncategorical features : {cat}\\n total categorical: {len(cat)}\")\n",
    "    return cat , num\n",
    "train_cat , train_num =cat_num(train_data)"
   ]
  },
  {
   "cell_type": "code",
   "execution_count": 10,
   "metadata": {},
   "outputs": [
    {
     "data": {
      "image/png": "[encoded data removed]",
      "text/plain": [
       "<Figure size 1200x800 with 1 Axes>"
      ]
     },
     "metadata": {},
     "output_type": "display_data"
    }
   ],
   "source": [
    "\n",
    "'''\n",
    "This function will plot the distribution of numerical features, \n",
    "bigger the diifference between the two distributions, \n",
    "more likely the feature is useful for classification.\n",
    "'''\n",
    "\n",
    "score_features = train_data.filter(regex=r'A\\d+_', axis=1).columns.tolist()\n",
    "train_data.groupby('Class/ASD')[score_features].mean().T.plot.bar()\n",
    "plt.title('Mean score - Autism Spectrum Quotient (AQ) 10 item screening tool')\n",
    "plt.xticks(ticks=range(len(score_features)), labels=[x.split('_')[0] for x in score_features], rotation=0);"
   ]
  },
  {
   "cell_type": "code",
   "execution_count": 11,
   "metadata": {},
   "outputs": [
    {
     "name": "stdout",
     "output_type": "stream",
     "text": [
      "Class/ASD         0         1      diff\n",
      "A3_Score   0.180488  0.789189  0.608701\n",
      "A4_Score   0.276423  0.875676  0.599253\n",
      "A9_Score   0.178862  0.772973  0.594111\n",
      "A5_Score   0.334959  0.864865  0.529906\n",
      "A6_Score   0.087805  0.610811  0.523006\n",
      "A10_Score  0.339837  0.859459  0.519622\n",
      "A7_Score   0.177236  0.594595  0.417359\n",
      "A2_Score   0.191870  0.600000  0.408130\n",
      "A1_Score   0.504065  0.843243  0.339178\n",
      "A8_Score   0.663415  0.897297  0.233883\n"
     ]
    }
   ],
   "source": [
    "diffs = train_data.groupby('Class/ASD')[score_features].mean().T\n",
    "diffs['diff'] = abs(diffs.iloc[:, 0] - diffs.iloc[:, 1])\n",
    "print(diffs.sort_values('diff', ascending=False))\n"
   ]
  },
  {
   "cell_type": "code",
   "execution_count": 12,
   "metadata": {},
   "outputs": [],
   "source": [
    "train_data['ethnicity'] = train_data['ethnicity'].str.strip().str.lower()\n",
    "train_data['ethnicity'] = train_data['ethnicity'].replace('?', 'Unknown')\n",
    "\n"
   ]
  },
  {
   "cell_type": "code",
   "execution_count": 26,
   "metadata": {},
   "outputs": [],
   "source": [
    "# Define your features (exclude target and ID columns)\n",
    "excluded_cols = ['ID', 'Class/ASD']\n",
    "features = [col for col in train_data.columns if col not in excluded_cols]\n"
   ]
  },
  {
   "cell_type": "code",
   "execution_count": 27,
   "metadata": {},
   "outputs": [
    {
     "data": {
      "image/png": "[encoded data removed]",
      "text/plain": [
       "<Figure size 1200x800 with 1 Axes>"
      ]
     },
     "metadata": {},
     "output_type": "display_data"
    }
   ],
   "source": [
    "train_data.groupby('ethnicity')['Class/ASD'].mean().sort_values().plot.bar()\n",
    "plt.title('ASD Prevalence by Ethnicity')\n",
    "plt.ylabel('Proportion with ASD')\n",
    "plt.xticks(rotation=30)\n",
    "plt.show()\n"
   ]
  },
  {
   "cell_type": "code",
   "execution_count": 28,
   "metadata": {},
   "outputs": [
    {
     "data": {
      "image/png": "[encoded data removed]",
      "text/plain": [
       "<Figure size 1200x800 with 1 Axes>"
      ]
     },
     "metadata": {},
     "output_type": "display_data"
    }
   ],
   "source": [
    "import seaborn as sns\n",
    "import matplotlib.pyplot as plt\n",
    "\n",
    "sns.boxplot(y='age', x='gender', data=train_data)\n",
    "plt.title('Age Distribution by Gender')\n",
    "plt.show()\n"
   ]
  },
  {
   "cell_type": "code",
   "execution_count": 29,
   "metadata": {},
   "outputs": [
    {
     "data": {
      "text/plain": [
       "array(['United States', 'Australia', 'United Kingdom', 'New Zealand',\n",
       "       'Italy', 'Nicaragua', 'Canada', 'United Arab Emirates',\n",
       "       'Netherlands', 'Sri Lanka', 'India', 'Armenia', 'Sierra Leone',\n",
       "       'Argentina', 'Azerbaijan', 'Iceland', 'Egypt', 'Serbia',\n",
       "       'Afghanistan', 'Costa Rica', 'Jordan', 'Angola', 'Pakistan',\n",
       "       'Brazil', 'Ireland', 'Kazakhstan', 'Viet Nam', 'Ethiopia',\n",
       "       'Austria', 'Finland', 'France', 'Malaysia', 'Japan', 'Spain',\n",
       "       'Philippines', 'Iran', 'Czech Republic', 'Russia', 'Romania',\n",
       "       'Mexico', 'Belgium', 'Aruba', 'Uruguay', 'Indonesia', 'Ukraine',\n",
       "       'AmericanSamoa', 'Germany', 'China', 'Iraq', 'Tonga',\n",
       "       'South Africa', 'Saudi Arabia', 'Hong Kong', 'Bahamas', 'Ecuador',\n",
       "       'Cyprus', 'Bangladesh', 'Oman', 'Bolivia', 'Sweden', 'Niger'],\n",
       "      dtype=object)"
      ]
     },
     "execution_count": 29,
     "metadata": {},
     "output_type": "execute_result"
    }
   ],
   "source": [
    "train_data['contry_of_res'].unique()"
   ]
  },
  {
   "cell_type": "code",
   "execution_count": 30,
   "metadata": {},
   "outputs": [
    {
     "data": {
      "application/vnd.plotly.v1+json": {
       "config": {
        "plotlyServerURL": "https://plot.ly"
       },
       "data": [
        {
         "branchvalues": "total",
         "customdata": [
          [
           0
          ],
          [
           0
          ],
          [
           0
          ],
          [
           0
          ],
          [
           0
          ],
          [
           0
          ],
          [
           0
          ],
          [
           0
          ],
          [
           0
          ],
          [
           0
          ],
          [
           0
          ],
          [
           0
          ],
          [
           0
          ],
          [
           0
          ],
          [
           0
          ],
          [
           0
          ],
          [
           0
          ],
          [
           0
          ],
          [
           0
          ],
          [
           0
          ],
          [
           0
          ],
          [
           0
          ],
          [
           0
          ],
          [
           0
          ],
          [
           0
          ],
          [
           0
          ],
          [
           0
          ],
          [
           0
          ],
          [
           0
          ],
          [
           0
          ],
          [
           0
          ],
          [
           0
          ],
          [
           0
          ],
          [
           0
          ],
          [
           0
          ],
          [
           0
          ],
          [
           0
          ],
          [
           0
          ],
          [
           0
          ],
          [
           0
          ],
          [
           0
          ],
          [
           0
          ],
          [
           0
          ],
          [
           0
          ],
          [
           0
          ],
          [
           0
          ],
          [
           0
          ],
          [
           0
          ],
          [
           0
          ],
          [
           0
          ],
          [
           0
          ],
          [
           0
          ],
          [
           0
          ],
          [
           0
          ],
          [
           0
          ],
          [
           0
          ],
          [
           0
          ],
          [
           0
          ],
          [
           0
          ],
          [
           1
          ],
          [
           1
          ],
          [
           1
          ],
          [
           1
          ],
          [
           1
          ],
          [
           1
          ],
          [
           1
          ],
          [
           1
          ],
          [
           1
          ],
          [
           1
          ],
          [
           1
          ],
          [
           1
          ],
          [
           1
          ],
          [
           1
          ],
          [
           1
          ],
          [
           1
          ],
          [
           1
          ],
          [
           1
          ],
          [
           1
          ],
          [
           1
          ],
          [
           1
          ],
          [
           1
          ],
          [
           1
          ],
          [
           1
          ],
          [
           1
          ],
          [
           1
          ],
          [
           1
          ],
          [
           1
          ],
          [
           1
          ],
          [
           1
          ],
          [
           1
          ],
          [
           1
          ],
          [
           0.08695652173913043
          ],
          [
           0
          ],
          [
           0
          ],
          [
           0
          ],
          [
           0.3333333333333333
          ],
          [
           0.3333333333333333
          ],
          [
           0.3953488372093023
          ],
          [
           0.25
          ],
          [
           0
          ],
          [
           0
          ],
          [
           0
          ],
          [
           0.3333333333333333
          ],
          [
           0.3333333333333333
          ],
          [
           0.1111111111111111
          ],
          [
           0.26666666666666666
          ],
          [
           0
          ],
          [
           0
          ],
          [
           1
          ],
          [
           0
          ],
          [
           0
          ],
          [
           0.2
          ],
          [
           0.3333333333333333
          ],
          [
           0
          ],
          [
           0.3333333333333333
          ],
          [
           0
          ],
          [
           1
          ],
          [
           0
          ],
          [
           0.10810810810810811
          ],
          [
           0
          ],
          [
           0
          ],
          [
           0
          ],
          [
           0.3333333333333333
          ],
          [
           0.18181818181818182
          ],
          [
           0.5
          ],
          [
           0.15
          ],
          [
           0.14285714285714285
          ],
          [
           0.4
          ],
          [
           0
          ],
          [
           0.2857142857142857
          ],
          [
           0.08602150537634409
          ],
          [
           0.25
          ],
          [
           0
          ],
          [
           0
          ],
          [
           0.5
          ],
          [
           0
          ],
          [
           0.3333333333333333
          ],
          [
           0.1111111111111111
          ],
          [
           0
          ],
          [
           0
          ],
          [
           0
          ],
          [
           0
          ],
          [
           0.2
          ],
          [
           0.1875
          ],
          [
           0
          ],
          [
           0
          ],
          [
           0
          ],
          [
           0.06382978723404255
          ],
          [
           0.41379310344827586
          ],
          [
           0.5
          ],
          [
           0
          ],
          [
           0
          ]
         ],
         "domain": {
          "x": [
           0,
           1
          ],
          "y": [
           0,
           1
          ]
         },
         "hovertemplate": "labels=%{label}<br>count=%{value}<br>parent=%{parent}<br>id=%{id}<br>Class/ASD=%{color}<extra></extra>",
         "ids": [
          "Afghanistan/0",
          "AmericanSamoa/0",
          "Angola/0",
          "Argentina/0",
          "Armenia/0",
          "Aruba/0",
          "Australia/0",
          "Austria/0",
          "Azerbaijan/0",
          "Bahamas/0",
          "Bangladesh/0",
          "Belgium/0",
          "Bolivia/0",
          "Brazil/0",
          "Canada/0",
          "China/0",
          "Costa Rica/0",
          "Czech Republic/0",
          "Ecuador/0",
          "Egypt/0",
          "Ethiopia/0",
          "Finland/0",
          "France/0",
          "Germany/0",
          "Iceland/0",
          "India/0",
          "Indonesia/0",
          "Iran/0",
          "Iraq/0",
          "Ireland/0",
          "Italy/0",
          "Japan/0",
          "Jordan/0",
          "Kazakhstan/0",
          "Malaysia/0",
          "Mexico/0",
          "Netherlands/0",
          "New Zealand/0",
          "Nicaragua/0",
          "Niger/0",
          "Oman/0",
          "Pakistan/0",
          "Philippines/0",
          "Romania/0",
          "Russia/0",
          "Saudi Arabia/0",
          "Serbia/0",
          "Sierra Leone/0",
          "South Africa/0",
          "Spain/0",
          "Sri Lanka/0",
          "Sweden/0",
          "Tonga/0",
          "Ukraine/0",
          "United Arab Emirates/0",
          "United Kingdom/0",
          "United States/0",
          "Uruguay/0",
          "Viet Nam/0",
          "Afghanistan/1",
          "Armenia/1",
          "Aruba/1",
          "Australia/1",
          "Austria/1",
          "Belgium/1",
          "Bolivia/1",
          "Brazil/1",
          "Canada/1",
          "Cyprus/1",
          "Egypt/1",
          "Ethiopia/1",
          "France/1",
          "Hong Kong/1",
          "India/1",
          "Ireland/1",
          "Italy/1",
          "Japan/1",
          "Jordan/1",
          "Kazakhstan/1",
          "Malaysia/1",
          "Netherlands/1",
          "New Zealand/1",
          "Nicaragua/1",
          "Pakistan/1",
          "Romania/1",
          "Russia/1",
          "Spain/1",
          "Sri Lanka/1",
          "United Arab Emirates/1",
          "United Kingdom/1",
          "United States/1",
          "Afghanistan",
          "AmericanSamoa",
          "Angola",
          "Argentina",
          "Armenia",
          "Aruba",
          "Australia",
          "Austria",
          "Azerbaijan",
          "Bahamas",
          "Bangladesh",
          "Belgium",
          "Bolivia",
          "Brazil",
          "Canada",
          "China",
          "Costa Rica",
          "Cyprus",
          "Czech Republic",
          "Ecuador",
          "Egypt",
          "Ethiopia",
          "Finland",
          "France",
          "Germany",
          "Hong Kong",
          "Iceland",
          "India",
          "Indonesia",
          "Iran",
          "Iraq",
          "Ireland",
          "Italy",
          "Japan",
          "Jordan",
          "Kazakhstan",
          "Malaysia",
          "Mexico",
          "Netherlands",
          "New Zealand",
          "Nicaragua",
          "Niger",
          "Oman",
          "Pakistan",
          "Philippines",
          "Romania",
          "Russia",
          "Saudi Arabia",
          "Serbia",
          "Sierra Leone",
          "South Africa",
          "Spain",
          "Sri Lanka",
          "Sweden",
          "Tonga",
          "Ukraine",
          "United Arab Emirates",
          "United Kingdom",
          "United States",
          "Uruguay",
          "Viet Nam"
         ],
         "labels": [
          "0",
          "0",
          "0",
          "0",
          "0",
          "0",
          "0",
          "0",
          "0",
          "0",
          "0",
          "0",
          "0",
          "0",
          "0",
          "0",
          "0",
          "0",
          "0",
          "0",
          "0",
          "0",
          "0",
          "0",
          "0",
          "0",
          "0",
          "0",
          "0",
          "0",
          "0",
          "0",
          "0",
          "0",
          "0",
          "0",
          "0",
          "0",
          "0",
          "0",
          "0",
          "0",
          "0",
          "0",
          "0",
          "0",
          "0",
          "0",
          "0",
          "0",
          "0",
          "0",
          "0",
          "0",
          "0",
          "0",
          "0",
          "0",
          "0",
          "1",
          "1",
          "1",
          "1",
          "1",
          "1",
          "1",
          "1",
          "1",
          "1",
          "1",
          "1",
          "1",
          "1",
          "1",
          "1",
          "1",
          "1",
          "1",
          "1",
          "1",
          "1",
          "1",
          "1",
          "1",
          "1",
          "1",
          "1",
          "1",
          "1",
          "1",
          "1",
          "Afghanistan",
          "AmericanSamoa",
          "Angola",
          "Argentina",
          "Armenia",
          "Aruba",
          "Australia",
          "Austria",
          "Azerbaijan",
          "Bahamas",
          "Bangladesh",
          "Belgium",
          "Bolivia",
          "Brazil",
          "Canada",
          "China",
          "Costa Rica",
          "Cyprus",
          "Czech Republic",
          "Ecuador",
          "Egypt",
          "Ethiopia",
          "Finland",
          "France",
          "Germany",
          "Hong Kong",
          "Iceland",
          "India",
          "Indonesia",
          "Iran",
          "Iraq",
          "Ireland",
          "Italy",
          "Japan",
          "Jordan",
          "Kazakhstan",
          "Malaysia",
          "Mexico",
          "Netherlands",
          "New Zealand",
          "Nicaragua",
          "Niger",
          "Oman",
          "Pakistan",
          "Philippines",
          "Romania",
          "Russia",
          "Saudi Arabia",
          "Serbia",
          "Sierra Leone",
          "South Africa",
          "Spain",
          "Sri Lanka",
          "Sweden",
          "Tonga",
          "Ukraine",
          "United Arab Emirates",
          "United Kingdom",
          "United States",
          "Uruguay",
          "Viet Nam"
         ],
         "marker": {
          "coloraxis": "coloraxis",
          "colors": [
           0,
           0,
           0,
           0,
           0,
           0,
           0,
           0,
           0,
           0,
           0,
           0,
           0,
           0,
           0,
           0,
           0,
           0,
           0,
           0,
           0,
           0,
           0,
           0,
           0,
           0,
           0,
           0,
           0,
           0,
           0,
           0,
           0,
           0,
           0,
           0,
           0,
           0,
           0,
           0,
           0,
           0,
           0,
           0,
           0,
           0,
           0,
           0,
           0,
           0,
           0,
           0,
           0,
           0,
           0,
           0,
           0,
           0,
           0,
           1,
           1,
           1,
           1,
           1,
           1,
           1,
           1,
           1,
           1,
           1,
           1,
           1,
           1,
           1,
           1,
           1,
           1,
           1,
           1,
           1,
           1,
           1,
           1,
           1,
           1,
           1,
           1,
           1,
           1,
           1,
           1,
           0.08695652173913043,
           0,
           0,
           0,
           0.3333333333333333,
           0.3333333333333333,
           0.3953488372093023,
           0.25,
           0,
           0,
           0,
           0.3333333333333333,
           0.3333333333333333,
           0.1111111111111111,
           0.26666666666666666,
           0,
           0,
           1,
           0,
           0,
           0.2,
           0.3333333333333333,
           0,
           0.3333333333333333,
           0,
           1,
           0,
           0.10810810810810811,
           0,
           0,
           0,
           0.3333333333333333,
           0.18181818181818182,
           0.5,
           0.15,
           0.14285714285714285,
           0.4,
           0,
           0.2857142857142857,
           0.08602150537634409,
           0.25,
           0,
           0,
           0.5,
           0,
           0.3333333333333333,
           0.1111111111111111,
           0,
           0,
           0,
           0,
           0.2,
           0.1875,
           0,
           0,
           0,
           0.06382978723404255,
           0.41379310344827586,
           0.5,
           0,
           0
          ]
         },
         "name": "",
         "parents": [
          "Afghanistan",
          "AmericanSamoa",
          "Angola",
          "Argentina",
          "Armenia",
          "Aruba",
          "Australia",
          "Austria",
          "Azerbaijan",
          "Bahamas",
          "Bangladesh",
          "Belgium",
          "Bolivia",
          "Brazil",
          "Canada",
          "China",
          "Costa Rica",
          "Czech Republic",
          "Ecuador",
          "Egypt",
          "Ethiopia",
          "Finland",
          "France",
          "Germany",
          "Iceland",
          "India",
          "Indonesia",
          "Iran",
          "Iraq",
          "Ireland",
          "Italy",
          "Japan",
          "Jordan",
          "Kazakhstan",
          "Malaysia",
          "Mexico",
          "Netherlands",
          "New Zealand",
          "Nicaragua",
          "Niger",
          "Oman",
          "Pakistan",
          "Philippines",
          "Romania",
          "Russia",
          "Saudi Arabia",
          "Serbia",
          "Sierra Leone",
          "South Africa",
          "Spain",
          "Sri Lanka",
          "Sweden",
          "Tonga",
          "Ukraine",
          "United Arab Emirates",
          "United Kingdom",
          "United States",
          "Uruguay",
          "Viet Nam",
          "Afghanistan",
          "Armenia",
          "Aruba",
          "Australia",
          "Austria",
          "Belgium",
          "Bolivia",
          "Brazil",
          "Canada",
          "Cyprus",
          "Egypt",
          "Ethiopia",
          "France",
          "Hong Kong",
          "India",
          "Ireland",
          "Italy",
          "Japan",
          "Jordan",
          "Kazakhstan",
          "Malaysia",
          "Netherlands",
          "New Zealand",
          "Nicaragua",
          "Pakistan",
          "Romania",
          "Russia",
          "Spain",
          "Sri Lanka",
          "United Arab Emirates",
          "United Kingdom",
          "United States",
          "",
          "",
          "",
          "",
          "",
          "",
          "",
          "",
          "",
          "",
          "",
          "",
          "",
          "",
          "",
          "",
          "",
          "",
          "",
          "",
          "",
          "",
          "",
          "",
          "",
          "",
          "",
          "",
          "",
          "",
          "",
          "",
          "",
          "",
          "",
          "",
          "",
          "",
          "",
          "",
          "",
          "",
          "",
          "",
          "",
          "",
          "",
          "",
          "",
          "",
          "",
          "",
          "",
          "",
          "",
          "",
          "",
          "",
          "",
          "",
          ""
         ],
         "type": "treemap",
         "values": [
          21,
          2,
          2,
          2,
          4,
          2,
          26,
          9,
          2,
          3,
          1,
          2,
          2,
          8,
          11,
          2,
          4,
          3,
          1,
          4,
          2,
          1,
          8,
          3,
          2,
          66,
          1,
          5,
          1,
          2,
          9,
          1,
          34,
          6,
          3,
          6,
          10,
          85,
          3,
          1,
          1,
          1,
          6,
          2,
          8,
          4,
          2,
          1,
          5,
          4,
          13,
          1,
          1,
          3,
          88,
          34,
          74,
          1,
          6,
          2,
          2,
          1,
          17,
          3,
          1,
          1,
          1,
          4,
          1,
          1,
          1,
          4,
          1,
          8,
          1,
          2,
          1,
          6,
          1,
          2,
          4,
          8,
          1,
          1,
          1,
          1,
          1,
          3,
          6,
          24,
          74,
          23,
          2,
          2,
          2,
          6,
          3,
          43,
          12,
          2,
          3,
          1,
          3,
          3,
          9,
          15,
          2,
          4,
          1,
          3,
          1,
          5,
          3,
          1,
          12,
          3,
          1,
          2,
          74,
          1,
          5,
          1,
          3,
          11,
          2,
          40,
          7,
          5,
          6,
          14,
          93,
          4,
          1,
          1,
          2,
          6,
          3,
          9,
          4,
          2,
          1,
          5,
          5,
          16,
          1,
          1,
          3,
          94,
          58,
          148,
          1,
          6
         ]
        }
       ],
       "layout": {
        "autosize": false,
        "coloraxis": {
         "colorbar": {
          "title": {
           "text": "Class/ASD"
          }
         },
         "colorscale": [
          [
           0,
           "#0d0887"
          ],
          [
           0.1111111111111111,
           "#46039f"
          ],
          [
           0.2222222222222222,
           "#7201a8"
          ],
          [
           0.3333333333333333,
           "#9c179e"
          ],
          [
           0.4444444444444444,
           "#bd3786"
          ],
          [
           0.5555555555555556,
           "#d8576b"
          ],
          [
           0.6666666666666666,
           "#ed7953"
          ],
          [
           0.7777777777777778,
           "#fb9f3a"
          ],
          [
           0.8888888888888888,
           "#fdca26"
          ],
          [
           1,
           "#f0f921"
          ]
         ]
        },
        "height": 500,
        "legend": {
         "tracegroupgap": 0
        },
        "margin": {
         "b": 100,
         "l": 50,
         "r": 50,
         "t": 50
        },
        "template": {
         "data": {
          "bar": [
           {
            "error_x": {
             "color": "rgb(36,36,36)"
            },
            "error_y": {
             "color": "rgb(36,36,36)"
            },
            "marker": {
             "line": {
              "color": "white",
              "width": 0.5
             },
             "pattern": {
              "fillmode": "overlay",
              "size": 10,
              "solidity": 0.2
             }
            },
            "type": "bar"
           }
          ],
          "barpolar": [
           {
            "marker": {
             "line": {
              "color": "white",
              "width": 0.5
             },
             "pattern": {
              "fillmode": "overlay",
              "size": 10,
              "solidity": 0.2
             }
            },
            "type": "barpolar"
           }
          ],
          "carpet": [
           {
            "aaxis": {
             "endlinecolor": "rgb(36,36,36)",
             "gridcolor": "white",
             "linecolor": "white",
             "minorgridcolor": "white",
             "startlinecolor": "rgb(36,36,36)"
            },
            "baxis": {
             "endlinecolor": "rgb(36,36,36)",
             "gridcolor": "white",
             "linecolor": "white",
             "minorgridcolor": "white",
             "startlinecolor": "rgb(36,36,36)"
            },
            "type": "carpet"
           }
          ],
          "choropleth": [
           {
            "colorbar": {
             "outlinewidth": 1,
             "tickcolor": "rgb(36,36,36)",
             "ticks": "outside"
            },
            "type": "choropleth"
           }
          ],
          "contour": [
           {
            "colorbar": {
             "outlinewidth": 1,
             "tickcolor": "rgb(36,36,36)",
             "ticks": "outside"
            },
            "colorscale": [
             [
              0,
              "#440154"
             ],
             [
              0.1111111111111111,
              "#482878"
             ],
             [
              0.2222222222222222,
              "#3e4989"
             ],
             [
              0.3333333333333333,
              "#31688e"
             ],
             [
              0.4444444444444444,
              "#26828e"
             ],
             [
              0.5555555555555556,
              "#1f9e89"
             ],
             [
              0.6666666666666666,
              "#35b779"
             ],
             [
              0.7777777777777778,
              "#6ece58"
             ],
             [
              0.8888888888888888,
              "#b5de2b"
             ],
             [
              1,
              "#fde725"
             ]
            ],
            "type": "contour"
           }
          ],
          "contourcarpet": [
           {
            "colorbar": {
             "outlinewidth": 1,
             "tickcolor": "rgb(36,36,36)",
             "ticks": "outside"
            },
            "type": "contourcarpet"
           }
          ],
          "heatmap": [
           {
            "colorbar": {
             "outlinewidth": 1,
             "tickcolor": "rgb(36,36,36)",
             "ticks": "outside"
            },
            "colorscale": [
             [
              0,
              "#440154"
             ],
             [
              0.1111111111111111,
              "#482878"
             ],
             [
              0.2222222222222222,
              "#3e4989"
             ],
             [
              0.3333333333333333,
              "#31688e"
             ],
             [
              0.4444444444444444,
              "#26828e"
             ],
             [
              0.5555555555555556,
              "#1f9e89"
             ],
             [
              0.6666666666666666,
              "#35b779"
             ],
             [
              0.7777777777777778,
              "#6ece58"
             ],
             [
              0.8888888888888888,
              "#b5de2b"
             ],
             [
              1,
              "#fde725"
             ]
            ],
            "type": "heatmap"
           }
          ],
          "heatmapgl": [
           {
            "colorbar": {
             "outlinewidth": 1,
             "tickcolor": "rgb(36,36,36)",
             "ticks": "outside"
            },
            "colorscale": [
             [
              0,
              "#440154"
             ],
             [
              0.1111111111111111,
              "#482878"
             ],
             [
              0.2222222222222222,
              "#3e4989"
             ],
             [
              0.3333333333333333,
              "#31688e"
             ],
             [
              0.4444444444444444,
              "#26828e"
             ],
             [
              0.5555555555555556,
              "#1f9e89"
             ],
             [
              0.6666666666666666,
              "#35b779"
             ],
             [
              0.7777777777777778,
              "#6ece58"
             ],
             [
              0.8888888888888888,
              "#b5de2b"
             ],
             [
              1,
              "#fde725"
             ]
            ],
            "type": "heatmapgl"
           }
          ],
          "histogram": [
           {
            "marker": {
             "line": {
              "color": "white",
              "width": 0.6
             }
            },
            "type": "histogram"
           }
          ],
          "histogram2d": [
           {
            "colorbar": {
             "outlinewidth": 1,
             "tickcolor": "rgb(36,36,36)",
             "ticks": "outside"
            },
            "colorscale": [
             [
              0,
              "#440154"
             ],
             [
              0.1111111111111111,
              "#482878"
             ],
             [
              0.2222222222222222,
              "#3e4989"
             ],
             [
              0.3333333333333333,
              "#31688e"
             ],
             [
              0.4444444444444444,
              "#26828e"
             ],
             [
              0.5555555555555556,
              "#1f9e89"
             ],
             [
              0.6666666666666666,
              "#35b779"
             ],
             [
              0.7777777777777778,
              "#6ece58"
             ],
             [
              0.8888888888888888,
              "#b5de2b"
             ],
             [
              1,
              "#fde725"
             ]
            ],
            "type": "histogram2d"
           }
          ],
          "histogram2dcontour": [
           {
            "colorbar": {
             "outlinewidth": 1,
             "tickcolor": "rgb(36,36,36)",
             "ticks": "outside"
            },
            "colorscale": [
             [
              0,
              "#440154"
             ],
             [
              0.1111111111111111,
              "#482878"
             ],
             [
              0.2222222222222222,
              "#3e4989"
             ],
             [
              0.3333333333333333,
              "#31688e"
             ],
             [
              0.4444444444444444,
              "#26828e"
             ],
             [
              0.5555555555555556,
              "#1f9e89"
             ],
             [
              0.6666666666666666,
              "#35b779"
             ],
             [
              0.7777777777777778,
              "#6ece58"
             ],
             [
              0.8888888888888888,
              "#b5de2b"
             ],
             [
              1,
              "#fde725"
             ]
            ],
            "type": "histogram2dcontour"
           }
          ],
          "mesh3d": [
           {
            "colorbar": {
             "outlinewidth": 1,
             "tickcolor": "rgb(36,36,36)",
             "ticks": "outside"
            },
            "type": "mesh3d"
           }
          ],
          "parcoords": [
           {
            "line": {
             "colorbar": {
              "outlinewidth": 1,
              "tickcolor": "rgb(36,36,36)",
              "ticks": "outside"
             }
            },
            "type": "parcoords"
           }
          ],
          "pie": [
           {
            "automargin": true,
            "type": "pie"
           }
          ],
          "scatter": [
           {
            "fillpattern": {
             "fillmode": "overlay",
             "size": 10,
             "solidity": 0.2
            },
            "type": "scatter"
           }
          ],
          "scatter3d": [
           {
            "line": {
             "colorbar": {
              "outlinewidth": 1,
              "tickcolor": "rgb(36,36,36)",
              "ticks": "outside"
             }
            },
            "marker": {
             "colorbar": {
              "outlinewidth": 1,
              "tickcolor": "rgb(36,36,36)",
              "ticks": "outside"
             }
            },
            "type": "scatter3d"
           }
          ],
          "scattercarpet": [
           {
            "marker": {
             "colorbar": {
              "outlinewidth": 1,
              "tickcolor": "rgb(36,36,36)",
              "ticks": "outside"
             }
            },
            "type": "scattercarpet"
           }
          ],
          "scattergeo": [
           {
            "marker": {
             "colorbar": {
              "outlinewidth": 1,
              "tickcolor": "rgb(36,36,36)",
              "ticks": "outside"
             }
            },
            "type": "scattergeo"
           }
          ],
          "scattergl": [
           {
            "marker": {
             "colorbar": {
              "outlinewidth": 1,
              "tickcolor": "rgb(36,36,36)",
              "ticks": "outside"
             }
            },
            "type": "scattergl"
           }
          ],
          "scattermapbox": [
           {
            "marker": {
             "colorbar": {
              "outlinewidth": 1,
              "tickcolor": "rgb(36,36,36)",
              "ticks": "outside"
             }
            },
            "type": "scattermapbox"
           }
          ],
          "scatterpolar": [
           {
            "marker": {
             "colorbar": {
              "outlinewidth": 1,
              "tickcolor": "rgb(36,36,36)",
              "ticks": "outside"
             }
            },
            "type": "scatterpolar"
           }
          ],
          "scatterpolargl": [
           {
            "marker": {
             "colorbar": {
              "outlinewidth": 1,
              "tickcolor": "rgb(36,36,36)",
              "ticks": "outside"
             }
            },
            "type": "scatterpolargl"
           }
          ],
          "scatterternary": [
           {
            "marker": {
             "colorbar": {
              "outlinewidth": 1,
              "tickcolor": "rgb(36,36,36)",
              "ticks": "outside"
             }
            },
            "type": "scatterternary"
           }
          ],
          "surface": [
           {
            "colorbar": {
             "outlinewidth": 1,
             "tickcolor": "rgb(36,36,36)",
             "ticks": "outside"
            },
            "colorscale": [
             [
              0,
              "#440154"
             ],
             [
              0.1111111111111111,
              "#482878"
             ],
             [
              0.2222222222222222,
              "#3e4989"
             ],
             [
              0.3333333333333333,
              "#31688e"
             ],
             [
              0.4444444444444444,
              "#26828e"
             ],
             [
              0.5555555555555556,
              "#1f9e89"
             ],
             [
              0.6666666666666666,
              "#35b779"
             ],
             [
              0.7777777777777778,
              "#6ece58"
             ],
             [
              0.8888888888888888,
              "#b5de2b"
             ],
             [
              1,
              "#fde725"
             ]
            ],
            "type": "surface"
           }
          ],
          "table": [
           {
            "cells": {
             "fill": {
              "color": "rgb(237,237,237)"
             },
             "line": {
              "color": "white"
             }
            },
            "header": {
             "fill": {
              "color": "rgb(217,217,217)"
             },
             "line": {
              "color": "white"
             }
            },
            "type": "table"
           }
          ]
         },
         "layout": {
          "annotationdefaults": {
           "arrowhead": 0,
           "arrowwidth": 1
          },
          "autotypenumbers": "strict",
          "coloraxis": {
           "colorbar": {
            "outlinewidth": 1,
            "tickcolor": "rgb(36,36,36)",
            "ticks": "outside"
           }
          },
          "colorscale": {
           "diverging": [
            [
             0,
             "rgb(103,0,31)"
            ],
            [
             0.1,
             "rgb(178,24,43)"
            ],
            [
             0.2,
             "rgb(214,96,77)"
            ],
            [
             0.3,
             "rgb(244,165,130)"
            ],
            [
             0.4,
             "rgb(253,219,199)"
            ],
            [
             0.5,
             "rgb(247,247,247)"
            ],
            [
             0.6,
             "rgb(209,229,240)"
            ],
            [
             0.7,
             "rgb(146,197,222)"
            ],
            [
             0.8,
             "rgb(67,147,195)"
            ],
            [
             0.9,
             "rgb(33,102,172)"
            ],
            [
             1,
             "rgb(5,48,97)"
            ]
           ],
           "sequential": [
            [
             0,
             "#440154"
            ],
            [
             0.1111111111111111,
             "#482878"
            ],
            [
             0.2222222222222222,
             "#3e4989"
            ],
            [
             0.3333333333333333,
             "#31688e"
            ],
            [
             0.4444444444444444,
             "#26828e"
            ],
            [
             0.5555555555555556,
             "#1f9e89"
            ],
            [
             0.6666666666666666,
             "#35b779"
            ],
            [
             0.7777777777777778,
             "#6ece58"
            ],
            [
             0.8888888888888888,
             "#b5de2b"
            ],
            [
             1,
             "#fde725"
            ]
           ],
           "sequentialminus": [
            [
             0,
             "#440154"
            ],
            [
             0.1111111111111111,
             "#482878"
            ],
            [
             0.2222222222222222,
             "#3e4989"
            ],
            [
             0.3333333333333333,
             "#31688e"
            ],
            [
             0.4444444444444444,
             "#26828e"
            ],
            [
             0.5555555555555556,
             "#1f9e89"
            ],
            [
             0.6666666666666666,
             "#35b779"
            ],
            [
             0.7777777777777778,
             "#6ece58"
            ],
            [
             0.8888888888888888,
             "#b5de2b"
            ],
            [
             1,
             "#fde725"
            ]
           ]
          },
          "colorway": [
           "#1F77B4",
           "#FF7F0E",
           "#2CA02C",
           "#D62728",
           "#9467BD",
           "#8C564B",
           "#E377C2",
           "#7F7F7F",
           "#BCBD22",
           "#17BECF"
          ],
          "font": {
           "color": "rgb(36,36,36)"
          },
          "geo": {
           "bgcolor": "white",
           "lakecolor": "white",
           "landcolor": "white",
           "showlakes": true,
           "showland": true,
           "subunitcolor": "white"
          },
          "hoverlabel": {
           "align": "left"
          },
          "hovermode": "closest",
          "mapbox": {
           "style": "light"
          },
          "paper_bgcolor": "white",
          "plot_bgcolor": "white",
          "polar": {
           "angularaxis": {
            "gridcolor": "rgb(232,232,232)",
            "linecolor": "rgb(36,36,36)",
            "showgrid": false,
            "showline": true,
            "ticks": "outside"
           },
           "bgcolor": "white",
           "radialaxis": {
            "gridcolor": "rgb(232,232,232)",
            "linecolor": "rgb(36,36,36)",
            "showgrid": false,
            "showline": true,
            "ticks": "outside"
           }
          },
          "scene": {
           "xaxis": {
            "backgroundcolor": "white",
            "gridcolor": "rgb(232,232,232)",
            "gridwidth": 2,
            "linecolor": "rgb(36,36,36)",
            "showbackground": true,
            "showgrid": false,
            "showline": true,
            "ticks": "outside",
            "zeroline": false,
            "zerolinecolor": "rgb(36,36,36)"
           },
           "yaxis": {
            "backgroundcolor": "white",
            "gridcolor": "rgb(232,232,232)",
            "gridwidth": 2,
            "linecolor": "rgb(36,36,36)",
            "showbackground": true,
            "showgrid": false,
            "showline": true,
            "ticks": "outside",
            "zeroline": false,
            "zerolinecolor": "rgb(36,36,36)"
           },
           "zaxis": {
            "backgroundcolor": "white",
            "gridcolor": "rgb(232,232,232)",
            "gridwidth": 2,
            "linecolor": "rgb(36,36,36)",
            "showbackground": true,
            "showgrid": false,
            "showline": true,
            "ticks": "outside",
            "zeroline": false,
            "zerolinecolor": "rgb(36,36,36)"
           }
          },
          "shapedefaults": {
           "fillcolor": "black",
           "line": {
            "width": 0
           },
           "opacity": 0.3
          },
          "ternary": {
           "aaxis": {
            "gridcolor": "rgb(232,232,232)",
            "linecolor": "rgb(36,36,36)",
            "showgrid": false,
            "showline": true,
            "ticks": "outside"
           },
           "baxis": {
            "gridcolor": "rgb(232,232,232)",
            "linecolor": "rgb(36,36,36)",
            "showgrid": false,
            "showline": true,
            "ticks": "outside"
           },
           "bgcolor": "white",
           "caxis": {
            "gridcolor": "rgb(232,232,232)",
            "linecolor": "rgb(36,36,36)",
            "showgrid": false,
            "showline": true,
            "ticks": "outside"
           }
          },
          "title": {
           "x": 0.05
          },
          "xaxis": {
           "automargin": true,
           "gridcolor": "rgb(232,232,232)",
           "linecolor": "rgb(36,36,36)",
           "showgrid": false,
           "showline": true,
           "ticks": "outside",
           "title": {
            "standoff": 15
           },
           "zeroline": false,
           "zerolinecolor": "rgb(36,36,36)"
          },
          "yaxis": {
           "automargin": true,
           "gridcolor": "rgb(232,232,232)",
           "linecolor": "rgb(36,36,36)",
           "showgrid": false,
           "showline": true,
           "ticks": "outside",
           "title": {
            "standoff": 15
           },
           "zeroline": false,
           "zerolinecolor": "rgb(36,36,36)"
          }
         }
        },
        "title": {
         "font": {
          "size": 20
         },
         "text": "Country of Residence of the Patient - Treemap"
        },
        "width": 1000
       }
      }
     },
     "metadata": {},
     "output_type": "display_data"
    }
   ],
   "source": [
    "import plotly.express as px\n",
    "\n",
    "fig = px.treemap(\n",
    "    train_data, \n",
    "    path=['contry_of_res', 'Class/ASD'], \n",
    "    color='Class/ASD',\n",
    "    color_discrete_map={0: 'lightblue', 1: 'darkblue'}\n",
    ")\n",
    "\n",
    "fig.update_layout(\n",
    "    title_text=\"Country of Residence of the Patient - Treemap\",\n",
    "    title_font_size=20,\n",
    "    height=500, width=1000,\n",
    "    template='simple_white',\n",
    "    margin=dict(l=50, r=50, b=100, t=50),\n",
    "    autosize=False\n",
    ")\n",
    "\n",
    "fig.show()\n"
   ]
  },
  {
   "cell_type": "code",
   "execution_count": 31,
   "metadata": {},
   "outputs": [
    {
     "data": {
      "application/vnd.plotly.v1+json": {
       "config": {
        "plotlyServerURL": "https://plot.ly"
       },
       "data": [
        {
         "alignmentgroup": "True",
         "bingroup": "x",
         "histnorm": "percent",
         "hovertemplate": "contry_of_res=%{x}<br>percent=%{y}<extra></extra>",
         "legendgroup": "",
         "marker": {
          "color": "purple",
          "pattern": {
           "shape": ""
          }
         },
         "name": "",
         "offsetgroup": "",
         "orientation": "v",
         "showlegend": false,
         "type": "histogram",
         "x": [
          "United States",
          "Australia",
          "United Kingdom",
          "New Zealand",
          "Italy",
          "Nicaragua",
          "Canada",
          "United Arab Emirates",
          "United Kingdom",
          "United States",
          "Netherlands",
          "Australia",
          "United States",
          "New Zealand",
          "Sri Lanka",
          "Australia",
          "United Arab Emirates",
          "United Arab Emirates",
          "United Arab Emirates",
          "Canada",
          "India",
          "New Zealand",
          "United States",
          "United Kingdom",
          "Nicaragua",
          "India",
          "New Zealand",
          "Netherlands",
          "United Kingdom",
          "Netherlands",
          "United States",
          "New Zealand",
          "Armenia",
          "Sierra Leone",
          "India",
          "Argentina",
          "Azerbaijan",
          "Iceland",
          "Egypt",
          "United Arab Emirates",
          "Serbia",
          "United Arab Emirates",
          "Sri Lanka",
          "United Arab Emirates",
          "United Kingdom",
          "United States",
          "Afghanistan",
          "United States",
          "Costa Rica",
          "United Arab Emirates",
          "United States",
          "Afghanistan",
          "United States",
          "New Zealand",
          "Afghanistan",
          "United Arab Emirates",
          "Jordan",
          "India",
          "New Zealand",
          "Australia",
          "Angola",
          "Pakistan",
          "Australia",
          "Brazil",
          "Ireland",
          "United States",
          "United Kingdom",
          "Egypt",
          "Kazakhstan",
          "Sri Lanka",
          "United Kingdom",
          "New Zealand",
          "United States",
          "Netherlands",
          "India",
          "United States",
          "Viet Nam",
          "Ethiopia",
          "New Zealand",
          "Austria",
          "United States",
          "United States",
          "India",
          "Finland",
          "New Zealand",
          "New Zealand",
          "India",
          "United Arab Emirates",
          "United States",
          "United States",
          "Italy",
          "France",
          "New Zealand",
          "Australia",
          "United Arab Emirates",
          "Australia",
          "Sri Lanka",
          "United States",
          "United Kingdom",
          "United Arab Emirates",
          "Jordan",
          "Netherlands",
          "India",
          "Afghanistan",
          "India",
          "United States",
          "United Arab Emirates",
          "Afghanistan",
          "Malaysia",
          "Afghanistan",
          "United States",
          "India",
          "Sri Lanka",
          "France",
          "New Zealand",
          "Austria",
          "Jordan",
          "New Zealand",
          "United States",
          "United Kingdom",
          "United Arab Emirates",
          "United Kingdom",
          "Jordan",
          "Netherlands",
          "United States",
          "United Kingdom",
          "United States",
          "United States",
          "New Zealand",
          "Viet Nam",
          "United Kingdom",
          "New Zealand",
          "France",
          "Jordan",
          "United States",
          "Australia",
          "Australia",
          "Canada",
          "Canada",
          "Jordan",
          "United States",
          "United Kingdom",
          "United Kingdom",
          "United States",
          "United States",
          "Japan",
          "India",
          "New Zealand",
          "United Kingdom",
          "India",
          "India",
          "New Zealand",
          "New Zealand",
          "Austria",
          "Jordan",
          "New Zealand",
          "Netherlands",
          "United Arab Emirates",
          "United States",
          "United Arab Emirates",
          "India",
          "Spain",
          "New Zealand",
          "New Zealand",
          "Afghanistan",
          "India",
          "United States",
          "United States",
          "United Kingdom",
          "Viet Nam",
          "United Arab Emirates",
          "United States",
          "United States",
          "India",
          "Iceland",
          "India",
          "New Zealand",
          "Jordan",
          "Australia",
          "Jordan",
          "Australia",
          "United Kingdom",
          "United States",
          "India",
          "Philippines",
          "Jordan",
          "United Arab Emirates",
          "India",
          "Iran",
          "Afghanistan",
          "Australia",
          "United Arab Emirates",
          "United Arab Emirates",
          "India",
          "United States",
          "Afghanistan",
          "United Arab Emirates",
          "Jordan",
          "France",
          "Jordan",
          "United States",
          "United States",
          "Brazil",
          "Czech Republic",
          "India",
          "India",
          "Jordan",
          "Russia",
          "United Arab Emirates",
          "India",
          "United Arab Emirates",
          "Jordan",
          "United States",
          "Canada",
          "Romania",
          "United Arab Emirates",
          "New Zealand",
          "United States",
          "Jordan",
          "United Kingdom",
          "Czech Republic",
          "Australia",
          "United States",
          "United Arab Emirates",
          "Sri Lanka",
          "Canada",
          "Mexico",
          "United Kingdom",
          "United States",
          "Australia",
          "Romania",
          "Austria",
          "New Zealand",
          "United States",
          "United States",
          "United Kingdom",
          "United States",
          "India",
          "United States",
          "Egypt",
          "Belgium",
          "United Arab Emirates",
          "United Arab Emirates",
          "Netherlands",
          "United States",
          "India",
          "United Arab Emirates",
          "Nicaragua",
          "India",
          "India",
          "United Arab Emirates",
          "United States",
          "Aruba",
          "United Arab Emirates",
          "Sri Lanka",
          "India",
          "Japan",
          "Russia",
          "New Zealand",
          "Australia",
          "New Zealand",
          "United Kingdom",
          "Uruguay",
          "Australia",
          "United States",
          "Jordan",
          "New Zealand",
          "United Arab Emirates",
          "Canada",
          "Brazil",
          "United Kingdom",
          "United Arab Emirates",
          "Sri Lanka",
          "India",
          "United Kingdom",
          "Jordan",
          "Sri Lanka",
          "Australia",
          "Jordan",
          "United States",
          "Italy",
          "United Arab Emirates",
          "United Arab Emirates",
          "Australia",
          "India",
          "India",
          "Mexico",
          "New Zealand",
          "United Arab Emirates",
          "Austria",
          "Indonesia",
          "United Kingdom",
          "Ukraine",
          "United States",
          "Kazakhstan",
          "New Zealand",
          "United Arab Emirates",
          "India",
          "United Arab Emirates",
          "United Arab Emirates",
          "United Arab Emirates",
          "Australia",
          "Afghanistan",
          "Austria",
          "Italy",
          "India",
          "Russia",
          "New Zealand",
          "United Arab Emirates",
          "United States",
          "India",
          "Italy",
          "United States",
          "New Zealand",
          "United States",
          "Jordan",
          "Afghanistan",
          "AmericanSamoa",
          "Jordan",
          "United States",
          "United Kingdom",
          "Germany",
          "Ethiopia",
          "United Arab Emirates",
          "United States",
          "Austria",
          "United Kingdom",
          "Jordan",
          "Canada",
          "United States",
          "Malaysia",
          "Sri Lanka",
          "United States",
          "United Arab Emirates",
          "New Zealand",
          "Jordan",
          "Mexico",
          "New Zealand",
          "United Kingdom",
          "United Arab Emirates",
          "United States",
          "United Arab Emirates",
          "United Kingdom",
          "United Arab Emirates",
          "United States",
          "France",
          "New Zealand",
          "New Zealand",
          "India",
          "Australia",
          "United Kingdom",
          "New Zealand",
          "Russia",
          "India",
          "New Zealand",
          "Australia",
          "United Arab Emirates",
          "China",
          "India",
          "United Kingdom",
          "Jordan",
          "Canada",
          "New Zealand",
          "Afghanistan",
          "India",
          "Jordan",
          "United States",
          "Armenia",
          "United States",
          "United Arab Emirates",
          "United States",
          "Iraq",
          "India",
          "Australia",
          "India",
          "Tonga",
          "India",
          "New Zealand",
          "Malaysia",
          "Jordan",
          "Czech Republic",
          "United States",
          "United Arab Emirates",
          "India",
          "United States",
          "India",
          "New Zealand",
          "United Arab Emirates",
          "United States",
          "United Arab Emirates",
          "Belgium",
          "United Arab Emirates",
          "New Zealand",
          "United States",
          "Australia",
          "New Zealand",
          "Australia",
          "Ireland",
          "India",
          "United States",
          "Netherlands",
          "Jordan",
          "India",
          "Costa Rica",
          "United Kingdom",
          "South Africa",
          "Armenia",
          "India",
          "Italy",
          "United States",
          "New Zealand",
          "United Kingdom",
          "Aruba",
          "United States",
          "United Arab Emirates",
          "Australia",
          "New Zealand",
          "United States",
          "United States",
          "New Zealand",
          "United Arab Emirates",
          "United Kingdom",
          "Australia",
          "United Arab Emirates",
          "New Zealand",
          "Saudi Arabia",
          "India",
          "New Zealand",
          "Jordan",
          "France",
          "Afghanistan",
          "United States",
          "Afghanistan",
          "United States",
          "Australia",
          "United States",
          "Sri Lanka",
          "New Zealand",
          "Hong Kong",
          "United Arab Emirates",
          "United States",
          "New Zealand",
          "India",
          "India",
          "Austria",
          "United States",
          "New Zealand",
          "France",
          "Brazil",
          "New Zealand",
          "Afghanistan",
          "United Kingdom",
          "Jordan",
          "United States",
          "New Zealand",
          "United States",
          "India",
          "New Zealand",
          "India",
          "Australia",
          "New Zealand",
          "Serbia",
          "Jordan",
          "Russia",
          "United Arab Emirates",
          "Bahamas",
          "South Africa",
          "India",
          "United States",
          "United States",
          "Austria",
          "United Kingdom",
          "United Kingdom",
          "Philippines",
          "United States",
          "Australia",
          "Iran",
          "Kazakhstan",
          "Costa Rica",
          "United Arab Emirates",
          "Kazakhstan",
          "United States",
          "Ecuador",
          "United Arab Emirates",
          "Belgium",
          "Spain",
          "United Arab Emirates",
          "Viet Nam",
          "United States",
          "Russia",
          "Italy",
          "Romania",
          "United Arab Emirates",
          "Iran",
          "United Arab Emirates",
          "United Kingdom",
          "New Zealand",
          "Cyprus",
          "Jordan",
          "New Zealand",
          "United States",
          "Brazil",
          "South Africa",
          "Afghanistan",
          "United Arab Emirates",
          "United Arab Emirates",
          "Australia",
          "Armenia",
          "China",
          "Spain",
          "United States",
          "United Arab Emirates",
          "United Kingdom",
          "United Arab Emirates",
          "United States",
          "Bahamas",
          "New Zealand",
          "Austria",
          "United States",
          "United States",
          "Brazil",
          "United Kingdom",
          "United States",
          "France",
          "United Arab Emirates",
          "United Arab Emirates",
          "Kazakhstan",
          "United Kingdom",
          "United States",
          "New Zealand",
          "Jordan",
          "United Arab Emirates",
          "New Zealand",
          "Ireland",
          "United States",
          "United States",
          "New Zealand",
          "United States",
          "Mexico",
          "New Zealand",
          "United States",
          "Egypt",
          "Egypt",
          "New Zealand",
          "Ethiopia",
          "India",
          "Jordan",
          "Germany",
          "Bangladesh",
          "Oman",
          "United States",
          "United States",
          "Aruba",
          "New Zealand",
          "United States",
          "New Zealand",
          "United Kingdom",
          "India",
          "New Zealand",
          "Costa Rica",
          "Saudi Arabia",
          "France",
          "South Africa",
          "United States",
          "Netherlands",
          "Netherlands",
          "India",
          "Saudi Arabia",
          "United States",
          "New Zealand",
          "South Africa",
          "United States",
          "United States",
          "New Zealand",
          "Armenia",
          "United Kingdom",
          "United Arab Emirates",
          "India",
          "Australia",
          "United Arab Emirates",
          "Canada",
          "United States",
          "Sri Lanka",
          "United States",
          "Bolivia",
          "United Arab Emirates",
          "New Zealand",
          "India",
          "United States",
          "United States",
          "Afghanistan",
          "United States",
          "United States",
          "United States",
          "Armenia",
          "India",
          "Italy",
          "Brazil",
          "Netherlands",
          "New Zealand",
          "Canada",
          "United Kingdom",
          "New Zealand",
          "United Kingdom",
          "Jordan",
          "United Kingdom",
          "India",
          "United States",
          "Jordan",
          "India",
          "Sri Lanka",
          "Philippines",
          "New Zealand",
          "Sweden",
          "United Kingdom",
          "AmericanSamoa",
          "Afghanistan",
          "United Kingdom",
          "New Zealand",
          "Netherlands",
          "United Arab Emirates",
          "Philippines",
          "Ukraine",
          "United States",
          "New Zealand",
          "Azerbaijan",
          "Afghanistan",
          "Italy",
          "United States",
          "Malaysia",
          "United Arab Emirates",
          "Jordan",
          "United Arab Emirates",
          "United Arab Emirates",
          "United States",
          "United Arab Emirates",
          "New Zealand",
          "Iran",
          "Australia",
          "United States",
          "United Arab Emirates",
          "Malaysia",
          "Afghanistan",
          "Saudi Arabia",
          "United States",
          "United Arab Emirates",
          "United States",
          "United States",
          "New Zealand",
          "Kazakhstan",
          "Italy",
          "United Kingdom",
          "United States",
          "United Arab Emirates",
          "United States",
          "United States",
          "India",
          "United States",
          "United Kingdom",
          "Australia",
          "Australia",
          "India",
          "United States",
          "India",
          "New Zealand",
          "New Zealand",
          "United Arab Emirates",
          "Argentina",
          "United Arab Emirates",
          "Canada",
          "India",
          "India",
          "India",
          "United Arab Emirates",
          "Canada",
          "France",
          "Brazil",
          "Australia",
          "Jordan",
          "Sri Lanka",
          "New Zealand",
          "India",
          "United States",
          "India",
          "United States",
          "Australia",
          "United States",
          "New Zealand",
          "New Zealand",
          "United Kingdom",
          "United Arab Emirates",
          "United Kingdom",
          "United Arab Emirates",
          "United Arab Emirates",
          "United Arab Emirates",
          "New Zealand",
          "United States",
          "United States",
          "United States",
          "Bahamas",
          "Mexico",
          "India",
          "United Kingdom",
          "Australia",
          "Nicaragua",
          "United States",
          "United Arab Emirates",
          "New Zealand",
          "United States",
          "United States",
          "Viet Nam",
          "New Zealand",
          "United Kingdom",
          "United States",
          "Afghanistan",
          "New Zealand",
          "United Kingdom",
          "France",
          "Australia",
          "Netherlands",
          "India",
          "Niger",
          "United States",
          "Bolivia",
          "Australia",
          "United States",
          "Pakistan",
          "Philippines",
          "Ukraine",
          "New Zealand",
          "India",
          "United States",
          "Bolivia",
          "Sri Lanka",
          "United States",
          "Canada",
          "United States",
          "India",
          "India",
          "United States",
          "Jordan",
          "United Arab Emirates",
          "United Arab Emirates",
          "Italy",
          "Iran",
          "United Kingdom",
          "Russia",
          "Russia",
          "New Zealand",
          "United States",
          "United States",
          "Germany",
          "Angola",
          "Spain",
          "New Zealand",
          "United States",
          "Australia",
          "Austria",
          "Kazakhstan",
          "Australia",
          "Sri Lanka",
          "United States",
          "New Zealand",
          "United States",
          "New Zealand",
          "United States",
          "Jordan",
          "United Arab Emirates",
          "United Arab Emirates",
          "Afghanistan",
          "Philippines",
          "United States",
          "United States",
          "United Kingdom",
          "Spain",
          "Austria",
          "Canada",
          "France",
          "Australia",
          "United Kingdom",
          "United Kingdom",
          "Afghanistan",
          "United Arab Emirates",
          "New Zealand",
          "United States",
          "Australia",
          "United States",
          "India",
          "Jordan",
          "Russia",
          "United Arab Emirates",
          "United Arab Emirates",
          "Mexico",
          "Brazil",
          "Viet Nam",
          "United States",
          "New Zealand",
          "Jordan",
          "United States",
          "New Zealand"
         ],
         "xaxis": "x",
         "yaxis": "y"
        }
       ],
       "layout": {
        "barmode": "relative",
        "font": {
         "family": "San Serif"
        },
        "height": 400,
        "legend": {
         "orientation": "v",
         "tracegroupgap": 0,
         "x": 1,
         "xanchor": "right",
         "y": 1,
         "yanchor": "top"
        },
        "margin": {
         "t": 60
        },
        "template": {
         "data": {
          "bar": [
           {
            "error_x": {
             "color": "rgb(36,36,36)"
            },
            "error_y": {
             "color": "rgb(36,36,36)"
            },
            "marker": {
             "line": {
              "color": "white",
              "width": 0.5
             },
             "pattern": {
              "fillmode": "overlay",
              "size": 10,
              "solidity": 0.2
             }
            },
            "type": "bar"
           }
          ],
          "barpolar": [
           {
            "marker": {
             "line": {
              "color": "white",
              "width": 0.5
             },
             "pattern": {
              "fillmode": "overlay",
              "size": 10,
              "solidity": 0.2
             }
            },
            "type": "barpolar"
           }
          ],
          "carpet": [
           {
            "aaxis": {
             "endlinecolor": "rgb(36,36,36)",
             "gridcolor": "white",
             "linecolor": "white",
             "minorgridcolor": "white",
             "startlinecolor": "rgb(36,36,36)"
            },
            "baxis": {
             "endlinecolor": "rgb(36,36,36)",
             "gridcolor": "white",
             "linecolor": "white",
             "minorgridcolor": "white",
             "startlinecolor": "rgb(36,36,36)"
            },
            "type": "carpet"
           }
          ],
          "choropleth": [
           {
            "colorbar": {
             "outlinewidth": 1,
             "tickcolor": "rgb(36,36,36)",
             "ticks": "outside"
            },
            "type": "choropleth"
           }
          ],
          "contour": [
           {
            "colorbar": {
             "outlinewidth": 1,
             "tickcolor": "rgb(36,36,36)",
             "ticks": "outside"
            },
            "colorscale": [
             [
              0,
              "#440154"
             ],
             [
              0.1111111111111111,
              "#482878"
             ],
             [
              0.2222222222222222,
              "#3e4989"
             ],
             [
              0.3333333333333333,
              "#31688e"
             ],
             [
              0.4444444444444444,
              "#26828e"
             ],
             [
              0.5555555555555556,
              "#1f9e89"
             ],
             [
              0.6666666666666666,
              "#35b779"
             ],
             [
              0.7777777777777778,
              "#6ece58"
             ],
             [
              0.8888888888888888,
              "#b5de2b"
             ],
             [
              1,
              "#fde725"
             ]
            ],
            "type": "contour"
           }
          ],
          "contourcarpet": [
           {
            "colorbar": {
             "outlinewidth": 1,
             "tickcolor": "rgb(36,36,36)",
             "ticks": "outside"
            },
            "type": "contourcarpet"
           }
          ],
          "heatmap": [
           {
            "colorbar": {
             "outlinewidth": 1,
             "tickcolor": "rgb(36,36,36)",
             "ticks": "outside"
            },
            "colorscale": [
             [
              0,
              "#440154"
             ],
             [
              0.1111111111111111,
              "#482878"
             ],
             [
              0.2222222222222222,
              "#3e4989"
             ],
             [
              0.3333333333333333,
              "#31688e"
             ],
             [
              0.4444444444444444,
              "#26828e"
             ],
             [
              0.5555555555555556,
              "#1f9e89"
             ],
             [
              0.6666666666666666,
              "#35b779"
             ],
             [
              0.7777777777777778,
              "#6ece58"
             ],
             [
              0.8888888888888888,
              "#b5de2b"
             ],
             [
              1,
              "#fde725"
             ]
            ],
            "type": "heatmap"
           }
          ],
          "heatmapgl": [
           {
            "colorbar": {
             "outlinewidth": 1,
             "tickcolor": "rgb(36,36,36)",
             "ticks": "outside"
            },
            "colorscale": [
             [
              0,
              "#440154"
             ],
             [
              0.1111111111111111,
              "#482878"
             ],
             [
              0.2222222222222222,
              "#3e4989"
             ],
             [
              0.3333333333333333,
              "#31688e"
             ],
             [
              0.4444444444444444,
              "#26828e"
             ],
             [
              0.5555555555555556,
              "#1f9e89"
             ],
             [
              0.6666666666666666,
              "#35b779"
             ],
             [
              0.7777777777777778,
              "#6ece58"
             ],
             [
              0.8888888888888888,
              "#b5de2b"
             ],
             [
              1,
              "#fde725"
             ]
            ],
            "type": "heatmapgl"
           }
          ],
          "histogram": [
           {
            "marker": {
             "line": {
              "color": "white",
              "width": 0.6
             }
            },
            "type": "histogram"
           }
          ],
          "histogram2d": [
           {
            "colorbar": {
             "outlinewidth": 1,
             "tickcolor": "rgb(36,36,36)",
             "ticks": "outside"
            },
            "colorscale": [
             [
              0,
              "#440154"
             ],
             [
              0.1111111111111111,
              "#482878"
             ],
             [
              0.2222222222222222,
              "#3e4989"
             ],
             [
              0.3333333333333333,
              "#31688e"
             ],
             [
              0.4444444444444444,
              "#26828e"
             ],
             [
              0.5555555555555556,
              "#1f9e89"
             ],
             [
              0.6666666666666666,
              "#35b779"
             ],
             [
              0.7777777777777778,
              "#6ece58"
             ],
             [
              0.8888888888888888,
              "#b5de2b"
             ],
             [
              1,
              "#fde725"
             ]
            ],
            "type": "histogram2d"
           }
          ],
          "histogram2dcontour": [
           {
            "colorbar": {
             "outlinewidth": 1,
             "tickcolor": "rgb(36,36,36)",
             "ticks": "outside"
            },
            "colorscale": [
             [
              0,
              "#440154"
             ],
             [
              0.1111111111111111,
              "#482878"
             ],
             [
              0.2222222222222222,
              "#3e4989"
             ],
             [
              0.3333333333333333,
              "#31688e"
             ],
             [
              0.4444444444444444,
              "#26828e"
             ],
             [
              0.5555555555555556,
              "#1f9e89"
             ],
             [
              0.6666666666666666,
              "#35b779"
             ],
             [
              0.7777777777777778,
              "#6ece58"
             ],
             [
              0.8888888888888888,
              "#b5de2b"
             ],
             [
              1,
              "#fde725"
             ]
            ],
            "type": "histogram2dcontour"
           }
          ],
          "mesh3d": [
           {
            "colorbar": {
             "outlinewidth": 1,
             "tickcolor": "rgb(36,36,36)",
             "ticks": "outside"
            },
            "type": "mesh3d"
           }
          ],
          "parcoords": [
           {
            "line": {
             "colorbar": {
              "outlinewidth": 1,
              "tickcolor": "rgb(36,36,36)",
              "ticks": "outside"
             }
            },
            "type": "parcoords"
           }
          ],
          "pie": [
           {
            "automargin": true,
            "type": "pie"
           }
          ],
          "scatter": [
           {
            "fillpattern": {
             "fillmode": "overlay",
             "size": 10,
             "solidity": 0.2
            },
            "type": "scatter"
           }
          ],
          "scatter3d": [
           {
            "line": {
             "colorbar": {
              "outlinewidth": 1,
              "tickcolor": "rgb(36,36,36)",
              "ticks": "outside"
             }
            },
            "marker": {
             "colorbar": {
              "outlinewidth": 1,
              "tickcolor": "rgb(36,36,36)",
              "ticks": "outside"
             }
            },
            "type": "scatter3d"
           }
          ],
          "scattercarpet": [
           {
            "marker": {
             "colorbar": {
              "outlinewidth": 1,
              "tickcolor": "rgb(36,36,36)",
              "ticks": "outside"
             }
            },
            "type": "scattercarpet"
           }
          ],
          "scattergeo": [
           {
            "marker": {
             "colorbar": {
              "outlinewidth": 1,
              "tickcolor": "rgb(36,36,36)",
              "ticks": "outside"
             }
            },
            "type": "scattergeo"
           }
          ],
          "scattergl": [
           {
            "marker": {
             "colorbar": {
              "outlinewidth": 1,
              "tickcolor": "rgb(36,36,36)",
              "ticks": "outside"
             }
            },
            "type": "scattergl"
           }
          ],
          "scattermapbox": [
           {
            "marker": {
             "colorbar": {
              "outlinewidth": 1,
              "tickcolor": "rgb(36,36,36)",
              "ticks": "outside"
             }
            },
            "type": "scattermapbox"
           }
          ],
          "scatterpolar": [
           {
            "marker": {
             "colorbar": {
              "outlinewidth": 1,
              "tickcolor": "rgb(36,36,36)",
              "ticks": "outside"
             }
            },
            "type": "scatterpolar"
           }
          ],
          "scatterpolargl": [
           {
            "marker": {
             "colorbar": {
              "outlinewidth": 1,
              "tickcolor": "rgb(36,36,36)",
              "ticks": "outside"
             }
            },
            "type": "scatterpolargl"
           }
          ],
          "scatterternary": [
           {
            "marker": {
             "colorbar": {
              "outlinewidth": 1,
              "tickcolor": "rgb(36,36,36)",
              "ticks": "outside"
             }
            },
            "type": "scatterternary"
           }
          ],
          "surface": [
           {
            "colorbar": {
             "outlinewidth": 1,
             "tickcolor": "rgb(36,36,36)",
             "ticks": "outside"
            },
            "colorscale": [
             [
              0,
              "#440154"
             ],
             [
              0.1111111111111111,
              "#482878"
             ],
             [
              0.2222222222222222,
              "#3e4989"
             ],
             [
              0.3333333333333333,
              "#31688e"
             ],
             [
              0.4444444444444444,
              "#26828e"
             ],
             [
              0.5555555555555556,
              "#1f9e89"
             ],
             [
              0.6666666666666666,
              "#35b779"
             ],
             [
              0.7777777777777778,
              "#6ece58"
             ],
             [
              0.8888888888888888,
              "#b5de2b"
             ],
             [
              1,
              "#fde725"
             ]
            ],
            "type": "surface"
           }
          ],
          "table": [
           {
            "cells": {
             "fill": {
              "color": "rgb(237,237,237)"
             },
             "line": {
              "color": "white"
             }
            },
            "header": {
             "fill": {
              "color": "rgb(217,217,217)"
             },
             "line": {
              "color": "white"
             }
            },
            "type": "table"
           }
          ]
         },
         "layout": {
          "annotationdefaults": {
           "arrowhead": 0,
           "arrowwidth": 1
          },
          "autotypenumbers": "strict",
          "coloraxis": {
           "colorbar": {
            "outlinewidth": 1,
            "tickcolor": "rgb(36,36,36)",
            "ticks": "outside"
           }
          },
          "colorscale": {
           "diverging": [
            [
             0,
             "rgb(103,0,31)"
            ],
            [
             0.1,
             "rgb(178,24,43)"
            ],
            [
             0.2,
             "rgb(214,96,77)"
            ],
            [
             0.3,
             "rgb(244,165,130)"
            ],
            [
             0.4,
             "rgb(253,219,199)"
            ],
            [
             0.5,
             "rgb(247,247,247)"
            ],
            [
             0.6,
             "rgb(209,229,240)"
            ],
            [
             0.7,
             "rgb(146,197,222)"
            ],
            [
             0.8,
             "rgb(67,147,195)"
            ],
            [
             0.9,
             "rgb(33,102,172)"
            ],
            [
             1,
             "rgb(5,48,97)"
            ]
           ],
           "sequential": [
            [
             0,
             "#440154"
            ],
            [
             0.1111111111111111,
             "#482878"
            ],
            [
             0.2222222222222222,
             "#3e4989"
            ],
            [
             0.3333333333333333,
             "#31688e"
            ],
            [
             0.4444444444444444,
             "#26828e"
            ],
            [
             0.5555555555555556,
             "#1f9e89"
            ],
            [
             0.6666666666666666,
             "#35b779"
            ],
            [
             0.7777777777777778,
             "#6ece58"
            ],
            [
             0.8888888888888888,
             "#b5de2b"
            ],
            [
             1,
             "#fde725"
            ]
           ],
           "sequentialminus": [
            [
             0,
             "#440154"
            ],
            [
             0.1111111111111111,
             "#482878"
            ],
            [
             0.2222222222222222,
             "#3e4989"
            ],
            [
             0.3333333333333333,
             "#31688e"
            ],
            [
             0.4444444444444444,
             "#26828e"
            ],
            [
             0.5555555555555556,
             "#1f9e89"
            ],
            [
             0.6666666666666666,
             "#35b779"
            ],
            [
             0.7777777777777778,
             "#6ece58"
            ],
            [
             0.8888888888888888,
             "#b5de2b"
            ],
            [
             1,
             "#fde725"
            ]
           ]
          },
          "colorway": [
           "#1F77B4",
           "#FF7F0E",
           "#2CA02C",
           "#D62728",
           "#9467BD",
           "#8C564B",
           "#E377C2",
           "#7F7F7F",
           "#BCBD22",
           "#17BECF"
          ],
          "font": {
           "color": "rgb(36,36,36)"
          },
          "geo": {
           "bgcolor": "white",
           "lakecolor": "white",
           "landcolor": "white",
           "showlakes": true,
           "showland": true,
           "subunitcolor": "white"
          },
          "hoverlabel": {
           "align": "left"
          },
          "hovermode": "closest",
          "mapbox": {
           "style": "light"
          },
          "paper_bgcolor": "white",
          "plot_bgcolor": "white",
          "polar": {
           "angularaxis": {
            "gridcolor": "rgb(232,232,232)",
            "linecolor": "rgb(36,36,36)",
            "showgrid": false,
            "showline": true,
            "ticks": "outside"
           },
           "bgcolor": "white",
           "radialaxis": {
            "gridcolor": "rgb(232,232,232)",
            "linecolor": "rgb(36,36,36)",
            "showgrid": false,
            "showline": true,
            "ticks": "outside"
           }
          },
          "scene": {
           "xaxis": {
            "backgroundcolor": "white",
            "gridcolor": "rgb(232,232,232)",
            "gridwidth": 2,
            "linecolor": "rgb(36,36,36)",
            "showbackground": true,
            "showgrid": false,
            "showline": true,
            "ticks": "outside",
            "zeroline": false,
            "zerolinecolor": "rgb(36,36,36)"
           },
           "yaxis": {
            "backgroundcolor": "white",
            "gridcolor": "rgb(232,232,232)",
            "gridwidth": 2,
            "linecolor": "rgb(36,36,36)",
            "showbackground": true,
            "showgrid": false,
            "showline": true,
            "ticks": "outside",
            "zeroline": false,
            "zerolinecolor": "rgb(36,36,36)"
           },
           "zaxis": {
            "backgroundcolor": "white",
            "gridcolor": "rgb(232,232,232)",
            "gridwidth": 2,
            "linecolor": "rgb(36,36,36)",
            "showbackground": true,
            "showgrid": false,
            "showline": true,
            "ticks": "outside",
            "zeroline": false,
            "zerolinecolor": "rgb(36,36,36)"
           }
          },
          "shapedefaults": {
           "fillcolor": "black",
           "line": {
            "width": 0
           },
           "opacity": 0.3
          },
          "ternary": {
           "aaxis": {
            "gridcolor": "rgb(232,232,232)",
            "linecolor": "rgb(36,36,36)",
            "showgrid": false,
            "showline": true,
            "ticks": "outside"
           },
           "baxis": {
            "gridcolor": "rgb(232,232,232)",
            "linecolor": "rgb(36,36,36)",
            "showgrid": false,
            "showline": true,
            "ticks": "outside"
           },
           "bgcolor": "white",
           "caxis": {
            "gridcolor": "rgb(232,232,232)",
            "linecolor": "rgb(36,36,36)",
            "showgrid": false,
            "showline": true,
            "ticks": "outside"
           }
          },
          "title": {
           "x": 0.05
          },
          "xaxis": {
           "automargin": true,
           "gridcolor": "rgb(232,232,232)",
           "linecolor": "rgb(36,36,36)",
           "showgrid": false,
           "showline": true,
           "ticks": "outside",
           "title": {
            "standoff": 15
           },
           "zeroline": false,
           "zerolinecolor": "rgb(36,36,36)"
          },
          "yaxis": {
           "automargin": true,
           "gridcolor": "rgb(232,232,232)",
           "linecolor": "rgb(36,36,36)",
           "showgrid": false,
           "showline": true,
           "ticks": "outside",
           "title": {
            "standoff": 15
           },
           "zeroline": false,
           "zerolinecolor": "rgb(36,36,36)"
          }
         }
        },
        "title": {
         "font": {
          "size": 20
         },
         "text": "COUNTRY OF RESIDENCE OF THE PATIENT - HISTOGRAM"
        },
        "width": 900,
        "xaxis": {
         "anchor": "y",
         "categoryorder": "total descending",
         "domain": [
          0,
          1
         ],
         "title": {
          "text": "contry_of_res"
         }
        },
        "yaxis": {
         "anchor": "x",
         "domain": [
          0,
          1
         ],
         "title": {
          "text": "percent"
         }
        }
       }
      }
     },
     "metadata": {},
     "output_type": "display_data"
    }
   ],
   "source": [
    "import plotly.express as px\n",
    "\n",
    "fig = px.histogram(\n",
    "    train_data,\n",
    "    x=\"contry_of_res\",\n",
    "    width=900,\n",
    "    height=400,\n",
    "    histnorm='percent',\n",
    "    template=\"simple_white\"\n",
    ")\n",
    "\n",
    "fig.update_layout(\n",
    "    title_text=\"COUNTRY OF RESIDENCE OF THE PATIENT - HISTOGRAM\",\n",
    "    font_family=\"San Serif\",\n",
    "    title_font=dict(size=20),\n",
    "    legend=dict(\n",
    "        orientation=\"v\",\n",
    "        y=1,\n",
    "        yanchor=\"top\",\n",
    "        x=1.0,\n",
    "        xanchor=\"right\"\n",
    "    )\n",
    ")\n",
    "\n",
    "fig.update_traces(marker_color='purple')\n",
    "fig.update_xaxes(categoryorder='total descending')\n",
    "\n",
    "fig.show()\n"
   ]
  },
  {
   "cell_type": "code",
   "execution_count": 32,
   "metadata": {},
   "outputs": [
    {
     "data": {
      "image/png": "[encoded data removed]",
      "text/plain": [
       "<Figure size 800x800 with 1 Axes>"
      ]
     },
     "metadata": {},
     "output_type": "display_data"
    }
   ],
   "source": [
    "autism_map = {1: 'Autist', 0: 'Non Autist'}\n",
    "autism_colors = ['pink', 'purple']\n",
    "plot_donut_chart(df=train_data, col='Class/ASD', label_names=autism_map, colors=autism_colors,\n",
    "                 title='VISUALIZATION OF TOTAL AUTISM SPECTRUM DISORDER (ASD)')"
   ]
  },
  {
   "cell_type": "code",
   "execution_count": 33,
   "metadata": {},
   "outputs": [
    {
     "data": {
      "image/png": "[encoded data removed]",
      "text/plain": [
       "<Figure size 800x800 with 1 Axes>"
      ]
     },
     "metadata": {},
     "output_type": "display_data"
    }
   ],
   "source": [
    "plot_double_donut_chart(df=train_data, col1='Class/ASD', col2='gender', label_names_col1=autism_map, \n",
    "                        colors1=['pink', 'purple'], colors2=['lightskyblue', 'lightgreen'],\n",
    "                        title=\"GENDER INFLUENCE ON AUTISM RATE\")"
   ]
  },
  {
   "cell_type": "code",
   "execution_count": 34,
   "metadata": {},
   "outputs": [
    {
     "data": {
      "image/png": "[encoded data removed]",
      "text/plain": [
       "<Figure size 1000x700 with 1 Axes>"
      ]
     },
     "metadata": {},
     "output_type": "display_data"
    }
   ],
   "source": [
    "plot_distplot(df=train_data, col='age', title=\"AGE DISTRIBUTION\")"
   ]
  },
  {
   "cell_type": "code",
   "execution_count": 35,
   "metadata": {},
   "outputs": [
    {
     "data": {
      "text/plain": [
       "Text(0.5, 1.0, ' Autism by jaundice ')"
      ]
     },
     "execution_count": 35,
     "metadata": {},
     "output_type": "execute_result"
    },
    {
     "data": {
      "image/png": "[encoded data removed]",
      "text/plain": [
       "<Figure size 1200x800 with 1 Axes>"
      ]
     },
     "metadata": {},
     "output_type": "display_data"
    }
   ],
   "source": [
    "sns.countplot(x=\"jaundice\",data=train_data,palette=\"Purples\")\n",
    "plt.title(' Autism by jaundice ')"
   ]
  },
  {
   "cell_type": "code",
   "execution_count": 36,
   "metadata": {},
   "outputs": [
    {
     "data": {
      "text/plain": [
       "Text(0.5, 1.0, 'Autism presence in the family ')"
      ]
     },
     "execution_count": 36,
     "metadata": {},
     "output_type": "execute_result"
    },
    {
     "data": {
      "image/png": "[encoded data removed]",
      "text/plain": [
       "<Figure size 1200x800 with 1 Axes>"
      ]
     },
     "metadata": {},
     "output_type": "display_data"
    }
   ],
   "source": [
    "sns.countplot(x=\"austim\",data=train_data,palette=\"Purples\")\n",
    "plt.title('Autism presence in the family ')"
   ]
  },
  {
   "cell_type": "code",
   "execution_count": 37,
   "metadata": {},
   "outputs": [
    {
     "data": {
      "text/plain": [
       "Text(0.5, 1.0, 'Autism by screening test')"
      ]
     },
     "execution_count": 37,
     "metadata": {},
     "output_type": "execute_result"
    },
    {
     "data": {
      "image/png": "[encoded data removed]",
      "text/plain": [
       "<Figure size 1200x800 with 1 Axes>"
      ]
     },
     "metadata": {},
     "output_type": "display_data"
    }
   ],
   "source": [
    "sns.countplot(x=\"used_app_before\",data=train_data,palette=\"Purples\")\n",
    "plt.title('Autism by screening test')"
   ]
  },
  {
   "cell_type": "code",
   "execution_count": 42,
   "metadata": {},
   "outputs": [],
   "source": [
    "from sklearn.preprocessing import OrdinalEncoder\n",
    "\n",
    "# Combine train and test for consistent encoding\n",
    "all_data = pd.concat([train_data, test_data], axis=0, ignore_index=True)\n",
    "\n",
    "# Identify categorical columns\n",
    "categorical_cols = all_data.select_dtypes(include='object').columns.tolist()\n",
    "\n",
    "# Replace '?' or similar placeholders with 'Unknown'\n",
    "all_data[categorical_cols] = all_data[categorical_cols].fillna('Unknown').astype(str)\n",
    "all_data[categorical_cols] = all_data[categorical_cols].replace('?', 'Unknown')\n",
    "\n",
    "# Apply OrdinalEncoder safely\n",
    "encoder = OrdinalEncoder(handle_unknown='use_encoded_value', unknown_value=-1)\n",
    "all_data[categorical_cols] = encoder.fit_transform(all_data[categorical_cols])\n",
    "\n",
    "# Split back into train and test\n",
    "train_data[categorical_cols] = all_data.loc[:len(train_data)-1, categorical_cols]\n",
    "test_data[categorical_cols] = all_data.loc[len(train_data):, categorical_cols].reset_index(drop=True)\n"
   ]
  },
  {
   "cell_type": "code",
   "execution_count": 43,
   "metadata": {},
   "outputs": [
    {
     "name": "stdout",
     "output_type": "stream",
     "text": [
      "FOLD: 1\n",
      "              precision    recall  f1-score   support\n",
      "\n",
      "           0       0.92      0.90      0.91       123\n",
      "           1       0.69      0.73      0.71        37\n",
      "\n",
      "    accuracy                           0.86       160\n",
      "   macro avg       0.80      0.82      0.81       160\n",
      "weighted avg       0.87      0.86      0.86       160\n",
      "\n",
      "Fold Accuracy: 0.8625\n",
      "Fold AUC: 0.8923\n",
      "\n",
      "FOLD: 2\n",
      "              precision    recall  f1-score   support\n",
      "\n",
      "           0       0.90      0.93      0.92       123\n",
      "           1       0.75      0.65      0.70        37\n",
      "\n",
      "    accuracy                           0.87       160\n",
      "   macro avg       0.82      0.79      0.81       160\n",
      "weighted avg       0.86      0.87      0.87       160\n",
      "\n",
      "Fold Accuracy: 0.8688\n",
      "Fold AUC: 0.9350\n",
      "\n",
      "FOLD: 3\n",
      "              precision    recall  f1-score   support\n",
      "\n",
      "           0       0.93      0.95      0.94       123\n",
      "           1       0.82      0.76      0.79        37\n",
      "\n",
      "    accuracy                           0.91       160\n",
      "   macro avg       0.88      0.85      0.86       160\n",
      "weighted avg       0.90      0.91      0.90       160\n",
      "\n",
      "Fold Accuracy: 0.9062\n",
      "Fold AUC: 0.9183\n",
      "\n",
      "FOLD: 4\n",
      "              precision    recall  f1-score   support\n",
      "\n",
      "           0       0.89      0.94      0.91       123\n",
      "           1       0.76      0.59      0.67        37\n",
      "\n",
      "    accuracy                           0.86       160\n",
      "   macro avg       0.82      0.77      0.79       160\n",
      "weighted avg       0.86      0.86      0.86       160\n",
      "\n",
      "Fold Accuracy: 0.8625\n",
      "Fold AUC: 0.8820\n",
      "\n",
      "FOLD: 5\n",
      "              precision    recall  f1-score   support\n",
      "\n",
      "           0       0.92      0.90      0.91       123\n",
      "           1       0.69      0.73      0.71        37\n",
      "\n",
      "    accuracy                           0.86       160\n",
      "   macro avg       0.80      0.82      0.81       160\n",
      "weighted avg       0.87      0.86      0.86       160\n",
      "\n",
      "Fold Accuracy: 0.8625\n",
      "Fold AUC: 0.9288\n",
      "\n"
     ]
    }
   ],
   "source": [
    "# Initialize KFold and scoring lists\n",
    "kfold = StratifiedKFold(n_splits=5, shuffle=True, random_state=42)  # 5 folds is typical\n",
    "accuracy_scores = []\n",
    "roc_auc_scores = []\n",
    "\n",
    "# Create a DataFrame to store test predictions for each fold\n",
    "df = test_data[['ID']].copy()\n",
    "\n",
    "for fold, (tr_idx, val_idx) in enumerate(kfold.split(train_data[features], train_data['Class/ASD'])):\n",
    "    print(f'FOLD: {fold + 1}')\n",
    "    \n",
    "    X_train = train_data.loc[tr_idx, features]\n",
    "    y_train = train_data.loc[tr_idx, 'Class/ASD']\n",
    "    X_val = train_data.loc[val_idx, features]\n",
    "    y_val = train_data.loc[val_idx, 'Class/ASD']\n",
    "    \n",
    "    model = LogisticRegression(random_state=1, max_iter=1000)\n",
    "    model.fit(X_train, y_train)\n",
    "    \n",
    "    val_pred = model.predict(X_val)\n",
    "    val_prob = model.predict_proba(X_val)[:, 1]\n",
    "    \n",
    "    # Save fold predictions on test set for ensembling later\n",
    "    df[f'fold_{fold}'] = model.predict_proba(test_data[features])[:, 1]\n",
    "    \n",
    "    acc = metrics.accuracy_score(y_val, val_pred)\n",
    "    auc_score = metrics.roc_auc_score(y_val, val_prob)\n",
    "    \n",
    "    print(metrics.classification_report(y_val, val_pred))\n",
    "    print(f'Fold Accuracy: {acc:.4f}')\n",
    "    print(f'Fold AUC: {auc_score:.4f}\\n')\n",
    "    \n",
    "    accuracy_scores.append(acc)\n",
    "    roc_auc_scores.append(auc_score)"
   ]
  },
  {
   "cell_type": "code",
   "execution_count": 50,
   "metadata": {},
   "outputs": [
    {
     "name": "stdout",
     "output_type": "stream",
     "text": [
      "------------------------------\n",
      "Mean ROC AUC: 0.9149\n",
      "Best ROC AUC: 0.9659\n",
      "Worst ROC AUC: 0.8490\n",
      "Std ROC AUC: 0.0351\n",
      "------------------------------\n",
      "Mean Accuracy: 0.8725\n",
      "Best Accuracy: 0.9062\n",
      "Worst Accuracy: 0.8625\n",
      "Std Deviation Across Folds: 0.0170\n"
     ]
    },
    {
     "data": {
      "image/png": "[encoded data removed]",
      "text/plain": [
       "<Figure size 1200x800 with 1 Axes>"
      ]
     },
     "metadata": {},
     "output_type": "display_data"
    }
   ],
   "source": [
    "# After all folds: summary\n",
    "print('-' * 30)\n",
    "print(f'Mean ROC AUC: {np.mean(roc_auc_scores):.4f}')\n",
    "print(f'Best ROC AUC: {np.max(roc_auc_scores):.4f}')\n",
    "print(f'Worst ROC AUC: {np.min(roc_auc_scores):.4f}')\n",
    "print(f'Std ROC AUC: {np.std(roc_auc_scores):.4f}')\n",
    "print('-' * 30)\n",
    "print(f'Mean Accuracy: {np.mean(accuracy_scores):.4f}')\n",
    "print(f'Best Accuracy: {np.max(accuracy_scores):.4f}')\n",
    "print(f'Worst Accuracy: {np.min(accuracy_scores):.4f}')\n",
    "print(f'Std Deviation Across Folds: {np.std(accuracy_scores):.4f}')\n",
    "\n",
    "# Average predictions from all folds to create final prediction\n",
    "df['Class/ASD_prob'] = df.filter(regex='fold_').mean(axis=1)\n",
    "\n",
    "# Convert probabilities to 0 or 1 based on a threshold (typically 0.5)\n",
    "df['Class/ASD'] = (df['Class/ASD_prob'] >= 0.5).astype(int)\n",
    "\n",
    "# Save only the required columns\n",
    "df[['ID', 'Class/ASD']].to_csv('submission.csv', index=False)\n",
    "\n",
    "# Optional: plot ROC curve on full training data\n",
    "final_model = LogisticRegression(random_state=1, max_iter=1000)\n",
    "final_model.fit(train_data[features], train_data['Class/ASD'])\n",
    "RocCurveDisplay.from_estimator(final_model, train_data[features], train_data['Class/ASD'])\n",
    "plt.title('Logistic Regression ROC Curve (Full Training Data)')\n",
    "plt.show()"
   ]
  },
  {
   "cell_type": "code",
   "execution_count": 51,
   "metadata": {},
   "outputs": [
    {
     "name": "stdout",
     "output_type": "stream",
     "text": [
      "Cross-validated ROC AUC: 0.9152 ± 0.0352\n"
     ]
    }
   ],
   "source": [
    "from sklearn.model_selection import cross_val_score\n",
    "\n",
    "pipeline = Pipeline([\n",
    "    ('scaler', StandardScaler()),\n",
    "    ('clf', LogisticRegression(max_iter=1000, random_state=1))\n",
    "])\n",
    "\n",
    "scores = cross_val_score(pipeline, train_data[features], train_data['Class/ASD'], \n",
    "                         cv=kfold, scoring='roc_auc')\n",
    "print(f'Cross-validated ROC AUC: {scores.mean():.4f} ± {scores.std():.4f}')\n"
   ]
  },
  {
   "cell_type": "code",
   "execution_count": null,
   "metadata": {},
   "outputs": [],
   "source": []
  }
 ],
 "metadata": {
  "kernelspec": {
   "display_name": "Python 3",
   "language": "python",
   "name": "python3"
  },
  "language_info": {
   "codemirror_mode": {
    "name": "ipython",
    "version": 3
   },
   "file_extension": ".py",
   "mimetype": "text/x-python",
   "name": "python",
   "nbconvert_exporter": "python",
   "pygments_lexer": "ipython3",
   "version": "3.12.3"
  }
 },
 "nbformat": 4,
 "nbformat_minor": 2
}
